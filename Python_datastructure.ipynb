{
  "nbformat": 4,
  "nbformat_minor": 0,
  "metadata": {
    "colab": {
      "provenance": []
    },
    "kernelspec": {
      "name": "python3",
      "display_name": "Python 3"
    },
    "language_info": {
      "name": "python"
    }
  },
  "cells": [
    {
      "cell_type": "markdown",
      "source": [
        "## **Data Types and Structures Questions**"
      ],
      "metadata": {
        "id": "SnPb2IKYpjsM"
      }
    },
    {
      "cell_type": "markdown",
      "source": [
        "Ques.1. What are data structures, and why are they important?\n",
        "\n",
        "--> Data structures are organized ways to store, manage, and retrieve data efficiently in programming.They define how data is arranged in memory and how operations like accessing, inserting, or deleting are performed.\n",
        "Optimizing Performance: Choosing the right data structure ensures that operations.\n",
        "Efficient Memory Usage: They enable programs to use memory wisely, storing only what's necessary and avoiding redundancy or waste.\n"
      ],
      "metadata": {
        "id": "H-LBETRaphao"
      }
    },
    {
      "cell_type": "markdown",
      "source": [
        "Ques.2. Explain the difference between mutable and immutable data types with examples.\n",
        "\n",
        "-->  **Mutable Data Types:**\n",
        "These data types can be modified after creation. This means you can change their content (e.g., add, update, or delete elements) without changing their identity. Example :\n",
        "my_list = [1, 2, 3]\n",
        "my_list.append(4)  \n",
        "print(my_list)\n",
        "**Immutable Data Types:**\n",
        "These data types cannot be modified after creation. Any operation that appears to modify an immutable object actually creates a new object.\n",
        "my_string = \"hello\"\n",
        "my_string += \" world\"  \n",
        "print(my_string)  # Output: \"hello world\"\n"
      ],
      "metadata": {
        "id": "5Fhc4Xm1pfLT"
      }
    },
    {
      "cell_type": "markdown",
      "source": [
        "Ques.3. What are the main differences between lists and tuples in Python?\n",
        "\n",
        "--> Lists: 1. Slightly slower because they are mutable and have extra overhead for modifications.\n",
        "2. Require more memory to accommodate dynamic resizing.\n",
        "3. Suitable when you need to frequently modify or update the data.\n",
        "4. Mutable - You can modify their elements\n",
        "Tuples: 1. Faster due to their immutability, making them ideal for use in scenarios requiring constant values.\n",
        "2. Immutable - Once created, their elements cannot be changed.\n",
        "3. Faster due to their immutability, making them ideal for use in scenarios requiring constant values.\n",
        "4. Suitable for data that should remain constant."
      ],
      "metadata": {
        "id": "ZjolVCCOpchp"
      }
    },
    {
      "cell_type": "markdown",
      "source": [
        "Ques.4. Describe how dictionaries store data.\n",
        "\n",
        "--> Dictionaries in Python store data in a key-value pair format. They use an underlying data structure called a hash table, which allows for efficient storage and retrieval of data.\n",
        "Fast Lookups: Efficient for retrieving data using a key.\n",
        "Flexible: Can store various data types as values (strings, numbers, lists, etc.).\n",
        "Dynamic: Can grow or shrink as needed."
      ],
      "metadata": {
        "id": "t8uh8wTXpae7"
      }
    },
    {
      "cell_type": "markdown",
      "source": [
        "Ques.5. Why might you use a set instead of a list in Python?\n",
        "\n",
        "--> You might choose a set over a list in Python when you need:\n",
        "Unique Elements: Sets automatically eliminate duplicates. If you want only distinct values, a set is the way to go.\n",
        "Unordered Data: Sets don't maintain order, unlike lists. This is perfect when the order of elements doesn't matter (e.g., tracking unique items in a group).\n",
        "Fast Membership Testing: Checking if an element exists in a set is faster than in a list due to the underlying hash-based structure.\n"
      ],
      "metadata": {
        "id": "y3VybGg2pRet"
      }
    },
    {
      "cell_type": "markdown",
      "source": [
        "Ques.6. What is a string in Python, and how is it different from a list?\n",
        "\n",
        "--> A string in Python is a sequence of characters used to represent text. It is enclosed within quotes (single, double, or triple) and is immutable, meaning its content cannot be changed once created.\n",
        "Strings are perfect for working with textual data, while lists are more versatile for handling collections of various data types."
      ],
      "metadata": {
        "id": "V_FnzNtdpPN1"
      }
    },
    {
      "cell_type": "markdown",
      "source": [
        "Ques.7. How do tuples ensure data integrity in Python?\n",
        "\n",
        "--> Tuples ensure data integrity in Python through their immutability, which means their content cannot be modified after creation. This property makes them a reliable choice when you want to store data that must remain constant throughout the program."
      ],
      "metadata": {
        "id": "D_sMjjwEpKYL"
      }
    },
    {
      "cell_type": "markdown",
      "source": [
        "Ques.8. What is a hash table, and how does it relate to dictionaries in Python?\n",
        "\n",
        "--> A hash table is a data structure that stores data in key-value pairs, enabling efficient storage and retrieval of information. It uses a hashing mechanism to map keys to specific locations in memory, allowing for fast operations like lookups and updates.\n",
        "Python dictionaries are implemented using hash tables internally. This is what makes dictionaries highly efficient for tasks like accessing, adding, or modifying values based on keys."
      ],
      "metadata": {
        "id": "2nTY_zOdpHzs"
      }
    },
    {
      "cell_type": "markdown",
      "source": [
        "Ques.9. Can lists contain different data types in Python?\n",
        "\n",
        "--> Absolutely! In Python, lists are highly flexible and can contain elements of different data types within the same list. This means you can mix integers, strings, floats, booleans, other lists, and even custom objects in a single list.\n",
        "Note - While lists can mix data types, be mindful of how you process them. Operations may behave differently depending on the type of element being manipulated."
      ],
      "metadata": {
        "id": "AY6XQurMpF1M"
      }
    },
    {
      "cell_type": "markdown",
      "source": [
        "Ques.10. Explain why strings are immutable in Python.\n",
        "\n",
        "--> Strings in Python are immutable, meaning their content cannot be changed after they are created.\n",
        "1. Strings are commonly used in programming, so immutability allows Python to reuse string objects rather than creating new ones each time.\n",
        "2. Immutability ensures that strings are hashable, meaning they can be used as keys in dictionaries or elements in sets. Hashable objects require a consistent value to calculate their hash code, which wouldn't be possible if strings were mutable."
      ],
      "metadata": {
        "id": "cPIMguZGpDOv"
      }
    },
    {
      "cell_type": "markdown",
      "source": [
        "Ques.11. What advantages do dictionaries offer over lists for certain tasks?\n",
        "\n",
        "--> Dictionaries offer several advantages over lists in Python for certain tasks, primarily due to their key-value structure and hash-based implementation.\n",
        "1. Fast access to elements by key rather than index.\n",
        "2. Storing structured or relational data.\n",
        "3. Grouping and organizing data logically, like in a phone book, inventory system, or lookup table."
      ],
      "metadata": {
        "id": "Z1M3MpISopB_"
      }
    },
    {
      "cell_type": "markdown",
      "source": [
        "Ques.12. Describe a scenario where using a tuple would be preferable over a list.\n",
        "\n",
        "--> Using a tuple is preferable over a list when you need to store data that should remain constant and unchangeable.\n",
        "Suppose you're working on a mapping application and need to store geographic coordinates (latitude, longitude) for various locations. Since coordinates are fixed and shouldn't change, a tuple is the ideal choice."
      ],
      "metadata": {
        "id": "tWtt6I4Comwg"
      }
    },
    {
      "cell_type": "markdown",
      "source": [
        "Ques.13. How do sets handle duplicate values in Python?\n",
        "\n",
        "--> 1. If the source (e.g., a list or another iterable) contains duplicates, only one instance of each value will be kept in the set.\n",
        "2. If you try to add an element that is already in the set, Python silently ignores it—no duplicates are added.\n",
        "3. Each element in a set must be hashable (i.e., immutable types like integers, strings, and tuples). The hash value of the element is used to check if it already exists in the set, ensuring uniqueness."
      ],
      "metadata": {
        "id": "3uWp94FmojAW"
      }
    },
    {
      "cell_type": "markdown",
      "source": [
        "Ques.14. How does the “in” keyword work differently for lists and dictionaries?\n",
        "\n",
        "--> For Lists:\n",
        "1. The in keyword checks if a specific value exists as an element of the list.\n",
        "2. Python iterates through the list sequentially (a linear search) to determine if the value is present, which has a time complexity of O(n)\n",
        "For Dictionaries:\n",
        "1. The in keyword checks for keys in the dictionary, not values.\n",
        "2. It uses a hash-based lookup to search for the key, which is much faster than a list lookup, with an average time complexity of O(1)."
      ],
      "metadata": {
        "id": "GR99CX94ogMD"
      }
    },
    {
      "cell_type": "markdown",
      "source": [
        "Ques.15. Can you modify the elements of a tuple? Explain why or why not.\n",
        "\n",
        "--> No, you cannot modify the elements of a tuple in Python because tuples are immutable. This means that once a tuple is created, its content cannot be changed.\n",
        "1. Immutability by Design: Tuples are designed to ensure data integrity. By being immutable, they provide a reliable way to store constant, unchanging data.\n",
        "2. Hashability: Immutability allows tuples to be hashable, which means they can be used as keys in dictionaries or elements in sets (provided all their elements are also hashable). This is not possible with mutable types like lists.\n",
        "3. Efficiency: Tuples are stored more compactly in memory than lists, making them faster and more memory-efficient. This is especially beneficial when working with large datasets."
      ],
      "metadata": {
        "id": "-mTAfRI_odW-"
      }
    },
    {
      "cell_type": "markdown",
      "source": [
        "Ques.16. What is a nested dictionary, and give an example of its use case?\n",
        "\n",
        "--> A nested dictionary in Python is a dictionary where a value is another dictionary. It allows hierarchical storage of data, making it suitable for representing complex or structured information.\n",
        "A nested dictionary is perfect for applications like storing employee details in a company database. Example:\n",
        "\n",
        "employees = {\n",
        "    \"E001\": {\n",
        "        \"name\": \"Alice\",\n",
        "        \"department\": \"Engineering\",\n",
        "        \"salary\": 85000\n",
        "    },\n",
        "    \"E002\": {\n",
        "        \"name\": \"Bob\",\n",
        "        \"department\": \"Marketing\",\n",
        "        \"salary\": 75000\n",
        "    }\n",
        "}\n",
        "print(employees[\"E002\"][\"department\"])  \n",
        "employees[\"E003\"] = {\n",
        "    \"name\": \"Charlie\",\n",
        "    \"department\": \"HR\",\n",
        "    \"salary\": 70000\n",
        "}\n",
        "employees[\"E001\"][\"salary\"] = 90000\n"
      ],
      "metadata": {
        "id": "vFu1H_JWoa99"
      }
    },
    {
      "cell_type": "markdown",
      "source": [
        "Ques.17. Describe the time complexity of accessing elements in a dictionary.\n",
        "\n",
        "--> **Average Case:O(1) (Constant Time)**\n",
        "Accessing a value using a key is extremely fast on average, regardless of the dictionary's size. This is because:\n",
        "     -> The key is hashed using a hash function to generate a unique hash code.\n",
        "     -> The hash code directly maps to a memory location (or \"bucket\") where the key-value pair is stored.\n",
        "     -> This allows for direct access without the need to search through the entire dictionary.\n",
        "**Worst Case: O(n) (Linear Time)**\n",
        "In rare cases, accessing a dictionary element may degrade to O(n). This can happen if:\n",
        "   -> Many keys produce the same hash value (a hash collision).\n",
        "   -> All these keys are stored in the same bucket.\n",
        "   -> The program has to search linearly through all key-value pairs in the bucket to find the correct key"
      ],
      "metadata": {
        "id": "WWkdzzj6oUty"
      }
    },
    {
      "cell_type": "markdown",
      "source": [
        "Ques.18. In what situations are lists preferred over dictionaries?\n",
        "\n",
        "--> Lists are preferred over dictionaries in situations where data organization is sequential or when you need to work with ordered collections of items."
      ],
      "metadata": {
        "id": "_c843qbfoRH4"
      }
    },
    {
      "cell_type": "markdown",
      "source": [
        "Ques.19. Why are dictionaries considered unordered, and how does that affect data retrieval?"
      ],
      "metadata": {
        "id": "zTL0ErfdoCs_"
      }
    },
    {
      "cell_type": "markdown",
      "source": [
        "Ques.20. Explain the difference between a list and a dictionary in terms of data retrieval.\n",
        "\n",
        "--> **Data Retrieval in Lists**\n",
        "1. Access by Index: Lists are ordered collections, so elements are accessed by their numeric index (starting at 0).\n",
        "2. Search by Value: To retrieve an item based on its value, Python iterates through the entire list until it finds a match. This makes searching less efficient with large lists, with a time complexity of O(n).\n",
        "**Data Retrieval in Dictionaries**\n",
        "1. Access by Key: Dictionaries store data as key-value pairs. You retrieve values by their associated keys rather than indices.\n",
        "2. Efficiency: Dictionary lookups are faster because they use a hash table for storing keys, allowing for average O(1) time complexity during retrieval (constant time)."
      ],
      "metadata": {
        "id": "w-Qo3He_n1xA"
      }
    },
    {
      "cell_type": "markdown",
      "source": [
        "# **Practical Questions**"
      ],
      "metadata": {
        "id": "Hj-_A0gSnjtX"
      }
    },
    {
      "cell_type": "code",
      "source": [
        "# Ques.01. Write a code to create a string with your name and print it.\n",
        "My_name = \"Ankur Tiwari\"\n",
        "print(My_name)"
      ],
      "metadata": {
        "colab": {
          "base_uri": "https://localhost:8080/"
        },
        "id": "QEJ8asB_fk_C",
        "outputId": "03185f7a-1c65-4b67-8e0b-934be0449501"
      },
      "execution_count": null,
      "outputs": [
        {
          "output_type": "stream",
          "name": "stdout",
          "text": [
            "Ankur Tiwari\n"
          ]
        }
      ]
    },
    {
      "cell_type": "code",
      "source": [
        "# Ques.02. Write a code to find the length of the string \"Hello World\".\n",
        "str = \"Hello World\"\n",
        "print(len(str))"
      ],
      "metadata": {
        "id": "CMqxDWoDfk7j",
        "colab": {
          "base_uri": "https://localhost:8080/"
        },
        "outputId": "301e6a4e-74b7-4345-aa09-c2233f77100f"
      },
      "execution_count": null,
      "outputs": [
        {
          "output_type": "stream",
          "name": "stdout",
          "text": [
            "11\n"
          ]
        }
      ]
    },
    {
      "cell_type": "code",
      "source": [
        "# Ques.03. Write a code to slice the first 3 characters from the string \"Python Programming\".\n",
        "str = \"Python Programming\"\n",
        "print(str[0:3])"
      ],
      "metadata": {
        "id": "lG3PXnGifk4C",
        "colab": {
          "base_uri": "https://localhost:8080/"
        },
        "outputId": "c7eaa5f0-3dd7-46ab-a353-5ae2bdb1171d"
      },
      "execution_count": null,
      "outputs": [
        {
          "output_type": "stream",
          "name": "stdout",
          "text": [
            "Pyt\n"
          ]
        }
      ]
    },
    {
      "cell_type": "code",
      "source": [
        " # Ques.04. Write a code to convert the string \"hello\" to uppercase.\n",
        " str = \"hello\"\n",
        " print(str.upper())"
      ],
      "metadata": {
        "id": "ayoaUTWHfk0i",
        "colab": {
          "base_uri": "https://localhost:8080/"
        },
        "outputId": "c23debad-ef5a-486d-b0bf-03a3cf0e227c"
      },
      "execution_count": null,
      "outputs": [
        {
          "output_type": "stream",
          "name": "stdout",
          "text": [
            "HELLO\n"
          ]
        }
      ]
    },
    {
      "cell_type": "code",
      "source": [
        " # Ques.05. Write a code to replace the word \"apple\" with \"orange\" in the string \"I like apple\".\n",
        " str = \"I like apple\"\n",
        " new_Str = str.replace(\"apple\", \"orange\", -1)\n",
        " print(new_Str)"
      ],
      "metadata": {
        "id": "QTw91K2TfkxD",
        "colab": {
          "base_uri": "https://localhost:8080/"
        },
        "outputId": "e0790074-6771-482c-8d1b-6cd3b91f2de5"
      },
      "execution_count": null,
      "outputs": [
        {
          "output_type": "stream",
          "name": "stdout",
          "text": [
            "I like orange\n"
          ]
        }
      ]
    },
    {
      "cell_type": "code",
      "source": [
        "# Ques.06. Write a code to create a list with numbers 1 to 5 and print it.\n",
        "list = [1, 2, 3, 4, 5]\n",
        "print(list)"
      ],
      "metadata": {
        "id": "aodfL-_zfktX",
        "colab": {
          "base_uri": "https://localhost:8080/"
        },
        "outputId": "68b388c4-b12b-4201-c8d3-0ca1e32b82ee"
      },
      "execution_count": null,
      "outputs": [
        {
          "output_type": "stream",
          "name": "stdout",
          "text": [
            "[1, 2, 3, 4, 5]\n"
          ]
        }
      ]
    },
    {
      "cell_type": "code",
      "source": [
        "# Ques.07. Write a code to append the number 10 to the list [1, 2, 3, 4].\n",
        "list = [1, 2, 3, 4]\n",
        "list.append(10)\n",
        "print(list)"
      ],
      "metadata": {
        "id": "t5Mp3Ndgfkpw",
        "colab": {
          "base_uri": "https://localhost:8080/"
        },
        "outputId": "fa4f4718-b41e-4319-96b8-b4006b0cb545"
      },
      "execution_count": null,
      "outputs": [
        {
          "output_type": "stream",
          "name": "stdout",
          "text": [
            "[1, 2, 3, 4, 10]\n"
          ]
        }
      ]
    },
    {
      "cell_type": "code",
      "source": [
        "# Ques.08. Write a code to remove the number 3 from the list [1, 2, 3, 4, 5].\n",
        "list = [1, 2, 3, 4, 5]\n",
        "list.remove(3)\n",
        "print(list)"
      ],
      "metadata": {
        "id": "3AWAonavfkmX",
        "colab": {
          "base_uri": "https://localhost:8080/"
        },
        "outputId": "55bbf18f-8dc3-4930-86fe-c5482e57c86b"
      },
      "execution_count": null,
      "outputs": [
        {
          "output_type": "stream",
          "name": "stdout",
          "text": [
            "[1, 2, 4, 5]\n"
          ]
        }
      ]
    },
    {
      "cell_type": "code",
      "source": [
        "# Ques.09. Write a code to access the second element in the list ['a', 'b', 'c', 'd'].\n",
        "list = ['a', 'b', 'c', 'd']\n",
        "print(list[1])"
      ],
      "metadata": {
        "id": "SBOrz-E0fkik",
        "colab": {
          "base_uri": "https://localhost:8080/"
        },
        "outputId": "0eea25ec-3d26-4337-a0f7-7f42532e467c"
      },
      "execution_count": null,
      "outputs": [
        {
          "output_type": "stream",
          "name": "stdout",
          "text": [
            "b\n"
          ]
        }
      ]
    },
    {
      "cell_type": "code",
      "source": [
        "# Ques.10. Write a code to reverse the list [10, 20, 30, 40, 50].\n",
        "list = [10, 20, 30, 40, 50]\n",
        "list.reverse()\n",
        "print(list)"
      ],
      "metadata": {
        "id": "Ecbzas39fjo_",
        "colab": {
          "base_uri": "https://localhost:8080/"
        },
        "outputId": "64b13d7e-0a04-4fde-ad3b-48b1ae344ef9"
      },
      "execution_count": null,
      "outputs": [
        {
          "output_type": "stream",
          "name": "stdout",
          "text": [
            "[50, 40, 30, 20, 10]\n"
          ]
        }
      ]
    },
    {
      "cell_type": "code",
      "source": [
        " # Ques.11. Write a code to create a tuple with the elements 100, 200, 300 and print it.\n",
        " t1 = (100, 200, 300)\n",
        " print(t1)"
      ],
      "metadata": {
        "id": "95PasHTduz1f",
        "colab": {
          "base_uri": "https://localhost:8080/"
        },
        "outputId": "0d4c5904-0ce5-49e8-9d8a-a21f161f6f7d"
      },
      "execution_count": null,
      "outputs": [
        {
          "output_type": "stream",
          "name": "stdout",
          "text": [
            "(100, 200, 300)\n"
          ]
        }
      ]
    },
    {
      "cell_type": "code",
      "source": [
        "# Ques.12. Write a code to access the second-to-last element of the tuple ('red', 'green', 'blue', 'yellow').\n",
        "t = ('red', 'green', 'blue', 'yellow')\n",
        "print(t[-2])"
      ],
      "metadata": {
        "id": "3H0l3Fnnuzx8",
        "colab": {
          "base_uri": "https://localhost:8080/"
        },
        "outputId": "99bbce5d-bd06-4b70-9d37-6341f62666a4"
      },
      "execution_count": null,
      "outputs": [
        {
          "output_type": "stream",
          "name": "stdout",
          "text": [
            "blue\n"
          ]
        }
      ]
    },
    {
      "cell_type": "code",
      "source": [
        "# Ques.13. Write a code to find the minimum number in the tuple (10, 20, 5, 15).\n",
        "t = (10, 20, 5, 15)\n",
        "print(min(t))"
      ],
      "metadata": {
        "id": "XT2XfdnvuzvN",
        "colab": {
          "base_uri": "https://localhost:8080/"
        },
        "outputId": "5e3ccb36-4226-4444-d7f1-2f466e17dd91"
      },
      "execution_count": null,
      "outputs": [
        {
          "output_type": "stream",
          "name": "stdout",
          "text": [
            "5\n"
          ]
        }
      ]
    },
    {
      "cell_type": "code",
      "source": [
        "# Ques.14. Write a code to find the index of the element \"cat\" in the tuple ('dog', 'cat', 'rabbit').\n",
        "t = ('dog', 'cat', 'rabbit')\n",
        "print(t.index(\"cat\"))"
      ],
      "metadata": {
        "id": "RwoqFwQUuzr5",
        "colab": {
          "base_uri": "https://localhost:8080/"
        },
        "outputId": "49a2a263-f006-46d2-c60e-7af8e90b8d32"
      },
      "execution_count": null,
      "outputs": [
        {
          "output_type": "stream",
          "name": "stdout",
          "text": [
            "1\n"
          ]
        }
      ]
    },
    {
      "cell_type": "code",
      "source": [
        "# Ques.15. Write a code to create a tuple containing three different fruits and check if \"kiwi\" is in it.\n",
        "t = (\"apple\", \"banana\", \"cherry\")\n",
        "print(\"kiwi\" in t)"
      ],
      "metadata": {
        "id": "UCpxl9gGuzol",
        "colab": {
          "base_uri": "https://localhost:8080/"
        },
        "outputId": "12e57396-417b-4aba-d981-c8ef147e5459"
      },
      "execution_count": null,
      "outputs": [
        {
          "output_type": "stream",
          "name": "stdout",
          "text": [
            "False\n"
          ]
        }
      ]
    },
    {
      "cell_type": "code",
      "source": [
        " # Ques.16. Write a code to create a set with the elements 'a', 'b', 'c' and print it.\n",
        " s = {'a', 'b', 'c'}\n",
        " print(s)"
      ],
      "metadata": {
        "id": "N-RXg1e2uzlH",
        "colab": {
          "base_uri": "https://localhost:8080/"
        },
        "outputId": "dae26b2d-fc49-4239-bf9e-6faa371fcd42"
      },
      "execution_count": null,
      "outputs": [
        {
          "output_type": "stream",
          "name": "stdout",
          "text": [
            "{'b', 'c', 'a'}\n"
          ]
        }
      ]
    },
    {
      "cell_type": "code",
      "source": [
        "# Ques.17. Write a code to clear all elements from the set {1, 2, 3, 4, 5}.\n",
        "s = {1, 2, 3, 4, 5}\n",
        "s.clear()\n",
        "print(s)"
      ],
      "metadata": {
        "id": "PMgcKUGpuzh_",
        "colab": {
          "base_uri": "https://localhost:8080/"
        },
        "outputId": "405ae00f-5d40-4da2-a2aa-940b626c9da3"
      },
      "execution_count": null,
      "outputs": [
        {
          "output_type": "stream",
          "name": "stdout",
          "text": [
            "set()\n"
          ]
        }
      ]
    },
    {
      "cell_type": "code",
      "source": [
        "# Ques.18. Write a code to remove the element 4 from the set {1, 2, 3, 4}.\n",
        "s = {1, 2, 3, 4}\n",
        "s.remove(4)\n",
        "print(s)"
      ],
      "metadata": {
        "id": "7QfZmnuquzel",
        "colab": {
          "base_uri": "https://localhost:8080/"
        },
        "outputId": "878a0aa2-48f2-4141-d4bc-4324fb589457"
      },
      "execution_count": null,
      "outputs": [
        {
          "output_type": "stream",
          "name": "stdout",
          "text": [
            "{1, 2, 3}\n"
          ]
        }
      ]
    },
    {
      "cell_type": "code",
      "source": [
        "# Ques.19. Write a code to find the union of two sets {1, 2, 3} and {3, 4, 5}.\n",
        "s1 = {1, 2, 3}\n",
        "s2 = {3, 4, 5}\n",
        "print(s1.union(s2))"
      ],
      "metadata": {
        "id": "_MBO7FcjuzbU",
        "colab": {
          "base_uri": "https://localhost:8080/"
        },
        "outputId": "4094922f-e0c0-4077-d6bf-930d3244cf6a"
      },
      "execution_count": null,
      "outputs": [
        {
          "output_type": "stream",
          "name": "stdout",
          "text": [
            "{1, 2, 3, 4, 5}\n"
          ]
        }
      ]
    },
    {
      "cell_type": "code",
      "source": [
        "# Ques.20. Write a code to find the intersection of two sets {1, 2, 3} and {2, 3, 4}.\n",
        "s1 = {1, 2, 3}\n",
        "s2 = {2, 3, 4}\n",
        "print(s1.intersection(s2))"
      ],
      "metadata": {
        "id": "h0Ubu-wBuzYV",
        "colab": {
          "base_uri": "https://localhost:8080/"
        },
        "outputId": "1895f029-f781-4773-bfd1-f1ec0c4f89d2"
      },
      "execution_count": null,
      "outputs": [
        {
          "output_type": "stream",
          "name": "stdout",
          "text": [
            "{2, 3}\n"
          ]
        }
      ]
    },
    {
      "cell_type": "code",
      "source": [
        "# Ques.21. Write a code to create a dictionary with the keys \"name\", \"age\", and \"city\", and print it.\n",
        "dict = {\"name\": \"Ankur\", \"age\": 24, \"city\": \"Lucknow\"}\n",
        "print(dict)"
      ],
      "metadata": {
        "id": "4u3Y7pWLuzUs",
        "colab": {
          "base_uri": "https://localhost:8080/"
        },
        "outputId": "48e42526-ec52-4727-ef10-259031404739"
      },
      "execution_count": null,
      "outputs": [
        {
          "output_type": "stream",
          "name": "stdout",
          "text": [
            "{'name': 'Ankur', 'age': 24, 'city': 'Lucknow'}\n"
          ]
        }
      ]
    },
    {
      "cell_type": "code",
      "source": [
        "# Ques.22. Write a code to add a new key-value pair \"country\": \"USA\" to the dictionary {'name': 'John', 'age': 25}.\n",
        "dict = {'name': 'John', 'age': 25}\n",
        "dict[\"country\"] = \"USA\"\n",
        "print(dict)"
      ],
      "metadata": {
        "id": "owdkoDt8uzR2",
        "colab": {
          "base_uri": "https://localhost:8080/"
        },
        "outputId": "4b73ac8e-5bd3-4d93-a2e5-41ac36bb0258"
      },
      "execution_count": null,
      "outputs": [
        {
          "output_type": "stream",
          "name": "stdout",
          "text": [
            "{'name': 'John', 'age': 25, 'country': 'USA'}\n"
          ]
        }
      ]
    },
    {
      "cell_type": "code",
      "source": [
        "# Ques.23. Write a code to access the value associated with the key \"name\" in the dictionary {'name': 'Alice', 'age': 30}.\n",
        "dict = {'name': 'Alice', 'age': 30}\n",
        "print(dict[\"name\"])"
      ],
      "metadata": {
        "id": "FB3qm1atuzOS",
        "colab": {
          "base_uri": "https://localhost:8080/"
        },
        "outputId": "74d1a5dc-108c-4cd0-acec-b6169b8d1fb6"
      },
      "execution_count": null,
      "outputs": [
        {
          "output_type": "stream",
          "name": "stdout",
          "text": [
            "Alice\n"
          ]
        }
      ]
    },
    {
      "cell_type": "code",
      "source": [
        "# Ques.24. Write a code to remove the key \"age\" from the dictionary {'name': 'Bob', 'age': 22, 'city': 'New York'}.\n",
        "dict = {'name': 'Bob', 'age': 22, 'city': 'New York'}\n",
        "dict.pop(\"age\")\n",
        "print(dict)"
      ],
      "metadata": {
        "id": "Wv6TgDMZuzK1",
        "colab": {
          "base_uri": "https://localhost:8080/"
        },
        "outputId": "72afa614-0a19-4895-e58e-8f194ff83c86"
      },
      "execution_count": null,
      "outputs": [
        {
          "output_type": "stream",
          "name": "stdout",
          "text": [
            "{'name': 'Bob', 'city': 'New York'}\n"
          ]
        }
      ]
    },
    {
      "cell_type": "code",
      "source": [
        "# Ques.25. Write a code to check if the key \"city\" exists in the dictionary {'name': 'Alice', 'city': 'Paris'}.\n",
        "dict = {'name': 'Alice', 'city': 'Paris'}\n",
        "print(\"city\" in dict)"
      ],
      "metadata": {
        "id": "p1HogJtVuzHS",
        "colab": {
          "base_uri": "https://localhost:8080/"
        },
        "outputId": "d6a4027b-87ad-4d47-d869-fc2f2611367a"
      },
      "execution_count": null,
      "outputs": [
        {
          "output_type": "stream",
          "name": "stdout",
          "text": [
            "True\n"
          ]
        }
      ]
    },
    {
      "cell_type": "code",
      "source": [
        "# Ques.26. Write a code to create a list, a tuple, and a dictionary, and print them all.\n",
        "list = [1, 2, 3, 4, 5]\n",
        "print(list)"
      ],
      "metadata": {
        "id": "cmcwXlwSuy9O",
        "colab": {
          "base_uri": "https://localhost:8080/"
        },
        "outputId": "285eefeb-2333-4aaa-92f4-6e5e68eff5cc"
      },
      "execution_count": null,
      "outputs": [
        {
          "output_type": "stream",
          "name": "stdout",
          "text": [
            "[1, 2, 3, 4, 5]\n"
          ]
        }
      ]
    },
    {
      "cell_type": "code",
      "source": [
        "# Ques.27. Write a code to create a list of 5 random numbers between 1 and 100, sort it in ascending order, and print the  result.(replaced)\n",
        "import random\n",
        "list = []\n",
        "for i in range(5):\n",
        "    list.append(random.randint(1, 100))\n",
        "list.sort()\n",
        "print(list)"
      ],
      "metadata": {
        "id": "uImekjmcwOdP",
        "colab": {
          "base_uri": "https://localhost:8080/"
        },
        "outputId": "8e96912d-1d67-4ea0-946b-2af28af7cbc6"
      },
      "execution_count": null,
      "outputs": [
        {
          "output_type": "stream",
          "name": "stdout",
          "text": [
            "[27, 27, 73, 83, 99]\n"
          ]
        }
      ]
    },
    {
      "cell_type": "code",
      "source": [
        "# Ques.28. Write a code to create a list with strings and print the element at the third index.\n",
        "my_list = [\"apple\", \"banana\", \"cherry\", \"date\", \"elderberry\"]\n",
        "print(my_list[2])\n"
      ],
      "metadata": {
        "id": "Hy-xIxN4wOPD",
        "colab": {
          "base_uri": "https://localhost:8080/"
        },
        "outputId": "d796c1f5-1407-41e1-f4ba-e538b222c634"
      },
      "execution_count": null,
      "outputs": [
        {
          "output_type": "stream",
          "name": "stdout",
          "text": [
            "cherry\n"
          ]
        }
      ]
    },
    {
      "cell_type": "code",
      "source": [
        "# Ques.29. Write a code to combine two dictionaries into one and print the result.\n",
        "dict1 = {\"name\": \"Alice\", \"age\": 30}\n",
        "dict2 = {\"city\": \"New York\", \"occupation\": \"Engineer\"}\n",
        "combined_dict = dict1 | dict2\n",
        "print(combined_dict)"
      ],
      "metadata": {
        "id": "Csxs5y4gwhFM",
        "colab": {
          "base_uri": "https://localhost:8080/"
        },
        "outputId": "c23e8aef-1bb0-41db-8c87-c2c76cfb31f4"
      },
      "execution_count": null,
      "outputs": [
        {
          "output_type": "stream",
          "name": "stdout",
          "text": [
            "{'name': 'Alice', 'age': 30, 'city': 'New York', 'occupation': 'Engineer'}\n"
          ]
        }
      ]
    },
    {
      "cell_type": "code",
      "source": [
        "# Ques.30. Write a code to convert a list of strings into a set.\n",
        "l = [\"Raj\", \"Shyam\", \"Ankur\"]\n",
        "Str_S = set(l)\n",
        "print(Str_S)"
      ],
      "metadata": {
        "id": "OsU4JdhFwg1e",
        "colab": {
          "base_uri": "https://localhost:8080/",
          "height": 193
        },
        "outputId": "8d8223a6-dcfa-4bf4-c726-c5b9d5dd249c"
      },
      "execution_count": null,
      "outputs": [
        {
          "output_type": "error",
          "ename": "TypeError",
          "evalue": "'set' object is not callable",
          "traceback": [
            "\u001b[0;31m---------------------------------------------------------------------------\u001b[0m",
            "\u001b[0;31mTypeError\u001b[0m                                 Traceback (most recent call last)",
            "\u001b[0;32m<ipython-input-70-1fad7bc7eaba>\u001b[0m in \u001b[0;36m<cell line: 0>\u001b[0;34m()\u001b[0m\n\u001b[1;32m      1\u001b[0m \u001b[0;31m# Ques.30. Write a code to convert a list of strings into a set.\u001b[0m\u001b[0;34m\u001b[0m\u001b[0;34m\u001b[0m\u001b[0m\n\u001b[1;32m      2\u001b[0m \u001b[0ml\u001b[0m \u001b[0;34m=\u001b[0m \u001b[0;34m[\u001b[0m\u001b[0;34m\"Raj\"\u001b[0m\u001b[0;34m,\u001b[0m \u001b[0;34m\"Shyam\"\u001b[0m\u001b[0;34m,\u001b[0m \u001b[0;34m\"Ankur\"\u001b[0m\u001b[0;34m]\u001b[0m\u001b[0;34m\u001b[0m\u001b[0;34m\u001b[0m\u001b[0m\n\u001b[0;32m----> 3\u001b[0;31m \u001b[0mStr_S\u001b[0m \u001b[0;34m=\u001b[0m \u001b[0mset\u001b[0m\u001b[0;34m(\u001b[0m\u001b[0ml\u001b[0m\u001b[0;34m)\u001b[0m\u001b[0;34m\u001b[0m\u001b[0;34m\u001b[0m\u001b[0m\n\u001b[0m\u001b[1;32m      4\u001b[0m \u001b[0mprint\u001b[0m\u001b[0;34m(\u001b[0m\u001b[0mStr_S\u001b[0m\u001b[0;34m)\u001b[0m\u001b[0;34m\u001b[0m\u001b[0;34m\u001b[0m\u001b[0m\n",
            "\u001b[0;31mTypeError\u001b[0m: 'set' object is not callable"
          ]
        }
      ]
    }
  ]
}