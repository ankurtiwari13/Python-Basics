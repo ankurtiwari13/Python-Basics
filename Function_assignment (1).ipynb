{
  "nbformat": 4,
  "nbformat_minor": 0,
  "metadata": {
    "colab": {
      "provenance": []
    },
    "kernelspec": {
      "name": "python3",
      "display_name": "Python 3"
    },
    "language_info": {
      "name": "python"
    }
  },
  "cells": [
    {
      "cell_type": "markdown",
      "source": [
        "# **Theory Questions:**"
      ],
      "metadata": {
        "id": "SNsG2jQMjkyq"
      }
    },
    {
      "cell_type": "markdown",
      "source": [
        "Ques -1. What is the difference between a function and a method in Python?\n",
        "\n",
        " --> **Functions:**A function is a standalone block of code that performs a specific task. It is defined using the def keyword and can be used anywhere in your program.\n",
        "Functions are not tied to any particular object or class; they exist independently.**Example:**\n",
        "\n",
        "def greet():\n",
        "\n",
        "    print(\"Hello, world!\")\n",
        "greet()\n",
        "\n",
        "**Methods:**A method is essentially a function that is associated with an object. Methods are defined within a class and operate on instances of that class (or the class itself, in the case of class methods).\n",
        "Methods have access to the attributes and behaviors of the object they are tied to, and they often take self as their first parameter to refer to the instance.\n",
        "Example:\n",
        "\n",
        "class Greeter:\n",
        "    def greet(self):\n",
        "        print(\"Hello, world!\")\n",
        "obj = Greeter()\n",
        "\n",
        "obj.greet()  \n",
        "\n",
        "Key Difference: A method is bound to an object or class, while a function is independent and can be used universally across a program."
      ],
      "metadata": {
        "id": "eDdp9sGC9ctO"
      }
    },
    {
      "cell_type": "markdown",
      "source": [
        "Ques -2. Explain the concept of function arguments and parameters in Python.\n",
        "\n",
        "--> **Parameters**\n",
        "Definition: Parameters are the variables listed inside the parentheses in the function definition. They're like placeholders for the actual values the function needs to perform its task.\n",
        "Purpose: They define what kind of inputs a function expects when called.\n",
        "Example:\n",
        "def greet(name):\n",
        "    print(f\"Hello, {name}!\")  \n",
        "\n",
        "**Arguments**\n",
        "Definition: Arguments are the actual values or data you pass to a function's parameters when calling the function.\n",
        "Purpose: They provide the specific information the function needs to execute.\n",
        "Example:\n",
        "greet(\"Alice\")"
      ],
      "metadata": {
        "id": "VyXE4qQw9cw2"
      }
    },
    {
      "cell_type": "markdown",
      "source": [
        "Ques -3. What are the different ways to define and call a function in Python?\n",
        "\n",
        "--> 1. **Standard Functions**\n",
        "Definition:Use the def keyword, followed by the function name and parameters (if needed). Ex.\n",
        "def add(a, b):\n",
        "    return a + b\n",
        "Calling:Simply use the function name and provide arguments if required.\n",
        "result = add(3, 5)  \n",
        "**2. Lambda (Anonymous) Functions**\n",
        "Definition:Use the lambda keyword for small, single-expression functions. They are often used with functions like map, filter, and reduce. Ex.\n",
        "square = lambda x: x ** 2\n",
        "result = square(4)  # Result is 16\n",
        "\n",
        "**3. Functions with Default Parameters**\n",
        "\n",
        "Definition:You can assign default values to parameters in a function. Ex.\n",
        "def greet(name=\"Guest\"):\n",
        "    return f\"Hello, {name}!\"\n",
        "print(greet(\"Alice\"))  # Outputs: Hello, Alice!\n",
        "print(greet())  # Outputs: Hello, Guest!\n",
        "\n",
        "**4. Functions with Variable-Length Arguments**\n",
        "Definition:Use *args for an arbitrary number of positional arguments.\n",
        "Use **kwargs for keyword arguments. Ex.\n",
        "def summarize(*args, **kwargs):\n",
        "    print(\"Positional arguments:\", args)\n",
        "    print(\"Keyword arguments:\", kwargs)\n",
        "summarize(1, 2, 3, name=\"Alice\", age=30)\n",
        "**5. Nested Functions**\n",
        "Definition:Define one function inside another, often used for encapsulation or closures. Ex.\n",
        "def outer_function(x):\n",
        "    def inner_function(y):\n",
        "        return x + y\n",
        "    return inner_function\n",
        "**6. Recursive Functions**\n",
        "Definition:A function that calls itself to solve smaller instances of the same problem. Ex.\n",
        "def factorial(n):\n",
        "    if n == 0:\n",
        "        return 1\n",
        "    return n * factorial(n - 1)\n",
        "\n"
      ],
      "metadata": {
        "id": "oinUfMQD9c0a"
      }
    },
    {
      "cell_type": "markdown",
      "source": [
        "Ques -4. What is the purpose of the `return` statement in a Python function?\n",
        "\n",
        "--> The return statement in a Python function serves an essential purpose: it allows a function to send a value or result back to the caller.\n",
        "\n",
        "**1. Output a Result:** It specifies the value that the function should provide after it completes its task. Ex.   \n",
        "def add(a, b):\n",
        "    return a + b  \n",
        "result = add(3, 4)\n",
        "**2. Exit the Function:** The return statement immediately ends the execution of the function. Any code after return won't run. Ex.    \n",
        "def check_number(x):\n",
        "    if x > 0:\n",
        "        return \"Positive\"\n",
        "    return \"Non-positive\"\n",
        "print(check_number(5))\n",
        "\n",
        "**3. Enable Reusability:** By returning a value, you can use that value in further computations or logic. Ex.                                          \n",
        "def square(n):\n",
        "    return n ** 2\n",
        "result = square(3) + square(4)\n"
      ],
      "metadata": {
        "id": "49O1r0_d9dR4"
      }
    },
    {
      "cell_type": "markdown",
      "source": [
        "Ques-5. What are iterators in Python and how do they differ from iterables?\n",
        "\n",
        "--> **Iterators**\n",
        "Definition: An iterator is an object that represents a stream of data. It implements the __next__() method, which returns the next value in the sequence, and __iter__() itself (making it both iterable and an iterator).\n",
        "\n",
        "Purpose: Iterators allow you to retrieve items from an iterable one at a time, without creating a copy of the entire sequence.\n",
        "Examples:\n",
        "my_list = [1, 2, 3]\n",
        "iterator = iter(my_list)  \n",
        "print(next(iterator))  \n",
        "print(next(iterator))  \n",
        "print(next(iterator))\n",
        "\n",
        "**Iterable:** Think of it as a \"collection\" you can iterate over (e.g., a list or a tuple). An iterable is any object that can be iterated (looped) over.\n",
        "\n",
        "**Iterator:** Think of it as the \"mechanism\" that goes through the iterable, element by element, using next().\n"
      ],
      "metadata": {
        "id": "Bpjo6HGr9yMS"
      }
    },
    {
      "cell_type": "markdown",
      "source": [
        " Ques - 6. Explain the concept of generators in Python and how they are defined.\n",
        "\n",
        " --> Generators in Python are a special type of function that allows you to produce values one at a time, on demand, rather than computing all values at once and storing them in memory. This makes generators incredibly memory-efficient when working with large datasets or sequences.\n",
        "\n",
        "**Defining a Generator:** You define a generator function just like a regular function, but with yield statements.\n",
        "Example:\n",
        "def my_generator():\n",
        "    yield 1\n",
        "    yield 2\n",
        "    yield 3\n",
        "gen = my_generator()\n",
        "print(next(gen))\n",
        "print(next(gen))\n",
        "print(next(gen))\n"
      ],
      "metadata": {
        "id": "HmPUztNA9zwl"
      }
    },
    {
      "cell_type": "markdown",
      "source": [
        "Ques -7. What are the advantages of using generators over regular functions?\n",
        "\n",
        "--> **1. Memory Efficiency**\n",
        "Generators produce values one at a time using the yield statement, instead of computing and storing all values at once like regular functions. This makes them ideal for handling large datasets or sequences, as they don’t consume excessive memory.\n",
        "Example: Generating 1 million numbers with a generator uses far less memory than storing all 1 million numbers in a list.\n",
        "\n",
        "**2. Lazy Evaluation**\n",
        "Generators work on-demand, meaning they only compute values when requested. This \"lazy evaluation\" is particularly useful for dealing with infinite sequences or situations where not all computed values are required.\n",
        "Example: Processing the first 100 numbers from an infinite sequence without generating unnecessary data.\n",
        "\n",
        "**3. Simplified Code for Iterators**\n",
        "Generators automatically implement the iterator protocol (__iter__() and __next__()), so you don't need to manually write code for these methods like you would for custom iterators.\n",
        "Regular iterators can be verbose and error-prone, while generators simplify the process.\n",
        "\n",
        "**4. Improved Performance**\n",
        "Since generators avoid storing intermediate results, they typically have faster execution times compared to functions that create and return large collections.\n",
        "\n",
        "Example: Calculating Fibonacci numbers one at a time instead of building an entire list upfront."
      ],
      "metadata": {
        "id": "91hNZ_bQ99lX"
      }
    },
    {
      "cell_type": "markdown",
      "source": [
        "Ques -8. What is a lambda function in Python and when is it typically used?\n",
        "\n",
        "--> A lambda function in Python is an anonymous, single-expression function that is defined using the lambda keyword. Unlike regular functions created with def, lambda functions do not have a name (hence \"anonymous\") and are designed for short, simple operations.The basic syntax is:\n",
        "lambda arguments: expression\n",
        "Example:square = lambda x: x ** 2\n",
        "print(square(5))\n",
        "\n",
        "**When to Use Lambda Functions:**\n",
        "Lambda functions are typically used for short-lived or one-time use cases where defining a full function with def would be unnecessary or overly verbose.\n",
        "**Sorting with Custom Keys:** Lambda functions are used as key functions for sorting.\n",
        "\n",
        "Example: Sorting by the second element in a tuple.\n",
        "pairs = [(1, 3), (4, 1), (2, 2)]\n",
        "sorted_pairs = sorted(pairs, key=lambda x: x[1])\n",
        "print(sorted_pairs)"
      ],
      "metadata": {
        "id": "4eFMvX_d-GBv"
      }
    },
    {
      "cell_type": "markdown",
      "source": [
        "Ques -9.  Explain the purpose and usage of the `map()` function in Python.\n",
        "\n",
        "--> The map() function in Python is a built-in tool that applies a given function to each item in an iterable (e.g., a list, tuple, etc.) and returns an iterator containing the transformed items. It's commonly used for functional programming tasks where you want to perform the same operation on multiple elements of a sequence.\n",
        "**Purpose of map()**\n",
        "Efficiency: It eliminates the need for writing loops to apply a function to every item in an iterable.\n",
        "\n",
        "Concise Code: It simplifies code and improves readability, especially for one-line transformations.\n",
        "\n",
        "Lazy Evaluation: It produces results on demand as an iterator, which is memory-efficient.\n",
        "\n",
        "map(function, iterable)\n",
        "\n",
        "**Usage Examples**\n",
        "1. Basic Example:\n",
        "def square(x):\n",
        "    return x ** 2\n",
        "\n",
        "nums = [1, 2, 3, 4]\n",
        "result = map(square, nums)\n",
        "print(list(result))\n",
        "2. Using Lambda Functions :\n",
        "For simple operations, you can use lambda functions with map():\n",
        "nums = [1, 2, 3, 4]\n",
        "result = map(lambda x: x ** 2, nums)\n",
        "print(list(result))"
      ],
      "metadata": {
        "id": "XCc46e9o-Qsp"
      }
    },
    {
      "cell_type": "markdown",
      "source": [
        "Ques -10. What is the difference between `map()`, `reduce()`, and `filter()` functions in Python?\n",
        "\n",
        "--> 1. map()\n",
        "**bold text**Purpose: Applies a given function to each item in an iterable and returns an iterator with the transformed items.\n",
        "\n",
        "When to Use: For transforming data (e.g., squaring numbers, formatting strings).Example:\n",
        "nums = [1, 2, 3]\n",
        "squares = map(lambda x: x ** 2, nums)\n",
        "print(list(squares))\n",
        "\n",
        "**2. filter()**\n",
        "Purpose: Filters elements from an iterable based on a function that returns True or False.\n",
        "\n",
        "When to Use: For selecting specific elements from data (e.g., filtering even numbers or words of a certain length).  Example:\n",
        "nums = [1, 2, 3, 4]\n",
        "evens = filter(lambda x: x % 2 == 0, nums)\n",
        "print(list(evens))\n",
        "\n",
        "3. reduce()\n",
        "Purpose: Repeatedly applies a function to pairs of elements in an iterable, reducing it to a single cumulative value. (reduce() must be imported from the functools module.)\n",
        "\n",
        "When to Use: For aggregating or combining all elements of a sequence (e.g., summing numbers, finding a product). Example:\n",
        "\n",
        "from functools import reduce\n",
        "\n",
        "nums = [1, 2, 3, 4]\n",
        "product = reduce(lambda x, y: x * y, nums)\n",
        "print(product)\n",
        "\n",
        "* Use map() for applying a function to every element in a sequence.\n",
        "\n",
        "* Use filter() for extracting elements based on a condition.\n",
        "\n",
        "* Use reduce() for combining all elements into a single result."
      ],
      "metadata": {
        "id": "OJthmwc2-ZXR"
      }
    },
    {
      "cell_type": "markdown",
      "source": [
        "Ques -11. Using pen & Paper write the internal mechanism for sum operation using  reduce function on this given list:[47,11,42,13];\n",
        "\n",
        "--> from functools import reduce\n",
        "\n",
        "nums = [47, 11, 42, 13]\n",
        "\n",
        "result = reduce(lambda x, y: x + y, nums)\n",
        "![function.jpg](data:image/jpeg;base64,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)\n",
        "print(result)  # Outputs: 113\n"
      ],
      "metadata": {
        "id": "CmbC-MuE-ciV"
      }
    },
    {
      "cell_type": "markdown",
      "source": [
        "# **Practical Questions:**"
      ],
      "metadata": {
        "id": "8jdGAZqRjs7R"
      }
    },
    {
      "cell_type": "code",
      "source": [
        "# Ques - 1.  Write a Python function that takes a list of numbers as input and returns the sum of all even numbers in\n",
        "#the list.\n",
        "def sum_of_evens(numbers):\n",
        "    return sum(num for num in numbers if num % 2 == 0)\n",
        "numbers = [1, 2, 3, 4, 5, 6]\n",
        "result = sum_of_evens(numbers)\n",
        "print(f\"The sum of even numbers is: {result}\")\n"
      ],
      "metadata": {
        "colab": {
          "base_uri": "https://localhost:8080/"
        },
        "id": "BTqqXJlPVqHM",
        "outputId": "1f4a6e7b-e40d-46de-ccf1-38d355636a5a"
      },
      "execution_count": 2,
      "outputs": [
        {
          "output_type": "stream",
          "name": "stdout",
          "text": [
            "The sum of even numbers is: 12\n"
          ]
        }
      ]
    },
    {
      "cell_type": "code",
      "source": [
        "# Ques - 2. Create a Python function that accepts a string and returns the reverse of that string.\n",
        "def reverse_string(input_string):\n",
        "    return input_string[::-1]\n",
        "input_str = \"Hello, World!\"\n",
        "reversed_str = reverse_string(input_str)\n",
        "print(f\"The reversed string is: {reversed_str}\")\n"
      ],
      "metadata": {
        "colab": {
          "base_uri": "https://localhost:8080/"
        },
        "id": "ec3GMrHvWKNX",
        "outputId": "8d2e30fc-8f73-44c8-f285-0bc697a16735"
      },
      "execution_count": 3,
      "outputs": [
        {
          "output_type": "stream",
          "name": "stdout",
          "text": [
            "The reversed string is: !dlroW ,olleH\n"
          ]
        }
      ]
    },
    {
      "cell_type": "code",
      "source": [
        "# Ques - 3. Implement a Python function that takes a list of integers and returns a new list containing the squares of\n",
        "# each number.\n",
        "def square_numbers(numbers):\n",
        "    return [num ** 2 for num in numbers]\n",
        "numbers = [1, 2, 3, 4, 5]\n",
        "squared_numbers = square_numbers(numbers)\n",
        "print(f\"The squared numbers are: {squared_numbers}\")"
      ],
      "metadata": {
        "colab": {
          "base_uri": "https://localhost:8080/"
        },
        "id": "oGVAWP_iWlYa",
        "outputId": "cd4ed36b-02ab-472e-e64c-101a8bb74dc8"
      },
      "execution_count": 7,
      "outputs": [
        {
          "output_type": "stream",
          "name": "stdout",
          "text": [
            "The squared numbers are: [1, 4, 9, 16, 25]\n"
          ]
        }
      ]
    },
    {
      "cell_type": "code",
      "source": [
        "# Ques - 4. Write a Python function that checks if a given number is prime or not from 1 to 200.\n",
        "def is_prime(num):\n",
        "\n",
        "    if num < 2:\n",
        "        return False\n",
        "    for i in range(2, int(num**0.5) + 1):\n",
        "        if num % i == 0:\n",
        "            return False\n",
        "    return True\n",
        "for n in range(1, 201):\n",
        "    if is_prime(n):\n",
        "        print(f\"{n} is a prime number.\")\n",
        "    else:\n",
        "        print(f\"{n} is not a prime number.\")"
      ],
      "metadata": {
        "colab": {
          "base_uri": "https://localhost:8080/"
        },
        "id": "K2C7E25DXIIY",
        "outputId": "3d426f7b-22e1-4dd9-c5e1-c2ef2d96d7a5"
      },
      "execution_count": 22,
      "outputs": [
        {
          "output_type": "stream",
          "name": "stdout",
          "text": [
            "1 is not a prime number.\n",
            "2 is a prime number.\n",
            "3 is a prime number.\n",
            "4 is not a prime number.\n",
            "5 is a prime number.\n",
            "6 is not a prime number.\n",
            "7 is a prime number.\n",
            "8 is not a prime number.\n",
            "9 is not a prime number.\n",
            "10 is not a prime number.\n",
            "11 is a prime number.\n",
            "12 is not a prime number.\n",
            "13 is a prime number.\n",
            "14 is not a prime number.\n",
            "15 is not a prime number.\n",
            "16 is not a prime number.\n",
            "17 is a prime number.\n",
            "18 is not a prime number.\n",
            "19 is a prime number.\n",
            "20 is not a prime number.\n",
            "21 is not a prime number.\n",
            "22 is not a prime number.\n",
            "23 is a prime number.\n",
            "24 is not a prime number.\n",
            "25 is not a prime number.\n",
            "26 is not a prime number.\n",
            "27 is not a prime number.\n",
            "28 is not a prime number.\n",
            "29 is a prime number.\n",
            "30 is not a prime number.\n",
            "31 is a prime number.\n",
            "32 is not a prime number.\n",
            "33 is not a prime number.\n",
            "34 is not a prime number.\n",
            "35 is not a prime number.\n",
            "36 is not a prime number.\n",
            "37 is a prime number.\n",
            "38 is not a prime number.\n",
            "39 is not a prime number.\n",
            "40 is not a prime number.\n",
            "41 is a prime number.\n",
            "42 is not a prime number.\n",
            "43 is a prime number.\n",
            "44 is not a prime number.\n",
            "45 is not a prime number.\n",
            "46 is not a prime number.\n",
            "47 is a prime number.\n",
            "48 is not a prime number.\n",
            "49 is not a prime number.\n",
            "50 is not a prime number.\n",
            "51 is not a prime number.\n",
            "52 is not a prime number.\n",
            "53 is a prime number.\n",
            "54 is not a prime number.\n",
            "55 is not a prime number.\n",
            "56 is not a prime number.\n",
            "57 is not a prime number.\n",
            "58 is not a prime number.\n",
            "59 is a prime number.\n",
            "60 is not a prime number.\n",
            "61 is a prime number.\n",
            "62 is not a prime number.\n",
            "63 is not a prime number.\n",
            "64 is not a prime number.\n",
            "65 is not a prime number.\n",
            "66 is not a prime number.\n",
            "67 is a prime number.\n",
            "68 is not a prime number.\n",
            "69 is not a prime number.\n",
            "70 is not a prime number.\n",
            "71 is a prime number.\n",
            "72 is not a prime number.\n",
            "73 is a prime number.\n",
            "74 is not a prime number.\n",
            "75 is not a prime number.\n",
            "76 is not a prime number.\n",
            "77 is not a prime number.\n",
            "78 is not a prime number.\n",
            "79 is a prime number.\n",
            "80 is not a prime number.\n",
            "81 is not a prime number.\n",
            "82 is not a prime number.\n",
            "83 is a prime number.\n",
            "84 is not a prime number.\n",
            "85 is not a prime number.\n",
            "86 is not a prime number.\n",
            "87 is not a prime number.\n",
            "88 is not a prime number.\n",
            "89 is a prime number.\n",
            "90 is not a prime number.\n",
            "91 is not a prime number.\n",
            "92 is not a prime number.\n",
            "93 is not a prime number.\n",
            "94 is not a prime number.\n",
            "95 is not a prime number.\n",
            "96 is not a prime number.\n",
            "97 is a prime number.\n",
            "98 is not a prime number.\n",
            "99 is not a prime number.\n",
            "100 is not a prime number.\n",
            "101 is a prime number.\n",
            "102 is not a prime number.\n",
            "103 is a prime number.\n",
            "104 is not a prime number.\n",
            "105 is not a prime number.\n",
            "106 is not a prime number.\n",
            "107 is a prime number.\n",
            "108 is not a prime number.\n",
            "109 is a prime number.\n",
            "110 is not a prime number.\n",
            "111 is not a prime number.\n",
            "112 is not a prime number.\n",
            "113 is a prime number.\n",
            "114 is not a prime number.\n",
            "115 is not a prime number.\n",
            "116 is not a prime number.\n",
            "117 is not a prime number.\n",
            "118 is not a prime number.\n",
            "119 is not a prime number.\n",
            "120 is not a prime number.\n",
            "121 is not a prime number.\n",
            "122 is not a prime number.\n",
            "123 is not a prime number.\n",
            "124 is not a prime number.\n",
            "125 is not a prime number.\n",
            "126 is not a prime number.\n",
            "127 is a prime number.\n",
            "128 is not a prime number.\n",
            "129 is not a prime number.\n",
            "130 is not a prime number.\n",
            "131 is a prime number.\n",
            "132 is not a prime number.\n",
            "133 is not a prime number.\n",
            "134 is not a prime number.\n",
            "135 is not a prime number.\n",
            "136 is not a prime number.\n",
            "137 is a prime number.\n",
            "138 is not a prime number.\n",
            "139 is a prime number.\n",
            "140 is not a prime number.\n",
            "141 is not a prime number.\n",
            "142 is not a prime number.\n",
            "143 is not a prime number.\n",
            "144 is not a prime number.\n",
            "145 is not a prime number.\n",
            "146 is not a prime number.\n",
            "147 is not a prime number.\n",
            "148 is not a prime number.\n",
            "149 is a prime number.\n",
            "150 is not a prime number.\n",
            "151 is a prime number.\n",
            "152 is not a prime number.\n",
            "153 is not a prime number.\n",
            "154 is not a prime number.\n",
            "155 is not a prime number.\n",
            "156 is not a prime number.\n",
            "157 is a prime number.\n",
            "158 is not a prime number.\n",
            "159 is not a prime number.\n",
            "160 is not a prime number.\n",
            "161 is not a prime number.\n",
            "162 is not a prime number.\n",
            "163 is a prime number.\n",
            "164 is not a prime number.\n",
            "165 is not a prime number.\n",
            "166 is not a prime number.\n",
            "167 is a prime number.\n",
            "168 is not a prime number.\n",
            "169 is not a prime number.\n",
            "170 is not a prime number.\n",
            "171 is not a prime number.\n",
            "172 is not a prime number.\n",
            "173 is a prime number.\n",
            "174 is not a prime number.\n",
            "175 is not a prime number.\n",
            "176 is not a prime number.\n",
            "177 is not a prime number.\n",
            "178 is not a prime number.\n",
            "179 is a prime number.\n",
            "180 is not a prime number.\n",
            "181 is a prime number.\n",
            "182 is not a prime number.\n",
            "183 is not a prime number.\n",
            "184 is not a prime number.\n",
            "185 is not a prime number.\n",
            "186 is not a prime number.\n",
            "187 is not a prime number.\n",
            "188 is not a prime number.\n",
            "189 is not a prime number.\n",
            "190 is not a prime number.\n",
            "191 is a prime number.\n",
            "192 is not a prime number.\n",
            "193 is a prime number.\n",
            "194 is not a prime number.\n",
            "195 is not a prime number.\n",
            "196 is not a prime number.\n",
            "197 is a prime number.\n",
            "198 is not a prime number.\n",
            "199 is a prime number.\n",
            "200 is not a prime number.\n"
          ]
        }
      ]
    },
    {
      "cell_type": "code",
      "source": [
        "# Ques -5. Create an iterator class in Python that generates the Fibonacci sequence up to a specified number of\n",
        "# terms.\n",
        "class FibonacciIterator:\n",
        "    def __init__(self, num_terms):\n",
        "\n",
        "        self.num_terms = num_terms\n",
        "        self.current = 0\n",
        "        self.next = 1\n",
        "        self.count = 0\n",
        "\n",
        "    def __iter__(self):\n",
        "        return self\n",
        "\n",
        "    def __next__(self):\n",
        "\n",
        "        if self.count >= self.num_terms:\n",
        "            raise StopIteration\n",
        "        fib = self.current\n",
        "        self.current, self.next = self.next, self.current + self.next\n",
        "        self.count += 1\n",
        "        return fib\n",
        "num_terms = 10\n",
        "fib_iterator = FibonacciIterator(num_terms)\n",
        "\n",
        "for fib_number in fib_iterator:\n",
        "    print(fib_number)\n",
        "\n"
      ],
      "metadata": {
        "colab": {
          "base_uri": "https://localhost:8080/"
        },
        "id": "3SaKl7FvZBjG",
        "outputId": "847498bf-ca19-473f-e187-66b6ae04c9a9"
      },
      "execution_count": 24,
      "outputs": [
        {
          "output_type": "stream",
          "name": "stdout",
          "text": [
            "0\n",
            "1\n",
            "1\n",
            "2\n",
            "3\n",
            "5\n",
            "8\n",
            "13\n",
            "21\n",
            "34\n"
          ]
        }
      ]
    },
    {
      "cell_type": "code",
      "source": [
        "# Ques -6. Write a generator function in Python that yields the powers of 2 up to a given exponent.\n",
        "def power_of_two(exponent):\n",
        "    for i in range(exponent + 1):\n",
        "        yield 2 ** i\n",
        "exponent = 5\n",
        "power_generator = power_of_two(exponent)\n",
        "\n",
        "for power in power_generator:\n",
        "    print(power)"
      ],
      "metadata": {
        "colab": {
          "base_uri": "https://localhost:8080/"
        },
        "id": "3LpMao9gbLCP",
        "outputId": "e97697ba-22cd-448c-d469-5747793e037e"
      },
      "execution_count": 25,
      "outputs": [
        {
          "output_type": "stream",
          "name": "stdout",
          "text": [
            "1\n",
            "2\n",
            "4\n",
            "8\n",
            "16\n",
            "32\n"
          ]
        }
      ]
    },
    {
      "cell_type": "code",
      "source": [
        "# Ques -7. Implement a generator function that reads a file line by line and yields each line as a string.\n",
        "def read_file_lines(file_path):\n",
        "    with open(file_path, 'r') as file:\n",
        "        for line in file:\n",
        "            yield line.strip()\n",
        "            file_generator = read_file_lines(file_path='testing.pdf')\n",
        "            for line in file_generator:\n",
        "              print(line)\n"
      ],
      "metadata": {
        "id": "8fBw42PQbYZN"
      },
      "execution_count": 31,
      "outputs": []
    },
    {
      "cell_type": "code",
      "source": [
        "# Ques - 8. Use a lambda function in Python to sort a list of tuples based on the second element of each tuple.\n",
        "data = [('apple', 3), ('banana', 1), ('cherry', 2)]\n",
        "sorted_data = sorted(data, key=lambda x: x[1])\n",
        "print(sorted_data)"
      ],
      "metadata": {
        "colab": {
          "base_uri": "https://localhost:8080/"
        },
        "id": "PW1Wc2sxeA2g",
        "outputId": "5bdc19a4-0b9e-4cd6-cf7c-3798a2bf4c64"
      },
      "execution_count": 32,
      "outputs": [
        {
          "output_type": "stream",
          "name": "stdout",
          "text": [
            "[('banana', 1), ('cherry', 2), ('apple', 3)]\n"
          ]
        }
      ]
    },
    {
      "cell_type": "code",
      "source": [
        "# Ques - 9. Write a Python program that uses `map()` to convert a list of temperatures from Celsius to Fahrenheit.\n",
        "def celsius_to_fahrenheit(celsius):\n",
        "    return (celsius * 9/5) + 32\n",
        "celsius_temps = [0, 10, 20, 30]\n",
        "fahrenheit_temps = list(map(celsius_to_fahrenheit, celsius_temps))\n",
        "print(fahrenheit_temps)"
      ],
      "metadata": {
        "colab": {
          "base_uri": "https://localhost:8080/"
        },
        "id": "tASTiOUJeM-P",
        "outputId": "b94bf331-7d97-412f-84c2-193c07f31aa4"
      },
      "execution_count": 36,
      "outputs": [
        {
          "output_type": "stream",
          "name": "stdout",
          "text": [
            "[32.0, 50.0, 68.0, 86.0]\n"
          ]
        }
      ]
    },
    {
      "cell_type": "code",
      "source": [
        "# Ques -10. Create a Python program that uses `filter()` to remove all the vowels from a given string.\n",
        "def is_vowel(char):\n",
        "    return char.lower() in 'aeiou'\n",
        "input_string = \"Hello, World!\"\n",
        "filtered_string = ''.join(filter(lambda x: not is_vowel(x), input_string))\n",
        "print(filtered_string)"
      ],
      "metadata": {
        "colab": {
          "base_uri": "https://localhost:8080/"
        },
        "id": "JNVwUN_ie9W4",
        "outputId": "b5c90c8e-0f33-4667-d1ba-16cfd4598697"
      },
      "execution_count": 37,
      "outputs": [
        {
          "output_type": "stream",
          "name": "stdout",
          "text": [
            "Hll, Wrld!\n"
          ]
        }
      ]
    },
    {
      "cell_type": "code",
      "source": [
        "# Ques - 11) Imagine an accounting routine used in a book shop. It works on a list with sublists, which look like this:\n",
        "#Order number \tBook Title and author\t          Quantity\tPrice per Item\n",
        "#34587\t       Learning Python, Mark Lutz\t         4\t       40.95\n",
        "#98762\t       Programming Python, Mark Lutz\t     5\t       56.8\n",
        "#77226\t       Head First Python, Paul Barry\t     3\t       32.95\n",
        "#88112\t       Einfuhrung in Python3, Bernd Klein\t 3\t       24.99\n",
        "\n",
        " #Write a Python program, which returns a list with 2-tuples. Each tuple consists of the order number and the\n",
        "#product of the price per item and the quantity. The product should be increased by 10,- € if the value of the\n",
        "#order is smaller than 100,00 €.\n",
        "# Write a Python program using lambda and map\n",
        "orders = [\n",
        "    [34587, 'Learning Python, Mark Lutz', 4, 40.95],\n",
        "    [98762, 'Programming Python, Mark Lutz', 5, 56.80],\n",
        "    [77226, 'Head First Python, Paul Barry', 3, 32.95],\n",
        "    [88112, 'Einführung in Python3, Bernd Klein', 3, 24.99]\n",
        "]\n",
        "result = list(map(\n",
        "    lambda order: (\n",
        "        order[0],\n",
        "        order[2] * order[3] + (10 if order[2] * order[3] < 100 else 0)\n",
        "    ),\n",
        "    orders\n",
        "))\n",
        "print(result)"
      ],
      "metadata": {
        "colab": {
          "base_uri": "https://localhost:8080/"
        },
        "id": "G-dGpIKgfIbX",
        "outputId": "5a916f5e-eaba-461d-a00e-aab726e2464c"
      },
      "execution_count": 39,
      "outputs": [
        {
          "output_type": "stream",
          "name": "stdout",
          "text": [
            "[(34587, 163.8), (98762, 284.0), (77226, 108.85000000000001), (88112, 84.97)]\n"
          ]
        }
      ]
    }
  ]
}