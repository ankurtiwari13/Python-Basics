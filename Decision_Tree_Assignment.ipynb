{
  "nbformat": 4,
  "nbformat_minor": 0,
  "metadata": {
    "colab": {
      "provenance": []
    },
    "kernelspec": {
      "name": "python3",
      "display_name": "Python 3"
    },
    "language_info": {
      "name": "python"
    }
  },
  "cells": [
    {
      "cell_type": "markdown",
      "source": [
        "#Theoretical"
      ],
      "metadata": {
        "id": "RR-cHZEcPYRU"
      }
    },
    {
      "cell_type": "markdown",
      "metadata": {
        "id": "6946429e"
      },
      "source": [
        "Ques -1. What is a Decision Tree, and how does it work?\n",
        "\n",
        "--> A Decision Tree is a supervised machine learning algorithm that is used for both classification and regression tasks. It's a tree-like structure where each internal node represents a test on an attribute, each branch represents an outcome of the test, and each leaf node represents a class label (in classification) or a predicted value (in regression).\n",
        "\n",
        "How it works:\n",
        "\n",
        "1.  **Splitting**: The algorithm starts with a single node representing the entire dataset (the root node). It then recursively splits the data into smaller subsets based on the most \"informative\" attribute at each node. The goal is to create splits that result in subsets that are as pure as possible with respect to the target variable (i.e., subsets where most instances belong to the same class or have similar predicted values).\n",
        "2.  **Attribute Selection**: The choice of which attribute to split on at each node is determined by measures like Gini impurity or entropy (for classification), or variance reduction (for regression). These measures quantify how well a split separates the data based on the target variable.\n",
        "3.  **Stopping Criteria**: The splitting process continues until a stopping criterion is met. This could be:\n",
        "    *   All instances in a node belong to the same class.\n",
        "    *   There are no more attributes to split on.\n",
        "    *   A predefined maximum depth of the tree is reached.\n",
        "    *   The number of instances in a node falls below a minimum threshold.\n",
        "4.  **Prediction**: Once the tree is built, predictions are made by traversing the tree from the root node down to a leaf node. For a new instance, you follow the branches that correspond to the instance's attribute values until you reach a leaf node. The prediction is then based on the value in that leaf node (either the majority class in classification or the average value in regression).\n",
        "\n"
      ]
    },
    {
      "cell_type": "markdown",
      "metadata": {
        "id": "a8f204f6"
      },
      "source": [
        "Ques -2. What are impurity measures in Decision Trees?\n",
        "\n",
        "--> Impurity measures in Decision Trees are metrics used to evaluate the homogeneity or heterogeneity of the target variable within a subset of data. The goal of the decision tree algorithm is to create splits that reduce the impurity of the resulting subsets as much as possible. Lower impurity means the instances in that subset are more similar with respect to the target variable.\n",
        "\n"
      ]
    },
    {
      "cell_type": "markdown",
      "metadata": {
        "id": "afffdbcb"
      },
      "source": [
        "Ques -3. What is the mathematical formula for Gini Impurity?\n",
        "\n",
        "--> The mathematical formula for Gini Impurity for a node with \\(k\\) classes is:\n",
        "\n",
        "$$ Gini = 1 - \\sum_{i=1}^{k} (p_i)^2 $$\n",
        "\n",
        "Where:\n",
        "- \\(Gini\\) is the Gini Impurity of the node.\n",
        "- \\(k\\) is the number of classes in the target variable.\n",
        "- \\(p_i\\) is the proportion of instances belonging to class \\(i\\) in the node.\n",
        "\n",
        "In simpler terms, the formula calculates the sum of the squared probabilities of each class present in the node and subtracts this sum from 1.\n",
        "\n",
        "*   If a node is perfectly pure (all instances belong to the same class), one of the \\(p_i\\) values will be 1, and all others will be 0. In this case, \\(1 - (1^2 + 0^2 + ... + 0^2) = 1 - 1 = 0\\). The Gini impurity is 0.\n",
        "*   If a node is impure (instances belong to multiple classes), the sum of the squared probabilities will be less than 1, resulting in a Gini impurity greater than 0. The maximum Gini impurity occurs when the classes are equally distributed."
      ]
    },
    {
      "cell_type": "markdown",
      "metadata": {
        "id": "44ef784e"
      },
      "source": [
        "Ques -4. What is the mathematical formula for Entropy?\n",
        "\n",
        "--> The mathematical formula for Entropy for a node with \\(k\\) classes is:\n",
        "\n",
        "$$ Entropy = -\\sum_{i=1}^{k} p_i \\log_2(p_i) $$\n",
        "\n",
        "Where:\n",
        "- \\(Entropy\\) is the Entropy of the node.\n",
        "- \\(k\\) is the number of classes in the target variable.\n",
        "- \\(p_i\\) is the proportion of instances belonging to class \\(i\\) in the node.\n",
        "\n",
        "In simpler terms, the formula calculates the sum of the product of the probability of each class and the base-2 logarithm of that probability, and then negates the result.\n",
        "\n",
        "*   If a node is perfectly pure (all instances belong to the same class), one of the \\(p_i\\) values will be 1, and all others will be 0. The logarithm of 1 is 0, so the entropy will be 0.\n",
        "*   If a node is impure (instances belong to multiple classes), the entropy will be greater than 0. The maximum entropy occurs when the classes are equally distributed, indicating the highest level of uncertainty."
      ]
    },
    {
      "cell_type": "markdown",
      "metadata": {
        "id": "ab040103"
      },
      "source": [
        "Ques -5. What is Information Gain, and how is it used in Decision Trees?\n",
        "\n",
        "--> **Information Gain** is a concept used in Decision Trees (specifically in algorithms like ID3 and C4.5) to determine the best attribute to split the data on at each node. It measures the reduction in entropy or impurity achieved by splitting the data based on a particular attribute.\n",
        "\n",
        "The formula for Information Gain when splitting on attribute \\(A\\) is:\n",
        "\n",
        "$$ Information\\ Gain(S, A) = Entropy(S) - \\sum_{v \\in Values(A)} \\frac{|S_v|}{|S|} Entropy(S_v) $$\n",
        "\n",
        "Where:\n",
        "- \\(Information\\ Gain(S, A)\\) is the information gain when splitting dataset \\(S\\) on attribute \\(A\\).\n",
        "- \\(Entropy(S)\\) is the entropy of the dataset \\(S\\) before the split.\n",
        "- \\(Values(A)\\) is the set of possible values for attribute \\(A\\).\n",
        "- \\(S_v\\) is the subset of \\(S\\) where attribute \\(A\\) has value \\(v\\).\n",
        "- \\(|S_v|\\) is the number of instances in the subset \\(S_v\\).\n",
        "- \\(|S|\\) is the total number of instances in the dataset \\(S\\).\n",
        "- \\(Entropy(S_v)\\) is the entropy of the subset \\(S_v\\).\n",
        "\n",
        "**How it is used in Decision Trees:**\n",
        "\n",
        "The decision tree algorithm uses Information Gain to select the attribute that provides the most information about the target variable. At each node, the algorithm calculates the Information Gain for all available attributes and chooses the attribute that results in the highest Information Gain. This attribute is then used to split the data at that node.\n",
        "\n",
        "The goal is to select splits that lead to the most \"pure\" subsets of data, where instances within each subset are more likely to belong to the same class. A higher Information Gain indicates a more effective split in reducing the uncertainty or impurity of the data.\n",
        "\n",
        "In algorithms that use Gini Impurity instead of Entropy (like CART), a similar concept called **Gini Gain** or **Gini Reduction** is used, which measures the reduction in Gini Impurity after a split. The principle is the same: select the attribute that maximizes the reduction in impurity."
      ]
    },
    {
      "cell_type": "markdown",
      "metadata": {
        "id": "fefc9e47"
      },
      "source": [
        "Ques -6. What is the difference between Gini Impurity and Entropy?\n",
        "\n",
        "--> Gini Impurity and Entropy are both impurity measures used in Decision Trees to evaluate the homogeneity of a dataset with respect to the target variable. While they serve the same purpose – helping the algorithm decide the best split at each node – they have some key differences:\n",
        "\n",
        "1.  **Mathematical Formula**:\n",
        "    *   **Gini Impurity**: \\( Gini = 1 - \\sum_{i=1}^{k} (p_i)^2 \\)\n",
        "    *   **Entropy**: \\( Entropy = -\\sum_{i=1}^{k} p_i \\log_2(p_i) \\)\n",
        "\n",
        "2.  **Interpretation**:\n",
        "    *   **Gini Impurity**: Measures the probability of misclassifying a randomly chosen element if it were labeled according to the class distribution in the subset. A value of 0 indicates perfect purity.\n",
        "    *   **Entropy**: Measures the level of randomness or uncertainty in the subset. A value of 0 indicates perfect purity.\n",
        "\n",
        "3.  **Computational Cost**:\n",
        "    *   **Gini Impurity**: Involves squaring probabilities, which is computationally less expensive than calculating logarithms.\n",
        "    *   **Entropy**: Involves calculating logarithms, which is generally more computationally expensive than squaring.\n",
        "\n",
        "4.  **Sensitivity to Class Distribution**:\n",
        "    *   **Gini Impurity**: Tends to isolate the most frequent class in a node.\n",
        "    *   **Entropy**: Tends to create more balanced trees, where the classes are more evenly distributed in the child nodes.\n",
        "\n",
        "5.  **Range of Values**:\n",
        "    *   **Gini Impurity**: Ranges from 0 (perfect purity) to 0.5 (maximum impurity in a binary classification). The maximum value for multi-class classification is \\(1 - \\frac{1}{k}\\).\n",
        "    *   **Entropy**: Ranges from 0 (perfect purity) to 1 (maximum impurity in a binary classification). The maximum value for multi-class classification is \\(\\log_2(k)\\).\n",
        "\n",
        "\n",
        "\n"
      ]
    },
    {
      "cell_type": "markdown",
      "metadata": {
        "id": "6613206d"
      },
      "source": [
        "Ques -7. What is the mathematical explanation behind Decision Trees?\n",
        "\n",
        "--> The mathematical foundation of Decision Trees lies in the concepts of **information theory** and **optimization**. The core idea is to recursively partition the data space into regions that are as \"pure\" as possible with respect to the target variable. This partitioning is guided by mathematical measures of impurity and information gain.\n",
        "\n",
        "Here's a breakdown of the key mathematical concepts:\n",
        "\n",
        "1.  **Impurity Measures (Entropy and Gini Impurity)**:\n",
        "    *   As discussed earlier, Entropy and Gini Impurity quantify the homogeneity of a set of data points.\n",
        "    *   **Mathematically**, for a set \\(S\\) with \\(k\\) classes, the impurity is calculated based on the probability distribution of the classes within that set (\\(p_i\\) for each class \\(i\\)).\n",
        "    *   The goal is to find splits that **minimize** the impurity of the resulting child nodes.\n",
        "\n",
        "2.  **Information Gain**:\n",
        "    *   Information Gain measures the reduction in entropy (or impurity) achieved by splitting the data on a particular attribute.\n",
        "    *   **Mathematically**, it's the difference between the impurity of the parent node and the weighted average of the impurities of the child nodes. The weights are proportional to the number of instances in each child node.\n",
        "    *   The decision tree algorithm aims to **maximize** Information Gain at each split, as this indicates the attribute that best separates the data according to the target variable.\n",
        "\n",
        "3.  **Splitting Criterion**:\n",
        "    *   At each internal node, the algorithm evaluates all possible splits for each available attribute.\n",
        "    *   For **categorical attributes**, the splits are based on the different values of the attribute.\n",
        "    *   For **numerical attributes**, the algorithm considers various threshold values to create binary splits (e.g., `attribute <= threshold` and `attribute > threshold`).\n",
        "    *   The mathematical criterion used to select the best split is typically the one that maximizes Information Gain (or minimizes Gini Impurity).\n",
        "\n",
        "4.  **Recursive Partitioning**:\n",
        "    *   The process of splitting the data is applied recursively to the child nodes. This creates the tree structure.\n",
        "    *   The recursion stops when a stopping criterion is met (e.g., a node is pure, maximum depth is reached, minimum number of samples per node is met). These stopping criteria are also defined mathematically.\n",
        "\n",
        "5.  **Prediction**:\n",
        "    *   For a new instance, the prediction is made by traversing the tree based on the instance's attribute values.\n",
        "    *   In **classification trees**, the prediction is the majority class in the leaf node reached. This is a simple probabilistic assignment based on the class distribution in that leaf.\n",
        "    *   In **regression trees**, the prediction is typically the average (or median) of the target variable values in the leaf node reached. This is a mathematical aggregation of the values in that region of the data space.\n",
        "\n"
      ]
    },
    {
      "cell_type": "markdown",
      "metadata": {
        "id": "21109002"
      },
      "source": [
        "Ques -8. What is Pre-Pruning in Decision Trees?\n",
        "\n",
        "--> **Pre-pruning** (also known as early stopping or forward pruning) is a technique used to prevent overfitting in Decision Trees by stopping the tree building process early, before it has fully grown. Instead of building a complete tree and then pruning it back (post-pruning), pre-pruning imposes constraints during the tree construction phase to limit its complexity.\n",
        "\n",
        "The idea behind pre-pruning is to stop splitting a node when the potential gain from the split is not significant or when further splitting would likely lead to overfitting on the training data. This helps to create a simpler, more generalized tree that is less likely to perform poorly on unseen data.\n",
        "\n"
      ]
    },
    {
      "cell_type": "markdown",
      "metadata": {
        "id": "ef1be611"
      },
      "source": [
        "Ques -9. What is Post-Pruning in Decision Trees?\n",
        "\n",
        "--> **Post-pruning** (also known as backward pruning) is a technique used to prevent overfitting in Decision Trees by building a complete tree first and then pruning back the branches that do not contribute to improving the tree's performance on unseen data. Unlike pre-pruning, which stops the tree building process early, post-pruning allows the tree to grow to its full potential and then removes unnecessary complexity.\n",
        "\n",
        "The idea behind post-pruning is to identify and remove subtrees that are likely to be the result of overfitting on the training data. These subtrees might capture noise or specific patterns in the training data that do not generalize well to new data.\n",
        "\n"
      ]
    },
    {
      "cell_type": "markdown",
      "metadata": {
        "id": "f4f164c5"
      },
      "source": [
        "Ques -10. What is the difference between Pre-Pruning and Post-Pruning?\n",
        "\n",
        "--> The main difference between Pre-pruning and Post-pruning in Decision Trees lies in **when** the pruning occurs:\n",
        "\n",
        "1.  **Pre-Pruning (Early Stopping)**:\n",
        "    *   **When it happens**: During the tree building process.\n",
        "    *   **How it works**: It stops the growth of the tree at an earlier stage based on predefined criteria.\n",
        "    *   **Goal**: To prevent the tree from growing too complex and overfitting the training data from the beginning.\n",
        "    *   **Methods**: Involves setting parameters like maximum depth, minimum samples per split, minimum impurity decrease, etc.\n",
        "    *   **Pros**: Faster training, simpler trees, less risk of overfitting from the start.\n",
        "    *   **Cons**: Greedy approach may lead to suboptimal trees, difficult to set optimal thresholds.\n",
        "\n",
        "2.  **Post-Pruning (Backward Pruning)**:\n",
        "    *   **When it happens**: After the tree has been fully grown.\n",
        "    *   **How it works**: It trims back branches from the fully grown tree based on their impact on a validation dataset or a complexity measure.\n",
        "    *   **Goal**: To remove subtrees that are likely due to overfitting on the training data.\n",
        "    *   **Methods**: Includes techniques like Reduced Error Pruning and Cost-Complexity Pruning.\n",
        "    *   **Pros**: Potentially finds more optimal subtrees, less reliant on arbitrary thresholds.\n",
        "    *   **Cons**: More computationally expensive, requires a validation set for some methods."
      ]
    },
    {
      "cell_type": "markdown",
      "metadata": {
        "id": "e2c2bc4e"
      },
      "source": [
        "Ques -11. What is a Decision Tree Regressor?\n",
        "\n",
        "--> A **Decision Tree Regressor** is a supervised machine learning algorithm used for **regression tasks**. Unlike a Decision Tree Classifier, which predicts a categorical class label, a Decision Tree Regressor predicts a continuous numerical value. It works by partitioning the data space into a set of rectangular regions and predicting the average (or median) target value for all instances within each region.\n",
        "\n"
      ]
    },
    {
      "cell_type": "markdown",
      "metadata": {
        "id": "82d17ad2"
      },
      "source": [
        "Ques -12. What are the advantages and disadvantages of Decision Trees?\n",
        "\n",
        "--> Decision Trees are a popular and widely used machine learning algorithm due to their simplicity and interpretability. However, they also have certain limitations. Here's a breakdown of their advantages and disadvantages:\n",
        "\n",
        "**Advantages of Decision Trees:**\n",
        "\n",
        "1.  **Easy to Understand and Interpret**: Decision trees are visually intuitive and easy to follow. The tree structure can be easily understood by non-experts, making them valuable for explaining model decisions.\n",
        "2.  **Handle Both Categorical and Numerical Data**: Decision trees can work with both categorical and numerical input features without requiring extensive data preprocessing like feature scaling.\n",
        "3.  **No Assumption about Data Distribution**: Unlike some other algorithms (e.g., linear regression), decision trees do not make assumptions about the underlying data distribution.\n",
        "4.  **Captures Non-linear Relationships**: Decision trees can effectively capture non-linear relationships between features and the target variable.\n",
        "5.  **Feature Selection is Implicit**: The tree building process inherently performs a form of feature selection. Features that are more important for splitting the data appear higher up in the tree.\n",
        "6.  **Handle Missing Values**: Some implementations of decision trees can handle missing values by using various strategies, such as assigning the instance to the most frequent category or the category with the highest probability.\n",
        "7.  **Can be Used for Both Classification and Regression**: Decision trees are versatile and can be applied to both classification (predicting categorical labels) and regression (predicting continuous values) tasks.\n",
        "\n",
        "**Disadvantages of Decision Trees:**\n",
        "\n",
        "1.  **Prone to Overfitting**: Decision trees, especially deep ones, can easily overfit the training data. They can capture noise and specific patterns in the training set that do not generalize well to unseen data. Pruning techniques are essential to mitigate this.\n",
        "2.  **Instability (High Variance)**: Small variations in the training data can lead to significantly different tree structures. This instability makes them sensitive to the specific training set.\n",
        "3.  **Bias Towards Features with More Levels**: Decision trees tend to favor features with a larger number of distinct values or levels, as they can create more splits and potentially achieve higher information gain (or lower impurity) at an early stage.\n",
        "4.  **Difficulty in Handling Continuous Numerical Data (without binning)**: While they can handle numerical data, the splits are based on specific threshold values. This can sometimes lead to a staircase-like prediction function for regression tasks if not handled carefully (e.g., by combining with ensemble methods or using techniques like binning).\n",
        "5.  **Can Create Biased Trees**: If the dataset is imbalanced (one class is much more frequent than others), the decision tree might become biased towards the majority class.\n",
        "6.  **Computational Cost for Large Trees**: Building a very large decision tree can be computationally expensive."
      ]
    },
    {
      "cell_type": "markdown",
      "metadata": {
        "id": "dceebe5a"
      },
      "source": [
        "Ques -13. How does a Decision Tree handle missing values?\n",
        "\n",
        "--> The way Decision Trees handle missing values can vary depending on the specific algorithm implementation. Some decision tree algorithms have built-in mechanisms to handle missing data, while others require imputation as a preprocessing step. Here are some common approaches:\n",
        "\n",
        "1.  **Ignoring Instances with Missing Values**: The simplest approach is to simply ignore instances that have missing values for a particular attribute when considering a split based on that attribute. However, this can lead to a loss of valuable data if there are many instances with missing values.\n",
        "\n",
        "2.  **Assigning to the Most Frequent Category (for categorical attributes)**: For categorical attributes with missing values, instances with missing values can be assigned to the most frequent category in the node being considered for splitting. This is a form of imputation within the tree building process.\n",
        "\n",
        "3.  **Assigning to the Category with the Highest Probability**: A more sophisticated approach for categorical attributes is to assign instances with missing values to different categories based on the probability distribution of the categories in the node. For example, if a node has 70% 'Yes' and 30% 'No' for a binary attribute, an instance with a missing value for that attribute might be sent down the 'Yes' branch with a probability of 0.7 and down the 'No' branch with a probability of 0.3.\n",
        "\n",
        "4.  **Surrogate Splits**: Some decision tree algorithms, like the one used in CART (Classification and Regression Trees), can use \"surrogate splits\" to handle missing values in numerical attributes. When considering a split on an attribute with missing values, the algorithm can identify other attributes that are highly correlated with the primary splitting attribute. If an instance has a missing value for the primary splitting attribute, the algorithm uses the surrogate attribute and its split point to decide which branch the instance should follow.\n",
        "\n",
        "5.  **Treating Missing Value as a Separate Category**: For both categorical and numerical attributes, missing values can be treated as a distinct category or value. This allows the tree to explicitly learn how missingness itself relates to the target variable.\n",
        "\n",
        "6.  **Using Imputation before Building the Tree**: If the decision tree algorithm does not have built-in missing value handling capabilities, you will need to impute the missing values before training the tree. Common imputation techniques include:\n",
        "    *   Mean, median, or mode imputation.\n",
        "    *   Using more advanced imputation methods like K-Nearest Neighbors (KNN) imputation or Multiple Imputation by Chained Equations (MICE)."
      ]
    },
    {
      "cell_type": "markdown",
      "metadata": {
        "id": "27a01f72"
      },
      "source": [
        "Ques -14. How does a Decision Tree handle categorical features?\n",
        "\n",
        "--> Decision Trees can handle categorical features quite naturally, without requiring extensive preprocessing like one-hot encoding (which is often necessary for linear models or support vector machines). The way a Decision Tree handles a categorical feature depends on the number of unique values (levels) the feature has.\n",
        "\n",
        "Here's a breakdown of how Decision Trees handle categorical features:\n",
        "\n",
        "1.  **Binary Categorical Features**:\n",
        "    *   For categorical features with only two unique values (e.g., \"Yes\" or \"No\", \"Male\" or \"Female\"), the decision tree will create a single split based on these two values.\n",
        "    *   The data is partitioned into two subsets: one where the feature has the first value, and another where it has the second value.\n",
        "    *   The algorithm evaluates the impurity of these two resulting subsets to determine if this split is optimal.\n",
        "\n",
        "2.  **Multi-valued Categorical Features (Nominal)**:\n",
        "    *   For categorical features with more than two unique values (e.g., \"Color\" with values \"Red\", \"Blue\", \"Green\"), the decision tree considers different ways to group these values for splitting.\n",
        "    *   **Binary Splits**: The most common approach is to create binary splits. The algorithm explores all possible ways to partition the set of unique values into two subsets. For example, if a feature has values {A, B, C}, the possible binary splits are ({A}, {B, C}), ({B}, {A, C}), and ({C}, {A, B}). The algorithm evaluates the impurity of the resulting subsets for each possible binary split and chooses the one that maximizes information gain (or minimizes impurity).\n",
        "    *   **Multi-way Splits (less common)**: Some older decision tree algorithms (like ID3) can create multi-way splits, where a single node splits into multiple branches, one for each unique value of the categorical feature. However, this can lead to very bushy trees that are prone to overfitting, and binary splits are generally preferred in modern implementations (like CART and C4.5)."
      ]
    },
    {
      "cell_type": "markdown",
      "metadata": {
        "id": "78595b4a"
      },
      "source": [
        "Ques -15. What are some real-world applications of Decision Trees?\n",
        "\n",
        "--> Decision Trees are a versatile machine learning algorithm with applications in a wide range of real-world scenarios due to their interpretability, ability to handle different data types, and effectiveness in both classification and regression tasks. Here are some common applications:\n",
        "\n",
        "1.  **Medical Diagnosis**: Decision trees are used to build models that can help diagnose diseases based on patient symptoms, medical history, and test results. The tree structure can provide insights into which factors are most important for diagnosis.\n",
        "2.  **Credit Risk Assessment**: Banks and financial institutions use decision trees to assess the creditworthiness of loan applicants. Based on factors like income, credit history, and debt-to-income ratio, a decision tree can predict the likelihood of a loan default.\n",
        "3.  **Customer Relationship Management (CRM)**: Decision trees are used in CRM to analyze customer data and predict customer behavior, such as churn (likelihood of a customer leaving), purchase intent, and customer segmentation. This helps businesses tailor marketing strategies and improve customer retention.\n",
        "4.  **Fraud Detection**: Decision trees can be used to identify fraudulent transactions in various domains, including credit card fraud, insurance fraud, and online fraud. By analyzing transaction patterns and characteristics, the tree can flag suspicious activities.\n"
      ]
    },
    {
      "cell_type": "markdown",
      "source": [
        "#Practical"
      ],
      "metadata": {
        "id": "_yzGAI0_WAk6"
      }
    },
    {
      "cell_type": "code",
      "source": [
        "#Ques -1. Write a Python program to train a Decision Tree Classifier on the Iris dataset and print the model accuracy.\n",
        "# 🌸 Decision Tree Classifier on the Iris Dataset\n",
        "\n",
        "from sklearn.datasets import load_iris\n",
        "from sklearn.tree import DecisionTreeClassifier\n",
        "from sklearn.model_selection import train_test_split\n",
        "from sklearn.metrics import accuracy_score\n",
        "\n",
        "# Load the Iris dataset\n",
        "iris = load_iris()\n",
        "X = iris.data  # Features\n",
        "y = iris.target  # Labels\n",
        "\n",
        "#  Split the dataset into training and testing sets (80% train, 20% test)\n",
        "X_train, X_test, y_train, y_test = train_test_split(X, y, test_size=0.2, random_state=42)\n",
        "\n",
        "# Create and train the Decision Tree Classifier\n",
        "clf = DecisionTreeClassifier(random_state=42)\n",
        "clf.fit(X_train, y_train)\n",
        "\n",
        "# Make predictions on the test set\n",
        "y_pred = clf.predict(X_test)\n",
        "\n",
        "# Calculate and print the accuracy\n",
        "accuracy = accuracy_score(y_test, y_pred)\n",
        "print(f\"Decision Tree Classifier Accuracy: {accuracy:.2f}\")\n"
      ],
      "metadata": {
        "colab": {
          "base_uri": "https://localhost:8080/"
        },
        "id": "hVpj1Uw8WRYJ",
        "outputId": "1c49f5fa-f8f9-4526-f62d-8d45b71f4d1a"
      },
      "execution_count": 1,
      "outputs": [
        {
          "output_type": "stream",
          "name": "stdout",
          "text": [
            "Decision Tree Classifier Accuracy: 1.00\n"
          ]
        }
      ]
    },
    {
      "cell_type": "code",
      "source": [
        "#Ques -2. Write a Python program to train a Decision Tree Classifier using Gini Impurity as the criterion and print the feature importances\n",
        "# Decision Tree with Gini Impurity & Feature Importances\n",
        "\n",
        "from sklearn.datasets import load_iris\n",
        "from sklearn.tree import DecisionTreeClassifier\n",
        "from sklearn.model_selection import train_test_split\n",
        "\n",
        "# Load the Iris dataset\n",
        "iris = load_iris()\n",
        "X = iris.data\n",
        "y = iris.target\n",
        "feature_names = iris.feature_names\n",
        "\n",
        "# Split the dataset into training and testing sets\n",
        "X_train, X_test, y_train, y_test = train_test_split(X, y, test_size=0.2, random_state=42)\n",
        "\n",
        "# Train Decision Tree using Gini Impurity\n",
        "clf = DecisionTreeClassifier(criterion='gini', random_state=42)\n",
        "clf.fit(X_train, y_train)\n",
        "\n",
        "# Print feature importances\n",
        "importances = clf.feature_importances_\n",
        "print(\"Feature Importances (Gini-based):\")\n",
        "for name, importance in zip(feature_names, importances):\n",
        "    print(f\"{name}: {importance:.4f}\")\n"
      ],
      "metadata": {
        "colab": {
          "base_uri": "https://localhost:8080/"
        },
        "id": "jSaPtdrmXGxq",
        "outputId": "028fc406-f068-4d70-c5ea-99b659fe0ab2"
      },
      "execution_count": 2,
      "outputs": [
        {
          "output_type": "stream",
          "name": "stdout",
          "text": [
            "Feature Importances (Gini-based):\n",
            "sepal length (cm): 0.0000\n",
            "sepal width (cm): 0.0167\n",
            "petal length (cm): 0.9061\n",
            "petal width (cm): 0.0772\n"
          ]
        }
      ]
    },
    {
      "cell_type": "code",
      "source": [
        "#Ques -3. Write a Python program to train a Decision Tree Classifier using Entropy as the splitting criterion and print the model accuracy.\n",
        "# Decision Tree Classifier using Entropy on the Iris Dataset\n",
        "\n",
        "from sklearn.datasets import load_iris\n",
        "from sklearn.tree import DecisionTreeClassifier\n",
        "from sklearn.model_selection import train_test_split\n",
        "from sklearn.metrics import accuracy_score\n",
        "\n",
        "# Load the Iris dataset\n",
        "iris = load_iris()\n",
        "X = iris.data\n",
        "y = iris.target\n",
        "\n",
        "# Split the dataset into training and testing sets\n",
        "X_train, X_test, y_train, y_test = train_test_split(X, y, test_size=0.2, random_state=42)\n",
        "\n",
        "# Train Decision Tree using Entropy\n",
        "clf = DecisionTreeClassifier(criterion='entropy', random_state=42)\n",
        "clf.fit(X_train, y_train)\n",
        "\n",
        "# Predict on the test set\n",
        "y_pred = clf.predict(X_test)\n",
        "\n",
        "# Calculate and print the accuracy\n",
        "accuracy = accuracy_score(y_test, y_pred)\n",
        "print(f\"Decision Tree Classifier Accuracy (Entropy): {accuracy:.2f}\")\n"
      ],
      "metadata": {
        "colab": {
          "base_uri": "https://localhost:8080/"
        },
        "id": "y-DjriSIXs4q",
        "outputId": "7da4d37d-6c78-48fb-e0f5-14afa14ed14e"
      },
      "execution_count": 3,
      "outputs": [
        {
          "output_type": "stream",
          "name": "stdout",
          "text": [
            "Decision Tree Classifier Accuracy (Entropy): 1.00\n"
          ]
        }
      ]
    },
    {
      "cell_type": "code",
      "source": [
        "#Ques -4. Write a Python program to train a Decision Tree Regressor on a housing dataset and evaluate using Mean Squared Error (MSE).\n",
        "from sklearn.datasets import fetch_california_housing\n",
        "from sklearn.model_selection import train_test_split\n",
        "from sklearn.tree import DecisionTreeRegressor\n",
        "from sklearn.metrics import mean_squared_error\n",
        "# Load the data\n",
        "housing = fetch_california_housing()\n",
        "X = housing.data\n",
        "y = housing.target\n",
        "# Splits the datasets into training and testing the datasets\n",
        "X_train, X_test, y_train, y_test = train_test_split(X, y, test_size=0.2, random_state=42)\n",
        "# Train the decision tree regressor\n",
        "regressor = DecisionTreeRegressor(random_state=42)\n",
        "regressor.fit(X_train, y_train)\n",
        "# Make predictions on the test set\n",
        "y_pred = regressor.predict(X_test)\n",
        "# Evaluate using mean squared Error\n",
        "mse = mean_squared_error(y_test, y_pred)\n",
        "print(f\"Mean Squared Error (MSE): {mse:.2f}\")\n"
      ],
      "metadata": {
        "colab": {
          "base_uri": "https://localhost:8080/"
        },
        "id": "rFl1f60AYN-p",
        "outputId": "6956b102-b11d-4da3-a65e-6b56df3ecbf6"
      },
      "execution_count": 7,
      "outputs": [
        {
          "output_type": "stream",
          "name": "stdout",
          "text": [
            "Mean Squared Error (MSE): 0.50\n"
          ]
        }
      ]
    },
    {
      "cell_type": "code",
      "source": [
        "#Ques -5. Write a Python program to train a Decision Tree Classifier and visualize the tree using graphviz.\n",
        "from sklearn.datasets import load_iris\n",
        "from sklearn.tree import DecisionTreeClassifier, export_graphviz\n",
        "import pydotplus\n",
        "from IPython.display import Image\n",
        "from graphviz import Source\n",
        "from sklearn.model_selection import train_test_split\n",
        "import pandas as pd\n",
        "import numpy as np\n",
        "\n",
        "\n",
        "# Load the Iris dataset\n",
        "iris = load_iris()\n",
        "X = iris.data\n",
        "y = iris.target\n",
        "# Split the datasets\n",
        "X_train, X_test, y_train, y_test = train_test_split(X, y, test_size=0.2, random_state=42)\n",
        "# Train a Decision Tree Classifier\n",
        "clf = DecisionTreeClassifier(random_state=42)\n",
        "clf.fit(X, y)\n",
        "# Export tree to dot format\n",
        "dot_data = export_graphviz(clf, out_file=None,\n",
        "                           feature_names=iris.feature_names,\n",
        "                           class_names=iris.target_names,\n",
        "                           filled=True, rounded=True,\n",
        "                           special_characters=True)\n",
        "# Create a graph from a dot data\n",
        "graph = pydotplus.graph_from_dot_data(dot_data)\n",
        "# Display the tree as an image\n",
        "graph.write_png('iris_tree.png')\n",
        "Image(graph.create_png())\n",
        "print(\"Decision Tree saved as 'iris_tree.png'\")"
      ],
      "metadata": {
        "colab": {
          "base_uri": "https://localhost:8080/"
        },
        "id": "-UBS7JDpbhsa",
        "outputId": "00b6c7d5-fdbf-447e-a589-e3cb26a3e95c"
      },
      "execution_count": 8,
      "outputs": [
        {
          "output_type": "stream",
          "name": "stdout",
          "text": [
            "Decision Tree saved as 'iris_tree.png'\n"
          ]
        }
      ]
    },
    {
      "cell_type": "code",
      "source": [
        "# Ques -6. Write a Python program to train a Decision Tree Classifier with a maximum depth of 3 and compare its accuracy with a fully grown tree.\n",
        "from sklearn.datasets import load_iris\n",
        "from sklearn.tree import DecisionTreeClassifier\n",
        "from sklearn.model_selection import train_test_split\n",
        "from sklearn.metrics import accuracy_score\n",
        "# Load the iris dataset\n",
        "iris = load_iris()\n",
        "X = iris.data\n",
        "y = iris.target\n",
        "# Split the dataset into training and testing sets\n",
        "X_train, X_test, y_train, y_test = train_test_split(X, y, test_size=0.2, random_state=42)\n",
        "# train a decision tree classifier\n",
        "clf = DecisionTreeClassifier(max_depth=3, random_state=42)\n",
        "clf.fit(X_train, y_train)\n",
        "# Predict on the test set\n",
        "y_pred = clf.predict(X_test)\n",
        "# Calculate and print the accuracy\n",
        "accuracy = accuracy_score(y_test, y_pred)\n",
        "print(f\"Accuracy with a maximum depth of 3: {accuracy:.2f}\")\n",
        "# Compare accuracy with grown tree\n",
        "clf_full = DecisionTreeClassifier(random_state=42)\n",
        "clf_full.fit(X_train, y_train)\n",
        "y_pred_full = clf_full.predict(X_test)\n",
        "accuracy_full = accuracy_score(y_test, y_pred_full)\n",
        "print(f\"Accuracy with a fully grown tree: {accuracy_full:.2f}\")\n"
      ],
      "metadata": {
        "colab": {
          "base_uri": "https://localhost:8080/"
        },
        "id": "hm2vP392eTjB",
        "outputId": "c12cc381-9ad9-477c-b132-74d0333aff4c"
      },
      "execution_count": 10,
      "outputs": [
        {
          "output_type": "stream",
          "name": "stdout",
          "text": [
            "Accuracy with a maximum depth of 3: 1.00\n",
            "Accuracy with a fully grown tree: 1.00\n"
          ]
        }
      ]
    },
    {
      "cell_type": "code",
      "source": [
        "# Ques -7. Write a Python program to train a Decision Tree Classifier using min_samples_split=5 and compare its accuracy with a default tree.\n",
        "from sklearn.datasets import load_iris\n",
        "from sklearn.tree import DecisionTreeClassifier\n",
        "from sklearn.model_selection import train_test_split\n",
        "from sklearn.metrics import accuracy_score\n",
        "# Load the iris dataset\n",
        "iris = load_iris()\n",
        "X = iris.data\n",
        "y = iris.target\n",
        "# Split the dataset into training and testing sets\n",
        "X_train, X_test, y_train, y_test = train_test_split(X, y, test_size=0.2, random_state=42)\n",
        "# Train a decision tree classifier\n",
        "clf = DecisionTreeClassifier(min_samples_split=5, random_state=42)\n",
        "clf.fit(X_train, y_train)\n",
        "# Predict on the test set\n",
        "y_pred = clf.predict(X_test)\n",
        "# Calculate and print the accuracy\n",
        "accuracy = accuracy_score(y_test, y_pred)\n",
        "print(f\"Accuracy with min_samples_split=5: {accuracy:.2f}\")\n",
        "# Compare accuracy with default tree\n",
        "clf_default = DecisionTreeClassifier(random_state=42)\n",
        "clf_default.fit(X_train, y_train)\n",
        "y_pred_default = clf_default.predict(X_test)\n",
        "accuracy_default = accuracy_score(y_test, y_pred_default)\n",
        "print(f\"Accuracy with default tree: {accuracy_default:.2f}\")\n"
      ],
      "metadata": {
        "colab": {
          "base_uri": "https://localhost:8080/"
        },
        "id": "eqzWZN5LfrK0",
        "outputId": "254cf330-ea78-4975-e73e-c9200fa88b59"
      },
      "execution_count": 11,
      "outputs": [
        {
          "output_type": "stream",
          "name": "stdout",
          "text": [
            "Accuracy with min_samples_split=5: 1.00\n",
            "Accuracy with default tree: 1.00\n"
          ]
        }
      ]
    },
    {
      "cell_type": "code",
      "source": [
        "#Ques -8. Write a Python program to apply feature scaling before training a Decision Tree Classifier and compare its accuracy with unscaled data.\n",
        "from sklearn.datasets import load_iris\n",
        "from sklearn.tree import DecisionTreeClassifier\n",
        "from sklearn.model_selection import train_test_split\n",
        "from sklearn.metrics import accuracy_score\n",
        "from sklearn.preprocessing import StandardScaler\n",
        "#load iris data\n",
        "iris=load_iris()\n",
        "x=iris.data\n",
        "y=iris.target\n",
        "# Split into training and testing set\n",
        "X_train, X_test, y_train, y_test = train_test_split(x, y, test_size=0.2, random_state=42)\n",
        "# train on unscaled data\n",
        "clf_unscaled = DecisionTreeClassifier()\n",
        "clf_unscaled.fit(X_train, y_train)\n",
        "y_pred_unscaled = clf_unscaled.predict(X_test)\n",
        "accuracy_unscaled = accuracy_score(y_test, y_pred_unscaled)\n",
        "print(\"Accuracy with unscaled data:\", accuracy_unscaled)\n",
        "# Apply feature scaling\n",
        "scaler = StandardScaler()\n",
        "X_train_scaled = scaler.fit_transform(X_train)\n",
        "X_test_scaled = scaler.transform(X_test)\n",
        "# train on scaled data\n",
        "clf_scaled = DecisionTreeClassifier()\n",
        "clf_scaled.fit(X_train_scaled, y_train)\n",
        "y_pred_scaled = clf_scaled.predict(X_test_scaled)\n",
        "accuracy_scaled = accuracy_score\n",
        "print(\"Accuracy with scaled data:\", accuracy_scaled)\n"
      ],
      "metadata": {
        "colab": {
          "base_uri": "https://localhost:8080/"
        },
        "id": "uGxpFQ6DgqrV",
        "outputId": "29fe7387-2d59-4ed1-f568-ebf5177cc40d"
      },
      "execution_count": 13,
      "outputs": [
        {
          "output_type": "stream",
          "name": "stdout",
          "text": [
            "Accuracy with unscaled data: 1.0\n",
            "Accuracy with scaled data: <function accuracy_score at 0x7b6c587d0900>\n"
          ]
        }
      ]
    },
    {
      "cell_type": "code",
      "source": [
        "# Ques -9. Write a Python program to train a Decision Tree Classifier using One-vs-Rest (OvR) strategy for multiclass classification.\n",
        "from sklearn.datasets import load_iris\n",
        "from sklearn.tree import DecisionTreeClassifier\n",
        "from sklearn.multiclass import OneVsRestClassifier\n",
        "from sklearn.model_selection import train_test_split\n",
        "from sklearn.metrics import accuracy_score\n",
        "# Load the iris dataset\n",
        "iris = load_iris()\n",
        "X = iris.data\n",
        "y = iris.target\n",
        "# Split into traning and testing set\n",
        "X_train, X_test, y_train, y_test = train_test_split(X, y, test_size=0.2, random_state=42)\n",
        "# Create a Decision Tree Classifier\n",
        "clf = DecisionTreeClassifier(random_state=42)\n",
        "# Train the classifier using One-vs-Rest strategy\n",
        "ovr_clf = OneVsRestClassifier(clf)\n",
        "ovr_clf.fit(X_train, y_train)\n",
        "# Predict and evaluate\n",
        "y_pred = ovr_clf.predict(X_test)\n",
        "accuracy = accuracy_score(y_test, y_pred)\n",
        "print(f\"Accuracy with One-vs-Rest Strategy: {accuracy:.2f}\")\n"
      ],
      "metadata": {
        "colab": {
          "base_uri": "https://localhost:8080/"
        },
        "id": "EYZ2PXDbiNc_",
        "outputId": "8f6a6a16-374b-439d-dc03-058fce602736"
      },
      "execution_count": 1,
      "outputs": [
        {
          "output_type": "stream",
          "name": "stdout",
          "text": [
            "Accuracy with One-vs-Rest Strategy: 1.00\n"
          ]
        }
      ]
    },
    {
      "cell_type": "code",
      "source": [
        "# Ques -10. Write a Python program to train a Decision Tree Classifier and display the feature importance scores\n",
        "from sklearn.datasets import load_iris\n",
        "from sklearn.tree import DecisionTreeClassifier\n",
        "# Load the iris dataset\n",
        "iris = load_iris()\n",
        "X = iris.data\n",
        "y = iris.target\n",
        "# Split into training and testing set\n",
        "X_train, X_test, y_train, y_test = train_test_split(X, y, test_size=0.2, random_state=42)\n",
        "# Train the classifier\n",
        "clf = DecisionTreeClassifier(random_state=42)\n",
        "clf.fit(X_train, y_train)\n",
        "# Display feature importance scores\n",
        "feature_importances = clf.feature_importances_\n",
        "for feature_name, importance in zip(iris.feature_names, feature_importances):\n",
        "    print(f\"{feature_name}: {importance:.4f}\")\n"
      ],
      "metadata": {
        "colab": {
          "base_uri": "https://localhost:8080/"
        },
        "id": "r7qGW4J0qJcS",
        "outputId": "474ab6f8-18d6-491e-bea5-6c8fb9876bf4"
      },
      "execution_count": 5,
      "outputs": [
        {
          "output_type": "stream",
          "name": "stdout",
          "text": [
            "sepal length (cm): 0.0000\n",
            "sepal width (cm): 0.0167\n",
            "petal length (cm): 0.9061\n",
            "petal width (cm): 0.0772\n"
          ]
        }
      ]
    },
    {
      "cell_type": "code",
      "source": [
        "# Ques -11. Write a Python program to train a Decision Tree Regressor with max_depth=5 and compare its performance with an unrestricted tree.\n",
        "from sklearn.datasets import fetch_california_housing\n",
        "from sklearn.tree import DecisionTreeRegressor\n",
        "from sklearn.model_selection import train_test_split\n",
        "from sklearn.metrics import mean_squared_error\n",
        "\n",
        "# Load the California Housing dataset\n",
        "housing = fetch_california_housing()\n",
        "X = housing.data\n",
        "y = housing.target\n",
        "\n",
        "# Split into training and testing sets\n",
        "X_train, X_test, y_train, y_test = train_test_split(X, y, test_size=0.2, random_state=42)\n",
        "\n",
        "# Train a pruned Decision Tree Regressor (max_depth=5)\n",
        "regressor_pruned = DecisionTreeRegressor(max_depth=5, random_state=42)\n",
        "regressor_pruned.fit(X_train, y_train)\n",
        "y_pred_pruned = regressor_pruned.predict(X_test)\n",
        "mse_pruned = mean_squared_error(y_test, y_pred_pruned)\n",
        "\n",
        "# Train a fully grown Decision Tree Regressor (no depth limit)\n",
        "regressor_full = DecisionTreeRegressor(random_state=42)\n",
        "regressor_full.fit(X_train, y_train)\n",
        "y_pred_full = regressor_full.predict(X_test)\n",
        "mse_full = mean_squared_error(y_test, y_pred_full)\n",
        "\n",
        "# Compare results\n",
        "print(f\"Pruned Tree (max_depth=5) MSE: {mse_pruned:.4f}\")\n",
        "print(f\"Fully Grown Tree MSE:         {mse_full:.4f}\")\n"
      ],
      "metadata": {
        "colab": {
          "base_uri": "https://localhost:8080/"
        },
        "id": "nNsUrvRBrCbB",
        "outputId": "dfa6d9b3-a899-4ddc-830f-566abcea7909"
      },
      "execution_count": 7,
      "outputs": [
        {
          "output_type": "stream",
          "name": "stdout",
          "text": [
            "Pruned Tree (max_depth=5) MSE: 0.5245\n",
            "Fully Grown Tree MSE:         0.4952\n"
          ]
        }
      ]
    },
    {
      "cell_type": "code",
      "source": [
        "# Ques -12.  Write a Python program to train a Decision Tree Classifier, apply Cost Complexity Pruning (CCP), and visualize its effect on accuracy.\n",
        "from sklearn.datasets import load_iris\n",
        "from sklearn.tree import DecisionTreeClassifier\n",
        "from sklearn.model_selection import train_test_split\n",
        "from sklearn.metrics import accuracy_score\n",
        "from sklearn.tree import DecisionTreeClassifier, export_graphviz\n",
        "import pydotplus\n",
        "from IPython.display import Image\n",
        "from graphviz import Source\n",
        "from sklearn.tree import _tree\n",
        "import matplotlib.pyplot as plt\n",
        "\n",
        "# Load data\n",
        "iris = load_iris()\n",
        "X = iris.data\n",
        "y = iris.target\n",
        "# Split into traing and testing data\n",
        "X_train, X_test, y_train, y_test = train_test_split(X, y, test_size=0.2, random_state=42)\n",
        "# Train a Decision Tree Classifier\n",
        "clf = DecisionTreeClassifier(random_state=42)\n",
        "clf.fit(X_train, y_train)\n",
        "# Apply CCP\n",
        "path = clf.cost_complexity_pruning_path(X_train, y_train)\n",
        "ccp_alphas, impurities = path.ccp_alphas, path.impurities\n",
        "# Train Decision Tree using CCP\n",
        "clfs = []\n",
        "for ccp_alpha in ccp_alphas:\n",
        "    clf = DecisionTreeClassifier(random_state=42, ccp_alpha=ccp_alpha)\n",
        "    clf.fit(X_train, y_train)\n",
        "    clfs.append(clf)\n",
        "    print(f\"Accuracy for alpha {ccp_alpha}: {clf.score(X_test, y_test):.4f}\")\n",
        "# Evaluate accuracy for each pruned tree\n",
        "train_scores = [clf.score(X_train, y_train) for clf in clfs]\n",
        "test_scores = [clf.score(X_test, y_test) for clf in clfs]\n",
        "# Plot the effect of pruning on accuracy\n",
        "fig, ax = plt.subplots()\n",
        "ax.set_xlabel(\"Alpha\")\n",
        "ax.set_ylabel(\"Accuracy\")\n",
        "ax.set_title(\"Accuracy vs Alpha for Training and Testing Sets\")\n",
        "ax.plot(ccp_alphas, train_scores, marker='o', label=\"Train\", drawstyle=\"steps-post\")\n",
        "ax.plot(ccp_alphas, test_scores, marker='o', label=\"Test\", drawstyle=\"steps-post\")\n",
        "ax.legend()\n",
        "plt.show()"
      ],
      "metadata": {
        "colab": {
          "base_uri": "https://localhost:8080/",
          "height": 611
        },
        "id": "JroKLKQXsoIx",
        "outputId": "8e2b6633-2686-4379-8ecd-456bbf61381f"
      },
      "execution_count": 9,
      "outputs": [
        {
          "output_type": "stream",
          "name": "stdout",
          "text": [
            "Accuracy for alpha 0.0: 1.0000\n",
            "Accuracy for alpha 0.008095238095238095: 1.0000\n",
            "Accuracy for alpha 0.01111111111111111: 1.0000\n",
            "Accuracy for alpha 0.011111111111111113: 1.0000\n",
            "Accuracy for alpha 0.01621621621621623: 1.0000\n",
            "Accuracy for alpha 0.024119601328903645: 0.9667\n",
            "Accuracy for alpha 0.24326537293107053: 0.6333\n",
            "Accuracy for alpha 0.3334027777777779: 0.3000\n"
          ]
        },
        {
          "output_type": "display_data",
          "data": {
            "text/plain": [
              "<Figure size 640x480 with 1 Axes>"
            ],
            "image/png": "[encoded data removed]"
          },
          "metadata": {}
        }
      ]
    },
    {
      "cell_type": "code",
      "source": [
        "# Ques -13. Write a Python program to train a Decision Tree Classifier and evaluate its performance using Precision, Recall, and F1-Score.\n",
        "from sklearn.datasets import load_iris\n",
        "from sklearn.tree import DecisionTreeClassifier\n",
        "from sklearn.model_selection import train_test_split\n",
        "from sklearn.metrics import precision_score, recall_score, f1_score\n",
        "# load iris dataset\n",
        "iris = load_iris()\n",
        "X = iris.data\n",
        "y = iris.target\n",
        "\n",
        "#Split into training and testing data\n",
        "X_train, X_test, y_train, y_test = train_test_split(X, y, test_size=0.2, random_state=42)\n",
        "# Train decision tree classifier\n",
        "clf = DecisionTreeClassifier(random_state=42)\n",
        "clf.fit(X_train, y_train)\n",
        "# Predict on the test set\n",
        "y_pred = clf.predict(X_test)\n",
        "# Calculate precision, recall, and F1-score\n",
        "precision = precision_score(y_test, y_pred, average='weighted')\n",
        "recall = recall_score(y_test, y_pred, average='weighted')\n",
        "f1 = f1_score(y_test, y_pred, average='weighted')\n",
        "print(\"Precision:\", precision)\n",
        "print(\"Recall:\", recall)\n",
        "print(\"F1-Score:\", f1)\n"
      ],
      "metadata": {
        "colab": {
          "base_uri": "https://localhost:8080/"
        },
        "id": "5QjRT4OCu74I",
        "outputId": "30660804-bcd3-45af-a53b-ae65850169cb"
      },
      "execution_count": 11,
      "outputs": [
        {
          "output_type": "stream",
          "name": "stdout",
          "text": [
            "Precision: 1.0\n",
            "Recall: 1.0\n",
            "F1-Score: 1.0\n"
          ]
        }
      ]
    },
    {
      "cell_type": "code",
      "source": [
        "# Ques -14. Write a Python program to train a Decision Tree Classifier and visualize the confusion matrix using seaborn.\n",
        "from sklearn.datasets import load_iris\n",
        "from sklearn.tree import DecisionTreeClassifier\n",
        "from sklearn.model_selection import train_test_split\n",
        "from sklearn.metrics import confusion_matrix\n",
        "import seaborn as sns\n",
        "import matplotlib.pyplot as plt\n",
        "\n",
        "# Load the iris dataset\n",
        "iris = load_iris()\n",
        "X = iris.data\n",
        "y = iris.target\n",
        "\n",
        "# Split the dataset into training and testing sets\n",
        "X_train, X_test, y_train, y_test = train_test_split(X, y, test_size=0.2, random_state=42)\n",
        "\n",
        "# Train a Decision Tree Classifier\n",
        "clf = DecisionTreeClassifier(random_state=42)\n",
        "clf.fit(X_train, y_train)\n",
        "\n",
        "# Predict on the test set\n",
        "y_pred = clf.predict(X_test)\n",
        "\n",
        "# Calculate the confusion matrix\n",
        "cm = confusion_matrix(y_test, y_pred)\n",
        "\n",
        "# Visualize using seaborn\n",
        "sns.heatmap(cm, annot=True, fmt='d', cmap='Blues', xticklabels=iris.target_names, yticklabels=iris.target_names)\n",
        "plt.xlabel('Predicted Labels')\n",
        "plt.ylabel('True Labels')\n",
        "plt.title('Confusion Matrix')\n",
        "plt.show()\n"
      ],
      "metadata": {
        "colab": {
          "base_uri": "https://localhost:8080/",
          "height": 472
        },
        "id": "7QbxJCEtyQDi",
        "outputId": "9c0a3876-0696-496a-fab0-7509f56f588f"
      },
      "execution_count": 12,
      "outputs": [
        {
          "output_type": "display_data",
          "data": {
            "text/plain": [
              "<Figure size 640x480 with 2 Axes>"
            ],
            "image/png": "[encoded data removed]"
          },
          "metadata": {}
        }
      ]
    },
    {
      "cell_type": "code",
      "source": [
        "# Ques -15. Write a Python program to train a Decision Tree Classifier and use GridSearchCV to find the optimal values for max_depth and min_samples_split.\n",
        "from sklearn.datasets import load_iris\n",
        "from sklearn.tree import DecisionTreeClassifier\n",
        "from sklearn.model_selection import train_test_split, GridSearchCV\n",
        "from sklearn.metrics import accuracy_score\n",
        "# Load the iris dataset\n",
        "iris = load_iris()\n",
        "X = iris.data\n",
        "y = iris.target\n",
        "# Split into training and testing dataset\n",
        "X_train, X_test, y_train, y_test = train_test_split(X, y, test_size=0.2, random_state=42)\n",
        "#Define the parameter grid\n",
        "param_grid = {\n",
        "    'max_depth': [2, 3, 4, 5],\n",
        "    'min_samples_split': [2, 3, 4]\n",
        "}\n",
        "# Initialize the decision tree classifier\n",
        "clf = DecisionTreeClassifier(random_state=42)\n",
        "# Initialize GridSearchCV\n",
        "grid_search = GridSearchCV(clf, param_grid, cv=5)\n",
        "# Fit the grid search to the data\n",
        "grid_search = grid_search.fit(X_train, y_train)\n",
        "# Best parameter and model\n",
        "best_params = grid_search.best_params_\n",
        "best_model = grid_search.best_estimator_\n",
        "# Evaluate the best model\n",
        "y_pred = best_model.predict(X_test)\n",
        "accuracy = accuracy_score(y_test, y_pred)\n",
        "print(\"Best Parameters:\", best_params)\n",
        "print(\"Accuracy with Best Model:\", accuracy)\n"
      ],
      "metadata": {
        "colab": {
          "base_uri": "https://localhost:8080/"
        },
        "id": "WNF9Nro0zYmY",
        "outputId": "969c2fcb-9935-44a3-cf01-ef58f87e459c"
      },
      "execution_count": 13,
      "outputs": [
        {
          "output_type": "stream",
          "name": "stdout",
          "text": [
            "Best Parameters: {'max_depth': 4, 'min_samples_split': 2}\n",
            "Accuracy with Best Model: 1.0\n"
          ]
        }
      ]
    }
  ]
}