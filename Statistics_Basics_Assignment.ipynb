{
  "nbformat": 4,
  "nbformat_minor": 0,
  "metadata": {
    "colab": {
      "provenance": []
    },
    "kernelspec": {
      "name": "python3",
      "display_name": "Python 3"
    },
    "language_info": {
      "name": "python"
    }
  },
  "cells": [
    {
      "cell_type": "markdown",
      "source": [
        "#Statistics Basics"
      ],
      "metadata": {
        "id": "KtLJy2-FXjuB"
      }
    },
    {
      "cell_type": "markdown",
      "source": [
        "Ques -1. What is statistics, and why is it important?\n",
        "\n",
        "-->  Statistics is the branch of mathematics that deals with collecting, analyzing, interpreting, presenting, and organizing data. It helps us make sense of complex information by summarizing it into understandable patterns and trends.\n",
        "\n",
        "#Here's why it matters:\n",
        "\n",
        "**Informed Decision-Making:** Governments, businesses, and individuals use statistics to make evidence-based decisions (e.g., policy planning, marketing strategies, or personal finance).\n",
        "\n",
        "**Scientific Research:** It’s the backbone of research in medicine, psychology, economics, and more—helping validate findings and test hypotheses.\n",
        "\n",
        "**Understanding Trends:** From tracking climate change to analyzing social behavior, statistics helps us identify patterns and predict future outcomes.\n",
        "\n",
        "**Quality Control:** In manufacturing and services, statistics ensures products meet standards and helps reduce errors.\n",
        "\n",
        "**Risk Assessment:** Insurance companies, financial analysts, and engineers use statistical models to evaluate and manage risk."
      ],
      "metadata": {
        "id": "7KqSNi-VXxT7"
      }
    },
    {
      "cell_type": "markdown",
      "source": [
        "Ques -2. What are the two main types of statistics?\n",
        "\n",
        "-->\n",
        "#1. Descriptive Statistics\n",
        "Descriptive statistics are used to summarize and describe the main features of a dataset. They help simplify large amounts of data in a sensible way.\n",
        "\n",
        "#2. Inferential Statistics\n",
        "Inferential statistics allow you to make predictions or generalizations about a population based on a sample of data. It involves drawing conclusions and testing hypotheses."
      ],
      "metadata": {
        "id": "foXpOGwdYWsZ"
      }
    },
    {
      "cell_type": "markdown",
      "source": [
        "Ques -3. What are descriptive statistics?\n",
        "\n",
        "-->\n",
        "#Descriptive Statistics\n",
        "Descriptive statistics are used to summarize and describe the main features of a dataset. They help simplify large amounts of data in a sensible way."
      ],
      "metadata": {
        "id": "f0Nd1HEUYvOr"
      }
    },
    {
      "cell_type": "markdown",
      "source": [
        "Ques -4. What is inferential statistics?\n",
        "\n",
        "-->\n",
        "#Inferential Statistics\n",
        "Inferential statistics allow you to make predictions or generalizations about a population based on a sample of data. It involves drawing conclusions and testing hypotheses."
      ],
      "metadata": {
        "id": "cokoz_PDZNmY"
      }
    },
    {
      "cell_type": "markdown",
      "source": [
        "Ques -5. What is sampling in statistics?\n",
        "\n",
        "-->  \n",
        "Sampling is the process of selecting a subset (called a sample) from a larger group (called a population) to analyze and draw conclusions about the whole group.\n",
        "\n",
        "Since it's often impractical or impossible to collect data from an entire population (due to time, cost, or logistics), sampling allows researchers to work with manageable data while still making reliable inferences."
      ],
      "metadata": {
        "id": "MxKEcC_cZbas"
      }
    },
    {
      "cell_type": "markdown",
      "source": [
        "Ques -6. What are the different types of sampling methods?\n",
        "\n",
        "-->  \n",
        "#Types of Sampling Methods\n",
        "**Probability Sampling (each member has a known chance of being selected)\n",
        "Simple Random Sampling:**  Every member has an equal chance\n",
        "\n",
        "**Stratified Sampling:** Population divided into subgroups (strata), and samples are taken from each\n",
        "\n",
        "**Systematic Sampling:** Every _k_th member is selected from a list\n",
        "\n",
        "**Cluster Sampling:** Population divided into clusters, and entire clusters are randomly selected\n",
        "\n",
        "**Non-Probability Sampling (not every member has a known or equal chance)\n",
        "Convenience Sampling:** Choosing individuals who are easiest to reach\n",
        "\n",
        "**Judgmental/Purposive Sampling:** Based on the researcher's judgment\n",
        "\n",
        "**Snowball Sampling:** Existing participants recruit future subjects (often used in hidden populations)"
      ],
      "metadata": {
        "id": "bTwxUz9FZvNH"
      }
    },
    {
      "cell_type": "markdown",
      "source": [
        "Ques -7. What is the difference between random and non-random sampling?\n",
        "\n",
        "-->\n",
        "#Random Sampling:\n",
        "In random sampling, chance determines who gets selected. This helps eliminate selection bias and ensures that the sample reflects the diversity of the population.\n",
        "\n",
        "**Example:** Drawing 100 names from a hat containing all 1,000 students in a school.\n",
        "\n",
        "#Non-Random Sampling:\n",
        "In non-random sampling, selection is based on convenience, judgment, or other non-random criteria. It’s quicker and cheaper but may not be generalizable.\n",
        "\n",
        "**Example:** Surveying only students sitting in the front row of a classroom."
      ],
      "metadata": {
        "id": "dqCh7HqtafHI"
      }
    },
    {
      "cell_type": "markdown",
      "source": [
        "Ques -8. Define and give examples of qualitative and quantitative data.\n",
        "\n",
        "-->\n",
        "#Qualitative Data: Examples\n",
        "These describe qualities or categories:\n",
        "\n",
        "**Colors**: Red, blue, green\n",
        "\n",
        "**Gender**: Male, female, non-binary\n",
        "\n",
        "**Eye** **color**: Brown, hazel, blue\n",
        "\n",
        "**Customer** **feedback**: “Excellent service,” “Too slow,” “Very friendly”\n",
        "\n",
        "**Types of cuisine:** Italian, Chinese, Indian\n",
        "\n",
        "**Used in:** Market research, interviews, social sciences\n",
        "\n",
        "#Quantitative Data: Examples\n",
        "These involve numbers and can be measured:\n",
        "\n",
        "**Age**: 21 years, 45 years\n",
        "\n",
        "**Height:** 170 cm, 5'9\"\n",
        "\n",
        "**Income:** ₹50,000 per month\n",
        "\n",
        "**Test scores:** 85 out of 100\n",
        "\n",
        "**Number of siblings:** 2, 3, 4\n",
        "\n",
        "**Used in:** Scientific research, economics, engineering, statistics"
      ],
      "metadata": {
        "id": "PlJpivA0a-qP"
      }
    },
    {
      "cell_type": "markdown",
      "source": [
        "Ques -9. What are the different types of data in statistics?\n",
        "\n",
        "-->  \n",
        "#Types of Data in Statistics\n",
        "**1. Qualitative (Categorical) Data:**\n",
        "This type of data describes qualities or characteristics and is usually non-numeric.\n",
        "\n",
        "**Nominal Data:**\n",
        "Categories with no natural order\n",
        "\n",
        "**Examples:** Gender (male, female), Blood type (A, B, AB, O), Colors (red, blue, green)\n",
        "\n",
        "**Ordinal Data:**\n",
        "Categories with a meaningful order, but intervals between them are not equal\n",
        "\n",
        "**Examples:** Education level (high school, bachelor’s, master’s), Customer satisfaction (satisfied, neutral, dissatisfied)\n",
        "\n",
        "**2. Quantitative (Numerical) Data:**\n",
        "This type of data represents quantities and can be measured or counted.\n",
        "\n",
        "**Discrete Data:**\n",
        "Countable, finite values\n",
        "\n",
        "**Examples:** Number of children, Number of cars, Test scores (if whole numbers)\n",
        "\n",
        "**Continuous Data:**\n",
        "Can take any value within a range; measurable\n",
        "\n",
        "**Examples:** Height, Weight, Temperature, Time"
      ],
      "metadata": {
        "id": "2eDUGjfkb90b"
      }
    },
    {
      "cell_type": "markdown",
      "source": [
        "Ques -10. Explain nominal, ordinal, interval, and ratio levels of measurement.\n",
        "\n",
        "-->\n",
        "#1. Nominal Level\n",
        "**Definition:** Data is categorized without any order or ranking.\n",
        "\n",
        "**Key Feature:** Labels or names only.\n",
        "\n",
        "**Examples:**\n",
        "\n",
        "**Eye color:** Blue, Brown, Green\n",
        "\n",
        "**Marital status:** Single, Married, Divorced\n",
        "\n",
        "#2. Ordinal Level\n",
        "**Definition:** Data is categorized with a meaningful order, but the intervals between values are not consistent.\n",
        "\n",
        "**Key Feature:** Rank matters, but not the exact difference.\n",
        "\n",
        "**Examples:**\n",
        "\n",
        "**Survey responses:** Poor, Fair, Good, Excellent\n",
        "\n",
        "**Class rank:** 1st, 2nd, 3rd\n",
        "\n",
        "#3. Interval Level\n",
        "**Definition:** Numeric data with equal intervals between values, but no true zero point.\n",
        "\n",
        "**Key Feature:** You can add and subtract, but not multiply or divide meaningfully.\n",
        "\n",
        "**Examples:**\n",
        "\n",
        "Temperature in Celsius or Fahrenheit\n",
        "\n",
        "Calendar years (e.g., 1990, 2000)\n",
        "\n",
        "#4. Ratio Level\n",
        "**Definition:** Numeric data with equal intervals and a true zero point.\n",
        "\n",
        "**Key Feature:** All arithmetic operations are valid.\n",
        "\n",
        "**Examples:**\n",
        "\n",
        "Weight (0 kg means no weight)\n",
        "\n",
        "Age (0 years means no age)\n",
        "\n",
        "Income (₹0 means no income)\n"
      ],
      "metadata": {
        "id": "jTFyDtmxc2_T"
      }
    },
    {
      "cell_type": "markdown",
      "source": [
        "Ques -11. What is the measure of central tendency?\n",
        "\n",
        "--> A measure of central tendency is a single value that represents the center or typical value of a dataset. It gives you a sense of the \"average\" or most common value in a distribution."
      ],
      "metadata": {
        "id": "rD2vymcqeEpb"
      }
    },
    {
      "cell_type": "markdown",
      "source": [
        "Ques -12. Define mean, median, and mode.\n",
        "\n",
        "-->  \n",
        "# 1. Mean (Arithmetic Average)\n",
        "Definition: Sum of all values divided by the number of values.\n",
        "\n",
        "Formula:\n",
        "\n",
        "Mean\n",
        "=\n",
        "∑𝑥/𝑛\n",
        "\n",
        "where\n",
        "\n",
        "∑𝑥 is the sum of all data points and\n",
        "\n",
        "𝑛  is the number of data points.\n",
        "\n",
        "**Example:** For scores: 70, 80, 90 Mean = (70 + 80 + 90) / 3 = 80\n",
        "# 2. Median\n",
        "**Definition:** The middle value when data is arranged in order.\n",
        "\n",
        "**How to Find:**\n",
        "\n",
        "**If odd number of values:** middle one\n",
        "\n",
        "**If even number:** average of the two middle values\n",
        "\n",
        "**Example:** For scores: 60, 70, 80, 90, 100 Median = 80\n",
        "\n",
        "# 3. Mode\n",
        "**Definition:** The value that appears most frequently.\n",
        "\n",
        "**Example:** For scores: 70, 80, 80, 90 Mode = 80"
      ],
      "metadata": {
        "id": "LU3D45ZKeSV6"
      }
    },
    {
      "cell_type": "markdown",
      "source": [
        "Ques -13. What is the significance of the measure of central tendency?\n",
        "\n",
        "-->  The measure of central tendency is one of the most fundamental concepts in statistics. It helps us understand the overall pattern of a dataset by identifying a central or typical value."
      ],
      "metadata": {
        "id": "7aJWzawbfaZT"
      }
    },
    {
      "cell_type": "markdown",
      "source": [
        "Ques -14. What is variance, and how is it calculated?\n",
        "\n",
        "-->  Variance is a statistical measure that tells you how much the values in a dataset differ from the mean (average). In other words, it shows the spread or dispersion of the data.\n",
        "\n",
        "- A low variance means the data points are close to the mean.\n",
        "\n",
        "- A high variance\n",
        "\n",
        "There are two main formulas depending on whether you're working with a population or a sample.\n",
        "\n",
        "#Population Variance (σ²)\n",
        "𝜎\n",
        "2\n",
        "=\n",
        "∑\n",
        "(\n",
        "𝑥\n",
        "𝑖\n",
        "−\n",
        "𝜇\n",
        ")\n",
        "2/\n",
        "𝑁\n",
        "\n",
        "Where:\n",
        "\n",
        "𝑥\n",
        "𝑖\n",
        " = each data point\n",
        "\n",
        "𝜇\n",
        " = population mean\n",
        "\n",
        "𝑁\n",
        " = number of data points in the population\n",
        "\n",
        "#Sample Variance (s²)\n",
        "𝑠\n",
        "2\n",
        "=\n",
        "∑\n",
        "(\n",
        "𝑥\n",
        "𝑖\n",
        "−\n",
        "𝑥\n",
        "ˉ\n",
        ")\n",
        "2/\n",
        "𝑛\n",
        "−\n",
        "1\n",
        "\n",
        "Where:\n",
        "\n",
        "𝑥\n",
        "𝑖\n",
        " = each data point\n",
        "\n",
        "𝑥\n",
        "ˉ\n",
        " = sample mean\n",
        "\n",
        "𝑛\n",
        " = number of data points in the sample\n",
        "\n",
        "𝑛\n",
        "−\n",
        "1\n",
        " is used instead of\n",
        "𝑛\n",
        " to correct for bias (this is called Bessel’s correction)"
      ],
      "metadata": {
        "id": "P_viPZ_KfpmC"
      }
    },
    {
      "cell_type": "markdown",
      "source": [
        "Ques -15. What is standard deviation, and why is it important?\n",
        "\n",
        "-->  Standard deviation is a measure of how spread out the values in a dataset are around the mean (average). It tells you, on average, how far each data point is from the mean.\n",
        "\n",
        "- A small standard deviation means the data points are close to the mean (less variability).\n",
        "\n",
        "- A large standard deviation means the data points are more spread out (more variability).\n",
        "\n",
        "# 1. Measures Consistency\n",
        "Helps determine how consistent or variable your data is.\n",
        "\n",
        "Useful in quality control, sports performance, and scientific experiments.\n",
        "\n",
        "#2. Enables Comparison\n",
        "Allows you to compare variability between different datasets, even if their means are different.\n",
        "\n",
        "#3. Essential for Probability & Statistics\n",
        "Used in calculating z-scores, confidence intervals, and hypothesis testing.\n",
        "\n",
        "Central to the normal distribution (bell curve), where:\n",
        "\n",
        "~68% of data falls within 1 standard deviation\n",
        "\n",
        "~95% within 2\n",
        "\n",
        "~99.7% within 3\n",
        "\n",
        "#4. Risk Assessment\n",
        "In finance, a higher standard deviation of returns means higher investment risk."
      ],
      "metadata": {
        "id": "FV9r5VCQgm0m"
      }
    },
    {
      "cell_type": "markdown",
      "source": [
        "Ques -16. Define and explain the term range in statistics.\n",
        "\n",
        "-->  The range is one of the simplest measures of dispersion (spread) in a dataset. It tells you the difference between the highest and lowest values in the data.\n",
        "\n",
        "# Definition\n",
        "Range\n",
        "= Maximum Value − Minimum Value\n",
        "\n",
        "- It gives a quick sense of how spread out the data is.\n",
        "\n",
        "**Example**\n",
        "Suppose you have the following test scores: 72, 85, 90, 68, 95\n",
        "\n",
        "Maximum = 95\n",
        "\n",
        "Minimum = 68\n",
        "\n",
        "Range = 95 − 68 = 27"
      ],
      "metadata": {
        "id": "LhhcoPTyhW75"
      }
    },
    {
      "cell_type": "markdown",
      "source": [
        "Ques -17. What is the difference between variance and standard deviation?\n",
        "\n",
        "-->\n",
        "  - Variance gives you a mathematical measure of spread, but in squared units.\n",
        "\n",
        "- Standard deviation translates that spread back into the original units, making it easier to interpret.\n",
        "\n",
        "- Think of variance as the raw measure of spread, and standard deviation as the user-friendly version."
      ],
      "metadata": {
        "id": "I8tzZ2Cth5PY"
      }
    },
    {
      "cell_type": "markdown",
      "source": [
        "Ques -18. What is skewness in a dataset?\n",
        "\n",
        "--> Skewness is a statistical measure that describes the asymmetry of a dataset’s distribution around its mean. In simpler terms, it tells you whether the data leans more to the left or the right of the average."
      ],
      "metadata": {
        "id": "quYYaZtfiXIW"
      }
    },
    {
      "cell_type": "markdown",
      "source": [
        "Ques -19. What does it mean if a dataset is positively or negatively skewed?\n",
        "\n",
        "-->\n",
        "#Positively Skewed (Right-Skewed) Distribution\n",
        "**What It Means:**\n",
        "\n",
        "- The tail on the right side is longer.\n",
        "\n",
        "- Most data values are clustered on the left (lower values).\n",
        "\n",
        "- A few extremely high values pull the mean to the right.\n",
        "\n",
        "#Negatively Skewed (Left-Skewed) Distribution\n",
        "**What It Means:**\n",
        "\n",
        "- The tail on the left side is longer.\n",
        "\n",
        "- Most data values are clustered on the right (higher values).\n",
        "\n",
        "- A few extremely low values pull the mean to the left."
      ],
      "metadata": {
        "id": "etaEORatiiQs"
      }
    },
    {
      "cell_type": "markdown",
      "source": [
        "Ques -20. Define and explain kurtosis.\n",
        "\n",
        "-->  Kurtosis is a statistical measure that describes the \"tailedness\" or peakedness of a data distribution. In simpler terms, it tells you how much of the data is in the tails and how sharp or flat the peak of the distribution is compared to a normal distribution.\n",
        "\n",
        "#Formula for Sample Kurtosis\n",
        "Kurtosis\n",
        "=\n",
        "𝑛\n",
        "(\n",
        "𝑛\n",
        "+\n",
        "1\n",
        ")/\n",
        "(\n",
        "𝑛\n",
        "−\n",
        "1\n",
        ")\n",
        "(\n",
        "𝑛\n",
        "−\n",
        "2\n",
        ")\n",
        "(\n",
        "𝑛\n",
        "−\n",
        "3\n",
        ")\n",
        "∑\n",
        "(\n",
        "𝑥\n",
        "𝑖\n",
        "−\n",
        "𝑥\n",
        "ˉ/\n",
        "𝑠\n",
        ")\n",
        "4\n",
        "−\n",
        "3\n",
        "(\n",
        "𝑛\n",
        "−\n",
        "1\n",
        ")\n",
        "2/\n",
        "(\n",
        "𝑛\n",
        "−\n",
        "2\n",
        ")\n",
        "(\n",
        "𝑛\n",
        "−\n",
        "3\n",
        ")\n",
        "\n",
        "Where:\n",
        "\n",
        "𝑥\n",
        "𝑖\n",
        " = each data point\n",
        "\n",
        "𝑥\n",
        "ˉ\n",
        " = sample mean\n",
        "\n",
        "𝑠\n",
        " = sample standard deviation\n",
        "\n",
        "𝑛\n",
        " = number of data points"
      ],
      "metadata": {
        "id": "NoIQRURfjP-M"
      }
    },
    {
      "cell_type": "markdown",
      "source": [
        "Ques -21. What is the purpose of covariance?\n",
        "\n",
        "-->\n",
        "#1. Identifying Relationships Between Variables\n",
        "- Covariance tells you whether an increase in one variable tends to be associated with an increase or decrease in another.\n",
        "\n",
        "- It’s a foundational concept in understanding how variables interact.\n",
        "\n",
        "#2. Direction of Association\n",
        "- Positive Covariance: Both variables increase or decrease together.\n",
        "\n",
        "- Negative Covariance: One variable increases while the other decreases.\n",
        "\n",
        "- Zero Covariance: No consistent relationship between the variables.\n",
        "\n",
        "#3. Foundation for Correlation\n",
        "- Covariance is the building block of correlation.\n",
        "\n",
        "- While covariance shows direction, correlation standardizes it to a scale from –1 to +1, making it easier to interpret.\n",
        "\n",
        "#4. Used in Portfolio Theory (Finance)\n",
        "- Helps investors understand how different assets move in relation to each other.\n",
        "\n",
        "- Aids in diversification: combining assets with low or negative covariance can reduce overall risk."
      ],
      "metadata": {
        "id": "fgJ7mEyGkI0T"
      }
    },
    {
      "cell_type": "markdown",
      "source": [
        "Ques -22. What does correlation measure in statistics?\n",
        "\n",
        "-->  Correlation measures the strength and direction of a linear relationship between two variables. It tells you how closely two variables move together—whether increases in one are associated with increases or decreases in the other."
      ],
      "metadata": {
        "id": "jBttTTqrlJpo"
      }
    },
    {
      "cell_type": "markdown",
      "source": [
        "Ques -23. What is the difference between covariance and correlation?\n",
        "\n",
        "-->\n",
        "- Use covariance when you want to know the direction of a relationship and are working within a specific context (like finance).\n",
        "\n",
        "- Use correlation when you want a clear, standardized measure of both the direction and strength of the relationship."
      ],
      "metadata": {
        "id": "QxRzzt04lcZw"
      }
    },
    {
      "cell_type": "markdown",
      "source": [
        "Ques -24. What are some real-world applications of statistics?\n",
        "\n",
        "-->  \n",
        "#1. Healthcare and Medicine\n",
        "**Clinical trials:** Testing the effectiveness and safety of new drugs\n",
        "\n",
        "**Epidemiology:** Tracking disease outbreaks and predicting spread (e.g., COVID-19 modeling)\n",
        "\n",
        "**Medical imaging:** Enhancing accuracy in diagnostics using statistical algorithms\n",
        "\n",
        "**Public health:** Analyzing vaccination rates, mortality, and health trends\n",
        "\n",
        "#2. Business and Marketing\n",
        "**Market research:** Understanding customer preferences through surveys and focus groups\n",
        "\n",
        "**Sales forecasting:** Predicting future sales based on historical data\n",
        "\n",
        "**A/B testing:** Comparing two versions of a product or ad to see which performs better\n",
        "\n",
        "**Customer segmentation:** Grouping customers based on behavior or demographics"
      ],
      "metadata": {
        "id": "41kRy2xDlzcX"
      }
    },
    {
      "cell_type": "markdown",
      "source": [
        "#Practical"
      ],
      "metadata": {
        "id": "ynUmKBpmmgeL"
      }
    },
    {
      "cell_type": "code",
      "source": [
        "#Ques -1. How do you calculate the mean, median, and mode of a dataset?\n",
        "import statistics\n",
        "\n",
        "data = [5, 8, 10, 12, 15]\n",
        "\n",
        "mean = statistics.mean(data)\n",
        "median = statistics.median(data)\n",
        "mode = statistics.mode(data)\n",
        "\n",
        "print(\"Mean:\", mean)\n",
        "print(\"Median:\", median)\n",
        "print(\"Mode:\", mode)\n",
        "\n"
      ],
      "metadata": {
        "colab": {
          "base_uri": "https://localhost:8080/"
        },
        "id": "ry95ZZdWmkb1",
        "outputId": "91fd052b-90c3-413e-d6fb-33f9d9dae913"
      },
      "execution_count": 1,
      "outputs": [
        {
          "output_type": "stream",
          "name": "stdout",
          "text": [
            "Mean: 10\n",
            "Median: 10\n",
            "Mode: 5\n"
          ]
        }
      ]
    },
    {
      "cell_type": "code",
      "source": [
        "#Ques -2. Write a Python program to compute the variance and standard deviation of a dataset.\n",
        "import statistics\n",
        "\n",
        "data = [5, 8, 10, 12, 15]\n",
        "\n",
        "variance = statistics.variance(data)\n",
        "std_deviation = statistics.stdev(data)\n",
        "\n",
        "print(\"Variance:\", variance)\n",
        "print(\"Standard Deviation:\", std_deviation)"
      ],
      "metadata": {
        "colab": {
          "base_uri": "https://localhost:8080/"
        },
        "id": "EW-73o_3nQX_",
        "outputId": "c6f1ca4e-0c7c-4d41-a763-7a9d8f62ff95"
      },
      "execution_count": 2,
      "outputs": [
        {
          "output_type": "stream",
          "name": "stdout",
          "text": [
            "Variance: 14.5\n",
            "Standard Deviation: 3.8078865529319543\n"
          ]
        }
      ]
    },
    {
      "cell_type": "code",
      "source": [
        "#Ques -3. Create a dataset and classify it into nominal, ordinal, interval, and ratio types.\n",
        "import pandas as pd\n",
        "\n",
        "# Create the dataset\n",
        "data = {\n",
        "    'ID': [1, 2, 3, 4, 5],\n",
        "    'Gender': ['Male', 'Female', 'Male', 'Female', 'Other'],  # Nominal\n",
        "    'Education_Level': ['Bachelor', 'Master', 'High School', 'PhD', 'Bachelor'],  # Ordinal\n",
        "    'Temperature_C': [22, 18, 25, 20, 19],  # Interval\n",
        "    'Age_Years': [25, 30, 22, 28, 35],  # Ratio\n",
        "    'Satisfaction': ['Satisfied', 'Neutral', 'Very Satisfied', 'Dissatisfied', 'Satisfied']  # Ordinal\n",
        "}\n",
        "\n",
        "df = pd.DataFrame(data)\n",
        "\n",
        "# Display the dataset\n",
        "print(\"📊 Dataset:\\n\")\n",
        "print(df)\n",
        "\n",
        "# Classification of each column\n",
        "classification = {\n",
        "    'Gender': 'Nominal',\n",
        "    'Education_Level': 'Ordinal',\n",
        "    'Temperature_C': 'Interval',\n",
        "    'Age_Years': 'Ratio',\n",
        "    'Satisfaction': 'Ordinal'\n",
        "}\n",
        "\n",
        "print(\"\\n Classification of Variables:\\n\")\n",
        "for column, level in classification.items():\n",
        "    print(f\"{column}: {level} level of measurement\")\n",
        "\n"
      ],
      "metadata": {
        "colab": {
          "base_uri": "https://localhost:8080/"
        },
        "id": "0DYcEm_cneKr",
        "outputId": "cd08c834-66ba-430c-a283-1630dcc13a55"
      },
      "execution_count": 3,
      "outputs": [
        {
          "output_type": "stream",
          "name": "stdout",
          "text": [
            "📊 Dataset:\n",
            "\n",
            "   ID  Gender Education_Level  Temperature_C  Age_Years    Satisfaction\n",
            "0   1    Male        Bachelor             22         25       Satisfied\n",
            "1   2  Female          Master             18         30         Neutral\n",
            "2   3    Male     High School             25         22  Very Satisfied\n",
            "3   4  Female             PhD             20         28    Dissatisfied\n",
            "4   5   Other        Bachelor             19         35       Satisfied\n",
            "\n",
            " Classification of Variables:\n",
            "\n",
            "Gender: Nominal level of measurement\n",
            "Education_Level: Ordinal level of measurement\n",
            "Temperature_C: Interval level of measurement\n",
            "Age_Years: Ratio level of measurement\n",
            "Satisfaction: Ordinal level of measurement\n"
          ]
        }
      ]
    },
    {
      "cell_type": "code",
      "source": [
        "#Ques -4.  Implement sampling techniques like random sampling and stratified sampling.\n",
        "import pandas as pd\n",
        "from sklearn.model_selection import train_test_split\n",
        "# Sample dataset\n",
        "data = {\n",
        "    'ID': range(1, 21),\n",
        "    'Age': [22, 25, 30, 28, 35, 40, 23, 31, 29, 27, 24, 26, 32, 33, 36, 38, 21, 34, 37, 39],\n",
        "    'Gender': ['Male', 'Female'] * 10\n",
        "}\n",
        "df = pd.DataFrame(data)\n",
        "\n",
        "# Simple random sampling: select 5 random rows\n",
        "random_sample = df.sample(n=5, random_state=42)\n",
        "\n",
        "print(\"Simple Random Sample:\\n\")\n",
        "print(random_sample)\n",
        "# Stratified sampling based on 'Gender'\n",
        "stratified_sample, _ = train_test_split(df, test_size=0.75, stratify=df['Gender'], random_state=42)\n",
        "\n",
        "print(\"\\n Stratified Sample by Gender:\\n\")\n",
        "print(stratified_sample)\n"
      ],
      "metadata": {
        "colab": {
          "base_uri": "https://localhost:8080/"
        },
        "id": "ZjLz7YVAobf1",
        "outputId": "059fb54f-ca8a-41be-eac4-a3c664ef76dd"
      },
      "execution_count": 4,
      "outputs": [
        {
          "output_type": "stream",
          "name": "stdout",
          "text": [
            "Simple Random Sample:\n",
            "\n",
            "    ID  Age  Gender\n",
            "0    1   22    Male\n",
            "17  18   34  Female\n",
            "15  16   38  Female\n",
            "1    2   25  Female\n",
            "8    9   29    Male\n",
            "\n",
            " Stratified Sample by Gender:\n",
            "\n",
            "    ID  Age  Gender\n",
            "18  19   37    Male\n",
            "0    1   22    Male\n",
            "11  12   26  Female\n",
            "12  13   32    Male\n",
            "1    2   25  Female\n"
          ]
        }
      ]
    },
    {
      "cell_type": "code",
      "source": [
        "#Ques -5.  Write a Python function to calculate the range of a dataset.\n",
        "import numpy as np\n",
        "\n",
        "def calculate_range(data):\n",
        "    data_range = np.max(data) - np.min(data)\n",
        "    return data_range\n",
        "\n",
        "data = [5, 8, 10, 12, 15]\n",
        "data_range = calculate_range(data)\n",
        "print(\"Range:\", data_range)\n",
        "\n"
      ],
      "metadata": {
        "colab": {
          "base_uri": "https://localhost:8080/"
        },
        "id": "F8o5j9FGpIw0",
        "outputId": "1cc9173c-e2c9-4190-c92a-ee30ad147a92"
      },
      "execution_count": 6,
      "outputs": [
        {
          "output_type": "stream",
          "name": "stdout",
          "text": [
            "Range: 10\n"
          ]
        }
      ]
    },
    {
      "cell_type": "code",
      "source": [
        "#Ques -6.  Create a dataset and plot its histogram to visualize skewness.\n",
        "import pandas as pd\n",
        "import matplotlib.pyplot as plt\n",
        "\n",
        "# Create a dataset\n",
        "data = {\n",
        "    'ID': range(1, 21),\n",
        "    'Age': [22, 25, 28, 30, 32, 35, 38, 40, 42, 45, 48, 50, 52, 55, 58, 60, 62, 65, 68, 70]\n",
        "}\n",
        "\n",
        "# Create a DataFrame\n",
        "df = pd.DataFrame(data)\n",
        "# Plot the histogram to visualize skewness\n",
        "plt.figure(figsize=(8, 6))\n",
        "plt.hist(df['Age'], bins=10, edgecolor='black')\n",
        "plt.xlabel('Age')\n",
        "plt.ylabel('Frequency')\n",
        "plt.title('Histogram of Age')\n",
        "plt.show()"
      ],
      "metadata": {
        "colab": {
          "base_uri": "https://localhost:8080/",
          "height": 564
        },
        "id": "LGmEsxL_pUiF",
        "outputId": "46a1ca35-000f-43a2-bf85-581b259b0073"
      },
      "execution_count": 15,
      "outputs": [
        {
          "output_type": "display_data",
          "data": {
            "text/plain": [
              "<Figure size 800x600 with 1 Axes>"
            ],
            "image/png": "[encoded data removed]"
          },
          "metadata": {}
        }
      ]
    },
    {
      "cell_type": "code",
      "source": [
        "#Ques -7. Calculate skewness and kurtosis of a dataset using Python libraries.\n",
        "import pandas as pd\n",
        "import numpy as np\n",
        "import seaborn as sns\n",
        "from scipy.stats import skew, kurtosis\n",
        "data = {\n",
        "    'ID': range(1, 21),\n",
        "    'Age': [22, 25, 28, 30, 32,35, 38, 40, 42, 45, 48, 50, 52, 55, 58, 60, 62, 65, 68, 70]\n",
        "}\n",
        "df = pd.DataFrame(data)\n",
        "# Calculate skewness and kurtosis\n",
        "skewness = skew(df['Age'])\n",
        "kurtosis_value = kurtosis(df['Age'])\n",
        "print(\"Skewness:\", skewness)\n",
        "print(\"Kurtosis:\", kurtosis_value)\n",
        "\n"
      ],
      "metadata": {
        "colab": {
          "base_uri": "https://localhost:8080/"
        },
        "id": "4J-BFS_yqjV2",
        "outputId": "b59f4efc-3169-40ed-ecaa-f9a2c825ec3c"
      },
      "execution_count": 12,
      "outputs": [
        {
          "output_type": "stream",
          "name": "stdout",
          "text": [
            "Skewness: -0.0017042384969732278\n",
            "Kurtosis: -1.1910414983063018\n"
          ]
        }
      ]
    },
    {
      "cell_type": "code",
      "source": [
        "#Ques -8. Generate a dataset and demonstrate positive and negative skewness. in python\n",
        "import pandas as pd\n",
        "import numpy as np\n",
        "import seaborn as sns\n",
        "#Generate a dataset\n",
        "np.random.seed(0)\n",
        "data = {\n",
        "    'ID': range(1, 21),\n",
        "    'Age': np.random.normal(loc=50, scale=10, size=20)\n",
        "}\n",
        "df = pd.DataFrame(data)\n",
        "# demonstrate positive skewness.\n",
        "sns.histplot(df['Age'], kde=True)\n",
        "plt.title('Positive Skewed Distribution')\n",
        "plt.show()\n",
        "# demonstrate negative skewness.\n",
        "sns.histplot(df['Age'], kde=True)\n",
        "plt.title('Negative Skewed Distribution')\n",
        "plt.show()\n"
      ],
      "metadata": {
        "colab": {
          "base_uri": "https://localhost:8080/",
          "height": 927
        },
        "id": "r_E2dpTdrZAy",
        "outputId": "e22f9880-b1e1-4be3-f58b-9c57f6884873"
      },
      "execution_count": 14,
      "outputs": [
        {
          "output_type": "display_data",
          "data": {
            "text/plain": [
              "<Figure size 640x480 with 1 Axes>"
            ],
            "image/png": "[encoded data removed]"
          },
          "metadata": {}
        },
        {
          "output_type": "display_data",
          "data": {
            "text/plain": [
              "<Figure size 640x480 with 1 Axes>"
            ],
            "image/png": "[encoded data removed]"
          },
          "metadata": {}
        }
      ]
    },
    {
      "cell_type": "code",
      "source": [
        "#Ques -9. Write a Python script to calculate covariance between two datasets.\n",
        "import numpy as np\n",
        "\n",
        "# Sample datasets\n",
        "dataset1 = np.array([1, 2, 3, 4, 5])\n",
        "dataset2 = np.array([6, 7, 8, 9, 10])\n",
        "\n",
        "# Calculate the covariance matrix\n",
        "covariance_matrix = np.cov(dataset1, dataset2)\n",
        "\n",
        "# Extract the covariance value\n",
        "covariance = covariance_matrix[0, 1]\n",
        "print(\"Covariance:\", covariance)\n",
        "\n"
      ],
      "metadata": {
        "colab": {
          "base_uri": "https://localhost:8080/"
        },
        "id": "OC1z3kV9s_zv",
        "outputId": "30c1c2dd-a502-4462-b71c-d9abf7780a6d"
      },
      "execution_count": 17,
      "outputs": [
        {
          "output_type": "stream",
          "name": "stdout",
          "text": [
            "Covariance: 2.5\n"
          ]
        }
      ]
    },
    {
      "cell_type": "code",
      "source": [
        "# Ques -10.  Write a Python script to calculate the correlation coefficient between two datasets.\n",
        "import numpy as np\n",
        "\n",
        "# Sample datasets\n",
        "dataset1 = np.array([1, 2, 3, 4, 5])\n",
        "dataset2 = np.array([2, 4, 6, 8, 10])\n",
        "\n",
        "# Calculate the correlation coefficient\n",
        "correlation_coefficient = np.corrcoef(dataset1, dataset2)[0, 1]\n",
        "\n",
        "print(\"Correlation Coefficient:\", correlation_coefficient)\n"
      ],
      "metadata": {
        "colab": {
          "base_uri": "https://localhost:8080/"
        },
        "id": "GPHdEJjttfRb",
        "outputId": "e7aabecb-adf0-4734-c604-6214503097ce"
      },
      "execution_count": 18,
      "outputs": [
        {
          "output_type": "stream",
          "name": "stdout",
          "text": [
            "Correlation Coefficient: 0.9999999999999999\n"
          ]
        }
      ]
    },
    {
      "cell_type": "code",
      "source": [
        "# Ques -11. Create a scatter plot to visualize the relationship between two variables.\n",
        "import matplotlib.pyplot as plt\n",
        "import numpy as np\n",
        "\n",
        "x = np.array([1, 2, 3, 4, 5])\n",
        "y = np.array([2, 4, 5, 4, 5])\n",
        "\n",
        "plt.scatter(x, y)\n",
        "plt.show()"
      ],
      "metadata": {
        "colab": {
          "base_uri": "https://localhost:8080/",
          "height": 430
        },
        "id": "BUkm3uc_tusy",
        "outputId": "61ba7822-0130-4502-a9ce-f97c70c60890"
      },
      "execution_count": 19,
      "outputs": [
        {
          "output_type": "display_data",
          "data": {
            "text/plain": [
              "<Figure size 640x480 with 1 Axes>"
            ],
            "image/png": "[encoded data removed]"
          },
          "metadata": {}
        }
      ]
    },
    {
      "cell_type": "code",
      "source": [
        "# Ques -12.  Implement and compare simple random sampling and systematic sampling.\n",
        "import pandas as pd\n",
        "data = {\n",
        "    'ID': range(1, 21),\n",
        "    'Age': [22, 25,30, 28, 35, 40, 23, 31, 29, 27, 24, 26, 32, 33, 36, 38, 21, 34, 37, 39]\n",
        "}\n",
        "df = pd.DataFrame(data)\n",
        "print(\"Original DataFrame:\\n\")\n",
        "print(df)\n",
        "# Simple random sampling: select 5 random rows\n",
        "random_sample = df.sample(n=5, random_state=42)\n",
        "print(\"Simple Random Sample:\\n\")\n",
        "print(random_sample)\n",
        "#Systematic sampling : select every nth - element\n",
        "n = 5\n",
        "start_index = 0\n",
        "systematic_sample = df.iloc[start_index::n, :]\n",
        "print(\"Systematic Sample:\\n\")\n",
        "print(systematic_sample)\n"
      ],
      "metadata": {
        "colab": {
          "base_uri": "https://localhost:8080/"
        },
        "id": "aAs_-8Ikt6QI",
        "outputId": "0e0d6753-f4c5-470d-ed03-ee8fb65e1ec8"
      },
      "execution_count": 1,
      "outputs": [
        {
          "output_type": "stream",
          "name": "stdout",
          "text": [
            "Original DataFrame:\n",
            "\n",
            "    ID  Age\n",
            "0    1   22\n",
            "1    2   25\n",
            "2    3   30\n",
            "3    4   28\n",
            "4    5   35\n",
            "5    6   40\n",
            "6    7   23\n",
            "7    8   31\n",
            "8    9   29\n",
            "9   10   27\n",
            "10  11   24\n",
            "11  12   26\n",
            "12  13   32\n",
            "13  14   33\n",
            "14  15   36\n",
            "15  16   38\n",
            "16  17   21\n",
            "17  18   34\n",
            "18  19   37\n",
            "19  20   39\n",
            "Simple Random Sample:\n",
            "\n",
            "    ID  Age\n",
            "0    1   22\n",
            "17  18   34\n",
            "15  16   38\n",
            "1    2   25\n",
            "8    9   29\n",
            "Systematic Sample:\n",
            "\n",
            "    ID  Age\n",
            "0    1   22\n",
            "5    6   40\n",
            "10  11   24\n",
            "15  16   38\n"
          ]
        }
      ]
    },
    {
      "cell_type": "code",
      "source": [
        "#Ques-13. Calculate the mean, median, and mode of grouped data.\n",
        "import pandas as pd\n",
        "import numpy as np\n",
        "#create group data\n",
        "data = {\n",
        "    'ID': range(1, 21),\n",
        "    'Age': [22, 25, 28, 31, 32, 35, 38, 40, 42, 45, 48, 50, 52, 55, 58, 60, 62, 65, 68, 70]\n",
        "}\n",
        "df = pd.DataFrame(data)\n",
        "print(\"Original DataFrame:\\n\")\n",
        "print(df)\n",
        "# Calculation of mean\n",
        "mean_age = df['Age'].mean()\n",
        "print(\"Mean Age:\", mean_age)\n",
        "# Calculation of median\n",
        "median_age = df['Age'].median()\n",
        "print(\"Median Age:\", median_age)\n",
        "# Calculation of mode\n",
        "mode_age = df['Age'].mode()\n",
        "print(\"Mode Age:\", mode_age)"
      ],
      "metadata": {
        "colab": {
          "base_uri": "https://localhost:8080/"
        },
        "id": "EX0Mrdb1ivmB",
        "outputId": "ea596b24-7f74-42a7-e161-681a92ad4d2e"
      },
      "execution_count": 2,
      "outputs": [
        {
          "output_type": "stream",
          "name": "stdout",
          "text": [
            "Original DataFrame:\n",
            "\n",
            "    ID  Age\n",
            "0    1   22\n",
            "1    2   25\n",
            "2    3   28\n",
            "3    4   31\n",
            "4    5   32\n",
            "5    6   35\n",
            "6    7   38\n",
            "7    8   40\n",
            "8    9   42\n",
            "9   10   45\n",
            "10  11   48\n",
            "11  12   50\n",
            "12  13   52\n",
            "13  14   55\n",
            "14  15   58\n",
            "15  16   60\n",
            "16  17   62\n",
            "17  18   65\n",
            "18  19   68\n",
            "19  20   70\n",
            "Mean Age: 46.3\n",
            "Median Age: 46.5\n",
            "Mode Age: 0     22\n",
            "1     25\n",
            "2     28\n",
            "3     31\n",
            "4     32\n",
            "5     35\n",
            "6     38\n",
            "7     40\n",
            "8     42\n",
            "9     45\n",
            "10    48\n",
            "11    50\n",
            "12    52\n",
            "13    55\n",
            "14    58\n",
            "15    60\n",
            "16    62\n",
            "17    65\n",
            "18    68\n",
            "19    70\n",
            "Name: Age, dtype: int64\n"
          ]
        }
      ]
    },
    {
      "cell_type": "code",
      "source": [
        "# Ques -14. Simulate data using Python and calculate its central tendency and dispersion.\n",
        "import pandas as pd\n",
        "import numpy as np\n",
        "# Generate synthetic data\n",
        "np.random.seed(0)\n",
        "data = {\n",
        "    'ID': range(1, 21),\n",
        "    'Age': np.random.normal(loc=50, scale=10, size=20)\n",
        "}\n",
        "#simulate data\n",
        "df = pd.DataFrame(data)\n",
        "print(\"Original DataFrame:\\n\")\n",
        "print(df)\n",
        "# Calculate Central tendency\n",
        "mean_age = df['Age'].mean()\n",
        "median_age = df['Age'].median()\n",
        "mode_age = df['Age'].mode()\n",
        "print(\"Mean Age:\", mean_age)\n",
        "print(\"Median Age:\", median_age)\n",
        "print(\"Mode Age:\", mode_age)\n",
        "# Calculate Dispersion\n",
        "std_age = df['Age'].std()\n",
        "var_age = df['Age'].var()\n",
        "print(\"Standard Deviation Age:\", std_age)\n",
        "print(\"Variance Age:\", var_age)\n"
      ],
      "metadata": {
        "colab": {
          "base_uri": "https://localhost:8080/"
        },
        "id": "TiIyNF43jrmz",
        "outputId": "9397806b-1330-47e0-847b-f1573056aa3f"
      },
      "execution_count": 3,
      "outputs": [
        {
          "output_type": "stream",
          "name": "stdout",
          "text": [
            "Original DataFrame:\n",
            "\n",
            "    ID        Age\n",
            "0    1  67.640523\n",
            "1    2  54.001572\n",
            "2    3  59.787380\n",
            "3    4  72.408932\n",
            "4    5  68.675580\n",
            "5    6  40.227221\n",
            "6    7  59.500884\n",
            "7    8  48.486428\n",
            "8    9  48.967811\n",
            "9   10  54.105985\n",
            "10  11  51.440436\n",
            "11  12  64.542735\n",
            "12  13  57.610377\n",
            "13  14  51.216750\n",
            "14  15  54.438632\n",
            "15  16  53.336743\n",
            "16  17  64.940791\n",
            "17  18  47.948417\n",
            "18  19  53.130677\n",
            "19  20  41.459043\n",
            "Mean Age: 55.69334592945635\n",
            "Median Age: 54.05377855152798\n",
            "Mode Age: 0     40.227221\n",
            "1     41.459043\n",
            "2     47.948417\n",
            "3     48.486428\n",
            "4     48.967811\n",
            "5     51.216750\n",
            "6     51.440436\n",
            "7     53.130677\n",
            "8     53.336743\n",
            "9     54.001572\n",
            "10    54.105985\n",
            "11    54.438632\n",
            "12    57.610377\n",
            "13    59.500884\n",
            "14    59.787380\n",
            "15    64.542735\n",
            "16    64.940791\n",
            "17    67.640523\n",
            "18    68.675580\n",
            "19    72.408932\n",
            "Name: Age, dtype: float64\n",
            "Standard Deviation Age: 8.722691485249856\n",
            "Variance Age: 76.08534674685032\n"
          ]
        }
      ]
    },
    {
      "cell_type": "code",
      "source": [
        "# Ques -15. Use NumPy or pandas to summarize a dataset’s descriptive statistics.\n",
        "import pandas as pd\n",
        "import numpy as np\n",
        "# Generate synthetic data\n",
        "np.random.seed(0)\n",
        "data = {\n",
        "    'ID': range(1, 21),\n",
        "    'Age': np.random.normal(loc=50, scale=10, size=20)\n",
        "}\n",
        "df = pd.DataFrame(data)\n",
        "print(\"Original DataFrame:\\n\")\n",
        "print(df)\n",
        "# Summarize descriptive statistics\n",
        "summary = df.describe()\n",
        "print(summary)\n"
      ],
      "metadata": {
        "colab": {
          "base_uri": "https://localhost:8080/"
        },
        "id": "4pjmVtw3kcTz",
        "outputId": "8f14c575-135e-4187-c988-7e52c2a3b756"
      },
      "execution_count": 4,
      "outputs": [
        {
          "output_type": "stream",
          "name": "stdout",
          "text": [
            "Original DataFrame:\n",
            "\n",
            "    ID        Age\n",
            "0    1  67.640523\n",
            "1    2  54.001572\n",
            "2    3  59.787380\n",
            "3    4  72.408932\n",
            "4    5  68.675580\n",
            "5    6  40.227221\n",
            "6    7  59.500884\n",
            "7    8  48.486428\n",
            "8    9  48.967811\n",
            "9   10  54.105985\n",
            "10  11  51.440436\n",
            "11  12  64.542735\n",
            "12  13  57.610377\n",
            "13  14  51.216750\n",
            "14  15  54.438632\n",
            "15  16  53.336743\n",
            "16  17  64.940791\n",
            "17  18  47.948417\n",
            "18  19  53.130677\n",
            "19  20  41.459043\n",
            "             ID        Age\n",
            "count  20.00000  20.000000\n",
            "mean   10.50000  55.693346\n",
            "std     5.91608   8.722691\n",
            "min     1.00000  40.227221\n",
            "25%     5.75000  50.654515\n",
            "50%    10.50000  54.053779\n",
            "75%    15.25000  60.976219\n",
            "max    20.00000  72.408932\n"
          ]
        }
      ]
    },
    {
      "cell_type": "code",
      "source": [
        "#Ques -16. Plot a boxplot to understand the spread and identify outliers.\n",
        "import pandas as pd\n",
        "import matplotlib.pyplot as plt\n",
        "data = {\n",
        "    'ID': range(1, 21),\n",
        "    'Age': [22, 25, 28, 30, 32, 35, 38, 40, 42, 45, 48, 50, 52, 55, 58, 60, 62, 65, 68, 70]\n",
        "}\n",
        "df = pd.DataFrame(data)\n",
        "print(\"Original DataFrame:\\n\")\n",
        "print(df)\n",
        "plt.figure(figsize=(8, 6))\n",
        "plt.boxplot(df['Age'])\n",
        "plt.title('Boxplot of Age')\n",
        "plt.ylabel('Age')\n",
        "plt.show()\n"
      ],
      "metadata": {
        "colab": {
          "base_uri": "https://localhost:8080/",
          "height": 944
        },
        "id": "DpkmrImSlN7J",
        "outputId": "87714ada-762b-43f0-e405-caa815fe2339"
      },
      "execution_count": 5,
      "outputs": [
        {
          "output_type": "stream",
          "name": "stdout",
          "text": [
            "Original DataFrame:\n",
            "\n",
            "    ID  Age\n",
            "0    1   22\n",
            "1    2   25\n",
            "2    3   28\n",
            "3    4   30\n",
            "4    5   32\n",
            "5    6   35\n",
            "6    7   38\n",
            "7    8   40\n",
            "8    9   42\n",
            "9   10   45\n",
            "10  11   48\n",
            "11  12   50\n",
            "12  13   52\n",
            "13  14   55\n",
            "14  15   58\n",
            "15  16   60\n",
            "16  17   62\n",
            "17  18   65\n",
            "18  19   68\n",
            "19  20   70\n"
          ]
        },
        {
          "output_type": "display_data",
          "data": {
            "text/plain": [
              "<Figure size 800x600 with 1 Axes>"
            ],
            "image/png": "[encoded data removed]"
          },
          "metadata": {}
        }
      ]
    },
    {
      "cell_type": "code",
      "source": [
        "# Ques -17. Calculate the interquartile range (IQR) of a dataset.\n",
        "import pandas as pd\n",
        "import numpy as np\n",
        "# Generate synthetic data\n",
        "np.random.seed(0)\n",
        "data = {\n",
        "    'ID': range(1, 21),\n",
        "    'Age': np.random.normal(loc=50, scale=10, size=20)\n",
        "}\n",
        "df = pd.DataFrame(data)\n",
        "print(\"Original DataFrame:\\n\")\n",
        "print(df)\n",
        "# Calculate IQR\n",
        "Q1 = df['Age'].quantile(0.25)\n",
        "Q3 = df['Age'].quantile(0.75)\n",
        "IQR = Q3 - Q1\n",
        "print(\"Interquartile Range (IQR):\", IQR)\n"
      ],
      "metadata": {
        "colab": {
          "base_uri": "https://localhost:8080/"
        },
        "id": "SEHsMeAblmMx",
        "outputId": "3b458e50-6561-43e2-dac1-bf36986811d2"
      },
      "execution_count": 6,
      "outputs": [
        {
          "output_type": "stream",
          "name": "stdout",
          "text": [
            "Original DataFrame:\n",
            "\n",
            "    ID        Age\n",
            "0    1  67.640523\n",
            "1    2  54.001572\n",
            "2    3  59.787380\n",
            "3    4  72.408932\n",
            "4    5  68.675580\n",
            "5    6  40.227221\n",
            "6    7  59.500884\n",
            "7    8  48.486428\n",
            "8    9  48.967811\n",
            "9   10  54.105985\n",
            "10  11  51.440436\n",
            "11  12  64.542735\n",
            "12  13  57.610377\n",
            "13  14  51.216750\n",
            "14  15  54.438632\n",
            "15  16  53.336743\n",
            "16  17  64.940791\n",
            "17  18  47.948417\n",
            "18  19  53.130677\n",
            "19  20  41.459043\n",
            "Interquartile Range (IQR): 10.321703153988167\n"
          ]
        }
      ]
    },
    {
      "cell_type": "code",
      "source": [
        "# Ques -18.  Implement Z-score normalization and explain its significance.\n",
        "import pandas as pd\n",
        "import numpy as np\n",
        "# Generate synthetic\n",
        "data = {\n",
        "    'ID': range(1, 21),\n",
        "    'Age': np.random.normal(loc=50, scale=10, size=20)\n",
        "}\n",
        "df = pd.DataFrame(data)\n",
        "print(\"Original DataFrame:\\n\")\n",
        "print(df)\n",
        "# Z - score normalization\n",
        "mean_age = df['Age'].mean()\n",
        "std_age = df['Age'].std()\n",
        "df['Z_Score'] = (df['Age'] - mean_age) / std_age\n",
        "print(\"DataFrame with Z-Score:\\n\")\n",
        "print(df)\n",
        "# Explain its significant\n",
        "print(\"Significance of Z-Score Normalization:\")\n",
        "print(\"1. Standardization:\")\n",
        "print(\"2. Outlier Detection:\")\n",
        "print(\"3. Data Transformation:\")\n",
        "print(\"4. Model Performance:\")\n",
        "print(\"5. Data Visualization:\")\n",
        "print(\"6. Hypothesis Testing:\")\n",
        "print(\"7. Data Analysis:\")\n",
        "print(\"8. Machine Learning:\")\n",
        "print(\"9. Signal Processing:\")\n",
        "print(\"10. Finance:\")\n",
        "print(\"11. Economics:\")\n",
        "print(\"12. Biology:\")\n",
        "print(\"13. Chemistry:\")\n",
        "print(\"14. Physics:\")\n"
      ],
      "metadata": {
        "colab": {
          "base_uri": "https://localhost:8080/"
        },
        "id": "Kl7fNJdpmBSe",
        "outputId": "934adedf-50e6-4d99-e368-898aa8067a66"
      },
      "execution_count": 8,
      "outputs": [
        {
          "output_type": "stream",
          "name": "stdout",
          "text": [
            "Original DataFrame:\n",
            "\n",
            "    ID        Age\n",
            "0    1  39.514470\n",
            "1    2  35.799821\n",
            "2    3  32.937298\n",
            "3    4  69.507754\n",
            "4    5  44.903478\n",
            "5    6  45.619257\n",
            "6    7  37.472046\n",
            "7    8  57.774904\n",
            "8    9  33.861022\n",
            "9   10  47.872597\n",
            "10  11  41.045334\n",
            "11  12  53.869025\n",
            "12  13  44.891949\n",
            "13  14  38.193678\n",
            "14  15  49.718178\n",
            "15  16  54.283319\n",
            "16  17  50.665172\n",
            "17  18  53.024719\n",
            "18  19  43.656779\n",
            "19  20  46.372588\n",
            "DataFrame with Z-Score:\n",
            "\n",
            "    ID        Age   Z_Score\n",
            "0    1  39.514470 -0.725676\n",
            "1    2  35.799821 -1.138187\n",
            "2    3  32.937298 -1.456069\n",
            "3    4  69.507754  2.605068\n",
            "4    5  44.903478 -0.127229\n",
            "5    6  45.619257 -0.047742\n",
            "6    7  37.472046 -0.952486\n",
            "7    8  57.774904  1.302139\n",
            "8    9  33.861022 -1.353490\n",
            "9   10  47.872597  0.202491\n",
            "10  11  41.045334 -0.555674\n",
            "11  12  53.869025  0.868392\n",
            "12  13  44.891949 -0.128509\n",
            "13  14  38.193678 -0.872350\n",
            "14  15  49.718178  0.407442\n",
            "15  16  54.283319  0.914399\n",
            "16  17  50.665172  0.512605\n",
            "17  18  53.024719  0.774632\n",
            "18  19  43.656779 -0.265674\n",
            "19  20  46.372588  0.035916\n",
            "Significance of Z-Score Normalization:\n",
            "1. Standardization:\n",
            "2. Outlier Detection:\n",
            "3. Data Transformation:\n",
            "4. Model Performance:\n",
            "5. Data Visualization:\n",
            "6. Hypothesis Testing:\n",
            "7. Data Analysis:\n",
            "8. Machine Learning:\n",
            "9. Signal Processing:\n",
            "10. Finance:\n",
            "11. Economics:\n",
            "12. Biology:\n",
            "13. Chemistry:\n",
            "14. Physics:\n"
          ]
        }
      ]
    },
    {
      "cell_type": "code",
      "source": [
        "# Ques -19. Compare two datasets using their standard deviations.\n",
        "#create two datasets\n",
        "import numpy as np\n",
        "dataset1 = np.array([1, 2, 3, 4, 5])\n",
        "dataset2 = np.array([2, 4, 6, 8, 10])\n",
        "#Compare using of their standard deviations\n",
        "std_dev1 = np.std(dataset1)\n",
        "std_dev2 = np.std(dataset2)\n",
        "if std_dev1 > std_dev2:\n",
        "  print(\"Dataset 1 has a higher standard deviation.\")\n",
        "else:\n",
        "      print(\"Dataset 2 has a higher standard deviation.\")"
      ],
      "metadata": {
        "colab": {
          "base_uri": "https://localhost:8080/"
        },
        "id": "2nfAJHGQndHT",
        "outputId": "a7578f94-42c7-41f6-b7bd-607f4ed538c9"
      },
      "execution_count": 10,
      "outputs": [
        {
          "output_type": "stream",
          "name": "stdout",
          "text": [
            "Dataset 2 has a higher standard deviation.\n"
          ]
        }
      ]
    },
    {
      "cell_type": "code",
      "source": [
        "# Ques -20. Write a Python program to visualize covariance using a heatmap.\n",
        "import seaborn as sns\n",
        "import matplotlib.pyplot as plt\n",
        "import pandas as pd\n",
        "import numpy as np\n",
        "#create dataframe\n",
        "df = pd.DataFrame(np.random.rand(10, 5), columns=['A', 'B', 'C', 'D', 'E'])\n",
        "A = np.random.rand(10)\n",
        "B = np.random.rand(10)\n",
        "C = np.random.rand(10)\n",
        "D = np.random.rand(10)\n",
        "E = np.random.rand(10)\n",
        "df['A'] = A\n",
        "df['B'] = B\n",
        "df['C'] = C\n",
        "df['D'] = D\n",
        "df['E'] = E\n",
        "print(df)\n",
        "\n",
        "#calculate covariance matrix\n",
        "cov_matrix = df.cov()\n",
        "print(\"Covariance Matrix:\\n\")\n",
        "print(cov_matrix)\n",
        "#visualize covariance using a heatmap\n",
        "sns.heatmap(cov_matrix, annot=True )\n",
        "plt.show()\n"
      ],
      "metadata": {
        "colab": {
          "base_uri": "https://localhost:8080/",
          "height": 764
        },
        "id": "_Vud4kvtoS6R",
        "outputId": "6fac9ffd-35ca-4b41-c483-cccfd2419f73"
      },
      "execution_count": 18,
      "outputs": [
        {
          "output_type": "stream",
          "name": "stdout",
          "text": [
            "          A         B         C         D         E\n",
            "0  0.704414  0.730122  0.058029  0.536579  0.588317\n",
            "1  0.031839  0.311945  0.434417  0.896671  0.831048\n",
            "2  0.164694  0.398221  0.311796  0.990339  0.628982\n",
            "3  0.621478  0.209844  0.696343  0.216897  0.872651\n",
            "4  0.577229  0.186193  0.377752  0.663078  0.273542\n",
            "5  0.237893  0.944372  0.179604  0.263322  0.798047\n",
            "6  0.934214  0.739551  0.024679  0.020651  0.185636\n",
            "7  0.613966  0.490459  0.067250  0.758379  0.952792\n",
            "8  0.535633  0.227415  0.679393  0.320017  0.687488\n",
            "9  0.589910  0.254356  0.453697  0.383464  0.215508\n",
            "Covariance Matrix:\n",
            "\n",
            "          A         B         C         D         E\n",
            "A  0.074854  0.007217 -0.016633 -0.055338 -0.037276\n",
            "B  0.007217  0.071686 -0.051734 -0.025265  0.003550\n",
            "C -0.016633 -0.051734  0.060435 -0.004059  0.010908\n",
            "D -0.055338 -0.025265 -0.004059  0.100460  0.027423\n",
            "E -0.037276  0.003550  0.010908  0.027423  0.080670\n"
          ]
        },
        {
          "output_type": "display_data",
          "data": {
            "text/plain": [
              "<Figure size 640x480 with 2 Axes>"
            ],
            "image/png": "[encoded data removed]"
          },
          "metadata": {}
        }
      ]
    },
    {
      "cell_type": "code",
      "source": [
        "# Ques -21. Use seaborn to create a correlation matrix for a dataset.\n",
        "import pandas as pd\n",
        "import seaborn as sns\n",
        "import matplotlib.pyplot as plt\n",
        "\n",
        "# Sample dataset\n",
        "data = {\n",
        "    'Math_Score': [88, 92, 80, 89, 100, 67, 78, 85, 90, 95],\n",
        "    'Science_Score': [85, 90, 78, 88, 95, 65, 75, 82, 89, 93],\n",
        "    'English_Score': [78, 85, 82, 80, 88, 70, 72, 76, 84, 90],\n",
        "    'Hours_Studied': [10, 12, 8, 11, 14, 6, 7, 9, 11, 13]\n",
        "}\n",
        "\n",
        "# Create DataFrame\n",
        "df = pd.DataFrame(data)\n",
        "\n",
        "# Compute correlation matrix\n",
        "corr_matrix = df.corr()\n",
        "\n",
        "# Set up the matplotlib figure\n",
        "plt.figure(figsize=(8, 6))\n",
        "\n",
        "# Create heatmap\n",
        "sns.heatmap(corr_matrix, annot=True, cmap='coolwarm', fmt=\".2f\", linewidths=0.5)\n",
        "\n",
        "# Add title\n",
        "plt.title(\"Correlation Matrix of Student Performance\", fontsize=14)\n",
        "plt.tight_layout()\n",
        "plt.show()"
      ],
      "metadata": {
        "colab": {
          "base_uri": "https://localhost:8080/",
          "height": 675
        },
        "id": "wo1uv-gfrew4",
        "outputId": "92a388b9-cff2-4a28-b7b4-ebc5a9b83be5"
      },
      "execution_count": 19,
      "outputs": [
        {
          "output_type": "stream",
          "name": "stderr",
          "text": [
            "/tmp/ipython-input-19-354024054.py:28: UserWarning: Glyph 128279 (\\N{LINK SYMBOL}) missing from font(s) DejaVu Sans.\n",
            "  plt.tight_layout()\n",
            "/usr/local/lib/python3.11/dist-packages/IPython/core/pylabtools.py:151: UserWarning: Glyph 128279 (\\N{LINK SYMBOL}) missing from font(s) DejaVu Sans.\n",
            "  fig.canvas.print_figure(bytes_io, **kw)\n"
          ]
        },
        {
          "output_type": "display_data",
          "data": {
            "text/plain": [
              "<Figure size 800x600 with 2 Axes>"
            ],
            "image/png": "[encoded data removed]"
          },
          "metadata": {}
        }
      ]
    },
    {
      "cell_type": "code",
      "source": [
        "# Ques -22. Generate a dataset and implement both variance and standard deviation computations.\n",
        "import pandas as pd\n",
        "import numpy as np\n",
        "# Generate synthetic data\n",
        "np.random.seed(0)\n",
        "data = np.random.rand(100)\n",
        "\n",
        "# Calculate variance\n",
        "variance = np.var(data)\n",
        "\n",
        "# Calculate standard deviation\n",
        "std_dev = np.std(data)\n",
        "print(\"Variance:\", variance)\n",
        "print(\"Standard Deviation:\", std_dev)"
      ],
      "metadata": {
        "colab": {
          "base_uri": "https://localhost:8080/"
        },
        "id": "IPjJbpa6sN9F",
        "outputId": "fcd80986-2e29-4bf0-a031-323031805e7c"
      },
      "execution_count": 20,
      "outputs": [
        {
          "output_type": "stream",
          "name": "stdout",
          "text": [
            "Variance: 0.08311781545439237\n",
            "Standard Deviation: 0.2883016050152901\n"
          ]
        }
      ]
    },
    {
      "cell_type": "code",
      "source": [
        "# Ques -23.  Visualize skewness and kurtosis using Python libraries like matplotlib or seaborn.\n",
        "import pandas as pd\n",
        "import numpy as np\n",
        "import matplotlib.pyplot as plt\n",
        "import seaborn as sns\n",
        "from scipy.stats import skew, kurtosis\n",
        "# Generate synthetic data\n",
        "np.random.seed(42)\n",
        "data = {\n",
        "    \"Normal\": np.random.normal(0, 1, 1000),\n",
        "    \"Right_Skewed\": np.random.exponential(1, 1000),\n",
        "    \"Left_Skewed\": np.random.exponential(1, 1000),\n",
        "}\n",
        "df = pd.DataFrame(data)\n",
        "# Plot histograms with KDE and annotate skewness & kurtosis\n",
        "for column in df.columns:\n",
        "    plt.figure(figsize=(8, 4))\n",
        "    sns.histplot(df[column], kde=True, bins=30, color='skyblue')\n",
        "\n",
        "    # Calculate skewness and kurtosis\n",
        "    skew_val = skew(df[column])\n",
        "    kurt_val = kurtosis(df[column])\n",
        "\n",
        "    # Annotate the plot\n",
        "    plt.title(f\"{column} Distribution\\nSkewness: {skew_val:.2f} | Kurtosis: {kurt_val:.2f}\", fontsize=14)\n",
        "    plt.xlabel(column)\n",
        "    plt.ylabel(\"Frequency\")\n",
        "    plt.grid(True)\n",
        "    plt.tight_layout()\n",
        "    plt.show()\n"
      ],
      "metadata": {
        "colab": {
          "base_uri": "https://localhost:8080/",
          "height": 1000
        },
        "id": "tLjnHMjhsi-I",
        "outputId": "08221d03-354e-481f-c00c-32621a0778eb"
      },
      "execution_count": 22,
      "outputs": [
        {
          "output_type": "display_data",
          "data": {
            "text/plain": [
              "<Figure size 800x400 with 1 Axes>"
            ],
            "image/png": "[encoded data removed]"
          },
          "metadata": {}
        },
        {
          "output_type": "display_data",
          "data": {
            "text/plain": [
              "<Figure size 800x400 with 1 Axes>"
            ],
            "image/png": "[encoded data removed]"
          },
          "metadata": {}
        },
        {
          "output_type": "display_data",
          "data": {
            "text/plain": [
              "<Figure size 800x400 with 1 Axes>"
            ],
            "image/png": "[encoded data removed]"
          },
          "metadata": {}
        }
      ]
    },
    {
      "cell_type": "code",
      "source": [
        "#Ques -24.  Implement the Pearson and Spearman correlation coefficients for a dataset.\n",
        "import pandas as pd\n",
        "from scipy.stats import pearsonr, spearmanr\n",
        "# Create a sample dataset\n",
        "data = {\n",
        "    'Hours_Studied': [2, 3, 4, 5, 6, 7, 8, 9, 10, 11],\n",
        "    'Exam_Score':     [50, 55, 60, 65, 70, 75, 80, 85, 90, 95]\n",
        "}\n",
        "\n",
        "df = pd.DataFrame(data)\n",
        "# Extract variables\n",
        "x = df['Hours_Studied']\n",
        "y = df['Exam_Score']\n",
        "\n",
        "# Pearson correlation\n",
        "pearson_corr, pearson_p = pearsonr(x, y)\n",
        "\n",
        "# Spearman correlation\n",
        "spearman_corr, spearman_p = spearmanr(x, y)\n",
        "\n",
        "# Display results\n",
        "print(\"Pearson Correlation Coefficient:\")\n",
        "print(f\"r = {pearson_corr:.2f}, p-value = {pearson_p:.4f}\")\n",
        "\n",
        "print(\"\\n Spearman Correlation Coefficient:\")\n",
        "print(f\"ρ = {spearman_corr:.2f}, p-value = {spearman_p:.4f}\")\n"
      ],
      "metadata": {
        "colab": {
          "base_uri": "https://localhost:8080/"
        },
        "id": "jtR5VV7ZuiWV",
        "outputId": "e92c7931-584b-47a9-e98e-df5c7d3adfa4"
      },
      "execution_count": 23,
      "outputs": [
        {
          "output_type": "stream",
          "name": "stdout",
          "text": [
            "Pearson Correlation Coefficient:\n",
            "r = 1.00, p-value = 0.0000\n",
            "\n",
            " Spearman Correlation Coefficient:\n",
            "ρ = 1.00, p-value = 0.0000\n"
          ]
        }
      ]
    }
  ]
}