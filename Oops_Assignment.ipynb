{
  "nbformat": 4,
  "nbformat_minor": 0,
  "metadata": {
    "colab": {
      "provenance": []
    },
    "kernelspec": {
      "name": "python3",
      "display_name": "Python 3"
    },
    "language_info": {
      "name": "python"
    }
  },
  "cells": [
    {
      "cell_type": "markdown",
      "source": [
        "# **Python OOPs Questions**"
      ],
      "metadata": {
        "id": "rBJrqSOG2k2H"
      }
    },
    {
      "cell_type": "markdown",
      "source": [
        " Ques -1. What is Object-Oriented Programming (OOP)?\n",
        "\n",
        " --> Object-Oriented Programming (OOP) is a programming paradigm based on the concept of \"objects\", which can contain data (attributes or properties) and code (methods or functions). OOP allows developers to structure and organize their programs in a way that mirrors real-world entities and relationships."
      ],
      "metadata": {
        "id": "vSqZBhUWKs7n"
      }
    },
    {
      "cell_type": "markdown",
      "source": [
        "Ques-2.  What is a class in OOP?\n",
        "\n",
        " --> In Object-Oriented Programming (OOP), a class is essentially a blueprint or template used to create objects. It defines the properties (attributes) and behaviors (methods) that objects of that class will have. Think of a class as the design specification, and objects as the actual instances created based on that design."
      ],
      "metadata": {
        "id": "YAE5IKzAKtK8"
      }
    },
    {
      "cell_type": "markdown",
      "source": [
        "Ques -3. What is an object in OOP?\n",
        "\n",
        "--> An object is an instance of a class. While a class serves as a blueprint, an object is the actual entity created based on that blueprint, containing specific values for the attributes and access to the defined methods."
      ],
      "metadata": {
        "id": "carUzqfmKtcq"
      }
    },
    {
      "cell_type": "markdown",
      "source": [
        "Ques -4. What is the difference between abstraction and encapsulation?\n",
        "\n",
        "--> **1. Abstraction**\n",
        "Purpose: Focuses on hiding complexity by showing only the essential details of an object to the user. It’s like a simplified interface that emphasizes what an object does rather than how it does it.\n",
        "\n",
        "What It Does: Abstracts away unnecessary implementation details and presents only the relevant features.\n",
        "\n",
        "Example: Think of driving a car. You only need to know how to use the steering wheel, accelerator, and brakes (the essential functionality). You don't need to know the inner workings of the engine or the mechanics.\n",
        "\n",
        "**2. Encapsulation**\n",
        "Purpose: Focuses on data hiding by bundling data (attributes) and methods (functions) into a single unit (class) and restricting access to certain parts of the object.\n",
        "\n",
        "What It Does: Protects the object’s internal state and ensures controlled access through access modifiers (e.g., private, protected, public).\n",
        "\n",
        "Example: Imagine a car's engine. While you don’t directly interact with it, the engine is encapsulated within the car’s design, and access to it is controlled by opening the hood, which may require tools."
      ],
      "metadata": {
        "id": "V8Zp_RJAKtrQ"
      }
    },
    {
      "cell_type": "markdown",
      "source": [
        "Ques-5. What are dunder methods in Python?\n",
        "\n",
        "--> dunder methods (short for \"double underscore methods\") are special methods that start and end with double underscores (__). They are also known as magic methods because they enable objects to behave in specific ways and customize their behavior. Dunder methods are predefined in Python, but you can override them in your own classes to provide customized functionality."
      ],
      "metadata": {
        "id": "ChssxtsdKtuz"
      }
    },
    {
      "cell_type": "markdown",
      "source": [
        "Ques -6. Explain the concept of inheritance in OOP?\n",
        "\n",
        "--> Inheritance is a fundamental concept in Object-Oriented Programming (OOP) that allows a class (called the child class or subclass) to acquire the properties and behaviors of another class (called the parent class or superclass). It promotes code reuse, hierarchical organization, and simplifies the development process by enabling shared functionality across multiple classes.\n",
        "\n",
        "**Key Features of Inheritance:**\n",
        "\n",
        "Parent and Child Relationship: The child class inherits attributes and methods from the parent class, but can also define its own unique features."
      ],
      "metadata": {
        "id": "yhhaXbQMKtyI"
      }
    },
    {
      "cell_type": "markdown",
      "source": [
        "Ques -7. What is polymorphism in OOP?\n",
        "\n",
        "--> Polymorphism is a key concept in Object-Oriented Programming (OOP) that allows objects of different classes to be treated as objects of a common parent class. The term \"polymorphism\" comes from Greek, meaning \"many forms,\" and it reflects the ability of different types of objects to respond to the same method call in different ways."
      ],
      "metadata": {
        "id": "a5K-HMTdKt1c"
      }
    },
    {
      "cell_type": "markdown",
      "source": [
        "Ques -8. How is encapsulation achieved in Python?\n",
        "\n",
        "--> Encapsulation in Python is achieved by bundling the data (attributes) and methods (functions) within a class, and restricting access to certain components to protect the internal state of an object. Python uses access control mechanisms to achieve this, such as defining attributes as public, protected, or private."
      ],
      "metadata": {
        "id": "S5KMSIv4Kt4u"
      }
    },
    {
      "cell_type": "markdown",
      "source": [
        "Ques -9. What is a constructor in Python?\n",
        "\n",
        "--> A constructor is a special method that is automatically called when an object of a class is created. Its purpose is to initialize the object’s attributes and perform any setup required during the object's instantiation.\n",
        "The constructor is defined using the __init__ method. This method is a dunder (double underscore) method, and it is part of Python's object-oriented design."
      ],
      "metadata": {
        "id": "SbrecUFJKt8I"
      }
    },
    {
      "cell_type": "markdown",
      "source": [
        "Ques -10. What are class and static methods in Python?\n",
        "\n",
        "--> **1. Class Methods**\n",
        "What It Is: A method that operates on the class itself, rather than on instances of the class.\n",
        "\n",
        "Decorator: @classmethod\n",
        "\n",
        "**2. Static Methods**\n",
        "What It Is: A method that does not operate on an instance or the class itself—it behaves like a regular function but belongs to the class’s namespace.\n",
        "\n",
        "Decorator: @staticmethod"
      ],
      "metadata": {
        "id": "G5MsRtOgKt_g"
      }
    },
    {
      "cell_type": "markdown",
      "source": [
        "Ques -11. What is method overloading in Python?\n",
        "\n",
        "--> method overloading refers to the ability to define multiple methods with the same name but differing in the number or types of arguments. However, unlike some other programming languages (like Java or C++), Python does not directly support method overloading. If you define multiple methods with the same name in a class, only the latest definition will be used, as it overrides the previous ones.\n",
        "\n",
        "That said, Python achieves behavior similar to method overloading using default arguments or techniques like using *args and **kwargs to handle varying numbers of arguments."
      ],
      "metadata": {
        "id": "ikjOw6-sKuCp"
      }
    },
    {
      "cell_type": "markdown",
      "source": [
        "Ques -12. What is method overriding in OOP?\n",
        "\n",
        "--> Method overriding in Object-Oriented Programming (OOP) occurs when a child class provides a specific implementation of a method that is already defined in its parent class. The method in the child class overrides the behavior of the method in the parent class, allowing the child class to implement its own version of the method.\n",
        "\n",
        "This is particularly useful when the child class needs to modify or extend the behavior of the inherited method to suit its specific needs."
      ],
      "metadata": {
        "id": "DU1q__mUKuGC"
      }
    },
    {
      "cell_type": "markdown",
      "source": [
        "Ques -13. What is a property decorator in Python?\n",
        "\n",
        "--> The @property decorator is a built-in decorator that allows you to define a method as a property. It lets you access methods as if they were attributes, providing a clean, readable way to manage data while still maintaining encapsulation. Essentially, it allows you to \"get,\" \"set,\" and \"delete\" attribute values while hiding the method calls."
      ],
      "metadata": {
        "id": "2AVdCjJJbDsD"
      }
    },
    {
      "cell_type": "markdown",
      "source": [
        "Ques - 14. Why is polymorphism important in OOP?\n",
        "\n",
        "--> Polymorphism is incredibly important in Object-Oriented Programming (OOP) because it adds flexibility, extensibility, and reusability to your code."
      ],
      "metadata": {
        "id": "tVtv2vEHbXXO"
      }
    },
    {
      "cell_type": "markdown",
      "source": [
        "Ques -15. What is an abstract class in Python?\n",
        "\n",
        "--> An abstract class in Python is a class that cannot be instantiated directly and is meant to serve as a blueprint for other classes. It is typically used to define a common interface for a group of related classes, while leaving some methods to be implemented in the child (derived) classes. Abstract classes help enforce structure and provide a foundation for code organization in Object-Oriented Programming (OOP)."
      ],
      "metadata": {
        "id": "I_7tJssJbpDg"
      }
    },
    {
      "cell_type": "markdown",
      "source": [
        "Ques -16. What are the advantages of OOP?\n",
        "\n",
        "--> **1. Modularity Through Classes**\n",
        "\n",
        "- Code is organized into classes, which act as modular building blocks. This makes the program easier to understand, maintain, and extend.\n",
        "\n",
        "- Large projects can be divided into smaller, manageable pieces.\n",
        "\n",
        "**2. Code Reusability**\n",
        "- Inheritance allows child classes to reuse code from parent classes, reducing redundancy.\n",
        "\n",
        "- Common functionality can be implemented once in a parent class and inherited by multiple child classes.\n",
        "\n",
        "**3. Flexibility and Extensibility**\n",
        "\n",
        "- Polymorphism enables methods to behave differently based on the object they are called on, allowing flexible and dynamic code design.\n",
        "\n",
        "- New features can be added without breaking existing functionality.\n",
        "\n",
        "**4. Encapsulation for Data Protection**\n",
        "- Encapsulation hides the internal details of objects and provides controlled access through public methods. This improves security and helps prevent unintended interference with an object’s state."
      ],
      "metadata": {
        "id": "Tg-MCR9qcEPl"
      }
    },
    {
      "cell_type": "markdown",
      "source": [
        "Ques -17. What is the difference between a class variable and an instance variable?\n",
        "\n",
        "--> **1. Class Variables**\n",
        "\n",
        "Definition: A variable that is shared across all instances of a class. It belongs to the class itself rather than to any specific instance.\n",
        "\n",
        "Scope: The same value is accessible and shared by all instances of the class.\n",
        "\n",
        "Declaration: Defined directly within the class, but outside any methods.\n",
        "\n",
        "Modification: Can be accessed or modified using the class name or an instance, but changes made affect all instances.\n",
        "\n",
        "**2. Instance Variables**\n",
        "Definition: A variable that is specific to an instance of a class. Each object has its own copy of the variable.\n",
        "\n",
        "Scope: The value is unique to each instance and is stored separately for each object.\n",
        "\n",
        "Declaration: Defined inside the __init__ method (or other instance methods) and prefixed with self.\n",
        "\n",
        "Modification: Changes made to one instance's variable do not affect other instances.\n",
        "\n"
      ],
      "metadata": {
        "id": "ChbZEGHFcQMo"
      }
    },
    {
      "cell_type": "markdown",
      "source": [
        "Ques -18. What is multiple inheritance in Python?\n",
        "\n",
        "--> Multiple inheritance in Python is a feature that allows a class to inherit from more than one parent class. This means the child class can access and use the attributes and methods of all its parent classes. While powerful, multiple inheritance requires careful handling to avoid potential conflicts, especially if parent classes have methods or attributes with the same name."
      ],
      "metadata": {
        "id": "OYSfzDoxcjO8"
      }
    },
    {
      "cell_type": "markdown",
      "source": [
        "Ques -19. Explain the purpose of '__str__' and '__repr__' methods in Python.\n",
        "\n",
        "--> **1. __repr__:Developer-Friendly Representation**\n",
        "\n",
        "Purpose: To provide an \"official\" string representation of an object, primarily aimed at developers for debugging and logging.\n",
        "\n",
        "**2. __str__: User-Friendly Representation**\n",
        "\n",
        "Purpose: To provide a \"nice\" or readable string representation of an object, primarily aimed at end-users."
      ],
      "metadata": {
        "id": "Uvyz71aJcueh"
      }
    },
    {
      "cell_type": "markdown",
      "source": [
        "Ques -20. What is the significance of the ‘super()’ function in Python?\n",
        "\n",
        "--> The super() function in Python is a built-in function that allows you to call methods or access properties of a parent class from within a child class. It plays a crucial role in supporting inheritance and method resolution, making it easier to extend and reuse functionality from parent classes."
      ],
      "metadata": {
        "id": "rtekIa0uddMv"
      }
    },
    {
      "cell_type": "markdown",
      "source": [
        "Ques -21.  What is the significance of the __del__ method in Python?\n",
        "\n",
        "--> The __del__ method is a special (dunder) method known as the destructor. It is called automatically when an object is about to be destroyed, usually when it goes out of scope or is explicitly deleted using the del keyword. The primary purpose of __del__ is to allow cleanup activities, such as releasing resources or saving final data, before the object is removed from memory."
      ],
      "metadata": {
        "id": "fPJmW8ffdrvI"
      }
    },
    {
      "cell_type": "markdown",
      "source": [
        "Ques -22. What is the difference between @staticmethod and @classmethod in Python?\n",
        "\n",
        "--> **1. @staticmethod**\n",
        "\n",
        "A static method behaves like a regular function but belongs to the class's namespace. It does not depend on the class or any instance for its operation and is used for utility functions that logically belong to the class.\n",
        "\n",
        "class Utility:\n",
        "    @staticmethod\n",
        "    def add(a, b):\n",
        "        return a + b\n",
        "print(Utility.add(5, 10))  \n",
        "\n",
        "**2. @classmethod**\n",
        "\n",
        "A class method operates on the class itself, rather than an instance. It receives the class as its first parameter (cls) and is commonly used for alternative constructors or methods that need access to class variables.\n",
        "\n",
        "Example:\n",
        "\n",
        "class Person:\n",
        "    species = \"Homo sapiens\"  # Class variable\n",
        "\n",
        "    def __init__(self, name):\n",
        "        self.name = name\n",
        "\n",
        "    @classmethod\n",
        "    def from_string(cls, name):\n",
        "        return cls(name)\n",
        "p = Person.from_string(\"Alice\")\n",
        "print(p.name)        \n",
        "print(Person.species)\n",
        "\n"
      ],
      "metadata": {
        "id": "Lzx0BMjKd9cA"
      }
    },
    {
      "cell_type": "markdown",
      "source": [
        "Ques -23. How does polymorphism work in Python with inheritance?\n",
        "\n",
        "--> **How Polymorphism Works with Inheritance:**\n",
        "\n",
        "**Method Overriding:**\n",
        "\n",
        "Child classes inherit methods from parent classes but can override them to provide specific implementations.\n",
        "\n",
        "When the overridden method is called on an object, Python dynamically determines which version of the method to execute based on the object's class.\n",
        "\n",
        "**Dynamic Dispatch:**\n",
        "\n",
        "During runtime, the method call is resolved to the correct implementation based on the type of the object.\n",
        "\n",
        "This enables different behaviors for the same method name across different classes.\n",
        "\n",
        "Example of Polymorphism with Inheritance:\n",
        "\n",
        "class Animal:\n",
        "    def speak(self):\n",
        "        return \"Animal makes a sound.\"\n",
        "\n",
        "class Dog(Animal):\n",
        "    def speak(self):\n",
        "        return \"Woof!\"\n",
        "\n",
        "class Cat(Animal):\n",
        "    def speak(self):\n",
        "        return \"Meow!\"\n",
        "animals = [Dog(), Cat(), Animal()]  \n",
        "for animal in animals:\n",
        "    print(animal.speak())  "
      ],
      "metadata": {
        "id": "zbp69vaoeL8v"
      }
    },
    {
      "cell_type": "markdown",
      "source": [
        "Ques -24. What is method chaining in Python OOP?\n",
        "\n",
        "--> Method chaining in Python OOP refers to the practice of calling multiple methods on the same object in a single line of code. This is possible because each method in the chain returns the object (usually self) it was called on, allowing subsequent method calls to be linked together seamlessly.\n",
        "\n",
        "Method chaining is a popular design pattern because it leads to fluent and readable code, especially when an object's state is being modified or multiple operations are performed sequentially."
      ],
      "metadata": {
        "id": "KopSkPeueWer"
      }
    },
    {
      "cell_type": "markdown",
      "source": [
        "Ques -25. What is the purpose of the __call__ method in Python?\n",
        "\n",
        "--> **Purpose of __call__:**\n",
        "\n",
        "**Make an Object Callable:** It allows objects of a class to be called like functions, enabling more intuitive and flexible usage.\n",
        "\n",
        "**Encapsulate Functionality:** You can encapsulate logic or behavior inside an object and execute it by calling the object.\n",
        "\n",
        "**Useful in Decorators or Wrappers:** The __call__ method is often used to implement decorators or wrappers that modify or extend the behavior of other functions."
      ],
      "metadata": {
        "id": "MF7A5rH5efwi"
      }
    },
    {
      "cell_type": "markdown",
      "source": [
        "# **Practical Questions**"
      ],
      "metadata": {
        "id": "kwJxA3912yHi"
      }
    },
    {
      "cell_type": "code",
      "source": [
        "#Ques -1. Create a parent class Animal with a method speak() that prints a generic message. Create a child class Dog\n",
        "#that overrides the speak() method to print \"Bark!\".\n",
        "\n",
        "\n",
        "class Animal:\n",
        "    def speak(self):\n",
        "        print(\"This is a generic animal sound.\")\n",
        "class Dog(Animal):\n",
        "    def speak(self):\n",
        "        print(\"Bark!\")\n",
        "generic_animal = Animal()\n",
        "generic_animal.speak()\n",
        "\n",
        "dog = Dog()\n",
        "dog.speak()\n",
        "\n"
      ],
      "metadata": {
        "id": "ZjW-3mPu3C6x",
        "colab": {
          "base_uri": "https://localhost:8080/"
        },
        "outputId": "9ccf3814-9325-4e3f-bcaa-737ad7db50d2"
      },
      "execution_count": 2,
      "outputs": [
        {
          "output_type": "stream",
          "name": "stdout",
          "text": [
            "This is a generic animal sound.\n",
            "Bark!\n"
          ]
        }
      ]
    },
    {
      "cell_type": "code",
      "source": [
        "# Ques -2. Write a program to create an abstract class Shape with a method area(). Derive classes Circle and Rectangle\n",
        "#from it and implement the area() method in both.\n",
        "from abc import ABC, abstractmethod\n",
        "class Shape(ABC):\n",
        "    @abstractmethod\n",
        "    def area(self):\n",
        "        pass\n",
        "class Circle(Shape):\n",
        "    def __init__(self, radius):\n",
        "        self.radius = radius\n",
        "\n",
        "    def area(self):\n",
        "        return 3.14 * self.radius ** 2\n",
        "class Rectangle(Shape):\n",
        "    def __init__(self, width, height):\n",
        "        self.width = width\n",
        "        self.height = height\n",
        "\n",
        "    def area(self):\n",
        "        return self.width * self.height\n",
        "circle = Circle(5)\n",
        "rectangle = Rectangle(4, 6)\n",
        "\n",
        "print(f\"Area of the circle: {circle.area()}\")\n",
        "print(f\"Area of the rectangle: {rectangle.area()}\")\n",
        "\n"
      ],
      "metadata": {
        "colab": {
          "base_uri": "https://localhost:8080/"
        },
        "id": "90L9djYi4Ml2",
        "outputId": "08ba7a36-d4ef-4b81-9df2-63f8048e66d3"
      },
      "execution_count": 3,
      "outputs": [
        {
          "output_type": "stream",
          "name": "stdout",
          "text": [
            "Area of the circle: 78.5\n",
            "Area of the rectangle: 24\n"
          ]
        }
      ]
    },
    {
      "cell_type": "code",
      "source": [
        "#Ques -3.  Implement a multi-level inheritance scenario where a class Vehicle has an attribute type. Derive a class Car\n",
        "#and further derive a class ElectricCar that adds a battery attribute.\n",
        "\n",
        "class Vehicle:\n",
        "    def __init__(self, vehicle_type):\n",
        "        self.vehicle_type = vehicle_type\n",
        "\n",
        "    def display_type(self):\n",
        "        print(f\"Vehicle type: {self.vehicle_type}\")\n",
        "\n",
        "\n",
        "class Car(Vehicle):\n",
        "    def __init__(self, vehicle_type, brand):\n",
        "        super().__init__(vehicle_type)\n",
        "        self.brand = brand\n",
        "\n",
        "    def display_car_details(self):\n",
        "        print(f\"Car brand: {self.brand}\")\n",
        "class ElectricCar(Car):\n",
        "    def __init__(self, vehicle_type, brand, battery_capacity):\n",
        "        super().__init__(vehicle_type, brand)\n",
        "        self.battery_capacity = battery_capacity\n",
        "\n",
        "    def display_battery_details(self):\n",
        "        print(f\"Battery capacity: {self.battery_capacity} kWh\")\n",
        "electric_car = ElectricCar(\"Car\", \"Tesla\", 100)\n",
        "electric_car.display_type()\n",
        "electric_car.display_car_details()\n",
        "electric_car.display_battery_details()"
      ],
      "metadata": {
        "colab": {
          "base_uri": "https://localhost:8080/"
        },
        "id": "5Sfy2Wgi47CX",
        "outputId": "00bd60f9-d42a-4daa-afcd-5cd799df592c"
      },
      "execution_count": 4,
      "outputs": [
        {
          "output_type": "stream",
          "name": "stdout",
          "text": [
            "Vehicle type: Car\n",
            "Car brand: Tesla\n",
            "Battery capacity: 100 kWh\n"
          ]
        }
      ]
    },
    {
      "cell_type": "code",
      "source": [
        "#Ques -4. Demonstrate polymorphism by creating a base class Bird with a method fly(). Create two derived classes Sparrow and Penguin that override the fly() method.\n",
        "\n",
        "class Bird:\n",
        "    def fly(self):\n",
        "        print(\"Birds generally fly.\")\n",
        "class Sparrow(Bird):\n",
        "    def fly(self):\n",
        "        print(\"Sparrow flies high and fast!\")\n",
        "class Penguin(Bird):\n",
        "    def fly(self):\n",
        "        print(\"Penguins cannot fly, but they swim excellently!\")\n",
        "birds = [Sparrow(), Penguin(), Bird()]\n",
        "\n",
        "for bird in birds:\n",
        "    bird.fly()\n"
      ],
      "metadata": {
        "colab": {
          "base_uri": "https://localhost:8080/"
        },
        "id": "QzPWQeUp5bRS",
        "outputId": "8f0658b0-e66c-43ce-9a98-cd7cedfce33b"
      },
      "execution_count": 5,
      "outputs": [
        {
          "output_type": "stream",
          "name": "stdout",
          "text": [
            "Sparrow flies high and fast!\n",
            "Penguins cannot fly, but they swim excellently!\n",
            "Birds generally fly.\n"
          ]
        }
      ]
    },
    {
      "cell_type": "code",
      "source": [
        "#Ques -5. Write a program to demonstrate encapsulation by creating a class BankAccount with private attributes balance and methods to deposit, withdraw, and check balance.\n",
        "class BankAccount:\n",
        "    def __init__(self, account_holder):\n",
        "        self.__balance = 0\n",
        "        self.account_holder = account_holder\n",
        "\n",
        "    def deposit(self, amount):\n",
        "        if amount > 0:\n",
        "            self.__balance += amount\n",
        "            print(f\"Deposited: {amount}. Updated balance: {self.__balance}\")\n",
        "        else:\n",
        "            print(\"Deposit amount must be positive.\")\n",
        "\n",
        "    def withdraw(self, amount):\n",
        "        if amount > self.__balance:\n",
        "            print(\"Insufficient balance.\")\n",
        "        elif amount <= 0:\n",
        "            print(\"Withdraw amount must be positive.\")\n",
        "        else:\n",
        "            self.__balance -= amount\n",
        "            print(f\"Withdrew: {amount}. Updated balance: {self.__balance}\")\n",
        "\n",
        "\n",
        "    def check_balance(self):\n",
        "        print(f\"Current balance: {self.__balance}\")\n",
        "\n",
        "\n",
        "account = BankAccount(\"Alice\")\n",
        "\n",
        "\n",
        "account.deposit(1000)\n",
        "account.withdraw(500)\n",
        "account.check_balance()\n"
      ],
      "metadata": {
        "colab": {
          "base_uri": "https://localhost:8080/"
        },
        "id": "i0VIJvBS6Bzb",
        "outputId": "e71715d7-787b-464a-a06d-fb16862c563d"
      },
      "execution_count": 6,
      "outputs": [
        {
          "output_type": "stream",
          "name": "stdout",
          "text": [
            "Deposited: 1000. Updated balance: 1000\n",
            "Withdrew: 500. Updated balance: 500\n",
            "Current balance: 500\n"
          ]
        }
      ]
    },
    {
      "cell_type": "code",
      "source": [
        "#Ques -6. Demonstrate runtime polymorphism using a method play() in a base class Instrument. Derive classes Guitar and Piano that implement their own version of play().\n",
        "\n",
        "class Instrument:\n",
        "    def play(self):\n",
        "        print(\"Playing an instrument.\")\n",
        "\n",
        "class Guitar(Instrument):\n",
        "    def play(self):\n",
        "        print(\"Strumming the guitar!\")\n",
        "\n",
        "class Piano(Instrument):\n",
        "    def play(self):\n",
        "        print(\"Playing the piano keys!\")\n",
        "\n",
        "instruments = [Guitar(), Piano(), Instrument()]\n",
        "\n",
        "for instrument in instruments:\n",
        "    instrument.play()\n"
      ],
      "metadata": {
        "colab": {
          "base_uri": "https://localhost:8080/"
        },
        "id": "Cz2omzrp6tpn",
        "outputId": "a8b69d28-b2a1-466a-9b04-d6e74643797b"
      },
      "execution_count": 7,
      "outputs": [
        {
          "output_type": "stream",
          "name": "stdout",
          "text": [
            "Strumming the guitar!\n",
            "Playing the piano keys!\n",
            "Playing an instrument.\n"
          ]
        }
      ]
    },
    {
      "cell_type": "code",
      "source": [
        "#Ques -7. Create a class MathOperations with a class method add_numbers() to add two numbers and a static method subtract_numbers() to subtract two numbers.\n",
        "class MathOperations:\n",
        "\n",
        "    @classmethod\n",
        "    def add_numbers(cls, a, b):\n",
        "        return a + b\n",
        "\n",
        "    @staticmethod\n",
        "    def subtract_numbers(a, b):\n",
        "        return a - b\n",
        "\n",
        "sum_result = MathOperations.add_numbers(10, 5)\n",
        "print(f\"Sum: {sum_result}\")\n",
        "difference_result = MathOperations.subtract_numbers(10, 5)\n",
        "print(f\"Difference: {difference_result}\")\n"
      ],
      "metadata": {
        "colab": {
          "base_uri": "https://localhost:8080/"
        },
        "id": "2LFnneFl7NBE",
        "outputId": "3f97dcc6-cc3a-4246-ef19-2bd30ffa3e54"
      },
      "execution_count": 8,
      "outputs": [
        {
          "output_type": "stream",
          "name": "stdout",
          "text": [
            "Sum: 15\n",
            "Difference: 5\n"
          ]
        }
      ]
    },
    {
      "cell_type": "code",
      "source": [
        "#Ques -8.  Implement a class Person with a class method to count the total number of persons created.\n",
        "class Person:\n",
        "    total_persons = 0\n",
        "\n",
        "    def __init__(self, name):\n",
        "        self.name = name\n",
        "        Person.total_persons += 1\n",
        "\n",
        "    @classmethod\n",
        "    def get_total_persons(cls):\n",
        "        return cls.total_persons\n",
        ""
      ],
      "metadata": {
        "id": "da0JiPX-7pQm"
      },
      "execution_count": 9,
      "outputs": []
    },
    {
      "cell_type": "code",
      "source": [
        "# Ques -9. Write a class Fraction with attributes numerator and denominator. Override the str method to display the fraction as \"numerator/denominator\".\n",
        "class Fraction:\n",
        "    def __init__(self, numerator, denominator):\n",
        "        self.numerator = numerator\n",
        "        self.denominator = denominator\n",
        "\n",
        "    def __str__(self):\n",
        "        return f\"{self.numerator}/{self.denominator}\"\n",
        "\n",
        "fraction = Fraction(3, 4)\n",
        "print(fraction)\n"
      ],
      "metadata": {
        "colab": {
          "base_uri": "https://localhost:8080/"
        },
        "id": "DChkBLm872MK",
        "outputId": "96b504d9-d281-405d-a7cd-6b0e3640f1ee"
      },
      "execution_count": 10,
      "outputs": [
        {
          "output_type": "stream",
          "name": "stdout",
          "text": [
            "3/4\n"
          ]
        }
      ]
    },
    {
      "cell_type": "code",
      "source": [
        "#Ques -10. Demonstrate operator overloading by creating a class Vector and overriding the add method to add two vectors.\n",
        "class Vector:\n",
        "    def __init__(self, x, y):\n",
        "        self.x = x\n",
        "        self.y = y\n",
        "\n",
        "    def __add__(self, other):\n",
        "        return Vector(self.x + other.x, self.y + other.y)"
      ],
      "metadata": {
        "id": "KtHy2QjL8SQ1"
      },
      "execution_count": 12,
      "outputs": []
    },
    {
      "cell_type": "code",
      "source": [
        "# Ques -11. Create a class Person with attributes name and age. Add a method greet() that prints \"Hello, my name is {name} and I am {age} years old.\"\n",
        "class Person:\n",
        "    def __init__(self, name, age):\n",
        "        self.name = name\n",
        "        self.age = age\n",
        "\n",
        "    def greet(self):\n",
        "        print(f\"Hello, my name is {self.name} and I am {self.age} years old.\")\n",
        "\n",
        "\n",
        "person = Person(\"Alice\", 30)\n",
        "person.greet()\n"
      ],
      "metadata": {
        "colab": {
          "base_uri": "https://localhost:8080/"
        },
        "id": "XkwhzgXj8smb",
        "outputId": "70a2b1f7-17c5-4ed3-e440-439cfe87d559"
      },
      "execution_count": 13,
      "outputs": [
        {
          "output_type": "stream",
          "name": "stdout",
          "text": [
            "Hello, my name is Alice and I am 30 years old.\n"
          ]
        }
      ]
    },
    {
      "cell_type": "code",
      "source": [
        "# Ques -12.  Implement a class Student with attributes name and grades. Create a method average_grade() to compute the average of the grades.\n",
        "class Student:\n",
        "    def __init__(self, name, grades):\n",
        "        self.name = name\n",
        "        self.grades = grades\n",
        "\n",
        "    def average_grade(self):\n",
        "        if len(self.grades) == 0:\n",
        "            return 0\n",
        "        return sum(self.grades) / len(self.grades)\n",
        "\n",
        "\n",
        "student = Student(\"Alice\", [85, 90, 78, 92, 88])\n",
        "print(f\"{student.name}'s average grade: {student.average_grade():.2f}\")\n"
      ],
      "metadata": {
        "colab": {
          "base_uri": "https://localhost:8080/"
        },
        "id": "dP-oHzES9FJh",
        "outputId": "7a3a0c23-d859-4cf0-d61e-82c6b5498ed3"
      },
      "execution_count": 14,
      "outputs": [
        {
          "output_type": "stream",
          "name": "stdout",
          "text": [
            "Alice's average grade: 86.60\n"
          ]
        }
      ]
    },
    {
      "cell_type": "code",
      "source": [
        "#Ques -13. Create a class Rectangle with methods set_dimensions() to set the dimensions and area() to calculate the area.\n",
        "class Rectangle:\n",
        "    def __init__(self):\n",
        "        self.width = 0\n",
        "        self.height = 0\n",
        "\n",
        "    def set_dimensions(self, width, height):\n",
        "        self.width = width\n",
        "        self.height = height\n",
        "\n",
        "    def area(self):\n",
        "        return self.width * self.height\n",
        "\n",
        "\n",
        "rect = Rectangle()\n",
        "rect.set_dimensions(5, 10)\n",
        "print(f\"Area of the rectangle: {rect.area()}\")\n"
      ],
      "metadata": {
        "colab": {
          "base_uri": "https://localhost:8080/"
        },
        "id": "Ky6fDpVi9dTJ",
        "outputId": "3fd8136c-95e6-4fb3-cd52-8511a6321269"
      },
      "execution_count": 15,
      "outputs": [
        {
          "output_type": "stream",
          "name": "stdout",
          "text": [
            "Area of the rectangle: 50\n"
          ]
        }
      ]
    },
    {
      "cell_type": "code",
      "source": [
        "# Ques -14. Create a class Employee with a method calculate_salary() that computes the salary based on hours worked and hourly rate. Create a derived class Manager that adds a bonus to the salary.\n",
        "\n",
        "class Employee:\n",
        "    def __init__(self, name, hourly_rate):\n",
        "        self.name = name\n",
        "        self.hourly_rate = hourly_rate\n",
        "\n",
        "    def calculate_salary(self, hours_worked):\n",
        "        return self.hourly_rate * hours_worked\n",
        "class Manager(Employee):\n",
        "    def __init__(self, name, hourly_rate, bonus):\n",
        "        super().__init__(name, hourly_rate)\n",
        "        self.bonus = bonus\n",
        "\n",
        "    def calculate_salary(self, hours_worked):\n",
        "        base_salary = super().calculate_salary(hours_worked)\n",
        "        return base_salary + self.bonus\n",
        "\n",
        "\n",
        "employee = Employee(\"Alice\", 20)\n",
        "manager = Manager(\"Bob\", 30, 500)\n",
        "\n",
        "print(f\"{employee.name}'s salary: ${employee.calculate_salary(40):.2f}\")\n",
        "print(f\"{manager.name}'s salary: ${manager.calculate_salary(40):.2f}\")\n"
      ],
      "metadata": {
        "colab": {
          "base_uri": "https://localhost:8080/"
        },
        "id": "-UCRjidO9xNz",
        "outputId": "eab31201-b07e-42d3-be07-b25de5a6afce"
      },
      "execution_count": 16,
      "outputs": [
        {
          "output_type": "stream",
          "name": "stdout",
          "text": [
            "Alice's salary: $800.00\n",
            "Bob's salary: $1700.00\n"
          ]
        }
      ]
    },
    {
      "cell_type": "code",
      "source": [
        "# Ques -15. Create a class Product with attributes name, price, and quantity. Implement a method total_price() that calculates the total price of the product.\n",
        "class Product:\n",
        "    def __init__(self, name, price, quantity):\n",
        "        self.name = name\n",
        "        self.price = price\n",
        "        self.quantity = quantity\n",
        "    def total_price(self):\n",
        "        return self.price * self.quantity\n",
        "product = Product(\"Laptop\", 75000, 2)\n",
        "print(f\"Product: {product.name}\")\n",
        "print(f\"Total price: ₹{product.total_price()}\")\n"
      ],
      "metadata": {
        "colab": {
          "base_uri": "https://localhost:8080/"
        },
        "id": "nPIOmRZP-LCz",
        "outputId": "d0322c31-1121-4803-d1f4-243ba802c9a4"
      },
      "execution_count": 17,
      "outputs": [
        {
          "output_type": "stream",
          "name": "stdout",
          "text": [
            "Product: Laptop\n",
            "Total price: ₹150000\n"
          ]
        }
      ]
    },
    {
      "cell_type": "code",
      "source": [
        "# Ques -16. Create a class Animal with an abstract method sound(). Create two derived classes Cow and Sheep that implement the sound() method.\n",
        "from abc import ABC, abstractmethod\n",
        "class Animal(ABC):\n",
        "    @abstractmethod\n",
        "    def sound(self):\n",
        "        pass\n",
        "class Cow(Animal):\n",
        "    def sound(self):\n",
        "        return \"Moo\"\n",
        "\n",
        "class Sheep(Animal):\n",
        "    def sound(self):\n",
        "        return \"Baa\"\n",
        "animals = [Cow(), Sheep()]\n",
        "for animal in animals:\n",
        "    print(f\"The {animal.__class__.__name__} says: {animal.sound()}\")\n"
      ],
      "metadata": {
        "colab": {
          "base_uri": "https://localhost:8080/"
        },
        "id": "AjKST3XS-psf",
        "outputId": "22c37a80-ee78-43a3-c9d2-b65ba3e13904"
      },
      "execution_count": 18,
      "outputs": [
        {
          "output_type": "stream",
          "name": "stdout",
          "text": [
            "The Cow says: Moo\n",
            "The Sheep says: Baa\n"
          ]
        }
      ]
    },
    {
      "cell_type": "code",
      "source": [
        "# Ques -17. Create a class Book with attributes title, author, and year_published. Add a method get_book_info() that returns a formatted string with the book's details.\n",
        "class Book:\n",
        "    def __init__(self, title, author, year_published):\n",
        "        self.title = title\n",
        "        self.author = author\n",
        "        self.year_published = year_published\n",
        "\n",
        "    def get_book_info(self):\n",
        "        return f\"'{self.title}' by {self.author}, published in {self.year_published}.\"\n",
        "\n",
        "\n",
        "book = Book(\"To Kill a Mockingbird\", \"Harper Lee\", 1960)\n",
        "print(book.get_book_info())\n"
      ],
      "metadata": {
        "colab": {
          "base_uri": "https://localhost:8080/"
        },
        "id": "-pK3Rjyy_F09",
        "outputId": "be7a3955-41b0-4572-931c-9cb37f76fb92"
      },
      "execution_count": 25,
      "outputs": [
        {
          "output_type": "stream",
          "name": "stdout",
          "text": [
            "'To Kill a Mockingbird' by Harper Lee, published in 1960.\n"
          ]
        }
      ]
    },
    {
      "cell_type": "code",
      "source": [
        "#Ques-18. Create a class House with attributes address and price. Create a derived class Mansion that adds an attribute number_of_rooms.\n",
        "\n",
        "class House:\n",
        "    def __init__(self, address, price):\n",
        "        self.address = address\n",
        "        self.price = price\n",
        "\n",
        "    def get_info(self):\n",
        "        return f\"Address: {self.address}, Price: ₹{self.price}\"\n",
        "\n",
        "\n",
        "class Mansion(House):\n",
        "    def __init__(self, address, price, number_of_rooms):\n",
        "        super().__init__(address, price)\n",
        "        self.number_of_rooms = number_of_rooms\n",
        "\n",
        "    def get_info(self):\n",
        "        return f\"{super().get_info()}, Rooms: {self.number_of_rooms}\"\n",
        "\n",
        "\n",
        "house = House(\"123 Elm Street\", 5000000)\n",
        "mansion = Mansion(\"456 Oak Avenue\", 20000000, 10)\n",
        "\n",
        "print(house.get_info())\n",
        "print(mansion.get_info())\n"
      ],
      "metadata": {
        "colab": {
          "base_uri": "https://localhost:8080/"
        },
        "id": "Zw7IPGbEAGrd",
        "outputId": "4100199d-9e4c-4d6f-88b6-afa28f890cca"
      },
      "execution_count": 26,
      "outputs": [
        {
          "output_type": "stream",
          "name": "stdout",
          "text": [
            "Address: 123 Elm Street, Price: ₹5000000\n",
            "Address: 456 Oak Avenue, Price: ₹20000000, Rooms: 10\n"
          ]
        }
      ]
    }
  ]
}