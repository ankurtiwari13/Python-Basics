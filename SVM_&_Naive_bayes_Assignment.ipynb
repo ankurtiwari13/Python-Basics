{
  "nbformat": 4,
  "nbformat_minor": 0,
  "metadata": {
    "colab": {
      "provenance": []
    },
    "kernelspec": {
      "name": "python3",
      "display_name": "Python 3"
    },
    "language_info": {
      "name": "python"
    }
  },
  "cells": [
    {
      "cell_type": "markdown",
      "source": [
        "#Theoretical"
      ],
      "metadata": {
        "id": "ZT_Zwc4SgLUn"
      }
    },
    {
      "cell_type": "markdown",
      "source": [
        "Ques -1. What is a Support Vector Machine (SVM)?\n",
        "\n",
        "--> A Support Vector Machine (SVM) is a supervised machine learning algorithm that can be used for both classification and regression tasks. Its main goal is to find an optimal hyperplane that best separates the data points of different classes in a high-dimensional space."
      ],
      "metadata": {
        "id": "5ZSYeus7gTcb"
      }
    },
    {
      "cell_type": "markdown",
      "source": [
        "Ques -2. What is the difference between Hard Margin and Soft Margin SVM?\n",
        "\n",
        "-->  \n",
        "#Hard Margin SVM:\n",
        "- Aims to find a hyperplane that strictly separates the data points into their respective classes without any misclassifications.\n",
        "- Assumes that the data is perfectly linearly separable.\n",
        "- If the data is not linearly separable, a Hard Margin SVM will not find a solution.\n",
        "- Can be very sensitive to outliers, as even a single outlier can make the data not linearly separable.\n",
        "#Soft Margin SVM:\n",
        "- Introduces a penalty for misclassified data points, allowing for some errors.\n",
        "- Used when the data is not perfectly linearly separable or when dealing with noise or outliers.\n",
        "- Allows for a more flexible boundary by introducing \"slack variables\" that measure the degree of misclassification.\n",
        "- A regularization parameter (often denoted as C) controls the trade-off between maximizing the margin and minimizing the misclassification errors. A smaller C allows for more misclassifications but a larger margin, while a larger C penalizes misclassifications more heavily, resulting in a smaller margin."
      ],
      "metadata": {
        "id": "pchLHFTFgk9f"
      }
    },
    {
      "cell_type": "markdown",
      "source": [
        "Ques -3. What is the mathematical intuition behind SVM?\n",
        "\n",
        "-->  The mathematical intuition behind Support Vector Machines (SVMs) revolves around finding the optimal hyperplane that maximizes the margin between the different classes."
      ],
      "metadata": {
        "id": "su3MeyS1m908"
      }
    },
    {
      "cell_type": "markdown",
      "source": [
        "Ques - 4.  What is the role of Lagrange Multipliers in SVM?\n",
        "\n",
        "-->  Lagrange Multipliers allow SVMs to transform the original, difficult-to-solve constrained optimization problem into a dual problem that is easier to solve. The solutions to this dual problem reveal the support vectors, which are the crucial data points that define the optimal hyperplane. This approach is particularly powerful because it allows SVMs to handle high-dimensional data efficiently through the use of kernels, which implicitly work in higher dimensions without explicitly calculating the coordinates in those dimensions."
      ],
      "metadata": {
        "id": "EPf3SI8Ynt-z"
      }
    },
    {
      "cell_type": "markdown",
      "source": [
        "Ques -5.  What are Support Vectors in SVM?\n",
        "\n",
        "-->  Support Vectors are the data points that lie closest to the decision boundary (the hyperplane). They are the most critical points in determining the position and orientation of the hyperplane.\n",
        "e.g. If you're trying to draw a line to separate two groups of points, the line is most influenced by the points that are right on the edge of each group. These \"edge\" points are the support vectors."
      ],
      "metadata": {
        "id": "eQHWIAk2oTeS"
      }
    },
    {
      "cell_type": "markdown",
      "source": [
        "Ques -6.  What is a Support Vector Classifier (SVC)?\n",
        "\n",
        "-->  A Support Vector Classifier (SVC) is simply the application of the Support Vector Machine (SVM) algorithm specifically for classification tasks.\n",
        "\n",
        "While the general term \"Support Vector Machine\" can be used for both classification and regression, \"Support Vector Classifier\" explicitly refers to the use of SVM to categorize data points into discrete classes."
      ],
      "metadata": {
        "id": "wITKF3gYo2l6"
      }
    },
    {
      "cell_type": "markdown",
      "source": [
        "Ques -7. What is a Support Vector Regressor (SVR)?\n",
        "\n",
        "-->  A Support Vector Regressor (SVR) is the application of the Support Vector Machine (SVM) algorithm specifically for regression tasks.\n",
        "\n",
        "While SVC (Support Vector Classifier) is used for predicting discrete class labels, SVR is used for predicting continuous numerical values.\n",
        "\n",
        "The core idea in SVR is similar to SVC, but instead of finding a hyperplane that separates data points into distinct classes, SVR aims to find a function that best fits the training data while keeping the errors within a certain threshold."
      ],
      "metadata": {
        "id": "yNNF-euYrD98"
      }
    },
    {
      "cell_type": "markdown",
      "source": [
        "Ques -8. What is the Kernel Trick in SVM?\n",
        "\n",
        "-->  The Kernel Trick is a technique that allows SVMs to efficiently work with non-linearly separable data by implicitly mapping the data into a higher-dimensional space without explicitly calculating the coordinates of the data points in that higher dimension."
      ],
      "metadata": {
        "id": "STKpV7hftLOJ"
      }
    },
    {
      "cell_type": "markdown",
      "source": [
        "Ques -9. Compare Linear Kernel, Polynomial Kernel, and RBF Kernel.\n",
        "\n",
        "-->  \n",
        "#Linear Kernel:\n",
        "- The simplest option, suitable when your data is already linearly separable. It's fast and less prone to overfitting.\n",
        "- K(x_i, x_j) = x_i ⋅ x_j\n",
        "\n",
        "- No explicit mapping (works in the original feature space)\n",
        "\n",
        "#Polynomial Kernel:\n",
        " - Useful when there are polynomial relationships in your data and you need a non-linear boundary. Be mindful of the degree (d), as a high degree can lead to overfitting and increased computation.\n",
        " - K(x_i, x_j) = (x_i ⋅ x_j + c)^d\n",
        "\n",
        " - Maps to a higher-dimensional space using polynomial combinations\n",
        "\n",
        "#RBF Kernel:\n",
        "- A very flexible and powerful kernel that can handle complex non-linear relationships by mapping data to an infinite-dimensional space. It's often a good default choice, but requires tuning the gamma parameter to avoid overfitting.\n",
        "- K(x_i, x_j) = exp(-γ)\n",
        "- Maps to an infinite-dimensional space"
      ],
      "metadata": {
        "id": "2i0woV8_t4YU"
      }
    },
    {
      "cell_type": "markdown",
      "source": [
        "Ques -10. What is the effect of the C parameter in SVM?\n",
        "\n",
        "--> The C parameter in Support Vector Machines (SVMs) is a regularization parameter that plays a crucial role in Soft Margin SVM. It controls the trade-off between two competing goals:\n",
        "\n",
        "Maximizing the margin: Finding a wider separation between the classes.\n",
        "Minimizing the misclassification errors: Allowing fewer data points to be on the wrong side of the hyperplane or within the margin.\n",
        "\n",
        "#how the value of C affects the SVM model:\n",
        "\n",
        "**Small C:**\n",
        "\n",
        "**- Higher tolerance for misclassification:** A smaller C value means you are more tolerant of misclassified data points or points that fall within the margin.\n",
        "\n",
        "**- Larger margin:** The model will prioritize finding a larger margin, even if it means misclassifying some training examples.\n",
        "\n",
        "**- Smoother decision boundary:** A smaller C tends to result in a smoother and more generalized decision boundary.\n",
        "\n",
        "**- Risk of underfitting:** If C is too small, the model might underfit the training data, meaning it's too simple to capture the underlying patterns.\n",
        "\n",
        "**Large C:**\n",
        "\n",
        "**Lower tolerance for misclassification:** A larger C value means you penalize misclassifications more heavily.\n",
        "\n",
        "**Smaller margin:** The model will try to classify as many training examples correctly as possible, even if it results in a smaller margin.\n",
        "\n",
        "**More complex decision boundary:** A larger C tends to result in a more complex decision boundary that tries to fit the training data very closely.\n",
        "\n",
        "**Risk of overfitting:** If C is too large, the model might overfit the training data, meaning it learns the noise in the data rather than the true underlying patterns, and it may not generalize well to unseen data."
      ],
      "metadata": {
        "id": "KCl4zrVUvbfm"
      }
    },
    {
      "cell_type": "markdown",
      "source": [
        "Ques -11.  What is the role of the Gamma parameter in RBF Kernel SVM?\n",
        "\n",
        "--> The Gamma (γ) parameter in RBF Kernel SVM controls the influence of a single training example. It defines how far the influence of a single training example reaches, with low values meaning 'far' and high values meaning 'close'."
      ],
      "metadata": {
        "id": "ujU7KaKFydEv"
      }
    },
    {
      "cell_type": "markdown",
      "source": [
        "Ques -12. What is the Naïve Bayes classifier, and why is it called \"Naïve\"?\n",
        "\n",
        "--> The Naïve Bayes classifier calculates the probability of a given data point belonging to a particular class based on its features. It does this using Bayes' theorem, which describes the probability of an event based on prior knowledge of conditions that might be related to the event.\n",
        "\n",
        "The formula for Bayes' theorem is:\n",
        "\n",
        "P(A|B) = [P(B|A) * P(A)] / P(B)\n",
        "\n",
        "Where:\n",
        "\n",
        "- P(A|B) is the posterior probability of class A given predictor B.\n",
        "- P(B|A) is the likelihood of predictor B given class A.\n",
        "- P(A) is the prior probability of class A.\n",
        "- P(B) is the prior probability of predictor B.\n",
        "\n",
        "Naïve Bayes is a probabilistic classifier based on Bayes' theorem. It's called \"Naïve\" because it makes the simplifying assumption that all features are independent of each other given the class."
      ],
      "metadata": {
        "id": "mlXx1lsJ0FiC"
      }
    },
    {
      "cell_type": "markdown",
      "source": [
        "Ques -13. What is Bayes’ Theorem?\n",
        "\n",
        "-->  Bayes' Theorem is a fundamental concept in probability theory that describes how to update the probability of a hypothesis based on new evidence. It's a way to calculate conditional probability – the probability of an event happening, given that another event has already happened."
      ],
      "metadata": {
        "id": "VKZNku4i1QPD"
      }
    },
    {
      "cell_type": "markdown",
      "source": [
        "Ques -14. Explain the differences between Gaussian Naïve Bayes, Multinomial Naïve Bayes, and Bernoulli Naïve Bayes.\n",
        "\n",
        "-->  \n",
        "#Gaussian Naïve Bayes:\n",
        " Best for data where your features are continuous numbers and you believe they distribute like a bell curve within each category. It essentially fits a Gaussian curve to the data for each class and uses that to determine probabilities.\n",
        "#Multinomial Naïve Bayes:\n",
        " Ideal for data that represents counts or frequencies, like the number of times a word appears in a document. It calculates probabilities based on the proportion of times each feature occurs in each category.\n",
        "#Bernoulli Naïve Bayes:\n",
        " Suitable for data where your features are binary (either present or absent), like whether a specific word appears in a document or not. It calculates probabilities based on the presence or absence of features in each category."
      ],
      "metadata": {
        "id": "ztcJ7MTS1qrG"
      }
    },
    {
      "cell_type": "markdown",
      "source": [
        "Ques -15. When should you use Gaussian Naïve Bayes over other variants?\n",
        "\n",
        "-->  **Use Gaussian Naïve Bayes when:**\n",
        "\n",
        "- Your features are continuous numerical values.\n",
        "- You can reasonably assume that the continuous values for each class follow a Gaussian (normal) distribution.\n",
        "Gaussian Naïve Bayes is designed to handle this type of data by modeling the distribution of each feature within each class using the mean and variance of the training data for that feature and class. It then uses the Gaussian probability density function to calculate the likelihood of observing a particular feature value given the class."
      ],
      "metadata": {
        "id": "_MJ3tXgZ2FWs"
      }
    },
    {
      "cell_type": "markdown",
      "source": [
        "Ques -16. What are the key assumptions made by Naïve Bayes?\n",
        "\n",
        "-->  **Conditional Independence of Features:** Naïve Bayes assumes that all features are conditionally independent of each other given the class.\n",
        "\n",
        "In other words, the presence or absence of a particular feature does not affect the presence or absence of any other feature, as long as you know the class the data point belongs to.\n",
        "\n",
        "Mathematically, for features F1, F2, ..., Fn and a class C, this assumption is expressed as:\n",
        "\n",
        "P(F1, F2, ..., Fn | C) = P(F1 | C) * P(F2 | C) * ... * P(Fn | C)"
      ],
      "metadata": {
        "id": "gR3KZWj6Cw4O"
      }
    },
    {
      "cell_type": "markdown",
      "source": [
        "Ques -17. What are the advantages and disadvantages of Naïve Bayes?\n",
        "\n",
        "-->  \n",
        "#The advantages and disadvantages of Naïve Bayes:\n",
        "\n",
        "**Advantages:**\n",
        "\n",
        "**Simplicity and Ease of Implementation:** Naïve Bayes is conceptually simple and straightforward to implement. The underlying probability calculations are relatively easy to understand.\n",
        "\n",
        "**Computational Efficiency:** Due to the \"naïve\" independence assumption, the calculations are very fast. Training and prediction are quick, making it suitable for large datasets and real-time applications.\n",
        "\n",
        "**Requires Less Training Data:** Compared to some other algorithms (like SVMs or neural networks), Naïve Bayes can perform reasonably well with a relatively small amount of training data.\n",
        "\n",
        "**Handles High-Dimensional Data Well:** It performs effectively in high-dimensional feature spaces, such as text classification where the number of features (words) can be very large.\n",
        "\n",
        "**Good for Text Classification:** It's particularly popular and effective for text classification tasks (spam filtering, sentiment analysis) due to its ability to handle large vocabularies and its speed.\n",
        "\n",
        "**Not Sensitive to Irrelevant Features:** While not perfectly immune, the independence assumption makes it less sensitive to irrelevant features compared to some other algorithms.\n",
        "\n",
        "#Disadvantages:\n",
        "\n",
        "**The \"Naïve\" Independence Assumption:** This is the biggest drawback. The assumption that features are conditionally independent given the class is often violated in real-world data. This can lead to inaccurate probability estimates, although it doesn't always negatively impact the classification performance.\n",
        "\n",
        "**Zero Frequency Problem:** If a feature-value combination does not appear in the training data for a particular class, the probability for that combination will be zero. This can cause issues during prediction, as multiplying by zero will make the entire probability zero, regardless of other evidence. Smoothing techniques (like Laplace smoothing) are used to mitigate this.\n",
        "\n",
        "**Poor Estimator of Probabilities:** While it's a good classifier (often predicting the correct class), the actual probability values it outputs can be unreliable due to the independence assumption.\n",
        "\n",
        "**Limited Handling of Feature Interactions:** Because it assumes independence, Naïve Bayes cannot effectively capture complex interactions between features.\n",
        "\n",
        "**Sensitivity to Data Distribution:** The performance of Gaussian Naïve Bayes, in particular, can be affected if the continuous features do not follow a Gaussian distribution within each class."
      ],
      "metadata": {
        "id": "zXsYpU0ZDmm0"
      }
    },
    {
      "cell_type": "markdown",
      "source": [
        "Ques -18. Why is Naïve Bayes a good choice for text classification?\n",
        "\n",
        "-->  Naïve Bayes is often a good choice for text classification tasks (like spam filtering, sentiment analysis, or document categorization) for several key reasons:\n",
        "\n",
        "- **Simplicity and Speed:** Text datasets can be very large with a huge number of features (words). Naïve Bayes is computationally very efficient due to its \"naïve\" independence assumption. This makes it fast to train and predict even on large text corpora.\n",
        "- **Handles High-Dimensional Data Well:** In text classification, each unique word can be considered a feature. This can lead to a very high-dimensional feature space. Naïve Bayes performs effectively in such spaces because the independence assumption simplifies the probability calculations, avoiding complex joint probability estimations.\n",
        "- **Requires Less Training Data (relatively):** Compared to more complex models like deep neural networks, Naïve Bayes can often achieve reasonable performance with a smaller amount of labeled training data, which can be a significant advantage when building text classification systems.\n",
        "- **Good Performance in Practice:** Despite the unrealistic independence assumption, Naïve Bayes often yields surprisingly good results in practice for text classification tasks. This is partly because, even if the independence assumption is violated, the classifier might still correctly predict the class with the highest probability.\n",
        "- **Ease of Implementation:** It's relatively easy to understand and implement, making it a good baseline model to start with for text classification problems."
      ],
      "metadata": {
        "id": "hGI8PnPiHN2x"
      }
    },
    {
      "cell_type": "markdown",
      "source": [
        "Ques -19. Compare SVM and Naïve Bayes for classification tasks.\n",
        "\n",
        "-->  \n",
        "#Naïve Bayes:\n",
        "- You have a large dataset and need a fast, computationally efficient algorithm.\n",
        "- You are working with text data (where it often performs well despite the independence assumption).\n",
        "- You have limited training data.\n",
        "- Interpretability of individual feature probabilities is important.\n",
        "#SVM:\n",
        "- Your data is not linearly separable and you want to use kernels to handle non-linearity.\n",
        "- You suspect complex interactions between features are important.\n",
        "- You are concerned about the impact of outliers (using Soft Margin SVM).\n",
        "- You are willing to spend more computational resources on training for potentially higher accuracy on complex tasks."
      ],
      "metadata": {
        "id": "AqtKR6vuIrlc"
      }
    },
    {
      "cell_type": "markdown",
      "source": [
        "Ques -20.  How does Laplace Smoothing help in Naïve Bayes?\n",
        "\n",
        "-->  \n",
        "#1. The Zero-Frequency Problem:\n",
        "In Naïve Bayes, we calculate the probability of a feature value occurring within a particular class based on the counts from the training data. For example, if we are classifying emails as spam or not spam, we might calculate the probability of the word \" ครับ\" appearing in a spam email (P(\" ครับ\" | Spam)).\n",
        "\n",
        "The zero-frequency problem occurs when a particular feature value (like a word) does not appear in the training data for a specific class. If the count of that word in spam emails is zero, then the calculated probability P(\" ครับ\" | Spam) will be zero.\n",
        "\n",
        "According to the Naïve Bayes formula:\n",
        "\n",
        "P(Class | Features) = [P(Feature1 | Class) * P(Feature2 | Class) * ... * P(FeatureN | Class) * P(Class)] / P(Features)\n",
        "\n",
        "If any of the individual feature probabilities P(Feature_i | Class) are zero, the entire numerator becomes zero, resulting in a posterior probability of zero for that class, regardless of the other features. This can lead to incorrect classifications, especially when encountering new data with feature values not seen in the training set for a specific class.\n",
        "\n",
        "#2. How Laplace Smoothing Helps:\n",
        " Laplace smoothing addresses this by adding a small, non-zero value (typically 1, hence \"add-one\") to the count of each feature value for each class, and also adding a corresponding value to the denominator (the total count of features in the class).\n",
        "\n",
        "The formula for calculating a conditional probability with Laplace smoothing looks something like this:\n",
        "\n",
        "P(Feature_value | Class) = (Count(Feature_value in Class) + α) / (Total_count(Features in Class) + α * Number_of_possible_feature_values)\n",
        "\n",
        "- α is the smoothing parameter (usually 1 for Laplace smoothing).\n",
        "- Count(Feature_value in Class) is the raw count of the feature value in the training data for that class.\n",
        "- Total_count(Features in Class) is the total count of all features in the training data for that class.\n",
        "- Number_of_possible_feature_values is the total number of unique feature values across all classes.\n",
        "#3. Effect of Smoothing:\n",
        "By adding α to the numerator and a corresponding value to the denominator, Laplace smoothing ensures that no probability is ever exactly zero. Even if a feature value didn't appear in the training data for a class, it will still have a small, non-zero probability."
      ],
      "metadata": {
        "id": "AGZcXG9TJZ2D"
      }
    },
    {
      "cell_type": "markdown",
      "source": [
        "#Practical"
      ],
      "metadata": {
        "id": "gYY0fa-qLbiI"
      }
    },
    {
      "cell_type": "code",
      "source": [
        "#Ques -1. Write a Python program to train an SVM Classifier on the Iris dataset and evaluate accuracy.\n",
        "import numpy as np\n",
        "import pandas as pd\n",
        "from sklearn.model_selection import train_test_split\n",
        "from sklearn.svm import SVC\n",
        "from sklearn.metrics import accuracy_score\n",
        "from sklearn.datasets import load_iris\n",
        "from sklearn import datasets\n",
        "\n",
        "# Load the Iris dataset\n",
        "iris = datasets.load_iris()\n",
        "X = iris.data\n",
        "y = iris.target\n",
        "#Split into training and testing sets\n",
        "X_train, X_test, y_train, y_test = train_test_split(X, y, test_size=0.2, random_state=42)\n",
        "#Standardize features\n",
        "from sklearn.preprocessing import StandardScaler\n",
        "scaler = StandardScaler()\n",
        "X_train_scaled = scaler.fit_transform(X_train)\n",
        "X_test_scaled = scaler.transform(X_test)\n",
        "#Train the svm classifier\n",
        "model = SVC(kernel='linear')\n",
        "model.fit(X_train_scaled, y_train)\n",
        "#Make predictions on the test set\n",
        "y_pred = model.predict(X_test_scaled)\n",
        "#Evaluate accuracy\n",
        "accuracy = accuracy_score(y_test, y_pred)\n",
        "print(f\"Accuracy: {accuracy}\")\n"
      ],
      "metadata": {
        "colab": {
          "base_uri": "https://localhost:8080/"
        },
        "id": "uAmWkCciLftd",
        "outputId": "57e4e9b2-501a-4cc6-daf1-600a9546e820"
      },
      "execution_count": 1,
      "outputs": [
        {
          "output_type": "stream",
          "name": "stdout",
          "text": [
            "Accuracy: 0.9666666666666667\n"
          ]
        }
      ]
    },
    {
      "cell_type": "code",
      "source": [
        "#Ques -2. Write a Python program to train two SVM classifiers with Linear and RBF kernels on the Wine dataset, then compare their accuracies.\n",
        "import pandas as pd\n",
        "import numpy as np\n",
        "from sklearn.model_selection import train_test_split\n",
        "from sklearn.svm import SVC\n",
        "from sklearn.metrics import accuracy_score\n",
        "from sklearn.datasets import load_wine\n",
        "from sklearn import datasets\n",
        "# Load the Wine dataset\n",
        "wine = datasets.load_wine()\n",
        "X = wine.data\n",
        "y = wine.target\n",
        "#Split into training and testing sets\n",
        "X_train, X_test, y_train, y_test = train_test_split(X, y, test_size=0.2, random_state=42)\n",
        "#Train the linear SVM classifier and RBF kernal\n",
        "linear_svm = SVC(kernel='linear')\n",
        "rbf_svm = SVC(kernel='rbf')\n",
        "linear_svm.fit(X_train, y_train)\n",
        "rbf_svm.fit(X_train, y_train)\n",
        "\n",
        "#Make predictions on the test set\n",
        "y_pred_linear = linear_svm.predict(X_test)\n",
        "#Evaluate accuracy\n",
        "accuracy_linear = accuracy_score(y_test, y_pred_linear)\n",
        "print(f\"Linear SVM Accuracy: {accuracy_linear}\")\n",
        "\n",
        "y_pred_rbf = rbf_svm.predict(X_test)\n",
        "#Evaluate accuracy\n",
        "accuracy_rbf = accuracy_score(y_test, y_pred_rbf)\n",
        "print(f\"RBF SVM Accuracy: {accuracy_rbf}\")\n",
        "#compare accuracy\n",
        "if accuracy_linear > accuracy_rbf:\n",
        "    print(\"Linear SVM performs better.\")\n",
        "elif accuracy_linear < accuracy_rbf:\n",
        "    print(\"RBF SVM performs better.\")\n",
        "else:\n",
        "    print(\"Both SVM models have the same accuracy.\")\n",
        "\n"
      ],
      "metadata": {
        "colab": {
          "base_uri": "https://localhost:8080/"
        },
        "id": "Qz4_zrgpOHcg",
        "outputId": "ee01ec07-6b14-441a-f819-439f6ffca6ca"
      },
      "execution_count": 2,
      "outputs": [
        {
          "output_type": "stream",
          "name": "stdout",
          "text": [
            "Linear SVM Accuracy: 1.0\n",
            "RBF SVM Accuracy: 0.8055555555555556\n",
            "Linear SVM performs better.\n"
          ]
        }
      ]
    },
    {
      "cell_type": "code",
      "source": [
        "#Ques -3. Write a Python program to train an SVM Regressor (SVR) on a housing dataset and evaluate it using Mean Squared Error (MSE).\n",
        "import pandas as pd\n",
        "import numpy as np\n",
        "from sklearn.model_selection import train_test_split\n",
        "from sklearn.svm import SVR\n",
        "from sklearn.metrics import mean_squared_error\n",
        "from sklearn.datasets import fetch_california_housing\n",
        "from sklearn import datasets\n",
        "# Load datasets\n",
        "data = datasets.fetch_california_housing()\n",
        "X = data.data\n",
        "y = data.target\n",
        "\n",
        "X_train, X_test, y_train, y_test = train_test_split(X, y, test_size=0.2, random_state=42)\n",
        "#Standardize the feature\n",
        "from sklearn.preprocessing import StandardScaler\n",
        "scaler = StandardScaler()\n",
        "X_train = scaler.fit_transform(X_train)\n",
        "X_test = scaler.transform(X_test)\n",
        "#Train the SVR model\n",
        "svr = SVR(kernel='linear')\n",
        "svr.fit(X_train, y_train)\n",
        "#predict and evaluate using mean squared error\n",
        "y_pred = svr.predict(X_test)\n",
        "mse = mean_squared_error(y_test, y_pred)\n",
        "print(\"Mean Squared Error:\", mse)\n",
        "\n",
        "\n"
      ],
      "metadata": {
        "id": "PxKXtUq7pkqB",
        "colab": {
          "base_uri": "https://localhost:8080/"
        },
        "outputId": "8e068902-63bb-40b6-e4fd-2e47d20d4396"
      },
      "execution_count": 2,
      "outputs": [
        {
          "output_type": "stream",
          "name": "stdout",
          "text": [
            "Mean Squared Error: 0.5792224848666966\n"
          ]
        }
      ]
    },
    {
      "cell_type": "code",
      "source": [
        "#Ques -4. Write a Python program to train an SVM Classifier with a Polynomial Kernel and visualize the decision boundary.\n",
        "import pandas as pd\n",
        "import numpy as np\n",
        "from sklearn.model_selection import train_test_split\n",
        "from sklearn.svm import SVC\n",
        "from sklearn.metrics import accuracy_score\n",
        "from sklearn.datasets import load_iris\n",
        "from sklearn import datasets\n",
        "import matplotlib.pyplot as plt\n",
        "from sklearn.datasets import make_classification\n",
        "\n",
        "# Create a synthatic 2D classification dataset\n",
        "X, y = make_classification(\n",
        "    n_samples=200, n_features=2, n_redundant=0, n_informative=2,\n",
        "    n_clusters_per_class=1, class_sep=1.2, random_state=42\n",
        ")\n",
        "# Scale the feature\n",
        "scaler = StandardScaler()\n",
        "X_scaled = scaler.fit_transform(X)\n",
        "# Train an SVM with polynomial kernal\n",
        "model = SVC(kernel='poly', degree=3, C=1.0)\n",
        "model.fit(X_scaled, y)\n",
        "# Visualize the decision boundary\n",
        "def plot_decision_boundary(model, X, y):\n",
        "    x_min, x_max = X[:, 0].min() - 1, X[:, 0].max() + 1\n",
        "    y_min, y_max = X[:, 1].min() - 1, X[:, 1].max() + 1\n",
        "    xx, yy = np.meshgrid(\n",
        "        np.linspace(x_min, x_max, 500),\n",
        "        np.linspace(y_min, y_max, 500)\n",
        "    )\n",
        "    Z = model.predict(np.c_[xx.ravel(), yy.ravel()])\n",
        "    Z = Z.reshape(xx.shape)\n",
        "\n",
        "    plt.contourf(xx, yy, Z, alpha=0.3, cmap=plt.cm.coolwarm)\n",
        "    plt.scatter(X[:, 0], X[:, 1], c=y, edgecolors='k', cmap=plt.cm.coolwarm)\n",
        "    plt.title('SVM with Polynomial Kernel')\n",
        "    plt.xlabel('Feature 1')\n",
        "    plt.ylabel('Feature 2')\n",
        "    plt.show()\n",
        "\n",
        "plot_decision_boundary(model, X_scaled, y)\n"
      ],
      "metadata": {
        "id": "DpeHcx0pq0cT",
        "colab": {
          "base_uri": "https://localhost:8080/",
          "height": 472
        },
        "outputId": "ffb226fb-a607-49fd-9ab6-80bf34cf1f11"
      },
      "execution_count": 7,
      "outputs": [
        {
          "output_type": "display_data",
          "data": {
            "text/plain": [
              "<Figure size 640x480 with 1 Axes>"
            ],
            "image/png": "[encoded data removed]"
          },
          "metadata": {}
        }
      ]
    },
    {
      "cell_type": "code",
      "source": [
        "#Ques -5. Write a Python program to train a Gaussian Naïve Bayes classifier on the Breast Cancer dataset and evaluate accuracy.\n",
        "import pandas as pd\n",
        "import numpy as np\n",
        "from sklearn.model_selection import train_test_split\n",
        "from sklearn.naive_bayes import GaussianNB\n",
        "from sklearn.metrics import accuracy_score\n",
        "from sklearn.datasets import load_breast_cancer\n",
        "from sklearn import datasets\n",
        "# Load the datasets\n",
        "data = datasets.load_breast_cancer()\n",
        "X = data.data\n",
        "y = data.target\n",
        "\n",
        "X_train, X_test, y_train, y_test = train_test_split(X, y, test_size=0.2, random_state=42)\n",
        "# Standardize the feature\n",
        "from sklearn.preprocessing import StandardScaler\n",
        "scaler = StandardScaler()\n",
        "X_train = scaler.fit_transform(X_train)\n",
        "X_test = scaler.transform(X_test)\n",
        "# Train the Gaussian Naive Bayes classifier\n",
        "gnb = GaussianNB()\n",
        "gnb.fit(X_train, y_train)\n",
        "# Predict and evaluate accuracy\n",
        "y_pred = gnb.predict(X_test)\n",
        "accuracy = accuracy_score(y_test, y_pred)\n",
        "print(\"Accuracy:\", accuracy)\n",
        "\n"
      ],
      "metadata": {
        "id": "C9Zy-FsfrPhL",
        "colab": {
          "base_uri": "https://localhost:8080/"
        },
        "outputId": "94dbf8c0-24e6-466c-ba7a-67d908014cdf"
      },
      "execution_count": 4,
      "outputs": [
        {
          "output_type": "stream",
          "name": "stdout",
          "text": [
            "Accuracy: 0.9649122807017544\n"
          ]
        }
      ]
    },
    {
      "cell_type": "code",
      "source": [
        "#Ques -6.  Write a Python program to train a Multinomial Naïve Bayes classifier for text classification using the 20 Newsgroups dataset.\n",
        "from sklearn.datasets import fetch_20newsgroups\n",
        "from sklearn.feature_extraction.text import CountVectorizer\n",
        "from sklearn.model_selection import train_test_split\n",
        "from sklearn.naive_bayes import MultinomialNB\n",
        "from sklearn.metrics import accuracy_score, classification_report\n",
        "\n",
        "# Load the dataset\n",
        "newsgroups = fetch_20newsgroups(subset='all', shuffle=True, random_state=42)\n",
        "X = newsgroups.data\n",
        "y = newsgroups.target\n",
        "\n",
        "# Split into training and testing sets\n",
        "X_train, X_test, y_train, y_test = train_test_split(X, y, test_size=0.3, random_state=42)\n",
        "\n",
        "# Convert text data into numerical vectors\n",
        "vectorizer = CountVectorizer(stop_words='english')\n",
        "X_train_counts = vectorizer.fit_transform(X_train)\n",
        "X_test_counts = vectorizer.transform(X_test)\n",
        "\n",
        "# Train the Multinomial Naïve Bayes classifier\n",
        "model = MultinomialNB()\n",
        "model.fit(X_train_counts, y_train)\n",
        "\n",
        "# Make predictions and evaluate\n",
        "y_pred = model.predict(X_test_counts)\n",
        "accuracy = accuracy_score(y_test, y_pred)\n",
        "print(f\"Accuracy: {accuracy:.2f}\")\n",
        "print(\"\\nClassification Report:\\n\")\n",
        "print(classification_report(y_test, y_pred, target_names=newsgroups.target_names))\n"
      ],
      "metadata": {
        "id": "OR0swxCfra0g",
        "colab": {
          "base_uri": "https://localhost:8080/"
        },
        "outputId": "e00f41d0-532d-4d81-afcf-a687fc46a3a0"
      },
      "execution_count": 8,
      "outputs": [
        {
          "output_type": "stream",
          "name": "stdout",
          "text": [
            "Accuracy: 0.87\n",
            "\n",
            "Classification Report:\n",
            "\n",
            "                          precision    recall  f1-score   support\n",
            "\n",
            "             alt.atheism       0.87      0.93      0.90       236\n",
            "           comp.graphics       0.65      0.92      0.76       287\n",
            " comp.os.ms-windows.misc       0.97      0.39      0.56       290\n",
            "comp.sys.ibm.pc.hardware       0.63      0.87      0.73       285\n",
            "   comp.sys.mac.hardware       0.92      0.83      0.87       312\n",
            "          comp.windows.x       0.86      0.83      0.85       308\n",
            "            misc.forsale       0.90      0.74      0.81       276\n",
            "               rec.autos       0.92      0.92      0.92       304\n",
            "         rec.motorcycles       0.96      0.95      0.95       279\n",
            "      rec.sport.baseball       0.97      0.95      0.96       308\n",
            "        rec.sport.hockey       0.95      0.98      0.96       309\n",
            "               sci.crypt       0.89      0.97      0.93       290\n",
            "         sci.electronics       0.88      0.84      0.86       304\n",
            "                 sci.med       0.96      0.93      0.94       300\n",
            "               sci.space       0.91      0.98      0.94       297\n",
            "  soc.religion.christian       0.86      0.99      0.92       292\n",
            "      talk.politics.guns       0.89      0.94      0.91       270\n",
            "   talk.politics.mideast       0.95      0.99      0.97       272\n",
            "      talk.politics.misc       0.86      0.89      0.87       239\n",
            "      talk.religion.misc       0.94      0.55      0.69       196\n",
            "\n",
            "                accuracy                           0.87      5654\n",
            "               macro avg       0.89      0.87      0.87      5654\n",
            "            weighted avg       0.89      0.87      0.87      5654\n",
            "\n"
          ]
        }
      ]
    },
    {
      "cell_type": "code",
      "source": [
        "#Ques -7. Write a Python program to train an SVM Classifier with different C values and compare the decision boundaries visually.\n",
        "import numpy as np\n",
        "import matplotlib.pyplot as plt\n",
        "from sklearn.datasets import make_classification\n",
        "from sklearn.svm import SVC\n",
        "from sklearn.preprocessing import StandardScaler\n",
        "\n",
        "# Generate a 2D synthetic dataset for visualization\n",
        "X, y = make_classification(\n",
        "    n_samples=200, n_features=2, n_redundant=0, n_informative=2,\n",
        "    n_clusters_per_class=1, class_sep=1.0, random_state=42\n",
        ")\n",
        "\n",
        "# Standardize the features\n",
        "scaler = StandardScaler()\n",
        "X_scaled = scaler.fit_transform(X)\n",
        "\n",
        "# Different values of C to experiment with\n",
        "C_values = [0.01, 0.1, 1, 10, 100]\n",
        "\n",
        "# Plot decision boundaries\n",
        "plt.figure(figsize=(20, 4))\n",
        "for i, C in enumerate(C_values):\n",
        "    model = SVC(kernel='linear', C=C)\n",
        "    model.fit(X_scaled, y)\n",
        "\n",
        "    # Create mesh grid\n",
        "    x_min, x_max = X_scaled[:, 0].min() - 1, X_scaled[:, 0].max() + 1\n",
        "    y_min, y_max = X_scaled[:, 1].min() - 1, X_scaled[:, 1].max() + 1\n",
        "    xx, yy = np.meshgrid(np.linspace(x_min, x_max, 300),\n",
        "                         np.linspace(y_min, y_max, 300))\n",
        "    Z = model.predict(np.c_[xx.ravel(), yy.ravel()])\n",
        "    Z = Z.reshape(xx.shape)\n",
        "\n",
        "    # Plot decision boundary and data points\n",
        "    plt.subplot(1, len(C_values), i + 1)\n",
        "    plt.contourf(xx, yy, Z, alpha=0.3, cmap=plt.cm.coolwarm)\n",
        "    plt.scatter(X_scaled[:, 0], X_scaled[:, 1], c=y, cmap=plt.cm.coolwarm, edgecolors='k')\n",
        "    plt.title(f'C = {C}')\n",
        "    plt.xlabel('Feature 1')\n",
        "    plt.ylabel('Feature 2')\n",
        "\n",
        "plt.tight_layout()\n",
        "plt.suptitle('SVM Decision Boundaries with Different C Values', y=1.05)\n",
        "plt.show()\n"
      ],
      "metadata": {
        "id": "D8LoAJIsrmtA",
        "colab": {
          "base_uri": "https://localhost:8080/",
          "height": 281
        },
        "outputId": "4df5b1bd-715d-4cf9-acb3-60d297634877"
      },
      "execution_count": 9,
      "outputs": [
        {
          "output_type": "display_data",
          "data": {
            "text/plain": [
              "<Figure size 2000x400 with 5 Axes>"
            ],
            "image/png": "[encoded data removed]"
          },
          "metadata": {}
        }
      ]
    },
    {
      "cell_type": "code",
      "source": [
        "#Ques -8. Write a Python program to train a Bernoulli Naïve Bayes classifier for binary classification on a dataset with binary features.\n",
        "\n",
        "import numpy as np\n",
        "from sklearn.datasets import make_classification\n",
        "from sklearn.preprocessing import Binarizer\n",
        "from sklearn.model_selection import train_test_split\n",
        "from sklearn.naive_bayes import BernoulliNB\n",
        "from sklearn.metrics import accuracy_score, classification_report\n",
        "\n",
        "# Generate a binary classification dataset\n",
        "X, y = make_classification(\n",
        "    n_samples=1000, n_features=20, n_informative=10,\n",
        "    n_redundant=0, n_clusters_per_class=1, random_state=42\n",
        ")\n",
        "\n",
        "# Binarize features (convert to 0s and 1s)\n",
        "binarizer = Binarizer(threshold=0.0)\n",
        "X_binary = binarizer.fit_transform(X)\n",
        "\n",
        "# Split into training and testing sets\n",
        "X_train, X_test, y_train, y_test = train_test_split(\n",
        "    X_binary, y, test_size=0.3, random_state=42\n",
        ")\n",
        "\n",
        "# Train the Bernoulli Naive Bayes classifier\n",
        "bnb = BernoulliNB()\n",
        "bnb.fit(X_train, y_train)\n",
        "\n",
        "# Make predictions and evaluate\n",
        "y_pred = bnb.predict(X_test)\n",
        "accuracy = accuracy_score(y_test, y_pred)\n",
        "print(f\"Accuracy: {accuracy:.2f}\")\n",
        "print(\"\\nClassification Report:\\n\")\n",
        "print(classification_report(y_test, y_pred))\n"
      ],
      "metadata": {
        "id": "BSk5W1H6rprH",
        "colab": {
          "base_uri": "https://localhost:8080/"
        },
        "outputId": "03f59331-9b4b-4898-b9a0-1493327efc59"
      },
      "execution_count": 10,
      "outputs": [
        {
          "output_type": "stream",
          "name": "stdout",
          "text": [
            "Accuracy: 0.84\n",
            "\n",
            "Classification Report:\n",
            "\n",
            "              precision    recall  f1-score   support\n",
            "\n",
            "           0       0.84      0.86      0.85       153\n",
            "           1       0.85      0.83      0.84       147\n",
            "\n",
            "    accuracy                           0.84       300\n",
            "   macro avg       0.84      0.84      0.84       300\n",
            "weighted avg       0.84      0.84      0.84       300\n",
            "\n"
          ]
        }
      ]
    },
    {
      "cell_type": "code",
      "source": [
        "#Ques -9. Write a Python program to apply feature scaling before training an SVM model and compare results with unscaled data.\n",
        "from sklearn.datasets import load_iris\n",
        "from sklearn.model_selection import train_test_split\n",
        "from sklearn.preprocessing import StandardScaler\n",
        "from sklearn.svm import SVC\n",
        "from sklearn.metrics import accuracy_score\n",
        "\n",
        "# Load dataset\n",
        "data = load_iris()\n",
        "X = data.data\n",
        "y = data.target\n",
        "\n",
        "# Train-test split\n",
        "X_train, X_test, y_train, y_test = train_test_split(\n",
        "    X, y, test_size=0.3, random_state=42\n",
        ")\n",
        "\n",
        "# Train SVM without feature scaling\n",
        "model_unscaled = SVC(kernel='rbf')\n",
        "model_unscaled.fit(X_train, y_train)\n",
        "y_pred_unscaled = model_unscaled.predict(X_test)\n",
        "accuracy_unscaled = accuracy_score(y_test, y_pred_unscaled)\n",
        "\n",
        "# Apply feature scaling\n",
        "scaler = StandardScaler()\n",
        "X_train_scaled = scaler.fit_transform(X_train)\n",
        "X_test_scaled = scaler.transform(X_test)\n",
        "\n",
        "# Train SVM with scaled features\n",
        "model_scaled = SVC(kernel='rbf')\n",
        "model_scaled.fit(X_train_scaled, y_train)\n",
        "y_pred_scaled = model_scaled.predict(X_test_scaled)\n",
        "accuracy_scaled = accuracy_score(y_test, y_pred_scaled)\n",
        "\n",
        "# Compare Results\n",
        "print(f\"Accuracy without scaling: {accuracy_unscaled:.2f}\")\n",
        "print(f\"Accuracy with scaling:    {accuracy_scaled:.2f}\")\n"
      ],
      "metadata": {
        "id": "UcpbGGafrsnn",
        "colab": {
          "base_uri": "https://localhost:8080/"
        },
        "outputId": "3077448c-5725-42cd-dac5-5545b84d7ada"
      },
      "execution_count": 11,
      "outputs": [
        {
          "output_type": "stream",
          "name": "stdout",
          "text": [
            "Accuracy without scaling: 1.00\n",
            "Accuracy with scaling:    1.00\n"
          ]
        }
      ]
    },
    {
      "cell_type": "code",
      "source": [
        "#Ques -10. Write a Python program to train a Gaussian Naïve Bayes model and compare the predictions before and after Laplace Smoothing.\n",
        "import numpy as np\n",
        "from sklearn.datasets import make_classification\n",
        "from sklearn.model_selection import train_test_split\n",
        "from sklearn.naive_bayes import GaussianNB\n",
        "from sklearn.metrics import accuracy_score\n",
        "\n",
        "# Generate a synthetic dataset\n",
        "X, y = make_classification(\n",
        "    n_samples=1000, n_features=10, n_informative=7, n_redundant=0,\n",
        "    random_state=42\n",
        ")\n",
        "\n",
        "# Split the dataset\n",
        "X_train, X_test, y_train, y_test = train_test_split(X, y, test_size=0.3, random_state=42)\n",
        "\n",
        "# Train regular GaussianNB model\n",
        "gnb = GaussianNB()\n",
        "gnb.fit(X_train, y_train)\n",
        "y_pred_regular = gnb.predict(X_test)\n",
        "accuracy_regular = accuracy_score(y_test, y_pred_regular)\n",
        "\n",
        "# Apply \"Laplace-like\" smoothing by modifying variance manually\n",
        "# This is just illustrative, not official Laplace smoothing\n",
        "gnb_smooth = GaussianNB(var_smoothing=1e-1)  # Default is 1e-9\n",
        "gnb_smooth.fit(X_train, y_train)\n",
        "y_pred_smooth = gnb_smooth.predict(X_test)\n",
        "accuracy_smooth = accuracy_score(y_test, y_pred_smooth)\n",
        "\n",
        "# Print comparison\n",
        "print(f\"Accuracy without smoothing: {accuracy_regular:.2f}\")\n",
        "print(f\"Accuracy with smoothing:    {accuracy_smooth:.2f}\")\n"
      ],
      "metadata": {
        "id": "WfbxR665ruLw",
        "colab": {
          "base_uri": "https://localhost:8080/"
        },
        "outputId": "232dd162-91c0-4696-a115-2a19b774e232"
      },
      "execution_count": 12,
      "outputs": [
        {
          "output_type": "stream",
          "name": "stdout",
          "text": [
            "Accuracy without smoothing: 0.80\n",
            "Accuracy with smoothing:    0.80\n"
          ]
        }
      ]
    },
    {
      "cell_type": "code",
      "source": [
        "#Ques -11. Write a Python program to train an SVM Classifier and use GridSearchCV to tune the hyperparameters (C, gamma, kernel).\n",
        "import numpy as np\n",
        "from sklearn.datasets import make_classification\n",
        "from sklearn.model_selection import train_test_split, GridSearchCV\n",
        "from sklearn.svm import SVC\n",
        "from sklearn.metrics import accuracy_score\n",
        "# Generate a synthatic datasets\n",
        "X, y = make_classification(\n",
        "    n_samples=1000, n_features=10, n_informative=7, n_redundant=0,\n",
        "    random_state=42\n",
        ")\n",
        "# Split into the train and test datasets\n",
        "X_train, X_test, y_train, y_test = train_test_split(X, y, test_size=0.3, random_state=42)\n",
        "# Feature scaling\n",
        "scaler = StandardScaler()\n",
        "X_train_scaled = scaler.fit_transform(X_train)\n",
        "X_test_scaled = scaler.transform(X_test)\n",
        "# train an SVM Classifier\n",
        "model = SVC()\n",
        "param_grid = {\n",
        "    'C': [0.1, 1, 10, 100],\n",
        "    'gamma': [1, 0.1, 0.01, 0.001],\n",
        "    'kernel': ['linear', 'rbf', 'poly']\n",
        "}\n",
        "#Grid search with cross-validation\n",
        "grid_search = GridSearchCV(model, param_grid, cv=5)\n",
        "grid_search.fit(X_train, y_train)\n",
        "#Best parameters and accuracy\n",
        "best_params = grid_search.best_params_\n",
        "#Evaluate on test set\n",
        "best_model = grid_search.best_estimator_\n",
        "\n",
        "y_pred = best_model.predict(X_test)\n",
        "accuracy = accuracy_score(y_test, y_pred)\n",
        "print(f\"Best Hyperparameters: {best_params}\")\n",
        "print(f\"Accuracy: {accuracy}\")"
      ],
      "metadata": {
        "id": "n35hRURMrwxn",
        "colab": {
          "base_uri": "https://localhost:8080/"
        },
        "outputId": "d41f4506-99fa-41e0-b34a-7a792a287a0c"
      },
      "execution_count": 14,
      "outputs": [
        {
          "output_type": "stream",
          "name": "stdout",
          "text": [
            "Best Hyperparameters: {'C': 100, 'gamma': 0.1, 'kernel': 'rbf'}\n",
            "Accuracy: 0.94\n"
          ]
        }
      ]
    },
    {
      "cell_type": "code",
      "source": [
        "#Ques -12. Write a Python program to train an SVM Classifier on an imbalanced dataset and apply class weighting and check it improve accuracy.\n",
        "import numpy as np\n",
        "from sklearn.datasets import make_classification\n",
        "from sklearn.model_selection import train_test_split\n",
        "from sklearn.svm import SVC\n",
        "from sklearn.metrics import accuracy_score, classification_report, confusion_matrix\n",
        "\n",
        "# Create an imbalanced binary classification dataset\n",
        "X, y = make_classification(\n",
        "    n_samples=1000, n_features=20, n_informative=10, n_redundant=5,\n",
        "    weights=[0.9, 0.1],  # 90% of class 0, 10% of class 1\n",
        "    random_state=42\n",
        ")\n",
        "\n",
        "# Split into training and test sets\n",
        "X_train, X_test, y_train, y_test = train_test_split(X, y, test_size=0.3, random_state=42)\n",
        "\n",
        "# Train SVM without class weights\n",
        "model_default = SVC(kernel='rbf')\n",
        "model_default.fit(X_train, y_train)\n",
        "y_pred_default = model_default.predict(X_test)\n",
        "\n",
        "# Train SVM with class weights\n",
        "model_weighted = SVC(kernel='rbf', class_weight='balanced')  # 'balanced' auto-adjusts weights\n",
        "model_weighted.fit(X_train, y_train)\n",
        "y_pred_weighted = model_weighted.predict(X_test)\n",
        "\n",
        "# Evaluation\n",
        "print(\"=== Without Class Weights ===\")\n",
        "print(f\"Accuracy: {accuracy_score(y_test, y_pred_default):.2f}\")\n",
        "print(\"Classification Report:\\n\", classification_report(y_test, y_pred_default))\n",
        "\n",
        "print(\"\\n=== With Class Weights ===\")\n",
        "print(f\"Accuracy: {accuracy_score(y_test, y_pred_weighted):.2f}\")\n",
        "print(\"Classification Report:\\n\", classification_report(y_test, y_pred_weighted))\n"
      ],
      "metadata": {
        "id": "7eB54dBPrzDe",
        "colab": {
          "base_uri": "https://localhost:8080/"
        },
        "outputId": "7ed58014-ce54-4a55-f93b-81441e33c2b7"
      },
      "execution_count": 15,
      "outputs": [
        {
          "output_type": "stream",
          "name": "stdout",
          "text": [
            "=== Without Class Weights ===\n",
            "Accuracy: 0.93\n",
            "Classification Report:\n",
            "               precision    recall  f1-score   support\n",
            "\n",
            "           0       0.93      1.00      0.96       267\n",
            "           1       1.00      0.36      0.53        33\n",
            "\n",
            "    accuracy                           0.93       300\n",
            "   macro avg       0.96      0.68      0.75       300\n",
            "weighted avg       0.94      0.93      0.91       300\n",
            "\n",
            "\n",
            "=== With Class Weights ===\n",
            "Accuracy: 0.94\n",
            "Classification Report:\n",
            "               precision    recall  f1-score   support\n",
            "\n",
            "           0       0.97      0.96      0.96       267\n",
            "           1       0.71      0.73      0.72        33\n",
            "\n",
            "    accuracy                           0.94       300\n",
            "   macro avg       0.84      0.84      0.84       300\n",
            "weighted avg       0.94      0.94      0.94       300\n",
            "\n"
          ]
        }
      ]
    },
    {
      "cell_type": "code",
      "source": [
        "#Ques -13.  Write a Python program to implement a Naïve Bayes classifier for spam detection using email data.\n",
        "import pandas as pd\n",
        "from sklearn.model_selection import train_test_split\n",
        "from sklearn.feature_extraction.text import TfidfVectorizer\n",
        "from sklearn.naive_bayes import MultinomialNB\n",
        "from sklearn.metrics import accuracy_score, classification_report\n",
        "\n",
        "# Load dataset (spam/ham SMS messages)\n",
        "url = \"https://raw.githubusercontent.com/justmarkham/pycon-2016-tutorial/master/data/sms.tsv\"\n",
        "df = pd.read_csv(url, sep='\\t', header=None, names=['label', 'message'])\n",
        "\n",
        "# Encode labels\n",
        "df['label_num'] = df.label.map({'ham': 0, 'spam': 1})\n",
        "\n",
        "# Split dataset\n",
        "X_train, X_test, y_train, y_test = train_test_split(\n",
        "    df['message'], df['label_num'], test_size=0.3, random_state=42\n",
        ")\n",
        "\n",
        "# Text vectorization using TF-IDF\n",
        "vectorizer = TfidfVectorizer(stop_words='english')\n",
        "X_train_tfidf = vectorizer.fit_transform(X_train)\n",
        "X_test_tfidf = vectorizer.transform(X_test)\n",
        "\n",
        "# Train Naïve Bayes model\n",
        "model = MultinomialNB()\n",
        "model.fit(X_train_tfidf, y_train)\n",
        "\n",
        "# Predictions and evaluation\n",
        "y_pred = model.predict(X_test_tfidf)\n",
        "print(f\"Accuracy: {accuracy_score(y_test, y_pred):.2f}\")\n",
        "print(\"\\nClassification Report:\\n\", classification_report(y_test, y_pred))\n"
      ],
      "metadata": {
        "id": "ia_ixnFSr1dF",
        "colab": {
          "base_uri": "https://localhost:8080/"
        },
        "outputId": "7264fc03-b5c7-41b5-eb57-cb178829c2d7"
      },
      "execution_count": 16,
      "outputs": [
        {
          "output_type": "stream",
          "name": "stdout",
          "text": [
            "Accuracy: 0.97\n",
            "\n",
            "Classification Report:\n",
            "               precision    recall  f1-score   support\n",
            "\n",
            "           0       0.97      1.00      0.98      1448\n",
            "           1       0.99      0.80      0.89       224\n",
            "\n",
            "    accuracy                           0.97      1672\n",
            "   macro avg       0.98      0.90      0.94      1672\n",
            "weighted avg       0.97      0.97      0.97      1672\n",
            "\n"
          ]
        }
      ]
    },
    {
      "cell_type": "code",
      "source": [
        "#Ques -14. Write a Python program to train an SVM Classifier and a Naïve Bayes Classifier on the same dataset and compare their accuracy.\n",
        "from sklearn.datasets import load_iris\n",
        "from sklearn.model_selection import train_test_split\n",
        "from sklearn.preprocessing import MinMaxScaler\n",
        "from sklearn.svm import SVC\n",
        "from sklearn.naive_bayes import MultinomialNB\n",
        "from sklearn.metrics import accuracy_score\n",
        "\n",
        "# Load the Iris dataset\n",
        "data = load_iris()\n",
        "X = data.data\n",
        "y = data.target\n",
        "\n",
        "# Scale features to be non-negative for MultinomialNB\n",
        "scaler = MinMaxScaler()\n",
        "X_scaled = scaler.fit_transform(X)\n",
        "\n",
        "# Split into training and test sets\n",
        "X_train, X_test, y_train, y_test = train_test_split(\n",
        "    X_scaled, y, test_size=0.3, random_state=42\n",
        ")\n",
        "\n",
        "# Train SVM classifier\n",
        "svm = SVC(kernel='linear')\n",
        "svm.fit(X_train, y_train)\n",
        "y_pred_svm = svm.predict(X_test)\n",
        "accuracy_svm = accuracy_score(y_test, y_pred_svm)\n",
        "\n",
        "# Train Multinomial Naive Bayes classifier\n",
        "nb = MultinomialNB()\n",
        "nb.fit(X_train, y_train)\n",
        "y_pred_nb = nb.predict(X_test)\n",
        "accuracy_nb = accuracy_score(y_test, y_pred_nb)\n",
        "\n",
        "# Compare Results\n",
        "print(f\"Accuracy of SVM Classifier:           {accuracy_svm:.2f}\")\n",
        "print(f\"Accuracy of Naïve Bayes Classifier:   {accuracy_nb:.2f}\")\n"
      ],
      "metadata": {
        "id": "hVccFT8lr24V",
        "colab": {
          "base_uri": "https://localhost:8080/"
        },
        "outputId": "b93da137-59dd-46a0-ee5f-cf089df906ee"
      },
      "execution_count": 17,
      "outputs": [
        {
          "output_type": "stream",
          "name": "stdout",
          "text": [
            "Accuracy of SVM Classifier:           1.00\n",
            "Accuracy of Naïve Bayes Classifier:   0.93\n"
          ]
        }
      ]
    },
    {
      "cell_type": "code",
      "source": [
        "#Ques -15. Write a Python program to perform feature selection before training a Naïve Bayes classifier and compare results.\n",
        "from sklearn.datasets import fetch_20newsgroups\n",
        "from sklearn.feature_extraction.text import TfidfVectorizer\n",
        "from sklearn.model_selection import train_test_split\n",
        "from sklearn.feature_selection import SelectKBest, chi2\n",
        "from sklearn.naive_bayes import MultinomialNB\n",
        "from sklearn.metrics import accuracy_score\n",
        "\n",
        "# Load dataset\n",
        "data = fetch_20newsgroups(subset='all', shuffle=True, random_state=42)\n",
        "X, y = data.data, data.target\n",
        "\n",
        "# Split data\n",
        "X_train_raw, X_test_raw, y_train, y_test = train_test_split(X, y, test_size=0.3, random_state=42)\n",
        "\n",
        "# Vectorize text data\n",
        "vectorizer = TfidfVectorizer(stop_words='english')\n",
        "X_train_vec = vectorizer.fit_transform(X_train_raw)\n",
        "X_test_vec = vectorizer.transform(X_test_raw)\n",
        "\n",
        "# Train NB without feature selection\n",
        "model_full = MultinomialNB()\n",
        "model_full.fit(X_train_vec, y_train)\n",
        "y_pred_full = model_full.predict(X_test_vec)\n",
        "acc_full = accuracy_score(y_test, y_pred_full)\n",
        "\n",
        "# Apply Chi-squared feature selection\n",
        "selector = SelectKBest(chi2, k=5000)\n",
        "X_train_selected = selector.fit_transform(X_train_vec, y_train)\n",
        "X_test_selected = selector.transform(X_test_vec)\n",
        "\n",
        "# Train NB with selected features\n",
        "model_selected = MultinomialNB()\n",
        "model_selected.fit(X_train_selected, y_train)\n",
        "y_pred_selected = model_selected.predict(X_test_selected)\n",
        "acc_selected = accuracy_score(y_test, y_pred_selected)\n",
        "\n",
        "# Compare Results\n",
        "print(f\"Accuracy without Feature Selection: {acc_full:.2f}\")\n",
        "print(f\"Accuracy with Feature Selection:    {acc_selected:.2f}\")\n"
      ],
      "metadata": {
        "id": "E3_YQNbOr4d6",
        "colab": {
          "base_uri": "https://localhost:8080/"
        },
        "outputId": "8737c91a-87f4-44a0-ace3-7da9486f98d6"
      },
      "execution_count": 18,
      "outputs": [
        {
          "output_type": "stream",
          "name": "stdout",
          "text": [
            "Accuracy without Feature Selection: 0.87\n",
            "Accuracy with Feature Selection:    0.85\n"
          ]
        }
      ]
    },
    {
      "cell_type": "code",
      "source": [
        "#Ques -16.  Write a Python program to train an SVM Classifier using One-vs-Rest (OvR) and One-vs-One (OvO) strategies on the Wine dataset and compare their accuracy.\n",
        "from sklearn.datasets import load_wine\n",
        "from sklearn.model_selection import train_test_split\n",
        "from sklearn.preprocessing import StandardScaler\n",
        "from sklearn.svm import SVC\n",
        "from sklearn.multiclass import OneVsRestClassifier, OneVsOneClassifier\n",
        "from sklearn.metrics import accuracy_score\n",
        "\n",
        "# Load the Wine dataset\n",
        "data = load_wine()\n",
        "X = data.data\n",
        "y = data.target\n",
        "\n",
        "# Split into training and testing sets\n",
        "X_train, X_test, y_train, y_test = train_test_split(\n",
        "    X, y, test_size=0.3, random_state=42\n",
        ")\n",
        "\n",
        "# Feature scaling\n",
        "scaler = StandardScaler()\n",
        "X_train_scaled = scaler.fit_transform(X_train)\n",
        "X_test_scaled = scaler.transform(X_test)\n",
        "\n",
        "# Train using One-vs-Rest strategy\n",
        "svm_model = SVC(kernel='rbf', C=1.0, gamma='scale')\n",
        "ovr = OneVsRestClassifier(svm_model)\n",
        "ovr.fit(X_train_scaled, y_train)\n",
        "y_pred_ovr = ovr.predict(X_test_scaled)\n",
        "accuracy_ovr = accuracy_score(y_test, y_pred_ovr)\n",
        "\n",
        "# Train using One-vs-One strategy\n",
        "ovo = OneVsOneClassifier(svm_model)\n",
        "ovo.fit(X_train_scaled, y_train)\n",
        "y_pred_ovo = ovo.predict(X_test_scaled)\n",
        "accuracy_ovo = accuracy_score(y_test, y_pred_ovo)\n",
        "\n",
        "# Show results\n",
        "print(f\"Accuracy using One-vs-Rest: {accuracy_ovr:.2f}\")\n",
        "print(f\"Accuracy using One-vs-One:  {accuracy_ovo:.2f}\")\n"
      ],
      "metadata": {
        "id": "w58qdyGhr6W4",
        "colab": {
          "base_uri": "https://localhost:8080/"
        },
        "outputId": "a245baa9-ba86-4c6f-ba1d-e5785a3809d0"
      },
      "execution_count": 19,
      "outputs": [
        {
          "output_type": "stream",
          "name": "stdout",
          "text": [
            "Accuracy using One-vs-Rest: 0.98\n",
            "Accuracy using One-vs-One:  0.98\n"
          ]
        }
      ]
    },
    {
      "cell_type": "code",
      "source": [
        "#Ques -17. Write a Python program to train an SVM Classifier using Linear, Polynomial, and RBF kernels on the Breast Cancer dataset and compare their accuracy.\n",
        "from sklearn.datasets import load_breast_cancer\n",
        "from sklearn.model_selection import train_test_split\n",
        "from sklearn.preprocessing import StandardScaler\n",
        "from sklearn.svm import SVC\n",
        "from sklearn.metrics import accuracy_score\n",
        "\n",
        "# Load the Breast Cancer dataset\n",
        "data = load_breast_cancer()\n",
        "X = data.data\n",
        "y = data.target\n",
        "\n",
        "# Split into train and test sets\n",
        "X_train, X_test, y_train, y_test = train_test_split(\n",
        "    X, y, test_size=0.3, random_state=42\n",
        ")\n",
        "\n",
        "# Feature scaling\n",
        "scaler = StandardScaler()\n",
        "X_train_scaled = scaler.fit_transform(X_train)\n",
        "X_test_scaled = scaler.transform(X_test)\n",
        "\n",
        "# Train SVM classifiers with different kernels\n",
        "models = {\n",
        "    'Linear Kernel': SVC(kernel='linear'),\n",
        "    'Polynomial Kernel': SVC(kernel='poly', degree=3),\n",
        "    'RBF Kernel': SVC(kernel='rbf')\n",
        "}\n",
        "\n",
        "# Evaluate and compare accuracy\n",
        "for name, model in models.items():\n",
        "    model.fit(X_train_scaled, y_train)\n",
        "    y_pred = model.predict(X_test_scaled)\n",
        "    accuracy = accuracy_score(y_test, y_pred)\n",
        "    print(f\"{name} Accuracy: {accuracy:.2f}\")\n"
      ],
      "metadata": {
        "id": "-Azmrt7gr891",
        "colab": {
          "base_uri": "https://localhost:8080/"
        },
        "outputId": "fedd08b8-b6d6-435c-8c4d-51fd9b6c500f"
      },
      "execution_count": 20,
      "outputs": [
        {
          "output_type": "stream",
          "name": "stdout",
          "text": [
            "Linear Kernel Accuracy: 0.98\n",
            "Polynomial Kernel Accuracy: 0.89\n",
            "RBF Kernel Accuracy: 0.98\n"
          ]
        }
      ]
    },
    {
      "cell_type": "code",
      "source": [
        "#Ques -18. Write a Python program to train an SVM Classifier using Stratified K-Fold Cross-Validation and compute the average accuracy.\n",
        "from sklearn.datasets import load_iris\n",
        "from sklearn.model_selection import StratifiedKFold\n",
        "from sklearn.svm import SVC\n",
        "from sklearn.preprocessing import StandardScaler\n",
        "from sklearn.metrics import accuracy_score\n",
        "import numpy as np\n",
        "\n",
        "# Load the Iris dataset\n",
        "data = load_iris()\n",
        "X = data.data\n",
        "y = data.target\n",
        "\n",
        "# Scale features\n",
        "scaler = StandardScaler()\n",
        "X_scaled = scaler.fit_transform(X)\n",
        "\n",
        "# Set up Stratified K-Fold Cross-Validation\n",
        "skf = StratifiedKFold(n_splits=5, shuffle=True, random_state=42)\n",
        "\n",
        "# Initialize SVM classifier\n",
        "svm = SVC(kernel='rbf', C=1.0, gamma='scale')\n",
        "\n",
        "# Track accuracies across folds\n",
        "accuracies = []\n",
        "\n",
        "for train_idx, test_idx in skf.split(X_scaled, y):\n",
        "    X_train, X_test = X_scaled[train_idx], X_scaled[test_idx]\n",
        "    y_train, y_test = y[train_idx], y[test_idx]\n",
        "\n",
        "    svm.fit(X_train, y_train)\n",
        "    y_pred = svm.predict(X_test)\n",
        "    acc = accuracy_score(y_test, y_pred)\n",
        "    accuracies.append(acc)\n",
        "\n",
        "# Final output\n",
        "print(\"Fold Accuracies:\", [f\"{acc:.2f}\" for acc in accuracies])\n",
        "print(f\"Average Accuracy: {np.mean(accuracies):.2f}\")\n"
      ],
      "metadata": {
        "id": "R1pSAX7cr-3B",
        "colab": {
          "base_uri": "https://localhost:8080/"
        },
        "outputId": "64122f40-57e3-4d0c-d685-fb3d7ad3496c"
      },
      "execution_count": 21,
      "outputs": [
        {
          "output_type": "stream",
          "name": "stdout",
          "text": [
            "Fold Accuracies: ['1.00', '0.97', '0.90', '1.00', '0.90']\n",
            "Average Accuracy: 0.95\n"
          ]
        }
      ]
    },
    {
      "cell_type": "code",
      "source": [
        "#Ques -19. Write a Python program to train a Naïve Bayes classifier using different prior probabilities and compare performance.\n",
        "from sklearn.datasets import load_iris\n",
        "from sklearn.model_selection import train_test_split\n",
        "from sklearn.naive_bayes import GaussianNB\n",
        "from sklearn.metrics import accuracy_score, classification_report\n",
        "import numpy as np\n",
        "\n",
        "# Load Iris dataset\n",
        "data = load_iris()\n",
        "X = data.data\n",
        "y = data.target\n",
        "class_names = data.target_names\n",
        "\n",
        "# Split into train and test\n",
        "X_train, X_test, y_train, y_test = train_test_split(\n",
        "    X, y, test_size=0.3, random_state=42\n",
        ")\n",
        "\n",
        "# Train GaussianNB with default priors\n",
        "model_default = GaussianNB()\n",
        "model_default.fit(X_train, y_train)\n",
        "y_pred_default = model_default.predict(X_test)\n",
        "acc_default = accuracy_score(y_test, y_pred_default)\n",
        "\n",
        "# Display performance with default priors\n",
        "print(\"=== Default Priors ===\")\n",
        "print(f\"Accuracy: {acc_default:.2f}\")\n",
        "print(\"Classification Report:\")\n",
        "print(classification_report(y_test, y_pred_default, target_names=class_names))\n",
        "\n",
        "# Train GaussianNB with custom priors (manually defined)\n",
        "custom_priors = np.array([0.2, 0.5, 0.3])  # Hypothetical real-world class distribution\n",
        "model_custom = GaussianNB(priors=custom_priors)\n",
        "model_custom.fit(X_train, y_train)\n",
        "y_pred_custom = model_custom.predict(X_test)\n",
        "acc_custom = accuracy_score(y_test, y_pred_custom)\n",
        "\n",
        "# Display performance with custom priors\n",
        "print(\"\\n=== Custom Priors ===\")\n",
        "print(f\"Accuracy: {acc_custom:.2f}\")\n",
        "print(\"Classification Report:\")\n",
        "print(classification_report(y_test, y_pred_custom, target_names=class_names))\n"
      ],
      "metadata": {
        "id": "HAqgRt-lsBXL",
        "colab": {
          "base_uri": "https://localhost:8080/"
        },
        "outputId": "d392a7cf-b9f5-4bb0-e853-054592aad8dc"
      },
      "execution_count": 22,
      "outputs": [
        {
          "output_type": "stream",
          "name": "stdout",
          "text": [
            "=== Default Priors ===\n",
            "Accuracy: 0.98\n",
            "Classification Report:\n",
            "              precision    recall  f1-score   support\n",
            "\n",
            "      setosa       1.00      1.00      1.00        19\n",
            "  versicolor       1.00      0.92      0.96        13\n",
            "   virginica       0.93      1.00      0.96        13\n",
            "\n",
            "    accuracy                           0.98        45\n",
            "   macro avg       0.98      0.97      0.97        45\n",
            "weighted avg       0.98      0.98      0.98        45\n",
            "\n",
            "\n",
            "=== Custom Priors ===\n",
            "Accuracy: 1.00\n",
            "Classification Report:\n",
            "              precision    recall  f1-score   support\n",
            "\n",
            "      setosa       1.00      1.00      1.00        19\n",
            "  versicolor       1.00      1.00      1.00        13\n",
            "   virginica       1.00      1.00      1.00        13\n",
            "\n",
            "    accuracy                           1.00        45\n",
            "   macro avg       1.00      1.00      1.00        45\n",
            "weighted avg       1.00      1.00      1.00        45\n",
            "\n"
          ]
        }
      ]
    },
    {
      "cell_type": "code",
      "source": [
        "#Ques -20. Write a Python program to perform Recursive Feature Elimination (RFE) before training an SVM Classifier and compare accuracy.\n",
        "from sklearn.datasets import load_breast_cancer\n",
        "from sklearn.model_selection import train_test_split\n",
        "from sklearn.preprocessing import StandardScaler\n",
        "from sklearn.svm import SVC\n",
        "from sklearn.feature_selection import RFE\n",
        "from sklearn.metrics import accuracy_score\n",
        "\n",
        "# Load the Breast Cancer dataset\n",
        "data = load_breast_cancer()\n",
        "X = data.data\n",
        "y = data.target\n",
        "\n",
        "# Split into training and test sets\n",
        "X_train, X_test, y_train, y_test = train_test_split(X, y, test_size=0.3, random_state=42)\n",
        "\n",
        "# Scale features\n",
        "scaler = StandardScaler()\n",
        "X_train_scaled = scaler.fit_transform(X_train)\n",
        "X_test_scaled = scaler.transform(X_test)\n",
        "\n",
        "# Train SVM without feature selection\n",
        "model_no_rfe = SVC(kernel='linear')\n",
        "model_no_rfe.fit(X_train_scaled, y_train)\n",
        "y_pred_no_rfe = model_no_rfe.predict(X_test_scaled)\n",
        "accuracy_no_rfe = accuracy_score(y_test, y_pred_no_rfe)\n",
        "\n",
        "# Apply RFE to select top k features\n",
        "rfe = RFE(estimator=SVC(kernel='linear'), n_features_to_select=10)\n",
        "rfe.fit(X_train_scaled, y_train)\n",
        "\n",
        "# Transform dataset using selected features\n",
        "X_train_rfe = rfe.transform(X_train_scaled)\n",
        "X_test_rfe = rfe.transform(X_test_scaled)\n",
        "\n",
        "# Train SVM with selected features\n",
        "model_rfe = SVC(kernel='linear')\n",
        "model_rfe.fit(X_train_rfe, y_train)\n",
        "y_pred_rfe = model_rfe.predict(X_test_rfe)\n",
        "accuracy_rfe = accuracy_score(y_test, y_pred_rfe)\n",
        "\n",
        "# Display comparison\n",
        "print(f\"Accuracy without RFE: {accuracy_no_rfe:.2f}\")\n",
        "print(f\"Accuracy with RFE (top 10 features): {accuracy_rfe:.2f}\")\n"
      ],
      "metadata": {
        "id": "d5f8iz7MsC_b",
        "colab": {
          "base_uri": "https://localhost:8080/"
        },
        "outputId": "d5c9fc43-e717-4406-90e2-f2c52e358850"
      },
      "execution_count": 23,
      "outputs": [
        {
          "output_type": "stream",
          "name": "stdout",
          "text": [
            "Accuracy without RFE: 0.98\n",
            "Accuracy with RFE (top 10 features): 0.96\n"
          ]
        }
      ]
    },
    {
      "cell_type": "code",
      "source": [
        "#Ques -21. Write a Python program to train an SVM Classifier and evaluate its performance using Precision, Recall, and F1-Score instead of accuracy.\n",
        "from sklearn.datasets import load_iris\n",
        "from sklearn.model_selection import train_test_split\n",
        "from sklearn.preprocessing import StandardScaler\n",
        "from sklearn.svm import SVC\n",
        "from sklearn.metrics import classification_report\n",
        "\n",
        "# Load the Iris dataset\n",
        "data = load_iris()\n",
        "X = data.data\n",
        "y = data.target\n",
        "\n",
        "# Split into training and test sets\n",
        "X_train, X_test, y_train, y_test = train_test_split(\n",
        "    X, y, test_size=0.3, random_state=42\n",
        ")\n",
        "\n",
        "# Feature scaling\n",
        "scaler = StandardScaler()\n",
        "X_train_scaled = scaler.fit_transform(X_train)\n",
        "X_test_scaled = scaler.transform(X_test)\n",
        "\n",
        "# Train SVM classifier\n",
        "model = SVC(kernel='rbf', C=1.0)\n",
        "model.fit(X_train_scaled, y_train)\n",
        "\n",
        "# Predict and evaluate using precision, recall, F1-score\n",
        "y_pred = model.predict(X_test_scaled)\n",
        "print(\"Classification Report (Precision, Recall, F1-Score):\\n\")\n",
        "print(classification_report(y_test, y_pred, target_names=data.target_names))\n"
      ],
      "metadata": {
        "id": "dF0xbf1wsEcu",
        "colab": {
          "base_uri": "https://localhost:8080/"
        },
        "outputId": "9f4f2c6e-2361-4a55-b2b9-42dfeabdf43a"
      },
      "execution_count": 24,
      "outputs": [
        {
          "output_type": "stream",
          "name": "stdout",
          "text": [
            "Classification Report (Precision, Recall, F1-Score):\n",
            "\n",
            "              precision    recall  f1-score   support\n",
            "\n",
            "      setosa       1.00      1.00      1.00        19\n",
            "  versicolor       1.00      1.00      1.00        13\n",
            "   virginica       1.00      1.00      1.00        13\n",
            "\n",
            "    accuracy                           1.00        45\n",
            "   macro avg       1.00      1.00      1.00        45\n",
            "weighted avg       1.00      1.00      1.00        45\n",
            "\n"
          ]
        }
      ]
    },
    {
      "cell_type": "code",
      "source": [
        "#Ques -22. from sklearn.datasets import load_iris\n",
        "from sklearn.model_selection import train_test_split\n",
        "from sklearn.naive_bayes import GaussianNB\n",
        "from sklearn.metrics import log_loss\n",
        "from sklearn.preprocessing import LabelBinarizer\n",
        "\n",
        "# Load the Iris dataset\n",
        "data = load_iris()\n",
        "X = data.data\n",
        "y = data.target\n",
        "\n",
        "# Split into train and test sets\n",
        "X_train, X_test, y_train, y_test = train_test_split(\n",
        "    X, y, test_size=0.3, random_state=42\n",
        ")\n",
        "\n",
        "# Train a Gaussian Naïve Bayes classifier\n",
        "model = GaussianNB()\n",
        "model.fit(X_train, y_train)\n",
        "\n",
        "# Predict probabilities\n",
        "y_proba = model.predict_proba(X_test)\n",
        "\n",
        "# Compute Log Loss\n",
        "loss = log_loss(y_test, y_proba)\n",
        "print(f\"Log Loss (Cross-Entropy): {loss:.4f}\")\n"
      ],
      "metadata": {
        "id": "S4kxMHrnsF4k",
        "colab": {
          "base_uri": "https://localhost:8080/"
        },
        "outputId": "4f793d8a-34df-4528-cfb3-e3f8c7b3a25d"
      },
      "execution_count": 25,
      "outputs": [
        {
          "output_type": "stream",
          "name": "stdout",
          "text": [
            "Log Loss (Cross-Entropy): 0.0490\n"
          ]
        }
      ]
    },
    {
      "cell_type": "code",
      "source": [
        "#Ques -23. Write a Python program to train an SVM Classifier and visualize the Confusion Matrix using seaborn.\n",
        "import numpy as np\n",
        "import seaborn as sns\n",
        "import matplotlib.pyplot as plt\n",
        "from sklearn.datasets import load_iris\n",
        "from sklearn.model_selection import train_test_split\n",
        "from sklearn.preprocessing import StandardScaler\n",
        "from sklearn.svm import SVC\n",
        "from sklearn.metrics import confusion_matrix, classification_report\n",
        "\n",
        "# Load the Iris dataset\n",
        "data = load_iris()\n",
        "X = data.data\n",
        "y = data.target\n",
        "class_names = data.target_names\n",
        "\n",
        "# Train-test split\n",
        "X_train, X_test, y_train, y_test = train_test_split(X, y, test_size=0.3, random_state=42)\n",
        "\n",
        "# Feature scaling\n",
        "scaler = StandardScaler()\n",
        "X_train_scaled = scaler.fit_transform(X_train)\n",
        "X_test_scaled = scaler.transform(X_test)\n",
        "\n",
        "# Train SVM classifier\n",
        "model = SVC(kernel='rbf', C=1.0)\n",
        "model.fit(X_train_scaled, y_train)\n",
        "\n",
        "# Predict on test set\n",
        "y_pred = model.predict(X_test_scaled)\n",
        "\n",
        "# Confusion matrix\n",
        "cm = confusion_matrix(y_test, y_pred)\n",
        "\n",
        "# Visualize using seaborn\n",
        "plt.figure(figsize=(6, 5))\n",
        "sns.heatmap(cm, annot=True, fmt='d', cmap='Blues',\n",
        "            xticklabels=class_names,\n",
        "            yticklabels=class_names)\n",
        "plt.title('SVM Confusion Matrix')\n",
        "plt.xlabel('Predicted Label')\n",
        "plt.ylabel('True Label')\n",
        "plt.tight_layout()\n",
        "plt.show()\n",
        "\n",
        "# Optional: Classification Report\n",
        "print(\"\\nClassification Report:\\n\")\n",
        "print(classification_report(y_test, y_pred, target_names=class_names))\n"
      ],
      "metadata": {
        "id": "QhB67ImssH4W",
        "colab": {
          "base_uri": "https://localhost:8080/",
          "height": 733
        },
        "outputId": "f68d304c-8640-4e21-96bf-9d73a80bd07a"
      },
      "execution_count": 26,
      "outputs": [
        {
          "output_type": "display_data",
          "data": {
            "text/plain": [
              "<Figure size 600x500 with 2 Axes>"
            ],
            "image/png": "[encoded data removed]"
          },
          "metadata": {}
        },
        {
          "output_type": "stream",
          "name": "stdout",
          "text": [
            "\n",
            "Classification Report:\n",
            "\n",
            "              precision    recall  f1-score   support\n",
            "\n",
            "      setosa       1.00      1.00      1.00        19\n",
            "  versicolor       1.00      1.00      1.00        13\n",
            "   virginica       1.00      1.00      1.00        13\n",
            "\n",
            "    accuracy                           1.00        45\n",
            "   macro avg       1.00      1.00      1.00        45\n",
            "weighted avg       1.00      1.00      1.00        45\n",
            "\n"
          ]
        }
      ]
    },
    {
      "cell_type": "code",
      "source": [
        "#Ques -24.  Write a Python program to train an SVM Regressor (SVR) and evaluate its performance using Mean Absolute Error (MAE) instead of MSE.\n",
        "from sklearn.datasets import fetch_california_housing\n",
        "from sklearn.model_selection import train_test_split\n",
        "from sklearn.preprocessing import StandardScaler\n",
        "from sklearn.svm import SVR\n",
        "from sklearn.metrics import mean_absolute_error\n",
        "\n",
        "# Load the California housing dataset\n",
        "data = fetch_california_housing()\n",
        "X, y = data.data, data.target\n",
        "\n",
        "# Split dataset into training and test sets\n",
        "X_train, X_test, y_train, y_test = train_test_split(\n",
        "    X, y, test_size=0.3, random_state=42\n",
        ")\n",
        "\n",
        "# Feature scaling\n",
        "scaler = StandardScaler()\n",
        "X_train_scaled = scaler.fit_transform(X_train)\n",
        "X_test_scaled = scaler.transform(X_test)\n",
        "\n",
        "# Train SVR model\n",
        "svr = SVR(kernel='rbf', C=100, gamma=0.1)\n",
        "svr.fit(X_train_scaled, y_train)\n",
        "\n",
        "# Predict and evaluate using Mean Absolute Error\n",
        "y_pred = svr.predict(X_test_scaled)\n",
        "mae = mean_absolute_error(y_test, y_pred)\n",
        "print(f\"Mean Absolute Error of SVR: {mae:.2f}\")\n"
      ],
      "metadata": {
        "id": "UMXLiCMBsJV1",
        "colab": {
          "base_uri": "https://localhost:8080/"
        },
        "outputId": "0e040402-b084-4cf7-bb40-c54f08746807"
      },
      "execution_count": 27,
      "outputs": [
        {
          "output_type": "stream",
          "name": "stdout",
          "text": [
            "Mean Absolute Error of SVR: 0.37\n"
          ]
        }
      ]
    },
    {
      "cell_type": "code",
      "source": [
        "#Ques -25. Write a Python program to train a Naïve Bayes classifier and evaluate its performance using the ROC-AUC score.\n",
        "from sklearn.datasets import load_breast_cancer\n",
        "from sklearn.model_selection import train_test_split\n",
        "from sklearn.naive_bayes import GaussianNB\n",
        "from sklearn.preprocessing import StandardScaler\n",
        "from sklearn.metrics import roc_auc_score\n",
        "from sklearn.preprocessing import label_binarize\n",
        "\n",
        "# Load the Breast Cancer dataset\n",
        "data = load_breast_cancer()\n",
        "X = data.data\n",
        "y = data.target\n",
        "\n",
        "# Split into training and test sets\n",
        "X_train, X_test, y_train, y_test = train_test_split(\n",
        "    X, y, test_size=0.3, random_state=42\n",
        ")\n",
        "\n",
        "# Scale the features\n",
        "scaler = StandardScaler()\n",
        "X_train_scaled = scaler.fit_transform(X_train)\n",
        "X_test_scaled = scaler.transform(X_test)\n",
        "\n",
        "# Train Naïve Bayes classifier\n",
        "model = GaussianNB()\n",
        "model.fit(X_train_scaled, y_train)\n",
        "\n",
        "# Predict probabilities\n",
        "y_proba = model.predict_proba(X_test_scaled)[:, 1]  # probability of positive class\n",
        "\n",
        "# Evaluate using ROC-AUC score\n",
        "roc_auc = roc_auc_score(y_test, y_proba)\n",
        "print(f\"ROC-AUC Score: {roc_auc:.4f}\")\n"
      ],
      "metadata": {
        "id": "ZiiUKQRBsKtq",
        "colab": {
          "base_uri": "https://localhost:8080/"
        },
        "outputId": "443a09ea-0788-4bf8-aea8-5c0a0332e10f"
      },
      "execution_count": 29,
      "outputs": [
        {
          "output_type": "stream",
          "name": "stdout",
          "text": [
            "ROC-AUC Score: 0.9927\n"
          ]
        }
      ]
    },
    {
      "cell_type": "code",
      "source": [
        "#Ques -26. Write a Python program to train an SVM Classifier and visualize the Precision-Recall Curve.\n",
        "import matplotlib.pyplot as plt\n",
        "from sklearn.datasets import load_breast_cancer\n",
        "from sklearn.model_selection import train_test_split\n",
        "from sklearn.preprocessing import StandardScaler\n",
        "from sklearn.svm import SVC\n",
        "from sklearn.metrics import precision_recall_curve, average_precision_score\n",
        "\n",
        "# Load the Breast Cancer dataset\n",
        "data = load_breast_cancer()\n",
        "X, y = data.data, data.target\n",
        "\n",
        "# Split the dataset\n",
        "X_train, X_test, y_train, y_test = train_test_split(\n",
        "    X, y, test_size=0.3, random_state=42\n",
        ")\n",
        "\n",
        "# Scale the features\n",
        "scaler = StandardScaler()\n",
        "X_train_scaled = scaler.fit_transform(X_train)\n",
        "X_test_scaled = scaler.transform(X_test)\n",
        "\n",
        "# Train the SVM classifier with probability estimates\n",
        "model = SVC(kernel='rbf', C=1.0, probability=True)\n",
        "model.fit(X_train_scaled, y_train)\n",
        "\n",
        "# Get probabilities for the positive class\n",
        "y_scores = model.predict_proba(X_test_scaled)[:, 1]\n",
        "\n",
        "# Compute precision-recall curve and average precision\n",
        "precision, recall, _ = precision_recall_curve(y_test, y_scores)\n",
        "avg_precision = average_precision_score(y_test, y_scores)\n",
        "\n",
        "# Plot the Precision-Recall curve\n",
        "plt.figure(figsize=(8, 6))\n",
        "plt.plot(recall, precision, label=f'AP = {avg_precision:.2f}', color='blue')\n",
        "plt.xlabel('Recall')\n",
        "plt.ylabel('Precision')\n",
        "plt.title('Precision-Recall Curve (SVM)')\n",
        "plt.legend()\n",
        "plt.grid(True)\n",
        "plt.tight_layout()\n",
        "plt.show()\n"
      ],
      "metadata": {
        "id": "F42ZKKMhuJQ5",
        "colab": {
          "base_uri": "https://localhost:8080/",
          "height": 607
        },
        "outputId": "636b1528-bf79-48bc-8f93-70b4b3f7e176"
      },
      "execution_count": 28,
      "outputs": [
        {
          "output_type": "display_data",
          "data": {
            "text/plain": [
              "<Figure size 800x600 with 1 Axes>"
            ],
            "image/png": "[encoded data removed]"
          },
          "metadata": {}
        }
      ]
    }
  ]
}