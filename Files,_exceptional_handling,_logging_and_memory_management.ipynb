{
  "nbformat": 4,
  "nbformat_minor": 0,
  "metadata": {
    "colab": {
      "provenance": []
    },
    "kernelspec": {
      "name": "python3",
      "display_name": "Python 3"
    },
    "language_info": {
      "name": "python"
    }
  },
  "cells": [
    {
      "cell_type": "markdown",
      "source": [
        "# **Files, exceptional handling, logging and memory management Questions**"
      ],
      "metadata": {
        "id": "7MPS9v4crrlp"
      }
    },
    {
      "cell_type": "markdown",
      "source": [
        " Ques -1. What is the difference between interpreted and compiled languages?\n",
        "\n",
        " --> **Compiled Languages:** In a compiled language, the code is translated into machine code before execution using a compiler. This means the entire program is converted into an executable file (.exe, .out, etc.), which the computer runs directly. Because the compilation happens before execution, compiled languages tend to be faster when running but require a separate step to compile before execution. Examples include C, C++, Rust, and Go.\n",
        "\n",
        "**Interpreted Languages:** In an interpreted language, the code is translated on the fly during execution using an interpreter. Instead of converting everything into machine code upfront, the interpreter reads and executes the code line by line. This makes interpreted languages more flexible (you don’t need a compilation step), but they tend to run slower compared to compiled languages. Examples include Python, JavaScript, Ruby, and PHP."
      ],
      "metadata": {
        "id": "vYZGWAy6RsfI"
      }
    },
    {
      "cell_type": "markdown",
      "source": [
        "Ques -2.  What is exception handling in Python?\n",
        "\n",
        "--> Exception handling in Python is a mechanism that allows you to gracefully handle runtime errors instead of letting them crash your program. It helps you anticipate and manage potential issues, such as dividing by zero, accessing an invalid index in a list, or trying to open a file that doesn’t exist."
      ],
      "metadata": {
        "id": "H8wQQK_TRyum"
      }
    },
    {
      "cell_type": "markdown",
      "source": [
        "Ques -3. What is the purpose of the finally block in exception handling?\n",
        "\n",
        "--> The finally block in exception handling serves an important role—ensuring that certain code always executes, regardless of whether an exception occurs or not. It’s commonly used for cleanup operations, such as closing files, releasing resources, or disconnecting from a database."
      ],
      "metadata": {
        "id": "352J0ZANR8Sv"
      }
    },
    {
      "cell_type": "markdown",
      "source": [
        "Ques -4. What is logging in Python?\n",
        "\n",
        "--> Logging in Python is a powerful mechanism used to track events and errors in your programs. It helps developers understand what's happening behind the scenes, diagnose issues, and maintain a record of actions for debugging or monitoring purposes."
      ],
      "metadata": {
        "id": "0Ng4RDc8SFkO"
      }
    },
    {
      "cell_type": "markdown",
      "source": [
        "Ques -5. What is the significance of the __del__ method in Python?\n",
        "\n",
        "--> The __del__ method in Python is called a destructor and is used for object cleanup before an object is destroyed. It is automatically triggered when an object goes out of scope or is explicitly deleted using del."
      ],
      "metadata": {
        "id": "nQcsSwJaSNld"
      }
    },
    {
      "cell_type": "markdown",
      "source": [
        "Ques -6. What is the difference between import and from ... import in Python?\n",
        "\n",
        "--> **1. Using import**\n",
        "- This method imports the entire module.\n",
        "\n",
        "- To use functions or variables from the module, you need to prefix them with the module name.\n",
        "\n",
        "Example:\n",
        "\n",
        "import math  \n",
        "\n",
        "print(math.sqrt(25))\n",
        "\n",
        "**Using from ... import**\n",
        "\n",
        "- This method imports specific components from a module.\n",
        "\n",
        "- You don’t need to prefix the function/variable with the module name.\n",
        "\n",
        "Example:\n",
        "python\n",
        "from math import sqrt  \n",
        "\n",
        "print(sqrt(25))"
      ],
      "metadata": {
        "id": "yMdfgCY6Ssu4"
      }
    },
    {
      "cell_type": "markdown",
      "source": [
        "Ques -7.  How can you handle multiple exceptions in Python?\n",
        "\n",
        "--> You can handle multiple exceptions in various ways to ensure your code runs smoothly even when multiple potential errors might occur. Here are some common approaches:\n",
        "\n",
        "**1. Handling Multiple Exceptions with Separate except Blocks**\n",
        "\n",
        "You can specify multiple except blocks to handle different types of exceptions separately.\n",
        "\n",
        "try:\n",
        "    num = int(input(\"Enter a number: \"))\n",
        "    result = 10 / num\n",
        "except ValueError:\n",
        "    print(\"Invalid input! Please enter a valid number.\")\n",
        "except ZeroDivisionError:\n",
        "    print(\"You can't divide by zero!\")\n",
        "\n",
        "**2. Handling Multiple Exceptions in a Single except Block**\n",
        "\n",
        "If you want to handle multiple exceptions with the same block, you can use a tuple.\n",
        "\n",
        "try:\n",
        "    num = int(input(\"Enter a number: \"))\n",
        "    result = 10 / num\n",
        "except (ValueError, ZeroDivisionError) as e:\n",
        "    print(f\"An error occurred: {e}\")\n"
      ],
      "metadata": {
        "id": "eY65D419Sxyi"
      }
    },
    {
      "cell_type": "markdown",
      "source": [
        "Ques -8. What is the purpose of the with statement when handling files in Python?\n",
        "\n",
        "--> The with statement in Python is used for simpler and safer file handling. It ensures that a file is properly closed after its operations, even if an error occurs during execution. This helps prevent issues like file corruption or resource leaks."
      ],
      "metadata": {
        "id": "ctldblh4VCUJ"
      }
    },
    {
      "cell_type": "markdown",
      "source": [
        "Ques -9. What is the difference between multithreading and multiprocessing?\n",
        "\n",
        "--> *Multithreading * Uses multiple threads within the same process.\n",
        "\n",
        "Threads share the same memory space, making communication easier but also introducing the risk of race conditions and synchronization issues.\n",
        "\n",
        "Best for I/O-bound tasks like web scraping, file reading/writing, or network communication.\n",
        "\n",
        "In Python, multithreading is limited by the Global Interpreter Lock (GIL), which prevents multiple threads from executing Python bytecode simultaneously.\n",
        "\n",
        "Example:\n",
        "\n",
        "import threading\n",
        "\n",
        "def print_numbers(): for i in range(5): print(i)\n",
        "\n",
        "thread1 = threading.Thread(target=print_numbers) thread2 = threading.Thread(target=print_numbers)\n",
        "\n",
        "thread1.start() thread2.start()\n",
        "\n",
        "*Multiprocessing *\n",
        "\n",
        "Uses multiple processes, each with its own memory space.\n",
        "\n",
        "Processes run independently, avoiding GIL restrictions and making multiprocessing ideal for CPU-bound tasks like data processing, machine learning, and parallel computation.\n",
        "\n",
        "Uses more system resources than multithreading but achieves better true parallelism.\n",
        "\n",
        "Example: import multiprocessing\n",
        "\n",
        "def print_numbers(): for i in range(5): print(i)\n",
        "\n",
        "process1 = multiprocessing.Process(target=print_numbers) process2 = multiprocessing.Process(target=print_numbers)\n",
        "\n",
        "process1.start() process2.start()"
      ],
      "metadata": {
        "id": "M6pWG8c0VdPd"
      }
    },
    {
      "cell_type": "markdown",
      "source": [
        "Ques -10. What are the advantages of using logging in a program?\n",
        "\n",
        "--> **1. Easier Debugging and Troubleshooting**\n",
        "Logging helps track down errors and unexpected behavior efficiently. Instead of relying on print() statements, logs provide a structured record of events that occurred in your program.\n",
        "\n",
        "**2. Maintains a History of Events **\n",
        "Logs act as a permanent record of activities, making it easy to analyze past executions and diagnose issues even after the program has stopped running."
      ],
      "metadata": {
        "id": "W0c4cY6CVl9n"
      }
    },
    {
      "cell_type": "markdown",
      "source": [
        "Ques -11. What is memory management in Python?\n",
        "\n",
        "--> Memory management in Python refers to how the language allocates, uses, and frees memory during program execution. Python has an efficient memory management system that includes automatic garbage collection, dynamic memory allocation, and reference counting."
      ],
      "metadata": {
        "id": "TOSQImVpV5rr"
      }
    },
    {
      "cell_type": "markdown",
      "source": [
        "Ques -12. What are the basic steps involved in exception handling in Python?\n",
        "\n",
        "--> Exception handling in Python allows programs to gracefully manage errors instead of crashing. It ensures that unexpected situations, like invalid user input or unavailable resources, are handled properly.\n",
        "\n",
        "Basic Steps in Exception Handling:\n",
        "1. Use a try block: Place the code that might cause an exception inside a try block.\n",
        " 2. Define except blocks: Specify what should happen if a particular exception occurs.\n",
        " 3. Use else (optional): Run code only if no exception occurs.\n",
        " 4. Use finally (optional): Execute cleanup actions, whether an exception occurs or not."
      ],
      "metadata": {
        "id": "e_r29JKvV-t3"
      }
    },
    {
      "cell_type": "markdown",
      "source": [
        "Ques -13. Why is memory management important in Python?\n",
        "\n",
        "--> Memory management is crucial in Python because it directly affects performance, efficiency, and the stability of applications. Python's built-in memory management system ensures optimal resource utilization, prevents memory leaks, and enables automatic cleanup of unused objects."
      ],
      "metadata": {
        "id": "uqV_KeJJWJkK"
      }
    },
    {
      "cell_type": "markdown",
      "source": [
        "Ques -14. What is the role of try and except in exception handling?\n",
        "\n",
        "--> The try and except blocks are core components of exception handling in Python, allowing you to gracefully manage errors instead of letting them crash your program.\n",
        "\n",
        "Role of try: Identifying Risky Code\n",
        "The try block contains the code that might cause an exception.\n",
        "\n",
        "If no errors occur, the program executes normally.\n",
        "\n",
        "If an error does occur, execution jumps directly to the corresponding except block.\n",
        "\n",
        "Role of except: Handling Errors\n",
        "The except block defines how to respond to specific exceptions.\n",
        "\n",
        "Prevents unexpected crashes by catching errors and executing fallback logic.\n",
        "\n",
        "Multiple except blocks can handle different error types.\n"
      ],
      "metadata": {
        "id": "3_sWh57-WenT"
      }
    },
    {
      "cell_type": "markdown",
      "source": [
        "Ques -15. How does Python's garbage collection system work?\n",
        "\n",
        "--> Python's garbage collection system automatically manages memory by cleaning up unused objects, ensuring efficient resource utilization and preventing memory leaks. It primarily relies on reference counting and a cyclic garbage collector."
      ],
      "metadata": {
        "id": "3fitW7qmWi7G"
      }
    },
    {
      "cell_type": "markdown",
      "source": [
        "Ques -16. What is the purpose of the else block in exception handling?\n",
        "\n",
        "--> The else block in exception handling serves a specific purpose: it executes code only if no exception occurs in the try block. This helps separate normal execution from error-handling, making the code cleaner and more structured."
      ],
      "metadata": {
        "id": "LR3ckqeoW5xZ"
      }
    },
    {
      "cell_type": "markdown",
      "source": [
        "Ques -17. What are the common logging levels in Python?\n",
        "\n",
        "--> Python's logging module provides five standard logging levels to categorize events based on their severity. These levels help developers track, debug, and monitor applications efficiently."
      ],
      "metadata": {
        "id": "F21cy30EXKWv"
      }
    },
    {
      "cell_type": "markdown",
      "source": [
        "Ques -18. What is the difference between os.fork() and multiprocessing in Python?\n",
        "\n",
        "--> 1. os.fork(): Low-Level Process Creation\n",
        "Creates a child process by duplicating the parent process.\n",
        "\n",
        "Only available on Unix-based systems (not supported on Windows).\n",
        "\n",
        "The child process shares the same memory space initially but runs independently.\n",
        "\n",
        "Developers must handle process communication manually (e.g., using pipes or shared memory).\n",
        "\n",
        "2. multiprocessing: High-Level Process Handling\n",
        "Provides a cross-platform way to create and manage multiple processes.\n",
        "\n",
        "Uses separate memory spaces, avoiding shared memory complexities.\n",
        "\n",
        "Has built-in communication mechanisms (queues, pipes, shared values).\n",
        "\n",
        "More Pythonic and preferred for CPU-intensive tasks."
      ],
      "metadata": {
        "id": "TTL-6ffiXmIH"
      }
    },
    {
      "cell_type": "markdown",
      "source": [
        "Ques -19. What is the importance of closing a file in Python?\n",
        "\n",
        "-->  Closing a file in Python is essential for proper resource management and preventing unexpected issues in your program. When a file is opened, the system allocates memory and resources for it. If you don’t close the file properly, it can lead to resource leaks, data corruption, or locking issues."
      ],
      "metadata": {
        "id": "fFqS127cXzwE"
      }
    },
    {
      "cell_type": "markdown",
      "source": [
        "Ques -20. What is the difference between file.read() and file.readline() in Python?\n",
        "\n",
        "--> 1. file.read() – Reads the Entire File or a Specific Number of Characters\n",
        "This method reads the entire file into a single string if no argument is provided.\n",
        "\n",
        "If a number (e.g., file.read(10)) is specified, it reads only that many characters.\n",
        "\n",
        "2. file.readline() – Reads One Line at a Time\n",
        "Instead of reading the entire file, readline() retrieves just one line at a time.\n",
        "\n",
        "Each call to readline() moves to the next line."
      ],
      "metadata": {
        "id": "tc5ULX66YB2U"
      }
    },
    {
      "cell_type": "markdown",
      "source": [
        "Ques -21. What is the logging module in Python used for?\n",
        "\n",
        "-->  The logging module in Python is used for tracking events, debugging, and monitoring applications in a structured way. Instead of relying on print() statements, logging provides different severity levels, configurable output formats, and support for writing logs to files or external systems."
      ],
      "metadata": {
        "id": "9De1ve1BYi9k"
      }
    },
    {
      "cell_type": "markdown",
      "source": [
        "Ques -22. What is the os module in Python used for in file handling?\n",
        "\n",
        "--> The os module in Python provides operating system-related functions, making it essential for file and directory handling. It allows developers to interact with the file system, manipulate paths, and manage files and directories dynamically."
      ],
      "metadata": {
        "id": "DX0AHupuZSzA"
      }
    },
    {
      "cell_type": "markdown",
      "source": [
        "Ques -23. What are the challenges associated with memory management in Python?\n",
        "\n",
        "--> Memory management in Python is efficient, thanks to automatic garbage collection and dynamic memory allocation, but it does come with challenges. Here are some common issues developers face:\n",
        "\n",
        "1. Garbage Collection Overhead 🚀\n",
        "Python uses garbage collection to free memory, but frequent garbage collection cycles can impact performance.\n",
        "\n",
        "Solution: Tune garbage collection settings using the gc module for optimization."
      ],
      "metadata": {
        "id": "qd7iJfhpZX52"
      }
    },
    {
      "cell_type": "markdown",
      "source": [
        "Ques -24. How do you raise an exception manually in Python?\n",
        "\n",
        "--> you can manually raise an exception using the raise keyword. This is useful when you need to signal an error condition deliberately, such as when a function receives invalid input or when enforcing specific constraints in your code."
      ],
      "metadata": {
        "id": "mE9YABcjZlsi"
      }
    },
    {
      "cell_type": "markdown",
      "source": [
        "Ques -25. Why is it important to use multithreading in certain applications?\n",
        "\n",
        "--> Multithreading is important in certain applications because it allows programs to execute multiple tasks simultaneously, leading to better performance, efficiency, and responsiveness."
      ],
      "metadata": {
        "id": "Ilr2ulAeaKZj"
      }
    },
    {
      "cell_type": "markdown",
      "source": [
        "# **Practical Questions**"
      ],
      "metadata": {
        "id": "PiX8SKABaWim"
      }
    },
    {
      "cell_type": "code",
      "source": [
        "# Ques -1.  How can you open a file for writing in Python and write a string to it?\n",
        "with open(\"testing.txt\", \"w\") as file:\n",
        "    file.write(\"Hello, this is a test string!\")\n"
      ],
      "metadata": {
        "id": "Ga0jXzsyag1V"
      },
      "execution_count": 4,
      "outputs": []
    },
    {
      "cell_type": "code",
      "source": [
        "# Ques -2.  Write a Python program to read the contents of a file and print each line.\n",
        "with open(\"testing.txt\", \"r\") as file:\n",
        "    for line in file:\n",
        "        print(line)"
      ],
      "metadata": {
        "colab": {
          "base_uri": "https://localhost:8080/"
        },
        "id": "CxcVcOAfced8",
        "outputId": "a8c10da0-0e1c-4219-9dd7-1204fb3de506"
      },
      "execution_count": 5,
      "outputs": [
        {
          "output_type": "stream",
          "name": "stdout",
          "text": [
            "Hello, this is a test string!\n"
          ]
        }
      ]
    },
    {
      "cell_type": "code",
      "source": [
        "# Ques -3. How would you handle a case where the file doesn't exist while trying to open it for reading?\n",
        "import os\n",
        "\n",
        "filename = \"nonexistent.txt\"\n",
        "\n",
        "if os.path.exists(filename):\n",
        "    with open(filename, \"r\") as file:\n",
        "        content = file.read()\n",
        "        print(content)\n",
        "else:\n",
        "    print(f\"File '{filename}' does not exist!\")\n"
      ],
      "metadata": {
        "colab": {
          "base_uri": "https://localhost:8080/"
        },
        "id": "0AdD9p0icxWf",
        "outputId": "86648f74-f275-43f3-a10b-fe1ca6da26e8"
      },
      "execution_count": 6,
      "outputs": [
        {
          "output_type": "stream",
          "name": "stdout",
          "text": [
            "File 'nonexistent.txt' does not exist!\n"
          ]
        }
      ]
    },
    {
      "cell_type": "code",
      "source": [
        "# Ques -4. Write a Python script that reads from one file and writes its content to another file.\n",
        "with open(\"testing.txt\", \"r\") as source_file:\n",
        "    content = source_file.read()\n",
        "\n",
        "with open(\"new_file.txt\", \"w\") as destination_file:\n",
        "    destination_file.write(content)"
      ],
      "metadata": {
        "id": "_E5HNkzcdJ_L"
      },
      "execution_count": 10,
      "outputs": []
    },
    {
      "cell_type": "code",
      "source": [
        "# Ques -5. How would you catch and handle division by zero error in Python?\n",
        "try:\n",
        "    num = int(input(\"Enter a number: \"))\n",
        "    result = 10 / num\n",
        "except ZeroDivisionError:\n",
        "    print(\"Error: Division by zero is not allowed!\")\n",
        "except ValueError:\n",
        "    print(\"Error: Please enter a valid number!\")\n"
      ],
      "metadata": {
        "colab": {
          "base_uri": "https://localhost:8080/"
        },
        "id": "j9hRLLOndVUj",
        "outputId": "ebc5eda6-ece7-462f-f274-8b601c50112b"
      },
      "execution_count": 12,
      "outputs": [
        {
          "output_type": "stream",
          "name": "stdout",
          "text": [
            "Enter a number: 0\n",
            "Error: Division by zero is not allowed!\n"
          ]
        }
      ]
    },
    {
      "cell_type": "code",
      "source": [
        "# Ques -6. Write a Python program that logs an error message to a log file when a division by zero exception occurs.\n",
        "import logging\n",
        "\n",
        "\n",
        "logging.basicConfig(filename=\"error_log.txt\", level=logging.ERROR, format=\"%(asctime)s - %(levelname)s - %(message)s\")\n",
        "\n",
        "def divide_numbers(a, b):\n",
        "    try:\n",
        "        result = a / b\n",
        "        print(f\"Result: {result}\")\n",
        "    except ZeroDivisionError as e:\n",
        "        logging.error(f\"Division by zero error: {e}\")\n",
        "        print(\"Error: You can't divide by zero! Check error_log.txt for details.\")\n",
        "\n",
        "\n",
        "num1 = 10\n",
        "num2 = 0\n",
        "divide_numbers(num1, num2)\n"
      ],
      "metadata": {
        "colab": {
          "base_uri": "https://localhost:8080/"
        },
        "id": "9ZcHeDozebXb",
        "outputId": "ab23d5a5-846c-4deb-e865-f78bc7b10a55"
      },
      "execution_count": 13,
      "outputs": [
        {
          "output_type": "stream",
          "name": "stderr",
          "text": [
            "ERROR:root:Division by zero error: division by zero\n"
          ]
        },
        {
          "output_type": "stream",
          "name": "stdout",
          "text": [
            "Error: You can't divide by zero! Check error_log.txt for details.\n"
          ]
        }
      ]
    },
    {
      "cell_type": "code",
      "source": [
        "# Ques-7. How do you log information at different levels (INFO, ERROR, WARNING) in Python using the logging module?\n",
        "import logging\n",
        "\n",
        "\n",
        "logging.basicConfig(\n",
        "    level=logging.DEBUG,\n",
        "    format=\"%(asctime)s - %(levelname)s - %(message)s\",\n",
        "    filename=\"app.log\",\n",
        "    filemode=\"w\"\n",
        ")\n",
        "\n",
        "\n",
        "logging.debug(\"This is a DEBUG message (useful for troubleshooting).\")\n",
        "logging.info(\"This is an INFO message (general information).\")\n",
        "logging.warning(\"This is a WARNING message (potential problem).\")\n",
        "logging.error(\"This is an ERROR message (something went wrong).\")\n",
        "logging.critical(\"This is a CRITICAL message (severe issue).\")\n"
      ],
      "metadata": {
        "colab": {
          "base_uri": "https://localhost:8080/"
        },
        "id": "7u3yMucRe4-M",
        "outputId": "c43692dd-003c-4c33-a461-30f22f5da8e0"
      },
      "execution_count": 14,
      "outputs": [
        {
          "output_type": "stream",
          "name": "stderr",
          "text": [
            "WARNING:root:This is a WARNING message (potential problem).\n",
            "ERROR:root:This is an ERROR message (something went wrong).\n",
            "CRITICAL:root:This is a CRITICAL message (severe issue).\n"
          ]
        }
      ]
    },
    {
      "cell_type": "code",
      "source": [
        "# Ques- 8. Write a program to handle a file opening error using exception handling.\n",
        "try:\n",
        "    filename = \"non_existent_file.txt\"\n",
        "    with open(filename, \"r\") as file:\n",
        "        content = file.read()\n",
        "        print(content)\n",
        "except FileNotFoundError:\n",
        "    print(f\"Error: The file '{filename}' was not found.\")\n",
        "except PermissionError:\n",
        "    print(f\"Error: You don't have permission to access '{filename}'.\")\n",
        "except Exception as e:\n",
        "    print(f\"An unexpected error occurred: {e}\")\n"
      ],
      "metadata": {
        "colab": {
          "base_uri": "https://localhost:8080/"
        },
        "id": "CaK6Wd8DflsI",
        "outputId": "0e8c23d1-192f-43bc-d13f-5d759753195a"
      },
      "execution_count": 15,
      "outputs": [
        {
          "output_type": "stream",
          "name": "stdout",
          "text": [
            "Error: The file 'non_existent_file.txt' was not found.\n"
          ]
        }
      ]
    },
    {
      "cell_type": "code",
      "source": [
        "# Ques -9. How can you read a file line by line and store its content in a list in Python?\n",
        "with open(\"testing.txt\", \"r\") as file:\n",
        "    lines = file.readlines()\n",
        "\n",
        "for line in lines:\n",
        "    print(line)"
      ],
      "metadata": {
        "colab": {
          "base_uri": "https://localhost:8080/"
        },
        "id": "ZnxVg2iff4AO",
        "outputId": "d596c96c-cbec-4fb4-e32d-4c58e18abbec"
      },
      "execution_count": 16,
      "outputs": [
        {
          "output_type": "stream",
          "name": "stdout",
          "text": [
            "Hello, this is a test string!\n"
          ]
        }
      ]
    },
    {
      "cell_type": "code",
      "source": [
        "# Ques -10. How can you append data to an existing file in Python?\n",
        "with open(\"testing.txt\", \"a\") as file:\n",
        "    file.write(\"\\nThis is a new line appended to the file.\")"
      ],
      "metadata": {
        "id": "tCyzNolGgKrQ"
      },
      "execution_count": 20,
      "outputs": []
    },
    {
      "cell_type": "code",
      "source": [
        "# Ques -11.  Write a Python program that uses a try-except block to handle an error when attempting to access a dictionary key that doesn't exist.\n",
        "\n",
        "student_scores = {\"Alice\": 85, \"Bob\": 90, \"Charlie\": 78}\n",
        "try:\n",
        "    name = \"David\"\n",
        "    score = student_scores[name]\n",
        "    print(f\"{name}'s score is {score}\")\n",
        "except KeyError:\n",
        "    print(f\"Error: The key '{name}' does not exist in the dictionary.\")\n"
      ],
      "metadata": {
        "colab": {
          "base_uri": "https://localhost:8080/"
        },
        "id": "4D7G08UdgtpZ",
        "outputId": "5a1eedc7-6d52-4bbe-b098-e3d9df2bc15a"
      },
      "execution_count": 21,
      "outputs": [
        {
          "output_type": "stream",
          "name": "stdout",
          "text": [
            "Error: The key 'David' does not exist in the dictionary.\n"
          ]
        }
      ]
    },
    {
      "cell_type": "code",
      "source": [
        "#Ques -12.  Write a program that demonstrates using multiple except blocks to handle different types of exceptions.\n",
        "try:\n",
        "\n",
        "    num1 = int(input(\"Enter a number: \"))\n",
        "    num2 = int(input(\"Enter another number: \"))\n",
        "    result = num1 / num2\n",
        "    my_list = [1, 2, 3]\n",
        "    print(my_list[5])\n",
        "\n",
        "except ValueError:\n",
        "    print(\"Error: Invalid input! Please enter a valid integer.\")\n",
        "\n",
        "except ZeroDivisionError:\n",
        "    print(\"Error: Division by zero is not allowed.\")\n",
        "\n",
        "except IndexError:\n",
        "    print(\"Error: List index out of range.\")\n",
        "\n",
        "except Exception as e:\n",
        "    print(f\"An unexpected error occurred: {e}\")\n"
      ],
      "metadata": {
        "colab": {
          "base_uri": "https://localhost:8080/"
        },
        "id": "Rrd0JuOthVnD",
        "outputId": "f96da72f-e353-49d5-af28-e69bb14bb2b4"
      },
      "execution_count": 25,
      "outputs": [
        {
          "output_type": "stream",
          "name": "stdout",
          "text": [
            "Enter a number: 1\n",
            "Enter another number: 1\n",
            "Error: List index out of range.\n"
          ]
        }
      ]
    },
    {
      "cell_type": "code",
      "source": [
        "#Ques -13. How would you check if a file exists before attempting to read it in Python?\n",
        "import os\n",
        "\n",
        "filename = \"example.txt\"\n",
        "\n",
        "if os.path.exists(filename):\n",
        "    with open(filename, \"r\") as file:\n",
        "        content = file.read()\n",
        "        print(content)\n",
        "else:\n",
        "    print(f\"Error: The file '{filename}' does not exist.\")\n"
      ],
      "metadata": {
        "colab": {
          "base_uri": "https://localhost:8080/"
        },
        "id": "IUJgM79diZxj",
        "outputId": "06d17e62-01c0-4f6f-ae06-c1282841939c"
      },
      "execution_count": 26,
      "outputs": [
        {
          "output_type": "stream",
          "name": "stdout",
          "text": [
            "Hello, this is a test string!\n"
          ]
        }
      ]
    },
    {
      "cell_type": "code",
      "source": [
        "# Ques -14.  Write a program that uses the logging module to log both informational and error messages.\n",
        "import logging\n",
        "\n",
        "logging.basicConfig(\n",
        "    level=logging.DEBUG,\n",
        "    format=\"%(asctime)s - %(levelname)s - %(message)s\",\n",
        "    filename=\"app.log\",\n",
        "    filemode=\"w\"\n",
        ")\n",
        "\n",
        "def divide_numbers(a, b):\n",
        "    try:\n",
        "        result = a / b\n",
        "        logging.info(f\"Division successful: {a} / {b} = {result}\")\n",
        "        return result\n",
        "    except ZeroDivisionError:\n",
        "        logging.error(\"Error: Division by zero is not allowed.\")\n",
        "        return None\n",
        "    except Exception as e:\n",
        "        logging.error(f\"Unexpected error occurred: {e}\")\n",
        "        return None\n",
        "\n",
        "\n",
        "logging.info(\"Program started.\")\n",
        "print(divide_numbers(10, 2))\n",
        "print(divide_numbers(10, 0))\n",
        "logging.info(\"Program finished.\")\n"
      ],
      "metadata": {
        "colab": {
          "base_uri": "https://localhost:8080/"
        },
        "id": "fMmB4OCjizU9",
        "outputId": "9124c046-ae95-448f-b184-e199174a0609"
      },
      "execution_count": 27,
      "outputs": [
        {
          "output_type": "stream",
          "name": "stderr",
          "text": [
            "ERROR:root:Error: Division by zero is not allowed.\n"
          ]
        },
        {
          "output_type": "stream",
          "name": "stdout",
          "text": [
            "5.0\n",
            "None\n"
          ]
        }
      ]
    },
    {
      "cell_type": "code",
      "source": [
        "# Ques -15.  Write a Python program that prints the content of a file and handles the case when the file is empty.\n",
        "def read_file(filename):\n",
        "    try:\n",
        "        with open(filename, \"r\") as file:\n",
        "            content = file.read()\n",
        "            if content.strip():\n",
        "                print(\"File Content:\\n\")\n",
        "                print(content)\n",
        "            else:\n",
        "                print(f\"Error: The file '{filename}' is empty.\")\n",
        "    except FileNotFoundError:\n",
        "        print(f\"Error: The file '{filename}' was not found.\")\n",
        "    except PermissionError:\n",
        "        print(f\"Error: You don't have permission to access '{filename}'.\")\n",
        "    except Exception as e:\n",
        "        print(f\"An unexpected error occurred: {e}\")\n",
        "filename = \"example.txt\"\n",
        "read_file(filename)\n"
      ],
      "metadata": {
        "colab": {
          "base_uri": "https://localhost:8080/"
        },
        "id": "zAWlq2gQjglk",
        "outputId": "b7929f69-4270-4ea7-b5e1-cfb84a95abb6"
      },
      "execution_count": 28,
      "outputs": [
        {
          "output_type": "stream",
          "name": "stdout",
          "text": [
            "File Content:\n",
            "\n",
            "Hello, this is a test string!\n"
          ]
        }
      ]
    },
    {
      "cell_type": "code",
      "source": [
        "# Ques -16. Demonstrate how to use memory profiling to check the memory usage of a small program.\n",
        "\n",
        "from memory_profiler import profile\n",
        "\n",
        "@profile\n",
        "def create_large_list():\n",
        "    return [i for i in range(10**6)]\n",
        "\n",
        "if __name__ == \"__main__\":\n",
        "    create_large_list()\n"
      ],
      "metadata": {
        "colab": {
          "base_uri": "https://localhost:8080/",
          "height": 384
        },
        "id": "E3309nE8kvqJ",
        "outputId": "226a788f-8704-4b5d-fc36-1f5adf02fced"
      },
      "execution_count": 32,
      "outputs": [
        {
          "output_type": "error",
          "ename": "ModuleNotFoundError",
          "evalue": "No module named 'memory_profiler'",
          "traceback": [
            "\u001b[0;31m---------------------------------------------------------------------------\u001b[0m",
            "\u001b[0;31mModuleNotFoundError\u001b[0m                       Traceback (most recent call last)",
            "\u001b[0;32m<ipython-input-32-10b1dcaa4c99>\u001b[0m in \u001b[0;36m<cell line: 0>\u001b[0;34m()\u001b[0m\n\u001b[1;32m      1\u001b[0m \u001b[0;31m# Ques -16. Demonstrate how to use memory profiling to check the memory usage of a small program.\u001b[0m\u001b[0;34m\u001b[0m\u001b[0;34m\u001b[0m\u001b[0m\n\u001b[1;32m      2\u001b[0m \u001b[0;34m\u001b[0m\u001b[0m\n\u001b[0;32m----> 3\u001b[0;31m \u001b[0;32mfrom\u001b[0m \u001b[0mmemory_profiler\u001b[0m \u001b[0;32mimport\u001b[0m \u001b[0mprofile\u001b[0m\u001b[0;34m\u001b[0m\u001b[0;34m\u001b[0m\u001b[0m\n\u001b[0m\u001b[1;32m      4\u001b[0m \u001b[0;34m\u001b[0m\u001b[0m\n\u001b[1;32m      5\u001b[0m \u001b[0;34m@\u001b[0m\u001b[0mprofile\u001b[0m\u001b[0;34m\u001b[0m\u001b[0;34m\u001b[0m\u001b[0m\n",
            "\u001b[0;31mModuleNotFoundError\u001b[0m: No module named 'memory_profiler'",
            "",
            "\u001b[0;31m---------------------------------------------------------------------------\u001b[0;32m\nNOTE: If your import is failing due to a missing package, you can\nmanually install dependencies using either !pip or !apt.\n\nTo view examples of installing some common dependencies, click the\n\"Open Examples\" button below.\n\u001b[0;31m---------------------------------------------------------------------------\u001b[0m\n"
          ],
          "errorDetails": {
            "actions": [
              {
                "action": "open_url",
                "actionText": "Open Examples",
                "url": "/notebooks/snippets/importing_libraries.ipynb"
              }
            ]
          }
        }
      ]
    },
    {
      "cell_type": "code",
      "source": [
        "# Ques -17. Write a Python program to create and write a list of numbers to a file, one number per line.\n",
        "\n",
        "numbers = list(range(1, 21))\n",
        "filename = \"numbers.txt\"\n",
        "\n",
        "\n",
        "try:\n",
        "    with open(filename, \"w\") as file:\n",
        "        for number in numbers:\n",
        "            file.write(f\"{number}\\n\")\n",
        "    print(f\"Successfully wrote {len(numbers)} numbers to '{filename}'.\")\n",
        "except Exception as e:\n",
        "    print(f\"An error occurred: {e}\")\n"
      ],
      "metadata": {
        "colab": {
          "base_uri": "https://localhost:8080/"
        },
        "id": "TSKrZeCFlkW9",
        "outputId": "1886256e-cd2b-47c6-dc30-2023d29361ee"
      },
      "execution_count": 34,
      "outputs": [
        {
          "output_type": "stream",
          "name": "stdout",
          "text": [
            "Successfully wrote 20 numbers to 'numbers.txt'.\n"
          ]
        }
      ]
    },
    {
      "cell_type": "code",
      "source": [
        "# Ques -18.  How would you implement a basic logging setup that logs to a file with rotation after 1MB?\n",
        "import logging\n",
        "from logging.handlers import RotatingFileHandler\n",
        "log_filename = \"app.log\"\n",
        "log_formatter = logging.Formatter(\"%(asctime)s - %(levelname)s - %(message)s\")\n",
        "\n",
        "handler = RotatingFileHandler(log_filename, maxBytes=1_048_576, backupCount=5)\n",
        "handler.setFormatter(log_formatter)\n",
        "\n",
        "logger = logging.getLogger(\"AppLogger\")\n",
        "logger.setLevel(logging.DEBUG)\n",
        "logger.addHandler(handler)\n",
        "\n",
        "logger.info(\"This is an INFO message.\")\n",
        "logger.warning(\"This is a WARNING message.\")\n",
        "logger.error(\"This is an ERROR message.\")\n",
        "\n",
        "print(f\"Logging setup complete. Logs are stored in '{log_filename}'.\")\n"
      ],
      "metadata": {
        "colab": {
          "base_uri": "https://localhost:8080/"
        },
        "id": "t6YO1um-mhAe",
        "outputId": "ceb2d00c-eba7-4289-b1be-30b9fa7d659d"
      },
      "execution_count": 35,
      "outputs": [
        {
          "output_type": "stream",
          "name": "stderr",
          "text": [
            "INFO:AppLogger:This is an INFO message.\n",
            "WARNING:AppLogger:This is a WARNING message.\n",
            "ERROR:AppLogger:This is an ERROR message.\n"
          ]
        },
        {
          "output_type": "stream",
          "name": "stdout",
          "text": [
            "Logging setup complete. Logs are stored in 'app.log'.\n"
          ]
        }
      ]
    },
    {
      "cell_type": "code",
      "source": [
        "#Ques -19. Write a program that handles both IndexError and KeyError using a try-except block.\n",
        "def handle_exceptions():\n",
        "    try:\n",
        "\n",
        "        my_list = [10, 20, 30]\n",
        "        print(my_list[5])\n",
        "        my_dict = {\"name\": \"Alice\", \"age\": 25}\n",
        "        print(my_dict[\"address\"])\n",
        "\n",
        "    except IndexError:\n",
        "        print(\"Error: List index out of range.\")\n",
        "\n",
        "    except KeyError:\n",
        "        print(\"Error: Key not found in dictionary.\")\n",
        "\n",
        "    except Exception as e:\n",
        "        print(f\"An unexpected error occurred: {e}\")\n",
        "\n",
        "handle_exceptions()\n"
      ],
      "metadata": {
        "colab": {
          "base_uri": "https://localhost:8080/"
        },
        "id": "Lyye78cknfKE",
        "outputId": "dfa4a5d8-b2f4-420b-c66d-483daa37d733"
      },
      "execution_count": 36,
      "outputs": [
        {
          "output_type": "stream",
          "name": "stdout",
          "text": [
            "Error: List index out of range.\n"
          ]
        }
      ]
    },
    {
      "cell_type": "code",
      "source": [
        "# Ques -20. How would you open a file and read its contents using a context manager in Python?\n",
        "filename = \"example.txt\"\n",
        "\n",
        "try:\n",
        "    with open(filename, \"r\") as file:\n",
        "        content = file.read()\n",
        "        print(\"File Content:\\n\")\n",
        "        print(content)\n",
        "except FileNotFoundError:\n",
        "    print(f\"Error: The file '{filename}' does not exist.\")\n",
        "except PermissionError:\n",
        "    print(f\"Error: You don't have permission to access '{filename}'.\")\n",
        "except Exception as e:\n",
        "    print(f\"An unexpected error occurred: {e}\")\n"
      ],
      "metadata": {
        "colab": {
          "base_uri": "https://localhost:8080/"
        },
        "id": "C5146flspGcF",
        "outputId": "01f1ecd0-bffb-4f83-c707-8247f5a6996c"
      },
      "execution_count": 37,
      "outputs": [
        {
          "output_type": "stream",
          "name": "stdout",
          "text": [
            "File Content:\n",
            "\n",
            "Hello, this is a test string!\n"
          ]
        }
      ]
    },
    {
      "cell_type": "code",
      "source": [
        "# Ques -21. Write a Python program that reads a file and prints the number of occurrences of a specific word.\n",
        "def count_word_occurrences(filename, target_word):\n",
        "    try:\n",
        "        with open(filename, \"r\") as file:\n",
        "            content = file.read().lower()\n",
        "            word_count = content.split().count(target_word.lower())\n",
        "            print(f\"The word '{target_word}' appears {word_count} times in '{filename}'.\")\n",
        "    except FileNotFoundError:\n",
        "        print(f\"Error: The file '{filename}' does not exist.\")\n",
        "    except PermissionError:\n",
        "        print(f\"Error: You don't have permission to access '{filename}'.\")\n",
        "    except Exception as e:\n",
        "        print(f\"An unexpected error occurred: {e}\")\n",
        "\n",
        "# Example usage\n",
        "filename = \"example.txt\"\n",
        "target_word = \"Python\"\n",
        "count_word_occurrences(filename, target_word)\n"
      ],
      "metadata": {
        "colab": {
          "base_uri": "https://localhost:8080/"
        },
        "id": "6InhOm_tps6f",
        "outputId": "6106901c-6e0b-4a9c-a307-f5622fe73e7d"
      },
      "execution_count": 39,
      "outputs": [
        {
          "output_type": "stream",
          "name": "stdout",
          "text": [
            "The word 'Python' appears 0 times in 'example.txt'.\n"
          ]
        }
      ]
    },
    {
      "cell_type": "code",
      "source": [
        "# Ques -22. How can you check if a file is empty before attempting to read its contents?\n",
        "import os\n",
        "\n",
        "filename = \"example.txt\"\n",
        "\n",
        "if os.path.exists(filename) and os.path.getsize(filename) > 0:\n",
        "    with open(filename, \"r\") as file:\n",
        "        content = file.read()\n",
        "        print(\"File Content:\\n\", content)\n",
        "else:\n",
        "    print(f\"Error: The file '{filename}' is either empty or does not exist.\")\n"
      ],
      "metadata": {
        "colab": {
          "base_uri": "https://localhost:8080/"
        },
        "id": "BIBkauNaqKBw",
        "outputId": "dec2bde7-28fb-4adb-af07-8cb59d1b74b6"
      },
      "execution_count": 42,
      "outputs": [
        {
          "output_type": "stream",
          "name": "stdout",
          "text": [
            "File Content:\n",
            " Hello, this is a test string!\n"
          ]
        }
      ]
    },
    {
      "cell_type": "code",
      "source": [
        "# Ques -23. Write a Python program that writes to a log file when an error occurs during file handling.\n",
        "import logging\n",
        "\n",
        "logging.basicConfig(\n",
        "    level=logging.ERROR,\n",
        "    format=\"%(asctime)s - %(levelname)s - %(message)s\",\n",
        "    filename=\"error_log.txt\",\n",
        "    filemode=\"w\"\n",
        ")\n",
        "\n",
        "def read_file(filename):\n",
        "    try:\n",
        "        with open(filename, \"r\") as file:\n",
        "            content = file.read()\n",
        "            print(\"File Content:\\n\", content)\n",
        "    except FileNotFoundError:\n",
        "        logging.error(f\"File '{filename}' not found.\")\n",
        "        print(f\"Error: The file '{filename}' does not exist.\")\n",
        "    except PermissionError:\n",
        "        logging.error(f\"Permission denied for file '{filename}'.\")\n",
        "        print(f\"Error: You don't have permission to access '{filename}'.\")\n",
        "    except Exception as e:\n",
        "        logging.error(f\"Unexpected error with file '{filename}': {e}\")\n",
        "        print(f\"An unexpected error occurred: {e}\")\n",
        "\n",
        "filename = \"example.txt\"\n",
        "read_file(filename)\n",
        "print(\"Errors (if any) have been logged to 'error_log.txt'.\")\n"
      ],
      "metadata": {
        "colab": {
          "base_uri": "https://localhost:8080/"
        },
        "id": "z3ndvaZMqyS2",
        "outputId": "55a00a6f-8eaf-47c4-c9cd-d15d2b648f3d"
      },
      "execution_count": 43,
      "outputs": [
        {
          "output_type": "stream",
          "name": "stdout",
          "text": [
            "File Content:\n",
            " Hello, this is a test string!\n",
            "Errors (if any) have been logged to 'error_log.txt'.\n"
          ]
        }
      ]
    }
  ]
}