{
  "nbformat": 4,
  "nbformat_minor": 0,
  "metadata": {
    "colab": {
      "provenance": []
    },
    "kernelspec": {
      "name": "python3",
      "display_name": "Python 3"
    },
    "language_info": {
      "name": "python"
    }
  },
  "cells": [
    {
      "cell_type": "markdown",
      "source": [
        "#Theoretical"
      ],
      "metadata": {
        "id": "g2Wj5_mnGd4L"
      }
    },
    {
      "cell_type": "markdown",
      "source": [
        "Ques -1.  Can we use Bagging for regression problems?\n",
        "\n",
        "-->  Yes, Bagging (Bootstrap Aggregating) can be used for regression problems. The principle remains the same as for classification: multiple models (typically decision trees) are trained on different bootstrap samples of the training data. However, instead of taking a majority vote for the final prediction, the predictions from all the individual models are averaged to produce the final output. This averaging helps to reduce variance and improve the stability of the model."
      ],
      "metadata": {
        "id": "gabWOj6BGjPL"
      }
    },
    {
      "cell_type": "markdown",
      "source": [
        "Ques -2. What is the difference between multiple model training and single model training?\n",
        "\n",
        "-->  **Multiple model training:** Often referred to as ensemble learning, involves training and combining predictions from several individual models to improve overall performance. This can help reduce variance, bias, or improve prediction accuracy.\n",
        "\n",
        "**Single model training:** Focuses on training just one model on the entire dataset. While simpler, a single model might not capture the complexities of the data as effectively as an ensemble."
      ],
      "metadata": {
        "id": "rjxIlcwEG-tn"
      }
    },
    {
      "cell_type": "markdown",
      "source": [
        "Ques -3. Explain the concept of feature randomness in Random Forest.\n",
        "\n",
        "-->  Feature randomness, also known as feature bagging or random subspace method, is a key concept in Random Forest. In addition to training individual decision trees on bootstrap samples of the data (like in Bagging), Random Forest introduces another layer of randomness by considering only a random subset of features at each split point in a decision tree. This means that when a tree is deciding how to split a node, it doesn't consider all available features, but only a random selection of them. This further decorrelates the trees in the forest, making the ensemble more robust to noisy or irrelevant features and generally improving performance."
      ],
      "metadata": {
        "id": "uuvOA3-7Hese"
      }
    },
    {
      "cell_type": "markdown",
      "metadata": {
        "id": "6fbd7825"
      },
      "source": [
        "Ques -4.  What is OOB (Out-of-Bag) Score?\n",
        "\n",
        "-->  OOB (Out-of-Bag) score is a method used to estimate the performance of a Bagging model, such as a Random Forest, without the need for a separate validation set. In Bagging, each tree is trained on a bootstrap sample of the data, meaning some data points are left out of each sample. These left-out data points for a particular tree are its \"out-of-bag\" samples. The OOB score is calculated by using each data point to predict the outcome only for the trees where that data point was in the out-of-bag sample. The average of these predictions across all data points is then used to estimate the model's performance. This provides an unbiased estimate of the generalization error."
      ]
    },
    {
      "cell_type": "markdown",
      "source": [
        "Ques -5. How can you measure the importance of features in a Random Forest model?\n",
        "\n",
        "-->  Measure the importance of features in a Random Forest model in a couple of ways:\n",
        "\n",
        "Mean Decrease in Impurity (MDI): This is the most common method. It calculates the total decrease in impurity (like Gini impurity for classification or mean squared error for regression) brought by splits based on a feature, averaged over all trees in the forest. The higher the decrease, the more important the feature.\n",
        "Mean Decrease in Accuracy (MDA): This method is based on permuting the values of a feature in the out-of-bag samples and measuring the decrease in accuracy. If permuting a feature significantly decreases accuracy, it means the feature is important for prediction."
      ],
      "metadata": {
        "id": "GOWWFVG8IFhp"
      }
    },
    {
      "cell_type": "markdown",
      "metadata": {
        "id": "1e2962aa"
      },
      "source": [
        "Ques -6. Explain the working principle of a Bagging Classifier.\n",
        "\n",
        "-->  A Bagging Classifier works by training multiple base classifiers (typically decision trees) on different bootstrap samples of the training data. Each base classifier makes a prediction, and the final prediction is determined by combining the predictions of all base classifiers. For classification tasks, this is usually done by majority voting, where the class predicted by the most base classifiers is chosen as the final prediction. The core idea is that by averaging or voting across multiple models trained on slightly different data, the overall model becomes more robust and less prone to overfitting, thus reducing variance and improving generalization."
      ]
    },
    {
      "cell_type": "markdown",
      "source": [
        "Ques -7. How do you evaluate a Bagging Classifier’s performance?\n",
        "\n",
        "-->  evaluate the performance of a Bagging Classifier using standard classification metrics such as:\n",
        "\n",
        "Accuracy: The proportion of correctly classified instances.\n",
        "Precision: The ratio of true positives to the total predicted positives.\n",
        "Recall (Sensitivity): The ratio of true positives to the total actual positives.\n",
        "F1-score: The harmonic mean of precision and recall.\n",
        "AUC-ROC: The area under the Receiver Operating Characteristic curve, which measures the classifier's ability to distinguish between classes.\n",
        "Confusion Matrix: A table that summarizes the performance of the classifier by showing the counts of true positives, true negatives, false positives, and false negatives."
      ],
      "metadata": {
        "id": "PS_zeSakIqiZ"
      }
    },
    {
      "cell_type": "markdown",
      "source": [
        "Ques -8. How does a Bagging Regressor work?\n",
        "\n",
        "-->  A Bagging Regressor works similarly to a Bagging Classifier, but adapted for regression tasks. It trains multiple base regressors (typically decision trees) on different bootstrap samples of the training data. Each base regressor makes a prediction for a given input. Instead of taking a majority vote (as in classification), the predictions from all the individual base regressors are averaged to produce the final output. This averaging helps to reduce the variance of the predictions and improve the overall stability and accuracy of the regression model."
      ],
      "metadata": {
        "id": "AMZXKGveI25F"
      }
    },
    {
      "cell_type": "markdown",
      "metadata": {
        "id": "82d37aea"
      },
      "source": [
        "Ques -9. What is the main advantage of ensemble techniques?\n",
        "\n",
        "--> The main advantage of ensemble techniques is their ability to improve the overall performance of a model compared to using a single model. This improvement typically comes from:\n",
        "\n",
        "*   **Reducing Variance:** By averaging or combining predictions from multiple models trained on different subsets of data or features, ensemble methods can reduce the impact of random fluctuations and noise in the data, leading to more stable and reliable predictions.\n",
        "*   **Reducing Bias (in some cases):** While Bagging primarily reduces variance, other ensemble methods like Boosting can also help reduce bias.\n",
        "*   **Improving Accuracy:** By combining the strengths of multiple models, ensemble methods can often achieve higher accuracy than any individual model.\n",
        "*   **Increased Robustness:** Ensembles are generally more robust to outliers and noisy data because the errors of individual models tend to average out."
      ]
    },
    {
      "cell_type": "markdown",
      "metadata": {
        "id": "3d4a736f"
      },
      "source": [
        "Ques -10.  What is the main challenge of ensemble methods?\n",
        "\n",
        "--> The main challenge of ensemble methods is their increased complexity compared to single models. This complexity can manifest in several ways:\n",
        "\n",
        "*   **Computational Cost:** Training and managing multiple models can be computationally more expensive and time-consuming than training a single model, especially for large datasets or complex base models.\n",
        "*   **Interpretability:** Understanding the decision-making process of an ensemble can be more difficult than interpreting a single model. It's harder to explain why a particular prediction was made when it's a combination of outputs from many different models.\n",
        "*   **Storage:** Storing multiple trained models can require more memory and disk space.\n",
        "*   **Hyperparameter Tuning:** Tuning the hyperparameters of an ensemble, which includes the hyperparameters of the base models as well as the ensemble-specific parameters (like the number of base models), can be more complex and require more effort."
      ]
    },
    {
      "cell_type": "markdown",
      "metadata": {
        "id": "db4ef97b"
      },
      "source": [
        "Ques -11. Explain the key idea behind ensemble techniques.\n",
        "\n",
        "--> The key idea behind ensemble techniques is to combine the predictions of multiple individual models to produce a more accurate and robust prediction than any single model could achieve on its own. This is often referred to as the \"wisdom of the crowd\" principle. By aggregating the outputs of diverse models, an ensemble can reduce the impact of individual model biases and variances, leading to improved generalization performance and increased resistance to noise and outliers in the data."
      ]
    },
    {
      "cell_type": "markdown",
      "source": [
        "Ques -12. What is a Random Forest Classifier?\n",
        "\n",
        "-->  A Random Forest Classifier is an ensemble learning method that operates by constructing a multitude of decision trees during training and outputting the class that is the mode of the classes (classification) or mean prediction (regression) of the individual trees.\n",
        "\n",
        "Here's a breakdown of the key principles:\n",
        "\n",
        "**Bagging (Bootstrap Aggregating):** Each tree in the forest is trained on a different bootstrap sample of the training data. This means that for each tree, a random subset of the data is selected with replacement.\n",
        "\n",
        "**Feature Randomness:** At each node in a decision tree, a random subset of features is considered for splitting, rather than all available features. This further decorrelates the trees and makes the model more robust.\n",
        "\n",
        "**Ensemble Prediction:** For classification, the final prediction is made by taking a majority vote among the predictions of all the individual trees."
      ],
      "metadata": {
        "id": "frBPeM4SJ8GD"
      }
    },
    {
      "cell_type": "markdown",
      "metadata": {
        "id": "ee9effcc"
      },
      "source": [
        "Ques -13. What are the main types of ensemble techniques?\n",
        "\n",
        "--> There are several main types of ensemble techniques, each with a different approach to combining models:\n",
        "\n",
        "1.  **Bagging (Bootstrap Aggregating):** This technique involves training multiple models (often the same type, like decision trees) on different bootstrap samples of the training data. The final prediction is made by averaging the predictions (for regression) or taking a majority vote (for classification). The primary goal of Bagging is to reduce variance. Random Forest is a popular example of a Bagging method.\n",
        "\n",
        "2.  **Boosting:** Boosting is an iterative technique where models are trained sequentially. Each new model focuses on correcting the errors made by the previous models. This method primarily aims to reduce bias. Popular boosting algorithms include AdaBoost, Gradient Boosting (including Gradient Boosting Machines or GBM), and XGBoost.\n",
        "\n",
        "3.  **Stacking (Stacked Generalization):** This technique involves training a meta-model (or blender) to combine the predictions of several base models. The base models are trained on the original data, and their predictions are then used as features to train the meta-model. Stacking can potentially improve performance by learning how to best combine the predictions of diverse models."
      ]
    },
    {
      "cell_type": "markdown",
      "metadata": {
        "id": "dfced6ca"
      },
      "source": [
        "Ques -14. What is ensemble learning in machine learning?\n",
        "\n",
        "--> Ensemble learning in machine learning is a technique that combines the predictions from multiple individual models to improve the overall performance and robustness of the model. Instead of relying on a single model to make predictions, ensemble methods leverage the idea that a collective decision from a group of models is often more accurate and reliable than the decision of any single model. The main goal is to reduce errors by combining different perspectives and mitigating the weaknesses of individual models.\n",
        "\n",
        "Key principles of ensemble learning include:\n",
        "\n",
        "*   **Diversity:** The individual models in the ensemble should be diverse in some way, either through different algorithms, different subsets of data, or different subsets of features. This diversity helps to ensure that the models make different types of errors, which can then be canceled out when their predictions are combined.\n",
        "*   **Combination:** The predictions from the individual models are combined using a specific rule, such as averaging, voting, or a more complex meta-model."
      ]
    },
    {
      "cell_type": "markdown",
      "metadata": {
        "id": "f4be9896"
      },
      "source": [
        "Ques -15. When should we avoid using ensemble methods?\n",
        "\n",
        "--> While ensemble methods offer significant advantages, there are situations where you might want to avoid using them:\n",
        "\n",
        "*   **Interpretability is crucial:** If explaining the model's decision-making process is a primary requirement, single, simpler models (like a single decision tree or linear model) are often preferred over complex ensembles.\n",
        "*   **Limited computational resources:** Training and deploying ensembles can be computationally expensive and require more memory and storage than single models. If you have limited resources, a single model might be a more practical choice.\n",
        "*   **Small datasets:** For very small datasets, the benefits of ensemble methods might be limited, and the increased complexity could even lead to overfitting. In such cases, a simpler model might perform just as well or better.\n",
        "*   **Real-time predictions are required:** Ensembles typically take longer to make predictions than single models, as they need to process input through multiple models. If low latency is critical for your application, a single, fast model might be more suitable.\n",
        "*   **Base models are already highly accurate and stable:** If your base models are already performing exceptionally well and are very stable, the gains from ensembling might be marginal and not justify the added complexity.\n",
        "*   **Data is not diverse enough:** If the data is very homogeneous and the individual models are likely to make similar errors, combining them might not provide significant benefits."
      ]
    },
    {
      "cell_type": "markdown",
      "metadata": {
        "id": "95999e07"
      },
      "source": [
        "Ques -16. How does Bagging help in reducing overfitting?\n",
        "\n",
        "--> Bagging (Bootstrap Aggregating) helps in reducing overfitting primarily by reducing variance. Here's how it works:\n",
        "\n",
        "1.  **Training on Bootstrap Samples:** Bagging trains multiple base models (usually high-variance models like deep decision trees) on different bootstrap samples of the original training data. Bootstrap samples are created by randomly sampling the training data with replacement. This means each base model sees a slightly different version of the training data.\n",
        "2.  **Introducing Diversity:** Because the base models are trained on different subsets of data, they will likely make different errors on unseen data. Some models might overfit to certain patterns present in their specific bootstrap sample, while others might overfit to different patterns.\n",
        "3.  **Averaging or Voting Predictions:** When making a final prediction, Bagging averages the predictions of all the base models (for regression) or takes a majority vote (for classification). This aggregation process smooths out the individual errors and reduces the impact of the high variance of the individual base models."
      ]
    },
    {
      "cell_type": "markdown",
      "metadata": {
        "id": "48f7b8e8"
      },
      "source": [
        "Ques -17. Why is Random Forest better than a single Decision Tree?\n",
        "\n",
        "--> Random Forest is generally better than a single Decision Tree for several reasons, primarily due to the ensemble nature and the introduction of randomness:\n",
        "\n",
        "1.  **Reduced Overfitting (Variance Reduction):** Single decision trees, especially deep ones, are prone to overfitting the training data, meaning they learn the noise and specific patterns of the training set too well and perform poorly on unseen data. Random Forest combats this by training multiple trees on different bootstrap samples of the data and considering only a random subset of features at each split. This randomness and averaging of predictions across multiple trees significantly reduce the variance and make the model more robust to overfitting.\n",
        "\n",
        "2.  **Improved Accuracy:** By combining the predictions of multiple trees, Random Forest can often achieve higher accuracy than a single decision tree. Each tree might capture different aspects of the data, and their combined predictions tend to be more accurate and reliable.\n",
        "\n",
        "3.  **Increased Robustness:** Random Forests are more robust to noise and outliers in the data. Since each tree is trained on a different subset of the data, the impact of outliers on any single tree is limited, and their effect is further reduced when the predictions are averaged.\n",
        "\n",
        "4.  **Handles High-Dimensional Data:** The feature randomness in Random Forest makes it effective for datasets with a large number of features. By considering only a subset of features at each split, it avoids the problem of single decision trees being dominated by a few strongly predictive features.\n",
        "\n",
        "5.  **Provides Feature Importance:** Random Forest can provide a measure of feature importance, which indicates how much each feature contributes to the model's predictions. This can be valuable for understanding the underlying data and for feature selection."
      ]
    },
    {
      "cell_type": "markdown",
      "metadata": {
        "id": "47f36691"
      },
      "source": [
        "Ques -18. What is the role of bootstrap sampling in Bagging?\n",
        "\n",
        "--> The role of bootstrap sampling in Bagging is crucial for creating diversity among the base models and, consequently, reducing the overall variance of the ensemble. Here's how it works:\n",
        "\n",
        "1.  **Creating Multiple Datasets:** Bootstrap sampling involves repeatedly drawing random samples with replacement from the original training dataset. Each sample is the same size as the original dataset, but because it's sampled with replacement, some data points will appear multiple times in a single bootstrap sample, while others will not appear at all. This process generates multiple different training datasets, typically the same number as the number of base models in the ensemble.\n",
        "\n",
        "2.  **Training Diverse Models:** Each base model in the Bagging ensemble is trained independently on one of these bootstrap samples. Since each bootstrap sample is slightly different from the original data and from other bootstrap samples, the base models trained on them will also be slightly different. They will likely learn different patterns and make different errors.\n",
        "\n",
        "3.  **Reducing Variance:** The diversity among the base models is key to reducing variance. When the predictions from these diverse models are combined (averaged for regression, majority vote for classification), the errors of individual models tend to cancel each other out. The random fluctuations and noise that each model might have learned from its specific bootstrap sample are smoothed out in the final aggregated prediction."
      ]
    },
    {
      "cell_type": "markdown",
      "metadata": {
        "id": "daa31bd0"
      },
      "source": [
        "Ques -19. What are some real-world applications of ensemble techniques?\n",
        "\n",
        "--> Ensemble techniques are widely used in various real-world applications due to their ability to improve model performance and robustness. Here are some examples:\n",
        "\n",
        "*   **Fraud Detection:** Ensembles can combine multiple models (e.g., decision trees, logistic regression, anomaly detection algorithms) to identify fraudulent transactions more accurately.\n",
        "*   **Medical Diagnosis:** Combining predictions from different models trained on medical imaging or patient data can improve the accuracy of diagnosing diseases.\n",
        "*   **Image Recognition:** Ensemble methods are often used in image classification tasks to combine the outputs of different convolutional neural networks (CNNs) and improve performance.\n",
        "*   **Natural Language Processing (NLP):** Ensembles can be applied to tasks like sentiment analysis, spam detection, and text classification by combining models like Naive Bayes, Support Vector Machines (SVMs), and deep learning models.\n",
        "*   **Credit Scoring:** Combining different models to assess credit risk can lead to more accurate predictions and better risk management.\n",
        "*   **Recommendation Systems:** Ensembles can combine collaborative filtering and content-based filtering models to provide more accurate and personalized recommendations.\n",
        "*   **Weather Forecasting:** Combining predictions from multiple weather models can improve the accuracy of weather forecasts.\n",
        "*   **E-commerce:** Ensembles are used for various tasks in e-commerce, such as predicting customer behavior, optimizing pricing, and personalizing user experience.\n",
        "*   **Finance:** Ensemble methods are applied in algorithmic trading, portfolio management, and risk assessment.\n",
        "*   **Speech Recognition:** Combining different acoustic models can improve the accuracy of speech recognition systems."
      ]
    },
    {
      "cell_type": "markdown",
      "metadata": {
        "id": "ad1c75f5"
      },
      "source": [
        "Ques -20. What is the difference between Bagging and Boosting?\n",
        "\n",
        "-->  Bagging and Boosting are both popular ensemble learning techniques, but they differ in their approach to combining models and their primary goals:\n",
        "\n",
        "**Bagging (Bootstrap Aggregating):**\n",
        "\n",
        "*   **Parallel:** Base models are trained independently and in parallel on different bootstrap samples of the data.\n",
        "*   **Goal:** Primarily aims to reduce variance by averaging or voting predictions from multiple models trained on slightly different data.\n",
        "*   **Base Models:** Often uses high-variance, low-bias models (e.g., deep decision trees).\n",
        "*   **Weighting:** Each base model typically has equal weight in the final prediction.\n",
        "*   **How it works:** Creates diverse datasets through bootstrap sampling and trains independent models on each.\n",
        "\n",
        "**Boosting:**\n",
        "\n",
        "*   **Sequential:** Base models are trained sequentially, with each new model focusing on correcting the errors made by the previous models.\n",
        "*   **Goal:** Primarily aims to reduce bias and, to some extent, variance by iteratively improving the model's performance on misclassified or poorly predicted instances.\n",
        "*   **Base Models:** Often uses low-variance, high-bias models (e.g., shallow decision trees or stumps).\n",
        "*   **Weighting:** Base models are weighted based on their performance, with later models (trained on harder examples) often having higher weights.\n",
        "*   **How it works:** Builds a strong model by combining multiple weak learners in a sequential manner, where each learner tries to improve upon the previous one."
      ]
    },
    {
      "cell_type": "markdown",
      "source": [
        "# Practical"
      ],
      "metadata": {
        "id": "PSFyxjdFNE4x"
      }
    },
    {
      "cell_type": "code",
      "source": [
        "# Ques -1.  Train a Bagging Classifier using Decision Trees on a sample dataset and print model accuracy.\n",
        "\n",
        "from sklearn.datasets import make_classification\n",
        "from sklearn.ensemble import BaggingClassifier\n",
        "from sklearn.tree import DecisionTreeClassifier\n",
        "from sklearn.model_selection import train_test_split\n",
        "from sklearn.metrics import accuracy_score\n",
        "# Generate a sample dataset\n",
        "X, y = make_classification(n_samples=1000, n_features=20, n_informative=15, n_redundant=5, random_state=42)\n",
        "\n",
        "# Split the dataset into training and testing sets\n",
        "X_train, X_test, y_train, y_test = train_test_split(X, y, test_size=0.3, random_state=42)\n",
        "\n",
        "# Create a Decision Tree Classifier as the base estimator\n",
        "base_estimator = DecisionTreeClassifier(random_state=42)\n",
        "\n",
        "# Create a Bagging Classifier with the Decision Tree as the base estimator\n",
        "bagging_clf = BaggingClassifier(estimator=base_estimator, n_estimators=10, random_state=42)\n",
        "\n",
        "# Train the Bagging Classifier\n",
        "bagging_clf.fit(X_train, y_train)\n",
        "\n",
        "# Predict on the test set\n",
        "y_pred = bagging_clf.predict(X_test)\n",
        "\n",
        "# Calculate and print the accuracy\n",
        "accuracy = accuracy_score(y_test, y_pred)\n",
        "print(f\"Accuracy of the Bagging Classifier: {accuracy:.4f}\")"
      ],
      "metadata": {
        "colab": {
          "base_uri": "https://localhost:8080/"
        },
        "id": "g86Thy7XNKyo",
        "outputId": "4ee33832-dfd1-4d39-a0f6-33d0630bc1fb"
      },
      "execution_count": 1,
      "outputs": [
        {
          "output_type": "stream",
          "name": "stdout",
          "text": [
            "Accuracy of the Bagging Classifier: 0.8500\n"
          ]
        }
      ]
    },
    {
      "cell_type": "code",
      "metadata": {
        "colab": {
          "base_uri": "https://localhost:8080/"
        },
        "id": "97e70cdd",
        "outputId": "c9e83481-5764-42cd-fb3f-5b5457b10007"
      },
      "source": [
        "# Ques -2. Train a Bagging Regressor using Decision Trees and evaluate using Mean Squared Error (MSE).\n",
        "\n",
        "from sklearn.datasets import make_regression\n",
        "from sklearn.ensemble import BaggingRegressor\n",
        "from sklearn.tree import DecisionTreeRegressor\n",
        "from sklearn.model_selection import train_test_split\n",
        "from sklearn.metrics import mean_squared_error\n",
        "\n",
        "# Generate a sample regression dataset\n",
        "X_reg, y_reg = make_regression(n_samples=1000, n_features=20, n_informative=15, random_state=42)\n",
        "\n",
        "# Split the dataset into training and testing sets\n",
        "X_train_reg, X_test_reg, y_train_reg, y_test_reg = train_test_split(X_reg, y_reg, test_size=0.3, random_state=42)\n",
        "\n",
        "# Create a Decision Tree Regressor as the base estimator\n",
        "base_estimator_reg = DecisionTreeRegressor(random_state=42)\n",
        "\n",
        "# Create a Bagging Regressor with the Decision Tree as the base estimator\n",
        "bagging_reg = BaggingRegressor(estimator=base_estimator_reg, n_estimators=10, random_state=42)\n",
        "\n",
        "# Train the Bagging Regressor\n",
        "bagging_reg.fit(X_train_reg, y_train_reg)\n",
        "\n",
        "# Predict on the test set\n",
        "y_pred_reg = bagging_reg.predict(X_test_reg)\n",
        "\n",
        "# Calculate and print the Mean Squared Error\n",
        "mse = mean_squared_error(y_test_reg, y_pred_reg)\n",
        "print(f\"Mean Squared Error of the Bagging Regressor: {mse:.4f}\")"
      ],
      "execution_count": 2,
      "outputs": [
        {
          "output_type": "stream",
          "name": "stdout",
          "text": [
            "Mean Squared Error of the Bagging Regressor: 22358.3613\n"
          ]
        }
      ]
    },
    {
      "cell_type": "code",
      "metadata": {
        "colab": {
          "base_uri": "https://localhost:8080/"
        },
        "id": "0c2aefd3",
        "outputId": "e0f99e71-0cdc-4263-97af-5ba1add32998"
      },
      "source": [
        "# Ques -3. Train a Random Forest Classifier on the Breast Cancer dataset and print feature importance scores\n",
        "from sklearn.datasets import load_breast_cancer\n",
        "from sklearn.ensemble import RandomForestClassifier\n",
        "from sklearn.model_selection import train_test_split\n",
        "\n",
        "# Load the Breast Cancer dataset\n",
        "breast_cancer = load_breast_cancer()\n",
        "X, y = breast_cancer.data, breast_cancer.target\n",
        "\n",
        "# Split the dataset into training and testing sets\n",
        "X_train, X_test, y_train, y_test = train_test_split(X, y, test_size=0.3, random_state=42)\n",
        "\n",
        "# Create a Random Forest Classifier\n",
        "# You can adjust the number of estimators (n_estimators) and other parameters\n",
        "rf_clf = RandomForestClassifier(n_estimators=100, random_state=42)\n",
        "\n",
        "# Train the Random Forest Classifier\n",
        "rf_clf.fit(X_train, y_train)\n",
        "\n",
        "# Get feature importances\n",
        "feature_importances = rf_clf.feature_importances_\n",
        "\n",
        "# Get feature names\n",
        "feature_names = breast_cancer.feature_names\n",
        "\n",
        "# Create a list of tuples with feature names and their importances\n",
        "features_and_importances = list(zip(feature_names, feature_importances))\n",
        "\n",
        "# Sort the features by importance in descending order\n",
        "features_and_importances.sort(key=lambda x: x[1], reverse=True)\n",
        "\n",
        "# Print the feature importances\n",
        "print(\"Feature Importances (Mean Decrease in Impurity):\")\n",
        "for feature, importance in features_and_importances:\n",
        "    print(f\"{feature}: {importance:.4f}\")"
      ],
      "execution_count": 3,
      "outputs": [
        {
          "output_type": "stream",
          "name": "stdout",
          "text": [
            "Feature Importances (Mean Decrease in Impurity):\n",
            "mean concave points: 0.1419\n",
            "worst concave points: 0.1271\n",
            "worst area: 0.1182\n",
            "mean concavity: 0.0806\n",
            "worst radius: 0.0780\n",
            "worst perimeter: 0.0743\n",
            "mean perimeter: 0.0601\n",
            "mean area: 0.0538\n",
            "worst concavity: 0.0411\n",
            "mean radius: 0.0323\n",
            "area error: 0.0295\n",
            "worst texture: 0.0188\n",
            "worst compactness: 0.0175\n",
            "radius error: 0.0164\n",
            "worst symmetry: 0.0129\n",
            "perimeter error: 0.0118\n",
            "worst smoothness: 0.0118\n",
            "mean texture: 0.0111\n",
            "mean compactness: 0.0092\n",
            "fractal dimension error: 0.0071\n",
            "worst fractal dimension: 0.0069\n",
            "mean smoothness: 0.0062\n",
            "smoothness error: 0.0059\n",
            "concavity error: 0.0058\n",
            "compactness error: 0.0046\n",
            "symmetry error: 0.0040\n",
            "concave points error: 0.0034\n",
            "mean symmetry: 0.0033\n",
            "texture error: 0.0032\n",
            "mean fractal dimension: 0.0031\n"
          ]
        }
      ]
    },
    {
      "cell_type": "code",
      "metadata": {
        "colab": {
          "base_uri": "https://localhost:8080/"
        },
        "id": "9ae4e946",
        "outputId": "5f6675f5-01a1-43d9-972b-8878d6aeaf04"
      },
      "source": [
        "# Ques -4. Train a Random Forest Regressor and compare its performance with a single Decision Tree.\n",
        "from sklearn.datasets import make_regression\n",
        "from sklearn.ensemble import RandomForestRegressor\n",
        "from sklearn.tree import DecisionTreeRegressor\n",
        "from sklearn.model_selection import train_test_split\n",
        "from sklearn.metrics import mean_squared_error\n",
        "\n",
        "# Generate a sample regression dataset\n",
        "X, y = make_regression(n_samples=1000, n_features=20, n_informative=15, random_state=42)\n",
        "\n",
        "# Split the dataset into training and testing sets\n",
        "X_train, X_test, y_train, y_test = train_test_split(X, y, test_size=0.3, random_state=42)\n",
        "\n",
        "# Train a single Decision Tree Regressor\n",
        "dt_reg = DecisionTreeRegressor(random_state=42)\n",
        "dt_reg.fit(X_train, y_train)\n",
        "y_pred_dt = dt_reg.predict(X_test)\n",
        "mse_dt = mean_squared_error(y_test, y_pred_dt)\n",
        "print(f\"Mean Squared Error of single Decision Tree Regressor: {mse_dt:.4f}\")\n",
        "\n",
        "# Train a Random Forest Regressor\n",
        "# You can adjust the number of estimators (n_estimators) and other parameters\n",
        "rf_reg = RandomForestRegressor(n_estimators=100, random_state=42)\n",
        "rf_reg.fit(X_train, y_train)\n",
        "y_pred_rf = rf_reg.predict(X_test)\n",
        "mse_rf = mean_squared_error(y_test, y_pred_rf)\n",
        "print(f\"Mean Squared Error of Random Forest Regressor: {mse_rf:.4f}\")\n",
        "\n",
        "# Compare the performance\n",
        "print(\"\\nComparison of MSE:\")\n",
        "print(f\"Single Decision Tree: {mse_dt:.4f}\")\n",
        "print(f\"Random Forest: {mse_rf:.4f}\")"
      ],
      "execution_count": 4,
      "outputs": [
        {
          "output_type": "stream",
          "name": "stdout",
          "text": [
            "Mean Squared Error of single Decision Tree Regressor: 53218.0891\n",
            "Mean Squared Error of Random Forest Regressor: 18100.3317\n",
            "\n",
            "Comparison of MSE:\n",
            "Single Decision Tree: 53218.0891\n",
            "Random Forest: 18100.3317\n"
          ]
        }
      ]
    },
    {
      "cell_type": "code",
      "metadata": {
        "colab": {
          "base_uri": "https://localhost:8080/"
        },
        "id": "858b066b",
        "outputId": "18f2a4d5-1b90-4d3c-e906-e4fae037a4c1"
      },
      "source": [
        "# Ques -5. Compute the Out-of-Bag (OOB) Score for a Random Forest Classifier.\n",
        "from sklearn.datasets import make_classification\n",
        "from sklearn.ensemble import RandomForestClassifier\n",
        "from sklearn.model_selection import train_test_split\n",
        "\n",
        "# Generate a sample dataset\n",
        "X, y = make_classification(n_samples=1000, n_features=20, n_informative=15, n_redundant=5, random_state=42)\n",
        "\n",
        "# Split the dataset into training and testing sets (OOB score doesn't require a separate test set,\n",
        "# but it's good practice to split if you plan to evaluate on unseen data later)\n",
        "X_train, X_test, y_train, y_test = train_test_split(X, y, test_size=0.3, random_state=42)\n",
        "\n",
        "# Create a Random Forest Classifier with oob_score set to True\n",
        "# The oob_score_ attribute will be available after fitting\n",
        "rf_clf_oob = RandomForestClassifier(n_estimators=100, oob_score=True, random_state=42)\n",
        "\n",
        "# Train the Random Forest Classifier\n",
        "rf_clf_oob.fit(X_train, y_train)\n",
        "\n",
        "# Get the Out-of-Bag score\n",
        "oob_accuracy = rf_clf_oob.oob_score_\n",
        "\n",
        "# Print the OOB score\n",
        "print(f\"Out-of-Bag (OOB) Accuracy of the Random Forest Classifier: {oob_accuracy:.4f}\")"
      ],
      "execution_count": 5,
      "outputs": [
        {
          "output_type": "stream",
          "name": "stdout",
          "text": [
            "Out-of-Bag (OOB) Accuracy of the Random Forest Classifier: 0.8914\n"
          ]
        }
      ]
    },
    {
      "cell_type": "code",
      "metadata": {
        "colab": {
          "base_uri": "https://localhost:8080/"
        },
        "id": "c6d951aa",
        "outputId": "48abc28d-fbd2-46c8-f945-9ab27e20fd5f"
      },
      "source": [
        "# Ques -6.  Train a Bagging Classifier using SVM as a base estimator and print accuracy.\n",
        "from sklearn.datasets import make_classification\n",
        "from sklearn.ensemble import BaggingClassifier\n",
        "from sklearn.svm import SVC # Importing Support Vector Classifier\n",
        "from sklearn.model_selection import train_test_split\n",
        "from sklearn.metrics import accuracy_score\n",
        "\n",
        "# Generate a sample dataset\n",
        "X, y = make_classification(n_samples=1000, n_features=20, n_informative=15, n_redundant=5, random_state=42)\n",
        "\n",
        "# Split the dataset into training and testing sets\n",
        "X_train, X_test, y_train, y_test = train_test_split(X, y, test_size=0.3, random_state=42)\n",
        "\n",
        "# Create an SVM Classifier as the base estimator\n",
        "# Using a linear kernel for potentially faster training with Bagging\n",
        "base_estimator_svm = SVC(kernel='linear', random_state=42)\n",
        "\n",
        "# Create a Bagging Classifier with the SVM as the base estimator\n",
        "# n_estimators can be adjusted\n",
        "bagging_clf_svm = BaggingClassifier(estimator=base_estimator_svm, n_estimators=10, random_state=42)\n",
        "\n",
        "# Train the Bagging Classifier\n",
        "bagging_clf_svm.fit(X_train, y_train)\n",
        "\n",
        "# Predict on the test set\n",
        "y_pred_svm = bagging_clf_svm.predict(X_test)\n",
        "\n",
        "# Calculate and print the accuracy\n",
        "accuracy_svm = accuracy_score(y_test, y_pred_svm)\n",
        "print(f\"Accuracy of the Bagging Classifier with SVM base estimator: {accuracy_svm:.4f}\")"
      ],
      "execution_count": 6,
      "outputs": [
        {
          "output_type": "stream",
          "name": "stdout",
          "text": [
            "Accuracy of the Bagging Classifier with SVM base estimator: 0.8233\n"
          ]
        }
      ]
    },
    {
      "cell_type": "code",
      "metadata": {
        "colab": {
          "base_uri": "https://localhost:8080/",
          "height": 772
        },
        "id": "bddbd9f7",
        "outputId": "86647576-ff38-436c-f07f-16cbee021bf4"
      },
      "source": [
        "# Ques -7. Train a Random Forest Classifier with different numbers of trees and compare accuracy.\n",
        "from sklearn.datasets import make_classification\n",
        "from sklearn.ensemble import RandomForestClassifier\n",
        "from sklearn.model_selection import train_test_split\n",
        "from sklearn.metrics import accuracy_score\n",
        "import matplotlib.pyplot as plt\n",
        "\n",
        "# Generate a sample dataset\n",
        "X, y = make_classification(n_samples=1000, n_features=20, n_informative=15, n_redundant=5, random_state=42)\n",
        "\n",
        "# Split the dataset into training and testing sets\n",
        "X_train, X_test, y_train, y_test = train_test_split(X, y, test_size=0.3, random_state=42)\n",
        "\n",
        "# Define a list of different numbers of trees to experiment with\n",
        "n_estimators_list = [10, 50, 100, 200, 500]\n",
        "\n",
        "# Train Random Forest Classifiers with different numbers of trees and store accuracies\n",
        "accuracies = []\n",
        "for n_estimators in n_estimators_list:\n",
        "    rf_clf = RandomForestClassifier(n_estimators=n_estimators, random_state=42)\n",
        "    rf_clf.fit(X_train, y_train)\n",
        "    y_pred = rf_clf.predict(X_test)\n",
        "    accuracy = accuracy_score(y_test, y_pred)\n",
        "    accuracies.append(accuracy)\n",
        "    print(f\"Accuracy with {n_estimators} trees: {accuracy:.4f}\")\n",
        "\n",
        "# Plot the accuracies\n",
        "plt.figure(figsize=(10, 6))\n",
        "plt.plot(n_estimators_list, accuracies, marker='o')\n",
        "plt.xlabel(\"Number of Trees (n_estimators)\")\n",
        "plt.ylabel(\"Accuracy\")\n",
        "plt.title(\"Random Forest Classifier Accuracy vs. Number of Trees\")\n",
        "plt.grid(True)\n",
        "plt.show()\n",
        "\n",
        "# Print a summary comparison\n",
        "print(\"\\nAccuracy Comparison:\")\n",
        "for i, n_estimators in enumerate(n_estimators_list):\n",
        "    print(f\"Number of Trees: {n_estimators}, Accuracy: {accuracies[i]:.4f}\")"
      ],
      "execution_count": 7,
      "outputs": [
        {
          "output_type": "stream",
          "name": "stdout",
          "text": [
            "Accuracy with 10 trees: 0.8733\n",
            "Accuracy with 50 trees: 0.8900\n",
            "Accuracy with 100 trees: 0.8867\n",
            "Accuracy with 200 trees: 0.8900\n",
            "Accuracy with 500 trees: 0.8900\n"
          ]
        },
        {
          "output_type": "display_data",
          "data": {
            "text/plain": [
              "<Figure size 1000x600 with 1 Axes>"
            ],
            "image/png": "[encoded data removed]"
          },
          "metadata": {}
        },
        {
          "output_type": "stream",
          "name": "stdout",
          "text": [
            "\n",
            "Accuracy Comparison:\n",
            "Number of Trees: 10, Accuracy: 0.8733\n",
            "Number of Trees: 50, Accuracy: 0.8900\n",
            "Number of Trees: 100, Accuracy: 0.8867\n",
            "Number of Trees: 200, Accuracy: 0.8900\n",
            "Number of Trees: 500, Accuracy: 0.8900\n"
          ]
        }
      ]
    },
    {
      "cell_type": "code",
      "metadata": {
        "colab": {
          "base_uri": "https://localhost:8080/"
        },
        "id": "f3e95a0e",
        "outputId": "12bb4003-3a63-4f4f-daba-76d2cd4481c0"
      },
      "source": [
        "# Ques -8. Train a Bagging Classifier using Logistic Regression as a base estimator and print AUC score.\n",
        "from sklearn.datasets import make_classification\n",
        "from sklearn.ensemble import BaggingClassifier\n",
        "from sklearn.linear_model import LogisticRegression # Importing Logistic Regression\n",
        "from sklearn.model_selection import train_test_split\n",
        "from sklearn.metrics import roc_auc_score # Importing roc_auc_score\n",
        "\n",
        "# Generate a sample dataset\n",
        "X, y = make_classification(n_samples=1000, n_features=20, n_informative=15, n_redundant=5, random_state=42)\n",
        "\n",
        "# Split the dataset into training and testing sets\n",
        "X_train, X_test, y_train, y_test = train_test_split(X, y, test_size=0.3, random_state=42)\n",
        "\n",
        "# Create a Logistic Regression model as the base estimator\n",
        "base_estimator_lr = LogisticRegression(random_state=42)\n",
        "\n",
        "# Create a Bagging Classifier with the Logistic Regression as the base estimator\n",
        "# n_estimators can be adjusted\n",
        "bagging_clf_lr = BaggingClassifier(estimator=base_estimator_lr, n_estimators=10, random_state=42)\n",
        "\n",
        "# Train the Bagging Classifier\n",
        "bagging_clf_lr.fit(X_train, y_train)\n",
        "\n",
        "# Predict probabilities on the test set (needed for AUC)\n",
        "y_pred_prob_lr = bagging_clf_lr.predict_proba(X_test)[:, 1] # Get probabilities for the positive class\n",
        "\n",
        "# Calculate and print the AUC score\n",
        "auc_score_lr = roc_auc_score(y_test, y_pred_prob_lr)\n",
        "print(f\"AUC Score of the Bagging Classifier with Logistic Regression base estimator: {auc_score_lr:.4f}\")"
      ],
      "execution_count": 8,
      "outputs": [
        {
          "output_type": "stream",
          "name": "stdout",
          "text": [
            "AUC Score of the Bagging Classifier with Logistic Regression base estimator: 0.9082\n"
          ]
        }
      ]
    },
    {
      "cell_type": "code",
      "metadata": {
        "colab": {
          "base_uri": "https://localhost:8080/"
        },
        "id": "3569032f",
        "outputId": "cba6d9a3-407c-4932-a77d-1cb648e47a66"
      },
      "source": [
        "# Ques -9. Train a Random Forest Regressor and analyze feature importance scores.\n",
        "from sklearn.datasets import make_regression\n",
        "from sklearn.ensemble import RandomForestRegressor\n",
        "from sklearn.model_selection import train_test_split\n",
        "\n",
        "# Generate a sample regression dataset\n",
        "X, y = make_regression(n_samples=1000, n_features=20, n_informative=15, random_state=42)\n",
        "\n",
        "# Split the dataset into training and testing sets\n",
        "X_train, X_test, y_train, y_test = train_test_split(X, y, test_size=0.3, random_state=42)\n",
        "\n",
        "# Create a Random Forest Regressor\n",
        "# You can adjust the number of estimators (n_estimators) and other parameters\n",
        "rf_reg = RandomForestRegressor(n_estimators=100, random_state=42)\n",
        "\n",
        "# Train the Random Forest Regressor\n",
        "rf_reg.fit(X_train, y_train)\n",
        "\n",
        "# Get feature importances\n",
        "feature_importances = rf_reg.feature_importances_\n",
        "\n",
        "# Get feature names (assuming synthetic data, we can create generic names)\n",
        "# If using a real dataset, replace this with the actual feature names\n",
        "feature_names = [f\"feature_{i}\" for i in range(X.shape[1])]\n",
        "\n",
        "# Create a list of tuples with feature names and their importances\n",
        "features_and_importances = list(zip(feature_names, feature_importances))\n",
        "\n",
        "# Sort the features by importance in descending order\n",
        "features_and_importances.sort(key=lambda x: x[1], reverse=True)\n",
        "\n",
        "# Print the feature importances\n",
        "print(\"Feature Importances (Mean Decrease in Impurity for Regression):\")\n",
        "for feature, importance in features_and_importances:\n",
        "    print(f\"{feature}: {importance:.4f}\")"
      ],
      "execution_count": 9,
      "outputs": [
        {
          "output_type": "stream",
          "name": "stdout",
          "text": [
            "Feature Importances (Mean Decrease in Impurity for Regression):\n",
            "feature_16: 0.1900\n",
            "feature_4: 0.1306\n",
            "feature_15: 0.1268\n",
            "feature_5: 0.0980\n",
            "feature_2: 0.0857\n",
            "feature_0: 0.0662\n",
            "feature_10: 0.0646\n",
            "feature_3: 0.0391\n",
            "feature_19: 0.0353\n",
            "feature_12: 0.0255\n",
            "feature_18: 0.0198\n",
            "feature_1: 0.0158\n",
            "feature_8: 0.0149\n",
            "feature_14: 0.0143\n",
            "feature_13: 0.0140\n",
            "feature_11: 0.0135\n",
            "feature_7: 0.0123\n",
            "feature_9: 0.0117\n",
            "feature_17: 0.0114\n",
            "feature_6: 0.0106\n"
          ]
        }
      ]
    },
    {
      "cell_type": "code",
      "metadata": {
        "colab": {
          "base_uri": "https://localhost:8080/"
        },
        "id": "4221524a",
        "outputId": "f06476f7-6b40-4f46-bd2f-8405033d1d83"
      },
      "source": [
        "# Ques -10. Train an ensemble model using both Bagging and Random Forest and compare accuracy.\n",
        "from sklearn.datasets import make_classification\n",
        "from sklearn.ensemble import BaggingClassifier, RandomForestClassifier\n",
        "from sklearn.tree import DecisionTreeClassifier\n",
        "from sklearn.model_selection import train_test_split\n",
        "from sklearn.metrics import accuracy_score\n",
        "\n",
        "# Generate a sample dataset\n",
        "X, y = make_classification(n_samples=1000, n_features=20, n_informative=15, n_redundant=5, random_state=42)\n",
        "\n",
        "# Split the dataset into training and testing sets\n",
        "X_train, X_test, y_train, y_test = train_test_split(X, y, test_size=0.3, random_state=42)\n",
        "\n",
        "# Train a Bagging Classifier using Decision Trees\n",
        "# Bagging uses bootstrap samples of data\n",
        "base_estimator = DecisionTreeClassifier(random_state=42)\n",
        "bagging_clf = BaggingClassifier(estimator=base_estimator, n_estimators=100, random_state=42) # Increased estimators for better comparison\n",
        "bagging_clf.fit(X_train, y_train)\n",
        "y_pred_bagging = bagging_clf.predict(X_test)\n",
        "accuracy_bagging = accuracy_score(y_test, y_pred_bagging)\n",
        "print(f\"Accuracy of Bagging Classifier: {accuracy_bagging:.4f}\")\n",
        "\n",
        "# Train a Random Forest Classifier\n",
        "# Random Forest uses bootstrap samples of data AND feature randomness\n",
        "rf_clf = RandomForestClassifier(n_estimators=100, random_state=42) # Same number of estimators\n",
        "rf_clf.fit(X_train, y_train)\n",
        "y_pred_rf = rf_clf.predict(X_test)\n",
        "accuracy_rf = accuracy_score(y_test, y_pred_rf)\n",
        "print(f\"Accuracy of Random Forest Classifier: {accuracy_rf:.4f}\")\n",
        "\n",
        "# Compare the performance\n",
        "print(\"\\nComparison of Accuracy:\")\n",
        "print(f\"Bagging Classifier: {accuracy_bagging:.4f}\")\n",
        "print(f\"Random Forest Classifier: {accuracy_rf:.4f}\")"
      ],
      "execution_count": 10,
      "outputs": [
        {
          "output_type": "stream",
          "name": "stdout",
          "text": [
            "Accuracy of Bagging Classifier: 0.8833\n",
            "Accuracy of Random Forest Classifier: 0.8867\n",
            "\n",
            "Comparison of Accuracy:\n",
            "Bagging Classifier: 0.8833\n",
            "Random Forest Classifier: 0.8867\n"
          ]
        }
      ]
    },
    {
      "cell_type": "code",
      "metadata": {
        "colab": {
          "base_uri": "https://localhost:8080/"
        },
        "id": "7d564e28",
        "outputId": "ca399879-fd36-4d0c-b3d7-9874fb2f2277"
      },
      "source": [
        "# Ques -11. Train a Random Forest Classifier and tune hyperparameters using GridSearchCV.\n",
        "from sklearn.datasets import make_classification\n",
        "from sklearn.ensemble import RandomForestClassifier\n",
        "from sklearn.model_selection import train_test_split, GridSearchCV\n",
        "\n",
        "# Generate a sample dataset\n",
        "X, y = make_classification(n_samples=1000, n_features=20, n_informative=15, n_redundant=5, random_state=42)\n",
        "\n",
        "# Split the dataset into training and testing sets\n",
        "X_train, X_test, y_train, y_test = train_test_split(X, y, test_size=0.3, random_state=42)\n",
        "\n",
        "# Create a Random Forest Classifier\n",
        "rf_clf = RandomForestClassifier(random_state=42)\n",
        "\n",
        "# Define the parameter grid for GridSearchCV\n",
        "param_grid = {\n",
        "    'n_estimators': [50, 100, 200],  # Number of trees in the forest\n",
        "    'max_depth': [None, 10, 20],     # Maximum depth of the trees\n",
        "    'min_samples_split': [2, 5, 10]  # Minimum number of samples required to split an internal node\n",
        "}\n",
        "\n",
        "# Create GridSearchCV object\n",
        "# cv: number of folds for cross-validation\n",
        "# scoring: metric to evaluate the model (e.g., 'accuracy', 'f1_macro')\n",
        "grid_search = GridSearchCV(estimator=rf_clf, param_grid=param_grid, cv=5, scoring='accuracy', n_jobs=-1)\n",
        "\n",
        "# Fit GridSearchCV to the training data\n",
        "grid_search.fit(X_train, y_train)\n",
        "\n",
        "# Print the best parameters and best score\n",
        "print(f\"Best parameters found: {grid_search.best_params_}\")\n",
        "print(f\"Best cross-validation accuracy: {grid_search.best_score_:.4f}\")\n",
        "\n",
        "# Evaluate the best model on the test set\n",
        "best_rf_clf = grid_search.best_estimator_\n",
        "test_accuracy = best_rf_clf.score(X_test, y_test)\n",
        "print(f\"Test set accuracy with best parameters: {test_accuracy:.4f}\")"
      ],
      "execution_count": 11,
      "outputs": [
        {
          "output_type": "stream",
          "name": "stdout",
          "text": [
            "Best parameters found: {'max_depth': 10, 'min_samples_split': 2, 'n_estimators': 100}\n",
            "Best cross-validation accuracy: 0.9114\n",
            "Test set accuracy with best parameters: 0.8767\n"
          ]
        }
      ]
    },
    {
      "cell_type": "code",
      "metadata": {
        "colab": {
          "base_uri": "https://localhost:8080/",
          "height": 772
        },
        "id": "c3015ce3",
        "outputId": "4d3f7cf8-1468-4f9f-8214-4bbe6d6e8bd9"
      },
      "source": [
        "# Ques -12. Train a Bagging Regressor with different numbers of base estimators and compare performance.\n",
        "from sklearn.datasets import make_regression\n",
        "from sklearn.ensemble import BaggingRegressor\n",
        "from sklearn.tree import DecisionTreeRegressor\n",
        "from sklearn.model_selection import train_test_split\n",
        "from sklearn.metrics import mean_squared_error\n",
        "import matplotlib.pyplot as plt\n",
        "\n",
        "# Generate a sample regression dataset\n",
        "X, y = make_regression(n_samples=1000, n_features=20, n_informative=15, random_state=42)\n",
        "\n",
        "# Split the dataset into training and testing sets\n",
        "X_train, X_test, y_train, y_test = train_test_split(X, y, test_size=0.3, random_state=42)\n",
        "\n",
        "# Create a Decision Tree Regressor as the base estimator\n",
        "base_estimator_reg = DecisionTreeRegressor(random_state=42)\n",
        "\n",
        "# Define a list of different numbers of base estimators to experiment with\n",
        "n_estimators_list_reg = [10, 50, 100, 200, 500]\n",
        "\n",
        "# Train Bagging Regressors with different numbers of estimators and store MSEs\n",
        "mses_reg = []\n",
        "for n_estimators_reg in n_estimators_list_reg:\n",
        "    bagging_reg = BaggingRegressor(estimator=base_estimator_reg, n_estimators=n_estimators_reg, random_state=42)\n",
        "    bagging_reg.fit(X_train, y_train)\n",
        "    y_pred_reg = bagging_reg.predict(X_test)\n",
        "    mse_reg = mean_squared_error(y_test, y_pred_reg)\n",
        "    mses_reg.append(mse_reg)\n",
        "    print(f\"Mean Squared Error with {n_estimators_reg} estimators: {mse_reg:.4f}\")\n",
        "\n",
        "# Plot the MSEs\n",
        "plt.figure(figsize=(10, 6))\n",
        "plt.plot(n_estimators_list_reg, mses_reg, marker='o')\n",
        "plt.xlabel(\"Number of Base Estimators (n_estimators)\")\n",
        "plt.ylabel(\"Mean Squared Error (MSE)\")\n",
        "plt.title(\"Bagging Regressor MSE vs. Number of Base Estimators\")\n",
        "plt.grid(True)\n",
        "plt.show()\n",
        "\n",
        "# Print a summary comparison\n",
        "print(\"\\nMean Squared Error Comparison:\")\n",
        "for i, n_estimators_reg in enumerate(n_estimators_list_reg):\n",
        "    print(f\"Number of Estimators: {n_estimators_reg}, MSE: {mses_reg[i]:.4f}\")"
      ],
      "execution_count": 12,
      "outputs": [
        {
          "output_type": "stream",
          "name": "stdout",
          "text": [
            "Mean Squared Error with 10 estimators: 22358.3613\n",
            "Mean Squared Error with 50 estimators: 18665.0730\n",
            "Mean Squared Error with 100 estimators: 18067.6286\n",
            "Mean Squared Error with 200 estimators: 17708.2755\n",
            "Mean Squared Error with 500 estimators: 17796.7736\n"
          ]
        },
        {
          "output_type": "display_data",
          "data": {
            "text/plain": [
              "<Figure size 1000x600 with 1 Axes>"
            ],
            "image/png": "[encoded data removed]"
          },
          "metadata": {}
        },
        {
          "output_type": "stream",
          "name": "stdout",
          "text": [
            "\n",
            "Mean Squared Error Comparison:\n",
            "Number of Estimators: 10, MSE: 22358.3613\n",
            "Number of Estimators: 50, MSE: 18665.0730\n",
            "Number of Estimators: 100, MSE: 18067.6286\n",
            "Number of Estimators: 200, MSE: 17708.2755\n",
            "Number of Estimators: 500, MSE: 17796.7736\n"
          ]
        }
      ]
    },
    {
      "cell_type": "code",
      "metadata": {
        "colab": {
          "base_uri": "https://localhost:8080/"
        },
        "id": "6f60c8ed",
        "outputId": "476e6759-c666-4251-db82-80c327c09f4e"
      },
      "source": [
        "# Ques -13. Train a Random Forest Classifier and analyze misclassified samples.\n",
        "from sklearn.datasets import make_classification\n",
        "from sklearn.ensemble import RandomForestClassifier\n",
        "from sklearn.model_selection import train_test_split\n",
        "import numpy as np\n",
        "\n",
        "# Generate a sample dataset\n",
        "X, y = make_classification(n_samples=1000, n_features=20, n_informative=15, n_redundant=5, random_state=42)\n",
        "\n",
        "# Split the dataset into training and testing sets\n",
        "X_train, X_test, y_train, y_test = train_test_split(X, y, test_size=0.3, random_state=42)\n",
        "\n",
        "# Create a Random Forest Classifier\n",
        "rf_clf = RandomForestClassifier(n_estimators=100, random_state=42)\n",
        "\n",
        "# Train the Random Forest Classifier\n",
        "rf_clf.fit(X_train, y_train)\n",
        "\n",
        "# Predict on the test set\n",
        "y_pred = rf_clf.predict(X_test)\n",
        "\n",
        "# Identify misclassified samples\n",
        "misclassified_indices = np.where(y_test != y_pred)[0]\n",
        "misclassified_samples = X_test[misclassified_indices]\n",
        "misclassified_true_labels = y_test[misclassified_indices]\n",
        "misclassified_predicted_labels = y_pred[misclassified_indices]\n",
        "\n",
        "print(f\"Number of misclassified samples: {len(misclassified_indices)}\")\n",
        "\n",
        "# Display information about the first few misclassified samples\n",
        "print(\"\\nInformation about the first 5 misclassified samples:\")\n",
        "for i in range(min(5, len(misclassified_indices))):\n",
        "    print(f\"  Sample {i+1}:\")\n",
        "    print(f\"    True Label: {misclassified_true_labels[i]}\")\n",
        "    print(f\"    Predicted Label: {misclassified_predicted_labels[i]}\")\n",
        "    # You can print the features of the sample if needed:\n",
        "    # print(f\"    Features: {misclassified_samples[i]}\")\n",
        "\n",
        "# Further analysis could involve looking at feature values for misclassified samples\n",
        "# or visualizing patterns in misclassified data."
      ],
      "execution_count": 13,
      "outputs": [
        {
          "output_type": "stream",
          "name": "stdout",
          "text": [
            "Number of misclassified samples: 34\n",
            "\n",
            "Information about the first 5 misclassified samples:\n",
            "  Sample 1:\n",
            "    True Label: 1\n",
            "    Predicted Label: 0\n",
            "  Sample 2:\n",
            "    True Label: 1\n",
            "    Predicted Label: 0\n",
            "  Sample 3:\n",
            "    True Label: 0\n",
            "    Predicted Label: 1\n",
            "  Sample 4:\n",
            "    True Label: 0\n",
            "    Predicted Label: 1\n",
            "  Sample 5:\n",
            "    True Label: 1\n",
            "    Predicted Label: 0\n"
          ]
        }
      ]
    },
    {
      "cell_type": "code",
      "source": [
        "# Ques -14. Train a Bagging Classifier and compare its performance with a single Decision Tree Classifier.\n",
        "\n",
        "from sklearn.datasets import make_classification\n",
        "from sklearn.ensemble import BaggingClassifier\n",
        "from sklearn.tree import DecisionTreeClassifier\n",
        "from sklearn.model_selection import train_test_split\n",
        "from sklearn.metrics import accuracy_score\n",
        "\n",
        "# Generate a sample dataset\n",
        "X, y = make_classification(n_samples=1000, n_features=20, n_informative=15, n_redundant=5, random_state=42)\n",
        "\n",
        "# Split the dataset into training and testing sets\n",
        "X_train, X_test, y_train, y_test = train_test_split(X, y, test_size=0.3, random_state=42)\n",
        "\n",
        "# Train a single Decision Tree Classifier\n",
        "dt_clf = DecisionTreeClassifier(random_state=42)\n",
        "dt_clf.fit(X_train, y_train)\n",
        "y_pred_dt = dt_clf.predict(X_test)\n",
        "accuracy_dt = accuracy_score(y_test, y_pred_dt)\n",
        "print(f\"Accuracy of single Decision Tree Classifier: {accuracy_dt:.4f}\")\n",
        "\n",
        "# Train a Bagging Classifier using Decision Trees as base estimators\n",
        "bagging_clf = BaggingClassifier(estimator=DecisionTreeClassifier(random_state=42), n_estimators=10, random_state=42)\n",
        "bagging_clf.fit(X_train, y_train)\n",
        "y_pred_bagging = bagging_clf.predict(X_test)\n",
        "accuracy_bagging = accuracy_score(y_test, y_pred_bagging)\n",
        "print(f\"Accuracy of Bagging Classifier: {accuracy_bagging:.4f}\")\n",
        "\n",
        "# Compare the performance\n",
        "print(\"\\nComparison of Accuracy:\")\n",
        "print(f\"Single Decision Tree: {accuracy_dt:.4f}\")\n",
        "print(f\"Bagging Classifier: {accuracy_bagging:.4f}\")"
      ],
      "metadata": {
        "colab": {
          "base_uri": "https://localhost:8080/"
        },
        "id": "WTDmiXV6Ruc3",
        "outputId": "3315b5d9-5cc4-4f8e-b3af-0ec22f5cdbcc"
      },
      "execution_count": 14,
      "outputs": [
        {
          "output_type": "stream",
          "name": "stdout",
          "text": [
            "Accuracy of single Decision Tree Classifier: 0.7967\n",
            "Accuracy of Bagging Classifier: 0.8500\n",
            "\n",
            "Comparison of Accuracy:\n",
            "Single Decision Tree: 0.7967\n",
            "Bagging Classifier: 0.8500\n"
          ]
        }
      ]
    },
    {
      "cell_type": "code",
      "source": [
        "# Ques -15.  Train a Random Forest Classifier and visualize the confusion matrix.\n",
        "\n",
        "import pandas as pd\n",
        "from sklearn.ensemble import RandomForestClassifier\n",
        "from sklearn.model_selection import train_test_split\n",
        "from sklearn.metrics import confusion_matrix\n",
        "import seaborn as sns\n",
        "import matplotlib.pyplot as plt\n",
        "\n",
        "#generate a sample dataset\n",
        "X, y = make_classification(n_samples=1000, n_features=20, n_informative=15, n_redundant=5, random_state=42)\n",
        "\n",
        "# Split the dataset into training and testing sets\n",
        "X_train, X_test, y_train, y_test = train_test_split(X, y, test_size=0.3, random_state=42)\n",
        "# Create a random forest classifier\n",
        "rf_clf = RandomForestClassifier(n_estimators=100, random_state=42)\n",
        "\n",
        "# Train the classifier\n",
        "rf_clf.fit(X_train, y_train)\n",
        "# Predict on the test sets\n",
        "y_pred = rf_clf.predict(X_test)\n",
        "\n",
        "# Compute the confusion matrix\n",
        "cm = confusion_matrix(y_test, y_pred)\n",
        "# Visualize the confusion matrix\n",
        "plt.figure(figsize=(8, 6))\n",
        "sns.heatmap(cm, annot=True, fmt='d', cmap='Blues', cbar=False)\n",
        "plt.xlabel('Predicted Label')\n",
        "plt.ylabel('True Label')\n",
        "plt.title('Confusion Matrix for Random Forest Classifier')\n",
        "plt.show()"
      ],
      "metadata": {
        "colab": {
          "base_uri": "https://localhost:8080/",
          "height": 564
        },
        "id": "slJ9GY7MSZyP",
        "outputId": "82037697-05fc-474d-d4f0-dbb7e2a71716"
      },
      "execution_count": 15,
      "outputs": [
        {
          "output_type": "display_data",
          "data": {
            "text/plain": [
              "<Figure size 800x600 with 1 Axes>"
            ],
            "image/png": "[encoded data removed]"
          },
          "metadata": {}
        }
      ]
    },
    {
      "cell_type": "code",
      "source": [
        "# Ques -16. Train a Stacking Classifier using Decision Trees, SVM, and Logistic Regression, and compare accuracy.\n",
        "\n",
        "from sklearn.datasets import load_wine\n",
        "from sklearn.model_selection import train_test_split\n",
        "from sklearn.ensemble import StackingClassifier\n",
        "from sklearn.tree import DecisionTreeClassifier\n",
        "from sklearn.svm import SVC\n",
        "from sklearn.linear_model import LogisticRegression\n",
        "from sklearn.metrics import accuracy_score\n",
        "import warnings\n",
        "warnings.filterwarnings(\"ignore\")\n",
        "# Generate the sample dataset\n",
        "wine = load_wine()\n",
        "X = wine.data\n",
        "y = wine.target\n",
        "\n",
        "# Split the dataset into training and testings\n",
        "X_train, X_test, y_train, y_test = train_test_split(X, y, test_size=0.3, random_state=42)\n",
        "\n",
        "# Create base estimators\n",
        "estimators = [\n",
        "    ('dt', DecisionTreeClassifier(random_state=42)),\n",
        "    ('svm', SVC(probability=True, random_state=42)), # SVM needs probability=True for stacking with Logistic Regression\n",
        "    ('lr', LogisticRegression(random_state=42))\n",
        "]\n",
        "\n",
        "# Create a Stacking Classifier\n",
        "# The final_estimator is the meta-model that combines the predictions of the base estimators\n",
        "stacking_clf = StackingClassifier(estimators=estimators, final_estimator=LogisticRegression())\n",
        "\n",
        "# Train the Stacking Classifier\n",
        "stacking_clf.fit(X_train, y_train)\n",
        "\n",
        "# Predict on the test set\n",
        "y_pred_stacking = stacking_clf.predict(X_test)\n",
        "\n",
        "# Calculate and print the accuracy\n",
        "accuracy_stacking = accuracy_score(y_test, y_pred_stacking)\n",
        "print(f\"Accuracy of the Stacking Classifier: {accuracy_stacking:.4f}\")\n",
        "\n",
        "# Optional: Train and evaluate individual base estimators for comparison\n",
        "print(\"\\nAccuracy of individual base estimators:\")\n",
        "\n",
        "# Decision Tree\n",
        "dt_clf = DecisionTreeClassifier(random_state=42)\n",
        "dt_clf.fit(X_train, y_train)\n",
        "y_pred_dt = dt_clf.predict(X_test)\n",
        "accuracy_dt = accuracy_score(y_test, y_pred_dt)\n",
        "print(f\"  Decision Tree Classifier: {accuracy_dt:.4f}\")\n",
        "\n",
        "# SVM\n",
        "svm_clf = SVC(random_state=42)\n",
        "svm_clf.fit(X_train, y_train)\n",
        "y_pred_svm = svm_clf.predict(X_test)\n",
        "accuracy_svm = accuracy_score(y_test, y_pred_svm)\n",
        "print(f\"  SVM Classifier: {accuracy_svm:.4f}\")\n",
        "\n",
        "# Logistic Regression\n",
        "lr_clf = LogisticRegression(random_state=42)\n",
        "lr_clf.fit(X_train, y_train)\n",
        "y_pred_lr = lr_clf.predict(X_test)\n",
        "accuracy_lr = accuracy_score(y_test, y_pred_lr)\n",
        "print(f\"  Logistic Regression Classifier: {accuracy_lr:.4f}\")"
      ],
      "metadata": {
        "colab": {
          "base_uri": "https://localhost:8080/"
        },
        "id": "UK5CT9dKUQt8",
        "outputId": "94d3e94a-e11e-491b-e577-07066c2aa7fe"
      },
      "execution_count": 17,
      "outputs": [
        {
          "output_type": "stream",
          "name": "stdout",
          "text": [
            "Accuracy of the Stacking Classifier: 0.9815\n",
            "\n",
            "Accuracy of individual base estimators:\n",
            "  Decision Tree Classifier: 0.9630\n",
            "  SVM Classifier: 0.7593\n",
            "  Logistic Regression Classifier: 0.9815\n"
          ]
        }
      ]
    },
    {
      "cell_type": "code",
      "metadata": {
        "colab": {
          "base_uri": "https://localhost:8080/"
        },
        "id": "268925bd",
        "outputId": "be777cfb-d3f6-472b-b376-d9b85da1de92"
      },
      "source": [
        "# Ques -17.  Train a Random Forest Classifier and print the top 5 most important features.\n",
        "from sklearn.datasets import make_classification\n",
        "from sklearn.ensemble import RandomForestClassifier\n",
        "from sklearn.model_selection import train_test_split\n",
        "import numpy as np\n",
        "\n",
        "# Generate a sample dataset\n",
        "X, y = make_classification(n_samples=1000, n_features=20, n_informative=15, n_redundant=5, random_state=42)\n",
        "feature_names = [f\"feature_{i}\" for i in range(X.shape[1])] # Create generic feature names\n",
        "\n",
        "# Split the dataset into training and testing sets\n",
        "X_train, X_test, y_train, y_test = train_test_split(X, y, test_size=0.3, random_state=42)\n",
        "\n",
        "# Create a Random Forest Classifier\n",
        "rf_clf = RandomForestClassifier(n_estimators=100, random_state=42)\n",
        "\n",
        "# Train the Random Forest Classifier\n",
        "rf_clf.fit(X_train, y_train)\n",
        "\n",
        "# Get feature importances\n",
        "feature_importances = rf_clf.feature_importances_\n",
        "\n",
        "# Create a list of tuples with feature names and their importances\n",
        "features_and_importances = list(zip(feature_names, feature_importances))\n",
        "\n",
        "# Sort the features by importance in descending order\n",
        "features_and_importances.sort(key=lambda x: x[1], reverse=True)\n",
        "\n",
        "# Print the top 5 most important features\n",
        "print(\"Top 5 Most Important Features:\")\n",
        "for feature, importance in features_and_importances[:5]:\n",
        "    print(f\"{feature}: {importance:.4f}\")"
      ],
      "execution_count": 18,
      "outputs": [
        {
          "output_type": "stream",
          "name": "stdout",
          "text": [
            "Top 5 Most Important Features:\n",
            "feature_12: 0.1341\n",
            "feature_6: 0.0679\n",
            "feature_2: 0.0673\n",
            "feature_5: 0.0666\n",
            "feature_17: 0.0582\n"
          ]
        }
      ]
    },
    {
      "cell_type": "code",
      "metadata": {
        "colab": {
          "base_uri": "https://localhost:8080/"
        },
        "id": "430bf716",
        "outputId": "f3812dc4-5350-4d5c-ec47-8f2e573cffc3"
      },
      "source": [
        "# Ques -18. Train a Bagging Classifier and evaluate performance using Precision, Recall, and F1-score.\n",
        "\n",
        "from sklearn.datasets import make_classification\n",
        "from sklearn.ensemble import BaggingClassifier\n",
        "from sklearn.tree import DecisionTreeClassifier\n",
        "from sklearn.model_selection import train_test_split\n",
        "from sklearn.metrics import precision_score, recall_score, f1_score\n",
        "\n",
        "# Generate a sample dataset\n",
        "X, y = make_classification(n_samples=1000, n_features=20, n_informative=15, n_redundant=5, random_state=42)\n",
        "\n",
        "# Split the dataset into training and testing sets\n",
        "X_train, X_test, y_train, y_test = train_test_split(X, y, test_size=0.3, random_state=42)\n",
        "\n",
        "# Create a Decision Tree Classifier as the base estimator\n",
        "base_estimator = DecisionTreeClassifier(random_state=42)\n",
        "\n",
        "# Create a Bagging Classifier with the Decision Tree as the base estimator\n",
        "bagging_clf = BaggingClassifier(estimator=base_estimator, n_estimators=10, random_state=42)\n",
        "\n",
        "# Train the Bagging Classifier\n",
        "bagging_clf.fit(X_train, y_train)\n",
        "\n",
        "# Predict on the test set\n",
        "y_pred = bagging_clf.predict(X_test)\n",
        "\n",
        "# Calculate and print Precision, Recall, and F1-score\n",
        "precision = precision_score(y_test, y_pred)\n",
        "recall = recall_score(y_test, y_pred)\n",
        "f1 = f1_score(y_test, y_pred)\n",
        "\n",
        "print(f\"Precision of the Bagging Classifier: {precision:.4f}\")\n",
        "print(f\"Recall of the Bagging Classifier: {recall:.4f}\")\n",
        "print(f\"F1-score of the Bagging Classifier: {f1:.4f}\")"
      ],
      "execution_count": 19,
      "outputs": [
        {
          "output_type": "stream",
          "name": "stdout",
          "text": [
            "Precision of the Bagging Classifier: 0.8369\n",
            "Recall of the Bagging Classifier: 0.8429\n",
            "F1-score of the Bagging Classifier: 0.8399\n"
          ]
        }
      ]
    },
    {
      "cell_type": "code",
      "metadata": {
        "colab": {
          "base_uri": "https://localhost:8080/",
          "height": 772
        },
        "id": "f3f95c9d",
        "outputId": "88214dca-dc53-4952-d942-24bf115db034"
      },
      "source": [
        "# Ques -19. Train a Random Forest Classifier and analyze the effect of max_depth on accuracy.\n",
        "\n",
        "from sklearn.datasets import make_classification\n",
        "from sklearn.ensemble import RandomForestClassifier\n",
        "from sklearn.model_selection import train_test_split\n",
        "from sklearn.metrics import accuracy_score\n",
        "import matplotlib.pyplot as plt\n",
        "\n",
        "# Generate a sample dataset\n",
        "X, y = make_classification(n_samples=1000, n_features=20, n_informative=15, n_redundant=5, random_state=42)\n",
        "\n",
        "# Split the dataset into training and testing sets\n",
        "X_train, X_test, y_train, y_test = train_test_split(X, y, test_size=0.3, random_state=42)\n",
        "\n",
        "# Define a list of different max_depth values to experiment with\n",
        "max_depth_list = [2, 5, 10, 20, None] # None means unlimited depth\n",
        "\n",
        "# Train Random Forest Classifiers with different max_depth and store accuracies\n",
        "accuracies = []\n",
        "for max_depth in max_depth_list:\n",
        "    rf_clf = RandomForestClassifier(n_estimators=100, max_depth=max_depth, random_state=42)\n",
        "    rf_clf.fit(X_train, y_train)\n",
        "    y_pred = rf_clf.predict(X_test)\n",
        "    accuracy = accuracy_score(y_test, y_pred)\n",
        "    accuracies.append(accuracy)\n",
        "    print(f\"Accuracy with max_depth={max_depth}: {accuracy:.4f}\")\n",
        "\n",
        "# Plot the accuracies\n",
        "plt.figure(figsize=(10, 6))\n",
        "plt.plot([str(d) for d in max_depth_list], accuracies, marker='o') # Convert to string for plotting\n",
        "plt.xlabel(\"Max Depth\")\n",
        "plt.ylabel(\"Accuracy\")\n",
        "plt.title(\"Random Forest Classifier Accuracy vs. Max Depth\")\n",
        "plt.grid(True)\n",
        "plt.show()\n",
        "\n",
        "# Print a summary comparison\n",
        "print(\"\\nAccuracy Comparison:\")\n",
        "for i, max_depth in enumerate(max_depth_list):\n",
        "    print(f\"Max Depth: {max_depth}, Accuracy: {accuracies[i]:.4f}\")"
      ],
      "execution_count": 20,
      "outputs": [
        {
          "output_type": "stream",
          "name": "stdout",
          "text": [
            "Accuracy with max_depth=2: 0.7900\n",
            "Accuracy with max_depth=5: 0.8633\n",
            "Accuracy with max_depth=10: 0.8767\n",
            "Accuracy with max_depth=20: 0.8867\n",
            "Accuracy with max_depth=None: 0.8867\n"
          ]
        },
        {
          "output_type": "display_data",
          "data": {
            "text/plain": [
              "<Figure size 1000x600 with 1 Axes>"
            ],
            "image/png": "[encoded data removed]"
          },
          "metadata": {}
        },
        {
          "output_type": "stream",
          "name": "stdout",
          "text": [
            "\n",
            "Accuracy Comparison:\n",
            "Max Depth: 2, Accuracy: 0.7900\n",
            "Max Depth: 5, Accuracy: 0.8633\n",
            "Max Depth: 10, Accuracy: 0.8767\n",
            "Max Depth: 20, Accuracy: 0.8867\n",
            "Max Depth: None, Accuracy: 0.8867\n"
          ]
        }
      ]
    },
    {
      "cell_type": "code",
      "metadata": {
        "colab": {
          "base_uri": "https://localhost:8080/"
        },
        "id": "dd82cc1e",
        "outputId": "75e19037-dd27-4bc9-ba53-9247eba717f2"
      },
      "source": [
        "# Ques -20. Train a Bagging Regressor using different base estimators (DecisionTree and KNeighbors) and compare performance.\n",
        "\n",
        "from sklearn.datasets import make_regression\n",
        "from sklearn.ensemble import BaggingRegressor\n",
        "from sklearn.tree import DecisionTreeRegressor\n",
        "from sklearn.neighbors import KNeighborsRegressor # Importing KNeighborsRegressor\n",
        "from sklearn.model_selection import train_test_split\n",
        "from sklearn.metrics import mean_squared_error\n",
        "\n",
        "# Generate a sample regression dataset\n",
        "X, y = make_regression(n_samples=1000, n_features=20, n_informative=15, random_state=42)\n",
        "\n",
        "# Split the dataset into training and testing sets\n",
        "X_train, X_test, y_train, y_test = train_test_split(X, y, test_size=0.3, random_state=42)\n",
        "\n",
        "# Create a Decision Tree Regressor as a base estimator\n",
        "base_estimator_dt = DecisionTreeRegressor(random_state=42)\n",
        "\n",
        "# Create a Bagging Regressor with Decision Tree base estimator\n",
        "bagging_reg_dt = BaggingRegressor(estimator=base_estimator_dt, n_estimators=10, random_state=42)\n",
        "\n",
        "# Train the Bagging Regressor with Decision Tree\n",
        "bagging_reg_dt.fit(X_train, y_train)\n",
        "y_pred_dt = bagging_reg_dt.predict(X_test)\n",
        "mse_dt = mean_squared_error(y_test, y_pred_dt)\n",
        "print(f\"Mean Squared Error of Bagging Regressor with Decision Tree: {mse_dt:.4f}\")\n",
        "\n",
        "# Create a KNeighbors Regressor as a base estimator\n",
        "# You might need to scale the data for K-Nearest Neighbors in a real scenario\n",
        "base_estimator_knn = KNeighborsRegressor(n_neighbors=5)\n",
        "\n",
        "# Create a Bagging Regressor with KNeighbors base estimator\n",
        "bagging_reg_knn = BaggingRegressor(estimator=base_estimator_knn, n_estimators=10, random_state=42)\n",
        "\n",
        "# Train the Bagging Regressor with KNeighbors\n",
        "bagging_reg_knn.fit(X_train, y_train)\n",
        "y_pred_knn = bagging_reg_knn.predict(X_test)\n",
        "mse_knn = mean_squared_error(y_test, y_pred_knn)\n",
        "print(f\"Mean Squared Error of Bagging Regressor with KNeighbors: {mse_knn:.4f}\")\n",
        "\n",
        "# Compare the performance\n",
        "print(\"\\nComparison of MSE:\")\n",
        "print(f\"Bagging with Decision Tree: {mse_dt:.4f}\")\n",
        "print(f\"Bagging with KNeighbors: {mse_knn:.4f}\")"
      ],
      "execution_count": 21,
      "outputs": [
        {
          "output_type": "stream",
          "name": "stdout",
          "text": [
            "Mean Squared Error of Bagging Regressor with Decision Tree: 22358.3613\n",
            "Mean Squared Error of Bagging Regressor with KNeighbors: 18503.1170\n",
            "\n",
            "Comparison of MSE:\n",
            "Bagging with Decision Tree: 22358.3613\n",
            "Bagging with KNeighbors: 18503.1170\n"
          ]
        }
      ]
    },
    {
      "cell_type": "code",
      "metadata": {
        "colab": {
          "base_uri": "https://localhost:8080/"
        },
        "id": "9b1fcf07",
        "outputId": "55e5a78b-ece4-4279-a6c6-96bdd0808b40"
      },
      "source": [
        "# Ques -21. Train a Random Forest Classifier and evaluate its performance using ROC-AUC Score.\n",
        "\n",
        "from sklearn.datasets import make_classification\n",
        "from sklearn.ensemble import RandomForestClassifier\n",
        "from sklearn.model_selection import train_test_split\n",
        "from sklearn.metrics import roc_auc_score\n",
        "\n",
        "# Generate a sample dataset\n",
        "X, y = make_classification(n_samples=1000, n_features=20, n_informative=15, n_redundant=5, random_state=42)\n",
        "\n",
        "# Split the dataset into training and testing sets\n",
        "X_train, X_test, y_train, y_test = train_test_split(X, y, test_size=0.3, random_state=42)\n",
        "\n",
        "# Create a Random Forest Classifier\n",
        "rf_clf = RandomForestClassifier(n_estimators=100, random_state=42)\n",
        "\n",
        "# Train the Random Forest Classifier\n",
        "rf_clf.fit(X_train, y_train)\n",
        "\n",
        "# Predict probabilities on the test set (needed for ROC-AUC)\n",
        "y_pred_prob = rf_clf.predict_proba(X_test)[:, 1] # Get probabilities for the positive class\n",
        "\n",
        "# Calculate and print the ROC-AUC score\n",
        "roc_auc = roc_auc_score(y_test, y_pred_prob)\n",
        "print(f\"ROC-AUC Score of the Random Forest Classifier: {roc_auc:.4f}\")"
      ],
      "execution_count": 22,
      "outputs": [
        {
          "output_type": "stream",
          "name": "stdout",
          "text": [
            "ROC-AUC Score of the Random Forest Classifier: 0.9647\n"
          ]
        }
      ]
    },
    {
      "cell_type": "code",
      "metadata": {
        "colab": {
          "base_uri": "https://localhost:8080/"
        },
        "id": "3411255d",
        "outputId": "32c011a1-46de-46b4-abe1-38201eef1d77"
      },
      "source": [
        "# Ques -22. Train a Bagging Classifier and evaluate its performance using cross-validation.\n",
        "\n",
        "from sklearn.datasets import make_classification\n",
        "from sklearn.ensemble import BaggingClassifier\n",
        "from sklearn.tree import DecisionTreeClassifier\n",
        "from sklearn.model_selection import cross_val_score # Importing cross_val_score\n",
        "\n",
        "# Generate a sample dataset\n",
        "X, y = make_classification(n_samples=1000, n_features=20, n_informative=15, n_redundant=5, random_state=42)\n",
        "\n",
        "# Create a Decision Tree Classifier as the base estimator\n",
        "base_estimator = DecisionTreeClassifier(random_state=42)\n",
        "\n",
        "# Create a Bagging Classifier with the Decision Tree as the base estimator\n",
        "bagging_clf = BaggingClassifier(estimator=base_estimator, n_estimators=10, random_state=42)\n",
        "\n",
        "# Perform cross-validation\n",
        "# cv: number of folds\n",
        "# scoring: the metric to evaluate (e.g., 'accuracy', 'f1', 'roc_auc')\n",
        "cv_scores = cross_val_score(bagging_clf, X, y, cv=5, scoring='accuracy')\n",
        "\n",
        "# Print the cross-validation scores\n",
        "print(f\"Cross-validation Accuracy Scores: {cv_scores}\")\n",
        "print(f\"Mean Cross-validation Accuracy: {cv_scores.mean():.4f}\")\n",
        "print(f\"Standard Deviation of Cross-validation Accuracy: {cv_scores.std():.4f}\")"
      ],
      "execution_count": 23,
      "outputs": [
        {
          "output_type": "stream",
          "name": "stdout",
          "text": [
            "Cross-validation Accuracy Scores: [0.875 0.9   0.885 0.915 0.875]\n",
            "Mean Cross-validation Accuracy: 0.8900\n",
            "Standard Deviation of Cross-validation Accuracy: 0.0155\n"
          ]
        }
      ]
    },
    {
      "cell_type": "code",
      "metadata": {
        "colab": {
          "base_uri": "https://localhost:8080/",
          "height": 564
        },
        "id": "0449ab5c",
        "outputId": "3eec14be-865e-47b7-dd91-3ef7da416d2b"
      },
      "source": [
        "# Ques -23. Train a Random Forest Classifier and plot the Precision-Recall curve.\n",
        "\n",
        "from sklearn.datasets import make_classification\n",
        "from sklearn.ensemble import RandomForestClassifier\n",
        "from sklearn.model_selection import train_test_split\n",
        "from sklearn.metrics import precision_recall_curve, auc\n",
        "import matplotlib.pyplot as plt\n",
        "\n",
        "# Generate a sample dataset\n",
        "X, y = make_classification(n_samples=1000, n_features=20, n_informative=15, n_redundant=5, random_state=42)\n",
        "\n",
        "# Split the dataset into training and testing sets\n",
        "X_train, X_test, y_train, y_test = train_test_split(X, y, test_size=0.3, random_state=42)\n",
        "\n",
        "# Create a Random Forest Classifier\n",
        "rf_clf = RandomForestClassifier(n_estimators=100, random_state=42)\n",
        "\n",
        "# Train the Random Forest Classifier\n",
        "rf_clf.fit(X_train, y_train)\n",
        "\n",
        "# Predict probabilities on the test set\n",
        "y_scores = rf_clf.predict_proba(X_test)[:, 1] # Get probabilities for the positive class\n",
        "\n",
        "# Compute precision-recall pairs for different probability thresholds\n",
        "precision, recall, thresholds = precision_recall_curve(y_test, y_scores)\n",
        "\n",
        "# Calculate the Area Under the Precision-Recall Curve (AUPRC)\n",
        "auprc = auc(recall, precision)\n",
        "\n",
        "# Plot the Precision-Recall curve\n",
        "plt.figure(figsize=(8, 6))\n",
        "plt.plot(recall, precision, label=f'Random Forest (AUPRC = {auprc:.4f})')\n",
        "plt.xlabel('Recall')\n",
        "plt.ylabel('Precision')\n",
        "plt.title('Precision-Recall Curve')\n",
        "plt.legend()\n",
        "plt.grid(True)\n",
        "plt.show()"
      ],
      "execution_count": 24,
      "outputs": [
        {
          "output_type": "display_data",
          "data": {
            "text/plain": [
              "<Figure size 800x600 with 1 Axes>"
            ],
            "image/png": "[encoded data removed]"
          },
          "metadata": {}
        }
      ]
    },
    {
      "cell_type": "code",
      "metadata": {
        "colab": {
          "base_uri": "https://localhost:8080/"
        },
        "id": "bed65eb1",
        "outputId": "b2e33998-a893-4788-ec8c-549adbae0014"
      },
      "source": [
        "# Ques -24. Train a Stacking Classifier with Random Forest and Logistic Regression and compare accuracy.\n",
        "\n",
        "from sklearn.datasets import make_classification\n",
        "from sklearn.model_selection import train_test_split\n",
        "from sklearn.ensemble import StackingClassifier, RandomForestClassifier\n",
        "from sklearn.linear_model import LogisticRegression\n",
        "from sklearn.metrics import accuracy_score\n",
        "\n",
        "# Generate a sample dataset\n",
        "X, y = make_classification(n_samples=1000, n_features=20, n_informative=15, n_redundant=5, random_state=42)\n",
        "\n",
        "# Split the dataset into training and testing sets\n",
        "X_train, X_test, y_train, y_test = train_test_split(X, y, test_size=0.3, random_state=42)\n",
        "\n",
        "# Create base estimators\n",
        "estimators = [\n",
        "    ('rf', RandomForestClassifier(n_estimators=100, random_state=42)),\n",
        "    ('lr', LogisticRegression(random_state=42))\n",
        "]\n",
        "\n",
        "# Create a Stacking Classifier\n",
        "# The final_estimator is the meta-model that combines the predictions of the base estimators\n",
        "stacking_clf = StackingClassifier(estimators=estimators, final_estimator=LogisticRegression())\n",
        "\n",
        "# Train the Stacking Classifier\n",
        "stacking_clf.fit(X_train, y_train)\n",
        "\n",
        "# Predict on the test set\n",
        "y_pred_stacking = stacking_clf.predict(X_test)\n",
        "\n",
        "# Calculate and print the accuracy\n",
        "accuracy_stacking = accuracy_score(y_test, y_pred_stacking)\n",
        "print(f\"Accuracy of the Stacking Classifier: {accuracy_stacking:.4f}\")\n",
        "\n",
        "# Optional: Train and evaluate individual base estimators for comparison\n",
        "print(\"\\nAccuracy of individual base estimators:\")\n",
        "\n",
        "# Random Forest\n",
        "rf_clf = RandomForestClassifier(n_estimators=100, random_state=42)\n",
        "rf_clf.fit(X_train, y_train)\n",
        "y_pred_rf = rf_clf.predict(X_test)\n",
        "accuracy_rf = accuracy_score(y_test, y_pred_rf)\n",
        "print(f\"  Random Forest Classifier: {accuracy_rf:.4f}\")\n",
        "\n",
        "# Logistic Regression\n",
        "lr_clf = LogisticRegression(random_state=42)\n",
        "lr_clf.fit(X_train, y_train)\n",
        "y_pred_lr = lr_clf.predict(X_test)\n",
        "accuracy_lr = accuracy_score(y_test, y_pred_lr)\n",
        "print(f\"  Logistic Regression Classifier: {accuracy_lr:.4f}\")"
      ],
      "execution_count": 25,
      "outputs": [
        {
          "output_type": "stream",
          "name": "stdout",
          "text": [
            "Accuracy of the Stacking Classifier: 0.8900\n",
            "\n",
            "Accuracy of individual base estimators:\n",
            "  Random Forest Classifier: 0.8867\n",
            "  Logistic Regression Classifier: 0.8200\n"
          ]
        }
      ]
    },
    {
      "cell_type": "code",
      "metadata": {
        "colab": {
          "base_uri": "https://localhost:8080/",
          "height": 738
        },
        "id": "1bf5a931",
        "outputId": "78a0667d-9a20-489a-86b0-08e769480597"
      },
      "source": [
        "# Ques -25. Train a Bagging Regressor with different levels of bootstrap samples and compare performance.\n",
        "\n",
        "from sklearn.datasets import make_regression\n",
        "from sklearn.ensemble import BaggingRegressor\n",
        "from sklearn.tree import DecisionTreeRegressor\n",
        "from sklearn.model_selection import train_test_split\n",
        "from sklearn.metrics import mean_squared_error\n",
        "import matplotlib.pyplot as plt\n",
        "\n",
        "# Generate a sample regression dataset\n",
        "X, y = make_regression(n_samples=1000, n_features=20, n_informative=15, random_state=42)\n",
        "\n",
        "# Split the dataset into training and testing sets\n",
        "X_train, X_test, y_train, y_test = train_test_split(X, y, test_size=0.3, random_state=42)\n",
        "\n",
        "# Create a Decision Tree Regressor as the base estimator\n",
        "base_estimator_reg = DecisionTreeRegressor(random_state=42)\n",
        "\n",
        "# Define a list of different max_samples values to experiment with\n",
        "# These represent the fraction of samples to draw from X to train each base estimator\n",
        "max_samples_list = [0.5, 0.7, 0.9, 1.0] # 1.0 means use all samples (with replacement)\n",
        "\n",
        "# Train Bagging Regressors with different max_samples and store MSEs\n",
        "mses_max_samples = []\n",
        "for max_samples in max_samples_list:\n",
        "    bagging_reg = BaggingRegressor(estimator=base_estimator_reg, n_estimators=100, max_samples=max_samples, random_state=42)\n",
        "    bagging_reg.fit(X_train, y_train)\n",
        "    y_pred_reg = bagging_reg.predict(X_test)\n",
        "    mse_reg = mean_squared_error(y_test, y_pred_reg)\n",
        "    mses_max_samples.append(mse_reg)\n",
        "    print(f\"Mean Squared Error with max_samples={max_samples}: {mse_reg:.4f}\")\n",
        "\n",
        "# Plot the MSEs\n",
        "plt.figure(figsize=(10, 6))\n",
        "plt.plot([str(s) for s in max_samples_list], mses_max_samples, marker='o') # Convert to string for plotting\n",
        "plt.xlabel(\"Max Samples (fraction of training data)\")\n",
        "plt.ylabel(\"Mean Squared Error (MSE)\")\n",
        "plt.title(\"Bagging Regressor MSE vs. Max Samples\")\n",
        "plt.grid(True)\n",
        "plt.show()\n",
        "\n",
        "# Print a summary comparison\n",
        "print(\"\\nMean Squared Error Comparison:\")\n",
        "for i, max_samples in enumerate(max_samples_list):\n",
        "    print(f\"Max Samples: {max_samples}, MSE: {mses_max_samples[i]:.4f}\")"
      ],
      "execution_count": 26,
      "outputs": [
        {
          "output_type": "stream",
          "name": "stdout",
          "text": [
            "Mean Squared Error with max_samples=0.5: 19175.5528\n",
            "Mean Squared Error with max_samples=0.7: 18533.3648\n",
            "Mean Squared Error with max_samples=0.9: 18474.4050\n",
            "Mean Squared Error with max_samples=1.0: 18067.6286\n"
          ]
        },
        {
          "output_type": "display_data",
          "data": {
            "text/plain": [
              "<Figure size 1000x600 with 1 Axes>"
            ],
            "image/png": "[encoded data removed]"
          },
          "metadata": {}
        },
        {
          "output_type": "stream",
          "name": "stdout",
          "text": [
            "\n",
            "Mean Squared Error Comparison:\n",
            "Max Samples: 0.5, MSE: 19175.5528\n",
            "Max Samples: 0.7, MSE: 18533.3648\n",
            "Max Samples: 0.9, MSE: 18474.4050\n",
            "Max Samples: 1.0, MSE: 18067.6286\n"
          ]
        }
      ]
    }
  ]
}