{
 "cells": [
  {
   "cell_type": "markdown",
   "id": "95d1b94a-fb37-495d-99a8-18e03ef2619c",
   "metadata": {},
   "source": [
    "Python Basics Questions -->"
   ]
  },
  {
   "cell_type": "markdown",
   "id": "697799e9-5c2d-4532-9cca-bd5dee9c239b",
   "metadata": {},
   "source": [
    "Question 1.  What is Python, and why is it popular ?\n",
    "         -> Python is a high-level, interpreted programming language known for its simplicity and readability.\n",
    "         Python's popularity can be attributed to several factors:\n",
    "         1. Python is used in a wide range of applications.\n",
    "         2. Its syntax is clean and easy to understand.\n",
    "         3. It has a vast collection of libraries and frameworks.\n",
    "         4. Python has a large and active community.\n",
    "         5. Python works on various operating systems."
   ]
  },
  {
   "cell_type": "markdown",
   "id": "35c0c53d-2aab-45fc-a407-6d03d3622b4b",
   "metadata": {},
   "source": [
    "Ques 2. What is an interpreter in Python ?\n",
    "   --> An interpreter in Python is a program that reads and executes Python code. It translates the high-level Python code into machine code line-by-line at runtime, rather than compiling the entire program into machine code before execution."
   ]
  },
  {
   "cell_type": "markdown",
   "id": "71659a8d-d408-488e-9bc9-fcc4c0d5e132",
   "metadata": {},
   "source": [
    "Ques 3. What are pre-defined keywords in Python ?\n",
    "    --> Pre-defined keywords in Python are reserved words that have special meanings and purposes within the language. These keywords form the foundation of Python's syntax and structure."
   ]
  },
  {
   "cell_type": "markdown",
   "id": "614f252a-7056-4f82-942a-49db9d6941fa",
   "metadata": {},
   "source": [
    "Ques 4. Can keywords be used as variable names ?\n",
    "   ---> No, keywords in Python cannot be used as variable names."
   ]
  },
  {
   "cell_type": "markdown",
   "id": "fc9512dc-a14c-4944-b3a5-fc7bb2a3a38a",
   "metadata": {},
   "source": [
    "Ques 5. What is mutability in Python ?\n",
    "   ---> Mutability in Python refers to the ability of an object to be changed after it has been created."
   ]
  },
  {
   "cell_type": "markdown",
   "id": "d3230881-e89d-4955-8a5e-2c781e4740d9",
   "metadata": {},
   "source": [
    "Ques 6. Why are lists mutable, but tuples are immutable ?\n",
    "   ---> Lists are mutable because they are designed to hold a collection of items that might need to be modified.Tuples, on the other hand, are immutable because they are intended to represent fixed collections of items."
   ]
  },
  {
   "cell_type": "markdown",
   "id": "5be053bb-95e5-484d-a271-a24061f2f3e2",
   "metadata": {},
   "source": [
    "Ques 7. What is the difference between “==” and “is” operators in Python ?\n",
    "   ---> 1. Use \"==\" when you want to compare the values of two objects.\n",
    "        2.  Use \"is\" when you want to check if two variables reference the same object in memory."
   ]
  },
  {
   "cell_type": "markdown",
   "id": "d700f1ff-d394-4cf9-b8f7-ea0dbb219616",
   "metadata": {},
   "source": [
    "Ques 8. What are logical operators in Python?\n",
    "   ---> Logical operators in Python are used to combine conditional statements and control the flow of execution. They allow you to perform logical operations on Boolean expressions."
   ]
  },
  {
   "cell_type": "markdown",
   "id": "fdabdb12-05c4-4981-8d9b-989795b6c484",
   "metadata": {},
   "source": [
    "Ques 8. What is type casting in Python ?\n",
    "   ---> Type casting in Python, also known as type conversion, is the process of converting a value from one data type to another."
   ]
  },
  {
   "cell_type": "markdown",
   "id": "5a07207a-fe48-408b-9d63-9af38bcba5cf",
   "metadata": {},
   "source": [
    "Ques 9. What is type casting in Python ?\n",
    "   ---> Type casting in Python, also known as type conversion, is the process of converting a value from one data type to another."
   ]
  },
  {
   "cell_type": "markdown",
   "id": "de3a9341-6781-4ce5-a461-fb20a37b9e13",
   "metadata": {},
   "source": [
    "Ques 10. What is the difference between implicit and explicit type casting?\n",
    "   --->  1. Implicit type casting is initiated by Python automatically, while explicit type casting is initiated by the programmer.\n",
    "2. Implicit type casting provides less control over data conversion, whereas explicit type casting gives the programmer full control over how and when data types are converted.\n",
    "3. Implicit type casting is useful for seamless operations and reducing manual conversions, while explicit type casting ensures specific data types for accurate and predictable operations."
   ]
  },
  {
   "cell_type": "markdown",
   "id": "485a615d-19f9-49f0-9254-df9b163324de",
   "metadata": {},
   "source": [
    "Ques 11. What is the purpose of conditional statements in Python ?\n",
    "   ---> Conditional statements in Python are used to execute different blocks of code based on certain conditions.\n",
    "   1. Decision Making: Conditional statements enable your program to choose between different actions based on certain criteria.\n",
    "   2. Control Flow: They control the flow of execution, allowing certain blocks of code to run only when specific conditions are met.\n",
    "   3. Error Handling: Conditional statements can be used to check for errors and handle exceptions, ensuring your program runs smoothly even in unexpected situations.\n",
    "   4. Iteration Control: In loops, conditional statements can be used to control the iteration process, deciding whether to continue or break out of the loop based on certain conditions."
   ]
  },
  {
   "cell_type": "markdown",
   "id": "3f0a9155-03a5-49f8-97f6-7a9f42409546",
   "metadata": {},
   "source": [
    "Ques 12. How does the elif statement work ?\n",
    "   ---> 1. First, the if condition is evaluated.\n",
    "\n",
    "2. If the if condition is True, the corresponding block of code is executed, and the rest of the elif and else statements are skipped.\n",
    "\n",
    "3. If the if condition is False, the next elif condition is evaluated.\n",
    "\n",
    "4. If the elif condition is True, its corresponding block of code is executed, and the rest of the elif and else statements are skipped.\n",
    "\n",
    "5. This process continues until an elif condition is True or all conditions are evaluated.\n",
    "\n",
    "6. If none of the if or elif conditions are True, the else block is executed (if present)."
   ]
  },
  {
   "cell_type": "markdown",
   "id": "7ef81088-3807-40f2-b976-00958570a86a",
   "metadata": {},
   "source": [
    "Ques 13. What is the difference between for and while loops ?\n",
    "   ---> for loop: 1. Used when the number of iterations is known or when iterating over a sequence.\n",
    "2. Iterates over elements in a sequence or a range.\n",
    "3. Terminates after completing the specified number of iterations.\n",
    "while loop: 1. Used when the number of iterations is not known and depends on a condition.\n",
    "2. Continues to execute as long as a condition is True.\n",
    "3. Terminates when the specified condition becomes False."
   ]
  },
  {
   "cell_type": "markdown",
   "id": "e90c69be-dce9-44aa-9274-5c3cf4087699",
   "metadata": {},
   "source": [
    "Ques 14. Describe a scenario where a while loop is more suitable than a for loop.\n",
    "   ---> Scenario 1: Monitoring System Status\n",
    "Imagine a program that monitors the status of a system or server. You want the program to continuously check the status and take action if needed, until a specific condition is met (e.g., an error occurs or the system is shut down).\n",
    "Scenario 2: Countdown Timer\n",
    "Creating a countdown timer that runs until it reaches zero is another case where a while loop is suitable."
   ]
  },
  {
   "cell_type": "markdown",
   "id": "ea67ac2e-7121-424f-9bae-ea4ea63fc986",
   "metadata": {},
   "source": [
    "Practical Questions -->"
   ]
  },
  {
   "cell_type": "code",
   "execution_count": null,
   "id": "92221e73-53a1-4acf-8cbd-81dd62ed62a7",
   "metadata": {},
   "outputs": [],
   "source": [
    "#Ques 1. Write a Python program to print \"Hello, World!\"\n",
    "print(\"Hello, World!\")"
   ]
  },
  {
   "cell_type": "code",
   "execution_count": 8,
   "id": "27f15c5c-980c-402d-9b3b-9d3a4576343a",
   "metadata": {},
   "outputs": [
    {
     "name": "stdout",
     "output_type": "stream",
     "text": [
      "My name is :  Ankur Kumar Tiwari\n",
      "My age is :  24\n"
     ]
    }
   ],
   "source": [
    "#Ques 2. Write a Python program that displays your name and age.\n",
    "name = \"Ankur Kumar Tiwari\"\n",
    "age = 24\n",
    "print(\"My name is : \", name)\n",
    "print(\"My age is : \" ,age)"
   ]
  },
  {
   "cell_type": "code",
   "execution_count": 120,
   "id": "e192c2b1-e665-4d95-82fc-1fe911ecfa06",
   "metadata": {},
   "outputs": [
    {
     "name": "stdout",
     "output_type": "stream",
     "text": [
      "Pre-defined keywords in Python:\n",
      "False\n",
      "None\n",
      "True\n",
      "and\n",
      "as\n",
      "assert\n",
      "async\n",
      "await\n",
      "break\n",
      "class\n",
      "continue\n",
      "def\n",
      "del\n",
      "elif\n",
      "else\n",
      "except\n",
      "finally\n",
      "for\n",
      "from\n",
      "global\n",
      "if\n",
      "import\n",
      "in\n",
      "is\n",
      "lambda\n",
      "nonlocal\n",
      "not\n",
      "or\n",
      "pass\n",
      "raise\n",
      "return\n",
      "try\n",
      "while\n",
      "with\n",
      "yield\n"
     ]
    }
   ],
   "source": [
    "#Ques 3. Write code to print all the pre-defined keywords in Python using the keyword library.\n",
    "import keyword\n",
    "\n",
    "# Get the list of all keywords\n",
    "keywords = keyword.kwlist\n",
    "\n",
    "# Print each keyword\n",
    "print(\"Pre-defined keywords in Python:\")\n",
    "for kw in keywords:\n",
    "    print(kw)\n",
    "    \n"
   ]
  },
  {
   "cell_type": "code",
   "execution_count": 91,
   "id": "1edfdaa8-2e18-4e18-88a5-373a2f0d9d39",
   "metadata": {},
   "outputs": [
    {
     "name": "stdin",
     "output_type": "stream",
     "text": [
      "Enter the word :  return\n"
     ]
    },
    {
     "name": "stdout",
     "output_type": "stream",
     "text": [
      " 'return' is a python keyword.\n"
     ]
    }
   ],
   "source": [
    "#Ques 4. Write a program that checks if a given word is a Python keyword.\n",
    "import keyword\n",
    "def is_keyword(word):\n",
    "    return keyword.iskeyword(word)\n",
    "word = input(\"Enter the word : \")\n",
    "if is_keyword(word):\n",
    "    print(f\" '{word}' is a python keyword.\")\n",
    "else:\n",
    "    print(f\" '{word}' is not a python keyword.\")\n",
    "          "
   ]
  },
  {
   "cell_type": "code",
   "execution_count": 69,
   "id": "a3de7af9-2c22-4e3c-90c4-1633543a1e41",
   "metadata": {},
   "outputs": [
    {
     "name": "stdout",
     "output_type": "stream",
     "text": [
      "Modified list: [1, 20, 3, 4, 5]\n"
     ]
    }
   ],
   "source": [
    "#Ques 5. Create a list and tuple in Python, and demonstrate how attempting to change an element works differently for each.\n",
    "list = [1, 2, 3, 4, 5]\n",
    "tuple = (1, 2, 3, 4, 5)\n",
    "list[1] = 20\n",
    "print(\"Modified list:\", list)"
   ]
  },
  {
   "cell_type": "code",
   "execution_count": 67,
   "id": "eafb11fa-83bd-4150-a8f7-5e1b0c512005",
   "metadata": {},
   "outputs": [
    {
     "ename": "TypeError",
     "evalue": "'tuple' object does not support item assignment",
     "output_type": "error",
     "traceback": [
      "\u001b[1;31m---------------------------------------------------------------------------\u001b[0m",
      "\u001b[1;31mTypeError\u001b[0m                                 Traceback (most recent call last)",
      "Cell \u001b[1;32mIn[67], line 1\u001b[0m\n\u001b[1;32m----> 1\u001b[0m \u001b[38;5;28mtuple\u001b[39m[\u001b[38;5;241m2\u001b[39m] \u001b[38;5;241m=\u001b[39m \u001b[38;5;241m10\u001b[39m\n\u001b[0;32m      2\u001b[0m \u001b[38;5;28mprint\u001b[39m(\u001b[38;5;28mtuple\u001b[39m)\n",
      "\u001b[1;31mTypeError\u001b[0m: 'tuple' object does not support item assignment"
     ]
    }
   ],
   "source": [
    "tuple[2] = 10\n",
    "print(tuple)"
   ]
  },
  {
   "cell_type": "code",
   "execution_count": 89,
   "id": "40496349-cb9e-4ed7-b2b0-3d50f7629dcb",
   "metadata": {},
   "outputs": [
    {
     "name": "stdout",
     "output_type": "stream",
     "text": [
      "Original my_list: [1, 2, 3]\n",
      "Original my_tuple: (1, 2, 3)\n",
      "Inside function, mutable_arg: [1, 2, 3, 4, 5, 4, 4]\n",
      "Inside function, immutable_arg: (1, 2, 3, 4)\n",
      "After function call, my_list: [1, 2, 3]\n",
      "After function call, my_tuple: (1, 2, 3)\n"
     ]
    }
   ],
   "source": [
    "#Ques 6. Write a function to demonstrate the behavior of mutable and immutable arguments.\n",
    "def demonstrate_mutability(mutable_arg, immutable_arg):\n",
    "    mutable_arg.append(4)\n",
    "    print(\"Inside function, mutable_arg:\", mutable_arg)\n",
    "    try:\n",
    "        immutable_arg += (4,)\n",
    "        print(\"Inside function, immutable_arg:\", immutable_arg)\n",
    "    except TypeError as e:\n",
    "        print(\"Error:\", e)\n",
    "list = [1, 2, 3]\n",
    "tuple = (1, 2, 3)\n",
    "print(\"Original my_list:\", list)\n",
    "print(\"Original my_tuple:\", tuple)\n",
    "demonstrate_mutability(my_list, tuple)\n",
    "print(\"After function call, my_list:\", list)\n",
    "print(\"After function call, my_tuple:\", tuple)\n"
   ]
  },
  {
   "cell_type": "code",
   "execution_count": 113,
   "id": "eb0fe6e3-7f87-4b01-800c-cfde51d47a11",
   "metadata": {},
   "outputs": [
    {
     "name": "stdin",
     "output_type": "stream",
     "text": [
      "Enter the first number :  10\n",
      "Enter the Second number :  20\n"
     ]
    },
    {
     "name": "stdout",
     "output_type": "stream",
     "text": [
      "The sum is :  30.0\n",
      "The difference is :  -10.0\n",
      "The Multiplication is :  200.0\n",
      "The Division is :  0.5\n"
     ]
    }
   ],
   "source": [
    "#Ques 7. Write a program that performs basic arithmetic operations on two user-input numbers.\n",
    "def arithmetic_operation(a, b):\n",
    "    addition = a + b\n",
    "    Substraction = a - b\n",
    "    multiplication = a * b\n",
    "    division = a / b if b != 0 else \"undefined (division by zero)\"\n",
    "    return addition, Substraction, multiplication, division\n",
    "a = float(input(\"Enter the first number : \"))\n",
    "b = float(input(\"Enter the Second number : \"))\n",
    "Sum, Sub, Multi, Div = arithmetic_operation(a, b)\n",
    "print(\"The sum is : \", Sum)\n",
    "print(\"The difference is : \", Sub)\n",
    "print(\"The Multiplication is : \", Multi)\n",
    "print(\"The Division is : \", Div)\n",
    "    "
   ]
  },
  {
   "cell_type": "code",
   "execution_count": 128,
   "id": "3f708525-597c-4f81-9a70-5af7c95a5aa8",
   "metadata": {},
   "outputs": [
    {
     "name": "stdin",
     "output_type": "stream",
     "text": [
      "Enter the first number :  9\n",
      "Enter the Second number :  -8\n"
     ]
    },
    {
     "name": "stdout",
     "output_type": "stream",
     "text": [
      "Both 9 and -8 are positive : False\n",
      "Atleast one either 9 or -8 is positive : False\n",
      "Both 9 and -8 are negative : False\n"
     ]
    }
   ],
   "source": [
    "##### Ques 8. Write a program to demonstrate the use of logical operators.\n",
    "def logical_operator(x,y):\n",
    "    and_operator = x>0 and y>0\n",
    "    print(f\"Both {x} and {y} are positive : {and_operator}\")\n",
    "    or_operator = x>0 or y>0\n",
    "    print(f\"Atleast one either {x} or {y} is positive : {and_operator}\")\n",
    "    not_operator = not(x>0) and not(y>0)\n",
    "   # not_operator = not(x>0)\n",
    "    print(f\"Both {x} and {y} are negative : {not_operator}\")\n",
    "x = int(input(\"Enter the first number : \"))\n",
    "y = int(input(\"Enter the Second number : \"))\n",
    "logical_operator(x,y)\n"
   ]
  },
  {
   "cell_type": "code",
   "execution_count": 130,
   "id": "72b2cf90-dfd9-441a-ad51-fe9ccd7e29f0",
   "metadata": {},
   "outputs": [
    {
     "name": "stdin",
     "output_type": "stream",
     "text": [
      "Enter a value:  10\n"
     ]
    },
    {
     "name": "stdout",
     "output_type": "stream",
     "text": [
      "Integer value: 10\n",
      "Float value: 10.0\n",
      "Boolean value: True\n"
     ]
    }
   ],
   "source": [
    "#Ques 9. Write a Python program to convert user input from string to integer, float, and boolean types.\n",
    "def convert_input(user_input):\n",
    "    int_value = int(user_input)\n",
    "    print(\"Integer value:\", int_value)\n",
    "    float_value = float(user_input)\n",
    "    print(\"Float value:\", float_value)\n",
    "    bool_value = bool(int(user_input)) if user_input.isdigit() else bool(user_input)\n",
    "    print(\"Boolean value:\", bool_value)\n",
    "user_input = input(\"Enter a value: \")\n",
    "convert_input(user_input)\n"
   ]
  },
  {
   "cell_type": "code",
   "execution_count": 204,
   "id": "d32a5b0d-6c6d-4788-99e0-8e81ad098202",
   "metadata": {},
   "outputs": [
    {
     "name": "stdout",
     "output_type": "stream",
     "text": [
      "Original list: ['42', '3.14', 'hello', 30, True, None]\n",
      "Converted to integers: [42, None, None, 30, 1, None]\n",
      "Converted to floats: [42.0, 3.14, None, 30.0, 1.0, None]\n",
      "Converted to strings: ['42', '3.14', 'hello', '30', 'True', 'None']\n",
      "Converted to booleans: [True, True, True, True, True, False]\n"
     ]
    }
   ],
   "source": [
    "#Ques 10. Write code to demonstrate type casting with list elements.\n",
    "# Function to demonstrate type casting with list elements\n",
    "def type_cast_list_elements(input_list):\n",
    "    # Convert elements to integers (if possible)\n",
    "    int_list = []\n",
    "    for elem in input_list:\n",
    "        if elem is not None:\n",
    "            try:\n",
    "                int_list.append(int(elem))\n",
    "            except ValueError:\n",
    "                int_list.append(None)  # Append None if conversion fails\n",
    "        else:\n",
    "            int_list.append(None)\n",
    "    print(\"Converted to integers:\", int_list)\n",
    "\n",
    "    # Convert elements to floats (if possible)\n",
    "    float_list = []\n",
    "    for elem in input_list:\n",
    "        if elem is not None:\n",
    "            try:\n",
    "                float_list.append(float(elem))\n",
    "            except ValueError:\n",
    "                float_list.append(None)  # Append None if conversion fails\n",
    "        else:\n",
    "            float_list.append(None)\n",
    "    print(\"Converted to floats:\", float_list)\n",
    "    # Convert elements to strings\n",
    "    str_list = [str(elem) for elem in input_list]\n",
    "    print(\"Converted to strings:\", str_list)\n",
    "    # Convert elements to booleans\n",
    "    bool_list = [bool(elem) for elem in input_list]\n",
    "    print(\"Converted to booleans:\", bool_list)\n",
    "# Main code\n",
    "# Define a list with elements of different data types\n",
    "input_list = [\"42\", \"3.14\", \"hello\", 30, True, None]\n",
    "# Print the original list\n",
    "print(\"Original list:\", input_list)\n",
    "# Call the function to demonstrate type casting\n",
    "type_cast_list_elements(input_list)\n"
   ]
  },
  {
   "cell_type": "code",
   "execution_count": 192,
   "id": "965cd26f-4d9b-4072-be4d-5ac06402bf75",
   "metadata": {},
   "outputs": [
    {
     "name": "stdin",
     "output_type": "stream",
     "text": [
      "Enter a number:  0\n"
     ]
    },
    {
     "name": "stdout",
     "output_type": "stream",
     "text": [
      "The number is zero.\n"
     ]
    }
   ],
   "source": [
    "#Ques 11. Write a program that checks if a number is positive, negative, or zero.\n",
    "def check_number(num):\n",
    "    if num > 0:\n",
    "        return \"The number is positive.\"\n",
    "    elif num < 0:\n",
    "        return \"The number is negative.\"\n",
    "    else:\n",
    "        return \"The number is zero.\"\n",
    "num = float(input(\"Enter a number: \"))\n",
    "result = check_number(num)\n",
    "print(result)\n"
   ]
  },
  {
   "cell_type": "code",
   "execution_count": 194,
   "id": "32708c93-efec-4801-9ca9-74aff7a30283",
   "metadata": {},
   "outputs": [
    {
     "name": "stdout",
     "output_type": "stream",
     "text": [
      "1\n",
      "2\n",
      "3\n",
      "4\n",
      "5\n",
      "6\n",
      "7\n",
      "8\n",
      "9\n",
      "10\n"
     ]
    }
   ],
   "source": [
    "#Ques 12. Write a for loop to print numbers from 1 to 10.\n",
    "for i in range(1, 11):\n",
    "    print(i)"
   ]
  },
  {
   "cell_type": "code",
   "execution_count": 196,
   "id": "8c6f909e-fe9c-4705-80e9-b4b8e4c2851a",
   "metadata": {},
   "outputs": [
    {
     "name": "stdout",
     "output_type": "stream",
     "text": [
      "The sum of all even numbers between 1 and 50 is: 650\n"
     ]
    }
   ],
   "source": [
    "#Ques 13. Write a Python program to find the sum of all even numbers between 1 and 50.\n",
    "sum_even = 0\n",
    "for i in range(1, 51):\n",
    "    if i % 2 == 0:\n",
    "        sum_even += i\n",
    "print(\"The sum of all even numbers between 1 and 50 is:\", sum_even)\n"
   ]
  },
  {
   "cell_type": "code",
   "execution_count": 198,
   "id": "2dafef46-bb43-407c-a6c0-6105379ad60b",
   "metadata": {},
   "outputs": [
    {
     "name": "stdin",
     "output_type": "stream",
     "text": [
      "Enter a string to reverse:  Ankur\n"
     ]
    },
    {
     "name": "stdout",
     "output_type": "stream",
     "text": [
      "Reversed string: ruknA\n"
     ]
    }
   ],
   "source": [
    "#Ques 14. Write a program to reverse a string using a while loop.\n",
    "def reverse_string(input_string):\n",
    "    reversed_string = \"\"\n",
    "    index = len(input_string) - 1\n",
    "    while index >= 0:\n",
    "        reversed_string += input_string[index]\n",
    "        index -= 1\n",
    "    return reversed_string\n",
    "input_string = input(\"Enter a string to reverse: \")\n",
    "result = reverse_string(input_string)\n",
    "print(\"Reversed string:\", result)\n"
   ]
  },
  {
   "cell_type": "code",
   "execution_count": 200,
   "id": "2d92a6a1-c4b4-4f52-ae68-c3e61ade8014",
   "metadata": {},
   "outputs": [
    {
     "name": "stdin",
     "output_type": "stream",
     "text": [
      "Enter a number to calculate its factorial:  6\n"
     ]
    },
    {
     "name": "stdout",
     "output_type": "stream",
     "text": [
      "The factorial of 6 is: 720\n"
     ]
    }
   ],
   "source": [
    "#Ques 15. Write a Python program to calculate the factorial of a number provided by the user using a while loop\n",
    "def calculate_factorial(num):\n",
    "    if num < 0:\n",
    "        return \"Factorial is not defined for negative numbers.\"\n",
    "    elif num == 0:\n",
    "        return 1\n",
    "    else:\n",
    "        factorial = 1\n",
    "        while num > 0:\n",
    "            factorial *= num\n",
    "            num -= 1\n",
    "        return factorial\n",
    "num = int(input(\"Enter a number to calculate its factorial: \"))\n",
    "result = calculate_factorial(num)\n",
    "print(\"The factorial of\", num, \"is:\", result)\n",
    "\n"
   ]
  }
 ],
 "metadata": {
  "kernelspec": {
   "display_name": "Python 3 (ipykernel)",
   "language": "python",
   "name": "python3"
  },
  "language_info": {
   "codemirror_mode": {
    "name": "ipython",
    "version": 3
   },
   "file_extension": ".py",
   "mimetype": "text/x-python",
   "name": "python",
   "nbconvert_exporter": "python",
   "pygments_lexer": "ipython3",
   "version": "3.12.7"
  }
 },
 "nbformat": 4,
 "nbformat_minor": 5
}
